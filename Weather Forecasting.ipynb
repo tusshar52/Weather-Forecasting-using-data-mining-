{
 "cells": [
  {
   "cell_type": "markdown",
   "metadata": {},
   "source": [
    "# Import Packages"
   ]
  },
  {
   "cell_type": "markdown",
   "metadata": {},
   "source": [
    "### What is TensorFlow used for?\n",
    "It is an open source artificial intelligence library, using data flow graphs to build models. It allows developers to create large-scale neural networks with many layers. TensorFlow is mainly used for: Classification, Perception, Understanding, Discovering, Prediction and Creation."
   ]
  },
  {
   "cell_type": "markdown",
   "metadata": {},
   "source": [
    "### Density-Based Clustering Algorithms\n",
    "\n",
    "Density-Based Spatial Clustering of Applications with Noise (DBSCAN) is a base algorithm for density-based clustering. It can discover clusters of different shapes and sizes from a large amount of data, which is containing noise and outliers.\n",
    "Good for data which contains clusters of similar density. "
   ]
  },
  {
   "cell_type": "code",
   "execution_count": 29,
   "metadata": {},
   "outputs": [],
   "source": [
    "import tensorflow as tf\n",
    "from tensorflow import keras\n",
    "from tensorflow.keras import preprocessing, utils, losses, layers\n",
    "from tensorflow.keras.callbacks import EarlyStopping\n",
    "from tensorflow.keras.models import Sequential\n",
    "from tensorflow.keras.layers import LSTM, Activation, Dense, Dropout, Embedding, SpatialDropout1D\n",
    "\n",
    "from sklearn import metrics\n",
    "from sklearn.cluster import DBSCAN\n",
    "from sklearn.model_selection import train_test_split\n",
    "\n",
    "import numpy as np\n",
    "import pandas as pd\n",
    "\n",
    "from pickle import dump, load\n",
    "import plotly.graph_objects as go\n",
    "import plotly.express as px\n",
    "from matplotlib import pyplot, cm\n",
    "\n",
    "import datetime\n",
    "from geopy.geocoders import Nominatim\n",
    "pd.options.display.float_format = \"{:,.2f}\".format\n",
    "\n",
    "import warnings \n",
    "warnings.filterwarnings('ignore')"
   ]
  },
  {
   "cell_type": "markdown",
   "metadata": {},
   "source": [
    "# Load Data & Process"
   ]
  },
  {
   "cell_type": "code",
   "execution_count": 30,
   "metadata": {},
   "outputs": [],
   "source": [
    "# load data\n",
    "weather_dataframe = pd.read_csv('weather_data.csv')"
   ]
  },
  {
   "cell_type": "code",
   "execution_count": 31,
   "metadata": {
    "scrolled": true
   },
   "outputs": [],
   "source": [
    "def min_max_scale(vals):\n",
    "    min_val = min(vals)\n",
    "    max_val = max(vals)\n",
    "    scaled_vals = []\n",
    "    for val in vals:\n",
    "        val = val[0]\n",
    "        scaled_val = ((val - min_val) / (max_val - min_val))[0]\n",
    "        scaled_vals.append(scaled_val)\n",
    "    return scaled_vals"
   ]
  },
  {
   "cell_type": "code",
   "execution_count": 32,
   "metadata": {},
   "outputs": [
    {
     "data": {
      "text/html": [
       "<div>\n",
       "<style scoped>\n",
       "    .dataframe tbody tr th:only-of-type {\n",
       "        vertical-align: middle;\n",
       "    }\n",
       "\n",
       "    .dataframe tbody tr th {\n",
       "        vertical-align: top;\n",
       "    }\n",
       "\n",
       "    .dataframe thead th {\n",
       "        text-align: right;\n",
       "    }\n",
       "</style>\n",
       "<table border=\"1\" class=\"dataframe\">\n",
       "  <thead>\n",
       "    <tr style=\"text-align: right;\">\n",
       "      <th></th>\n",
       "      <th>Station Names</th>\n",
       "      <th>Year</th>\n",
       "      <th>Month</th>\n",
       "      <th>Latitude</th>\n",
       "      <th>Longitude</th>\n",
       "      <th>Max Temp</th>\n",
       "      <th>Min Temp</th>\n",
       "      <th>Rainfall</th>\n",
       "      <th>Relative Humidity</th>\n",
       "      <th>Wind Speed</th>\n",
       "      <th>Cloud Coverage</th>\n",
       "      <th>Bright Sunshine</th>\n",
       "      <th>Rainfall Percentage</th>\n",
       "    </tr>\n",
       "  </thead>\n",
       "  <tbody>\n",
       "    <tr>\n",
       "      <th>7731</th>\n",
       "      <td>Faridpur</td>\n",
       "      <td>1969</td>\n",
       "      <td>12</td>\n",
       "      <td>23.61</td>\n",
       "      <td>89.84</td>\n",
       "      <td>27.20</td>\n",
       "      <td>13.40</td>\n",
       "      <td>5.00</td>\n",
       "      <td>78.00</td>\n",
       "      <td>0.70</td>\n",
       "      <td>0.90</td>\n",
       "      <td>7.23</td>\n",
       "      <td>0.00</td>\n",
       "    </tr>\n",
       "    <tr>\n",
       "      <th>16241</th>\n",
       "      <td>Rangpur</td>\n",
       "      <td>1959</td>\n",
       "      <td>4</td>\n",
       "      <td>25.72</td>\n",
       "      <td>89.26</td>\n",
       "      <td>36.80</td>\n",
       "      <td>22.60</td>\n",
       "      <td>102.00</td>\n",
       "      <td>73.00</td>\n",
       "      <td>1.81</td>\n",
       "      <td>2.70</td>\n",
       "      <td>7.17</td>\n",
       "      <td>5.00</td>\n",
       "    </tr>\n",
       "    <tr>\n",
       "      <th>14056</th>\n",
       "      <td>Mymensingh</td>\n",
       "      <td>1988</td>\n",
       "      <td>9</td>\n",
       "      <td>24.75</td>\n",
       "      <td>90.41</td>\n",
       "      <td>35.30</td>\n",
       "      <td>26.20</td>\n",
       "      <td>309.00</td>\n",
       "      <td>85.00</td>\n",
       "      <td>1.50</td>\n",
       "      <td>5.20</td>\n",
       "      <td>4.50</td>\n",
       "      <td>15.00</td>\n",
       "    </tr>\n",
       "    <tr>\n",
       "      <th>15050</th>\n",
       "      <td>Rajshahi</td>\n",
       "      <td>1992</td>\n",
       "      <td>6</td>\n",
       "      <td>24.35</td>\n",
       "      <td>88.56</td>\n",
       "      <td>39.60</td>\n",
       "      <td>25.70</td>\n",
       "      <td>85.00</td>\n",
       "      <td>78.00</td>\n",
       "      <td>2.10</td>\n",
       "      <td>4.50</td>\n",
       "      <td>6.80</td>\n",
       "      <td>4.00</td>\n",
       "    </tr>\n",
       "    <tr>\n",
       "      <th>4088</th>\n",
       "      <td>Comilla</td>\n",
       "      <td>1962</td>\n",
       "      <td>4</td>\n",
       "      <td>23.48</td>\n",
       "      <td>91.19</td>\n",
       "      <td>36.90</td>\n",
       "      <td>23.50</td>\n",
       "      <td>189.00</td>\n",
       "      <td>75.00</td>\n",
       "      <td>3.00</td>\n",
       "      <td>4.50</td>\n",
       "      <td>7.79</td>\n",
       "      <td>9.00</td>\n",
       "    </tr>\n",
       "    <tr>\n",
       "      <th>16534</th>\n",
       "      <td>Rangpur</td>\n",
       "      <td>2012</td>\n",
       "      <td>8</td>\n",
       "      <td>25.72</td>\n",
       "      <td>89.26</td>\n",
       "      <td>35.20</td>\n",
       "      <td>26.80</td>\n",
       "      <td>187.00</td>\n",
       "      <td>81.00</td>\n",
       "      <td>2.00</td>\n",
       "      <td>6.40</td>\n",
       "      <td>6.70</td>\n",
       "      <td>9.00</td>\n",
       "    </tr>\n",
       "    <tr>\n",
       "      <th>8781</th>\n",
       "      <td>Hatiya</td>\n",
       "      <td>1999</td>\n",
       "      <td>11</td>\n",
       "      <td>22.29</td>\n",
       "      <td>91.13</td>\n",
       "      <td>30.50</td>\n",
       "      <td>21.10</td>\n",
       "      <td>1.00</td>\n",
       "      <td>82.00</td>\n",
       "      <td>0.60</td>\n",
       "      <td>0.50</td>\n",
       "      <td>9.80</td>\n",
       "      <td>0.00</td>\n",
       "    </tr>\n",
       "  </tbody>\n",
       "</table>\n",
       "</div>"
      ],
      "text/plain": [
       "      Station Names  Year  Month  Latitude  Longitude  Max Temp  Min Temp  \\\n",
       "7731       Faridpur  1969     12     23.61      89.84     27.20     13.40   \n",
       "16241       Rangpur  1959      4     25.72      89.26     36.80     22.60   \n",
       "14056    Mymensingh  1988      9     24.75      90.41     35.30     26.20   \n",
       "15050      Rajshahi  1992      6     24.35      88.56     39.60     25.70   \n",
       "4088        Comilla  1962      4     23.48      91.19     36.90     23.50   \n",
       "16534       Rangpur  2012      8     25.72      89.26     35.20     26.80   \n",
       "8781         Hatiya  1999     11     22.29      91.13     30.50     21.10   \n",
       "\n",
       "       Rainfall  Relative Humidity  Wind Speed  Cloud Coverage  \\\n",
       "7731       5.00              78.00        0.70            0.90   \n",
       "16241    102.00              73.00        1.81            2.70   \n",
       "14056    309.00              85.00        1.50            5.20   \n",
       "15050     85.00              78.00        2.10            4.50   \n",
       "4088     189.00              75.00        3.00            4.50   \n",
       "16534    187.00              81.00        2.00            6.40   \n",
       "8781       1.00              82.00        0.60            0.50   \n",
       "\n",
       "       Bright Sunshine  Rainfall Percentage  \n",
       "7731              7.23                 0.00  \n",
       "16241             7.17                 5.00  \n",
       "14056             4.50                15.00  \n",
       "15050             6.80                 4.00  \n",
       "4088              7.79                 9.00  \n",
       "16534             6.70                 9.00  \n",
       "8781              9.80                 0.00  "
      ]
     },
     "execution_count": 32,
     "metadata": {},
     "output_type": "execute_result"
    }
   ],
   "source": [
    "# generate rainfall percentage using min-max scaling\n",
    "rainfall_percentage = []\n",
    "\n",
    "for val in min_max_scale(weather_dataframe[['Rainfall']].values):\n",
    "    rainfall_percentage.append(round(val * 100))\n",
    "    \n",
    "weather_dataframe['Rainfall Percentage'] = rainfall_percentage\n",
    "\n",
    "weather_dataframe.sample(7)"
   ]
  },
  {
   "cell_type": "code",
   "execution_count": 33,
   "metadata": {},
   "outputs": [
    {
     "name": "stdout",
     "output_type": "stream",
     "text": [
      "<class 'pandas.core.frame.DataFrame'>\n",
      "RangeIndex: 21120 entries, 0 to 21119\n",
      "Data columns (total 13 columns):\n",
      "Station Names          21120 non-null object\n",
      "Year                   21120 non-null int64\n",
      "Month                  21120 non-null int64\n",
      "Latitude               21120 non-null float64\n",
      "Longitude              21120 non-null float64\n",
      "Max Temp               21120 non-null float64\n",
      "Min Temp               21120 non-null float64\n",
      "Rainfall               21120 non-null float64\n",
      "Relative Humidity      21120 non-null float64\n",
      "Wind Speed             21120 non-null float64\n",
      "Cloud Coverage         21120 non-null float64\n",
      "Bright Sunshine        21120 non-null float64\n",
      "Rainfall Percentage    21120 non-null float64\n",
      "dtypes: float64(10), int64(2), object(1)\n",
      "memory usage: 2.1+ MB\n"
     ]
    },
    {
     "data": {
      "text/html": [
       "<div>\n",
       "<style scoped>\n",
       "    .dataframe tbody tr th:only-of-type {\n",
       "        vertical-align: middle;\n",
       "    }\n",
       "\n",
       "    .dataframe tbody tr th {\n",
       "        vertical-align: top;\n",
       "    }\n",
       "\n",
       "    .dataframe thead th {\n",
       "        text-align: right;\n",
       "    }\n",
       "</style>\n",
       "<table border=\"1\" class=\"dataframe\">\n",
       "  <thead>\n",
       "    <tr style=\"text-align: right;\">\n",
       "      <th></th>\n",
       "      <th>count</th>\n",
       "      <th>mean</th>\n",
       "      <th>std</th>\n",
       "      <th>min</th>\n",
       "      <th>25%</th>\n",
       "      <th>50%</th>\n",
       "      <th>75%</th>\n",
       "      <th>max</th>\n",
       "    </tr>\n",
       "  </thead>\n",
       "  <tbody>\n",
       "    <tr>\n",
       "      <th>Year</th>\n",
       "      <td>21,120.00</td>\n",
       "      <td>1,985.77</td>\n",
       "      <td>17.60</td>\n",
       "      <td>1,948.00</td>\n",
       "      <td>1,972.00</td>\n",
       "      <td>1,988.00</td>\n",
       "      <td>2,001.00</td>\n",
       "      <td>2,013.00</td>\n",
       "    </tr>\n",
       "    <tr>\n",
       "      <th>Month</th>\n",
       "      <td>21,120.00</td>\n",
       "      <td>6.50</td>\n",
       "      <td>3.45</td>\n",
       "      <td>1.00</td>\n",
       "      <td>3.75</td>\n",
       "      <td>6.50</td>\n",
       "      <td>9.25</td>\n",
       "      <td>12.00</td>\n",
       "    </tr>\n",
       "    <tr>\n",
       "      <th>Latitude</th>\n",
       "      <td>21,120.00</td>\n",
       "      <td>23.36</td>\n",
       "      <td>1.17</td>\n",
       "      <td>20.87</td>\n",
       "      <td>22.64</td>\n",
       "      <td>23.17</td>\n",
       "      <td>24.29</td>\n",
       "      <td>25.75</td>\n",
       "    </tr>\n",
       "    <tr>\n",
       "      <th>Longitude</th>\n",
       "      <td>21,120.00</td>\n",
       "      <td>90.45</td>\n",
       "      <td>1.13</td>\n",
       "      <td>88.56</td>\n",
       "      <td>89.36</td>\n",
       "      <td>90.39</td>\n",
       "      <td>91.46</td>\n",
       "      <td>92.26</td>\n",
       "    </tr>\n",
       "    <tr>\n",
       "      <th>Max Temp</th>\n",
       "      <td>21,120.00</td>\n",
       "      <td>33.48</td>\n",
       "      <td>2.99</td>\n",
       "      <td>21.60</td>\n",
       "      <td>31.70</td>\n",
       "      <td>33.90</td>\n",
       "      <td>35.50</td>\n",
       "      <td>44.00</td>\n",
       "    </tr>\n",
       "    <tr>\n",
       "      <th>Min Temp</th>\n",
       "      <td>21,120.00</td>\n",
       "      <td>21.15</td>\n",
       "      <td>4.97</td>\n",
       "      <td>6.20</td>\n",
       "      <td>16.90</td>\n",
       "      <td>23.40</td>\n",
       "      <td>25.40</td>\n",
       "      <td>28.10</td>\n",
       "    </tr>\n",
       "    <tr>\n",
       "      <th>Rainfall</th>\n",
       "      <td>21,120.00</td>\n",
       "      <td>197.53</td>\n",
       "      <td>239.04</td>\n",
       "      <td>0.00</td>\n",
       "      <td>8.00</td>\n",
       "      <td>110.00</td>\n",
       "      <td>310.00</td>\n",
       "      <td>2,072.00</td>\n",
       "    </tr>\n",
       "    <tr>\n",
       "      <th>Relative Humidity</th>\n",
       "      <td>21,120.00</td>\n",
       "      <td>79.46</td>\n",
       "      <td>7.66</td>\n",
       "      <td>34.00</td>\n",
       "      <td>75.00</td>\n",
       "      <td>81.00</td>\n",
       "      <td>85.00</td>\n",
       "      <td>97.00</td>\n",
       "    </tr>\n",
       "    <tr>\n",
       "      <th>Wind Speed</th>\n",
       "      <td>21,120.00</td>\n",
       "      <td>1.42</td>\n",
       "      <td>1.04</td>\n",
       "      <td>0.00</td>\n",
       "      <td>0.70</td>\n",
       "      <td>1.20</td>\n",
       "      <td>1.90</td>\n",
       "      <td>11.20</td>\n",
       "    </tr>\n",
       "    <tr>\n",
       "      <th>Cloud Coverage</th>\n",
       "      <td>21,120.00</td>\n",
       "      <td>3.48</td>\n",
       "      <td>2.08</td>\n",
       "      <td>0.00</td>\n",
       "      <td>1.50</td>\n",
       "      <td>3.30</td>\n",
       "      <td>5.50</td>\n",
       "      <td>7.90</td>\n",
       "    </tr>\n",
       "    <tr>\n",
       "      <th>Bright Sunshine</th>\n",
       "      <td>21,120.00</td>\n",
       "      <td>6.41</td>\n",
       "      <td>1.74</td>\n",
       "      <td>0.00</td>\n",
       "      <td>5.00</td>\n",
       "      <td>6.78</td>\n",
       "      <td>7.80</td>\n",
       "      <td>11.00</td>\n",
       "    </tr>\n",
       "    <tr>\n",
       "      <th>Rainfall Percentage</th>\n",
       "      <td>21,120.00</td>\n",
       "      <td>9.52</td>\n",
       "      <td>11.55</td>\n",
       "      <td>0.00</td>\n",
       "      <td>0.00</td>\n",
       "      <td>5.00</td>\n",
       "      <td>15.00</td>\n",
       "      <td>100.00</td>\n",
       "    </tr>\n",
       "  </tbody>\n",
       "</table>\n",
       "</div>"
      ],
      "text/plain": [
       "                        count     mean    std      min      25%      50%  \\\n",
       "Year                21,120.00 1,985.77  17.60 1,948.00 1,972.00 1,988.00   \n",
       "Month               21,120.00     6.50   3.45     1.00     3.75     6.50   \n",
       "Latitude            21,120.00    23.36   1.17    20.87    22.64    23.17   \n",
       "Longitude           21,120.00    90.45   1.13    88.56    89.36    90.39   \n",
       "Max Temp            21,120.00    33.48   2.99    21.60    31.70    33.90   \n",
       "Min Temp            21,120.00    21.15   4.97     6.20    16.90    23.40   \n",
       "Rainfall            21,120.00   197.53 239.04     0.00     8.00   110.00   \n",
       "Relative Humidity   21,120.00    79.46   7.66    34.00    75.00    81.00   \n",
       "Wind Speed          21,120.00     1.42   1.04     0.00     0.70     1.20   \n",
       "Cloud Coverage      21,120.00     3.48   2.08     0.00     1.50     3.30   \n",
       "Bright Sunshine     21,120.00     6.41   1.74     0.00     5.00     6.78   \n",
       "Rainfall Percentage 21,120.00     9.52  11.55     0.00     0.00     5.00   \n",
       "\n",
       "                         75%      max  \n",
       "Year                2,001.00 2,013.00  \n",
       "Month                   9.25    12.00  \n",
       "Latitude               24.29    25.75  \n",
       "Longitude              91.46    92.26  \n",
       "Max Temp               35.50    44.00  \n",
       "Min Temp               25.40    28.10  \n",
       "Rainfall              310.00 2,072.00  \n",
       "Relative Humidity      85.00    97.00  \n",
       "Wind Speed              1.90    11.20  \n",
       "Cloud Coverage          5.50     7.90  \n",
       "Bright Sunshine         7.80    11.00  \n",
       "Rainfall Percentage    15.00   100.00  "
      ]
     },
     "execution_count": 33,
     "metadata": {},
     "output_type": "execute_result"
    }
   ],
   "source": [
    "weather_dataframe.info()\n",
    "weather_dataframe.describe().transpose()"
   ]
  },
  {
   "cell_type": "markdown",
   "metadata": {},
   "source": [
    "## Outlier Detaction"
   ]
  },
  {
   "cell_type": "code",
   "execution_count": 34,
   "metadata": {},
   "outputs": [
    {
     "name": "stdout",
     "output_type": "stream",
     "text": [
      "Total Outliers: 1\n"
     ]
    },
    {
     "data": {
      "image/png": "[encoded data removed]",
      "text/plain": [
       "<Figure size 432x288 with 2 Axes>"
      ]
     },
     "metadata": {
      "needs_background": "light"
     },
     "output_type": "display_data"
    }
   ],
   "source": [
    "# outlier detection for \"Relative Humidity\"\n",
    "\n",
    "outlier_detection = DBSCAN(\n",
    "    metric='euclidean',        # euclidean method for distance calculation\n",
    "    eps=5,                     # maximum distance between two samples for one to be considered as in the neighborhood \n",
    "    min_samples=10             # number of samples in a neighborhood for a point to be considered as a core point\n",
    ")\n",
    "clusters = outlier_detection.fit_predict(weather_dataframe[['Relative Humidity']])\n",
    "\n",
    "#weather_dataframe.plot.scatter(x='Month', y='Relative Humidity',c=clusters, cmap=cm.get_cmap('Set1'), colorbar=True)\n",
    "\n",
    "# clean outliers\n",
    "outlier_indexes = []\n",
    "for i in range(0, len(clusters)):\n",
    "    if clusters[i] != 0: outlier_indexes.append(i)\n",
    "\n",
    "weather_dataframe = weather_dataframe.drop(outlier_indexes)\n",
    "\n",
    "#print('Total Outliers: ' + str(len(outlier_indexes)))"
   ]
  },
  {
   "cell_type": "code",
   "execution_count": 35,
   "metadata": {},
   "outputs": [
    {
     "name": "stdout",
     "output_type": "stream",
     "text": [
      "Total Outliers: 11\n"
     ]
    },
    {
     "data": {
      "image/png": "[encoded data removed]",
      "text/plain": [
       "<Figure size 432x288 with 2 Axes>"
      ]
     },
     "metadata": {
      "needs_background": "light"
     },
     "output_type": "display_data"
    }
   ],
   "source": [
    "# outlier detection for \"Rainfall\"\n",
    "\n",
    "outlier_detection = DBSCAN(\n",
    "    metric='euclidean',             # euclidean method for distance calculation\n",
    "    eps=50,                         # maximum distance between two samples for one to be considered as in the neighborhood \n",
    "    min_samples=5                   # number of samples in a neighborhood for a point to be considered as a core point\n",
    ")\n",
    "clusters = outlier_detection.fit_predict(weather_dataframe[['Rainfall']])\n",
    "\n",
    "#weather_dataframe.plot.scatter(x='Month', y='Rainfall', c=clusters, cmap=cm.get_cmap('Set1'), colorbar=True)\n",
    "\n",
    "# clean outliers\n",
    "outlier_indexes = []\n",
    "for i in range(0, len(clusters)):\n",
    "    if clusters[i] != 0: outlier_indexes.append(i)\n",
    "        \n",
    "weather_dataframe = weather_dataframe.drop(outlier_indexes)\n",
    "\n",
    "#print('Total Outliers: ' + str(len(outlier_indexes)))"
   ]
  },
  {
   "cell_type": "markdown",
   "metadata": {},
   "source": [
    "# Define Test and Train Data"
   ]
  },
  {
   "cell_type": "code",
   "execution_count": 36,
   "metadata": {},
   "outputs": [],
   "source": [
    "# separate x and y data\n",
    "X = np.array(weather_dataframe[['Latitude', 'Longitude', 'Year', 'Month']].values)\n",
    "\n",
    "Y = np.array(weather_dataframe[['Min Temp', 'Max Temp', 'Rainfall', 'Relative Humidity',\n",
    "                                'Wind Speed', 'Cloud Coverage', 'Bright Sunshine', 'Rainfall Percentage']].values)\n",
    "\n",
    "input_dim = X.shape[1]\n",
    "output_dim = Y.shape[1]\n",
    "\n",
    "\n",
    "# split train and test data\n",
    "x_train, x_test, y_train, y_test = train_test_split(X, Y, test_size=0.33)"
   ]
  },
  {
   "cell_type": "markdown",
   "metadata": {},
   "source": [
    "# Deep Learning Algorithms"
   ]
  },
  {
   "cell_type": "markdown",
   "metadata": {},
   "source": [
    "### EarlyStopping\n",
    "\n",
    "In machine learning, early stopping is a form of regularization used to avoid overfitting when training a learner with an iterative method, such as gradient descent. Such methods update the learner so as to make it better fit the training data with each iteration."
   ]
  },
  {
   "cell_type": "code",
   "execution_count": 37,
   "metadata": {},
   "outputs": [],
   "source": [
    "early_stop = EarlyStopping(monitor='val_loss',mode='min',verbose=1,patience=30)"
   ]
  },
  {
   "cell_type": "code",
   "execution_count": 38,
   "metadata": {},
   "outputs": [
    {
     "name": "stdout",
     "output_type": "stream",
     "text": [
      "Model: \"sequential_1\"\n",
      "_________________________________________________________________\n",
      "Layer (type)                 Output Shape              Param #   \n",
      "=================================================================\n",
      "dense_4 (Dense)              (None, 100)               500       \n",
      "_________________________________________________________________\n",
      "dense_5 (Dense)              (None, 50)                5050      \n",
      "_________________________________________________________________\n",
      "dense_6 (Dense)              (None, 25)                1275      \n",
      "_________________________________________________________________\n",
      "dense_7 (Dense)              (None, 8)                 208       \n",
      "=================================================================\n",
      "Total params: 7,033\n",
      "Trainable params: 7,033\n",
      "Non-trainable params: 0\n",
      "_________________________________________________________________\n"
     ]
    }
   ],
   "source": [
    "# define and compile the model\n",
    "model = Sequential()\n",
    "model.add(Dense(100, input_dim=input_dim, activation=\"relu\"))\n",
    "model.add(Dense(50, activation=\"relu\"))\n",
    "model.add(Dense(25, activation=\"relu\"))\n",
    "model.add(Dense(output_dim))\n",
    "model.compile(loss=\"mse\", optimizer=\"adam\", metrics=['accuracy'])\n",
    "model.summary()"
   ]
  },
  {
   "cell_type": "code",
   "execution_count": 40,
   "metadata": {
    "scrolled": true
   },
   "outputs": [
    {
     "name": "stdout",
     "output_type": "stream",
     "text": [
      "Train on 9899 samples, validate on 4243 samples\n",
      "Epoch 1/300\n",
      "9899/9899 [==============================] - 4s 366us/sample - loss: 9078.8670 - acc: 0.5256 - val_loss: 6736.7781 - val_acc: 0.5581\n",
      "Epoch 2/300\n",
      "9899/9899 [==============================] - 1s 126us/sample - loss: 7348.0657 - acc: 0.5522 - val_loss: 6757.4727 - val_acc: 0.5581\n",
      "Epoch 3/300\n",
      "9899/9899 [==============================] - 1s 129us/sample - loss: 7344.3327 - acc: 0.5522 - val_loss: 6760.0499 - val_acc: 0.5581\n",
      "Epoch 4/300\n",
      "9899/9899 [==============================] - 1s 128us/sample - loss: 7343.0490 - acc: 0.5522 - val_loss: 6709.3437 - val_acc: 0.5581\n",
      "Epoch 5/300\n",
      "9899/9899 [==============================] - 1s 126us/sample - loss: 7344.6699 - acc: 0.5522 - val_loss: 6735.0340 - val_acc: 0.5581\n",
      "Epoch 6/300\n",
      "9899/9899 [==============================] - 1s 133us/sample - loss: 7335.1500 - acc: 0.5522 - val_loss: 6707.9383 - val_acc: 0.5581\n",
      "Epoch 7/300\n",
      "9899/9899 [==============================] - 1s 149us/sample - loss: 7329.6736 - acc: 0.5522 - val_loss: 6764.0562 - val_acc: 0.5581\n",
      "Epoch 8/300\n",
      "9899/9899 [==============================] - 1s 141us/sample - loss: 7335.7986 - acc: 0.5522 - val_loss: 6723.4682 - val_acc: 0.5581\n",
      "Epoch 9/300\n",
      "9899/9899 [==============================] - 1s 149us/sample - loss: 7333.9849 - acc: 0.5522 - val_loss: 6787.4905 - val_acc: 0.5581\n",
      "Epoch 10/300\n",
      "9899/9899 [==============================] - 2s 163us/sample - loss: 7331.8083 - acc: 0.5522 - val_loss: 6705.0122 - val_acc: 0.5581\n",
      "Epoch 11/300\n",
      "9899/9899 [==============================] - 2s 173us/sample - loss: 7335.6034 - acc: 0.5522 - val_loss: 6704.9967 - val_acc: 0.5581\n",
      "Epoch 12/300\n",
      "9899/9899 [==============================] - 4s 383us/sample - loss: 7318.4839 - acc: 0.5522 - val_loss: 6692.0821 - val_acc: 0.5581\n",
      "Epoch 13/300\n",
      "9899/9899 [==============================] - 2s 247us/sample - loss: 7304.7442 - acc: 0.5522 - val_loss: 6687.3782 - val_acc: 0.5581\n",
      "Epoch 14/300\n",
      "9899/9899 [==============================] - 2s 242us/sample - loss: 7317.5053 - acc: 0.5522 - val_loss: 6711.1493 - val_acc: 0.5581\n",
      "Epoch 15/300\n",
      "9899/9899 [==============================] - 2s 171us/sample - loss: 7300.3425 - acc: 0.5522 - val_loss: 6707.7383 - val_acc: 0.5581\n",
      "Epoch 16/300\n",
      "9899/9899 [==============================] - 3s 298us/sample - loss: 7290.5772 - acc: 0.5522 - val_loss: 6699.4614 - val_acc: 0.5581\n",
      "Epoch 17/300\n",
      "9899/9899 [==============================] - 3s 254us/sample - loss: 7280.4616 - acc: 0.5522 - val_loss: 6754.8570 - val_acc: 0.5581\n",
      "Epoch 18/300\n",
      "9899/9899 [==============================] - 4s 364us/sample - loss: 7292.6960 - acc: 0.5522 - val_loss: 6733.5954 - val_acc: 0.5581\n",
      "Epoch 19/300\n",
      "9899/9899 [==============================] - 2s 224us/sample - loss: 7277.1897 - acc: 0.5522 - val_loss: 6741.9676 - val_acc: 0.5581\n",
      "Epoch 20/300\n",
      "9899/9899 [==============================] - 2s 163us/sample - loss: 7238.6588 - acc: 0.5522 - val_loss: 6794.3435 - val_acc: 0.5581\n",
      "Epoch 21/300\n",
      "9899/9899 [==============================] - 3s 298us/sample - loss: 7261.1107 - acc: 0.5522 - val_loss: 6643.3580 - val_acc: 0.5581\n",
      "Epoch 22/300\n",
      "9899/9899 [==============================] - 2s 173us/sample - loss: 7225.6268 - acc: 0.5522 - val_loss: 6556.7406 - val_acc: 0.5581\n",
      "Epoch 23/300\n",
      "9899/9899 [==============================] - 4s 410us/sample - loss: 7072.8881 - acc: 0.5592 - val_loss: 6608.1874 - val_acc: 0.5581\n",
      "Epoch 24/300\n",
      "9899/9899 [==============================] - 4s 369us/sample - loss: 7147.6235 - acc: 0.5613 - val_loss: 6617.6278 - val_acc: 0.5581\n",
      "Epoch 25/300\n",
      "9899/9899 [==============================] - 3s 270us/sample - loss: 7208.4003 - acc: 0.5522 - val_loss: 6614.1992 - val_acc: 0.5581\n",
      "Epoch 26/300\n",
      "9899/9899 [==============================] - 2s 188us/sample - loss: 6149.8986 - acc: 0.6763 - val_loss: 4809.6216 - val_acc: 0.6858\n",
      "Epoch 27/300\n",
      "9899/9899 [==============================] - 3s 286us/sample - loss: 4509.1595 - acc: 0.7314 - val_loss: 3540.2003 - val_acc: 0.7103\n",
      "Epoch 28/300\n",
      "9899/9899 [==============================] - 3s 266us/sample - loss: 3649.5939 - acc: 0.8098 - val_loss: 2985.6737 - val_acc: 0.8025\n",
      "Epoch 29/300\n",
      "9899/9899 [==============================] - 4s 382us/sample - loss: 3511.7893 - acc: 0.8312 - val_loss: 3486.0605 - val_acc: 0.7952\n",
      "Epoch 30/300\n",
      "9899/9899 [==============================] - 3s 336us/sample - loss: 3451.1290 - acc: 0.8396 - val_loss: 2847.5832 - val_acc: 0.8390\n",
      "Epoch 31/300\n",
      "9899/9899 [==============================] - 2s 232us/sample - loss: 3532.8579 - acc: 0.8401 - val_loss: 2925.5976 - val_acc: 0.8829\n",
      "Epoch 32/300\n",
      "9899/9899 [==============================] - 3s 297us/sample - loss: 3472.8517 - acc: 0.8362 - val_loss: 3135.1158 - val_acc: 0.8287\n",
      "Epoch 33/300\n",
      "9899/9899 [==============================] - 2s 250us/sample - loss: 3421.4083 - acc: 0.8409 - val_loss: 2915.6327 - val_acc: 0.8732\n",
      "Epoch 34/300\n",
      "9899/9899 [==============================] - 2s 197us/sample - loss: 3393.1260 - acc: 0.8504 - val_loss: 2865.5268 - val_acc: 0.8228\n",
      "Epoch 35/300\n",
      "9899/9899 [==============================] - 5s 546us/sample - loss: 3458.9708 - acc: 0.8410 - val_loss: 3142.6040 - val_acc: 0.8291\n",
      "Epoch 36/300\n",
      "9899/9899 [==============================] - 2s 200us/sample - loss: 3348.1949 - acc: 0.8511 - val_loss: 2831.0047 - val_acc: 0.8364\n",
      "Epoch 37/300\n",
      "9899/9899 [==============================] - 3s 256us/sample - loss: 3347.5486 - acc: 0.8545 - val_loss: 2884.7453 - val_acc: 0.8619\n",
      "Epoch 38/300\n",
      "9899/9899 [==============================] - 3s 279us/sample - loss: 3447.9286 - acc: 0.8411 - val_loss: 2851.6425 - val_acc: 0.8310\n",
      "Epoch 39/300\n",
      "9899/9899 [==============================] - 2s 175us/sample - loss: 3344.1734 - acc: 0.8546 - val_loss: 2952.8281 - val_acc: 0.8282\n",
      "Epoch 40/300\n",
      "9899/9899 [==============================] - 2s 162us/sample - loss: 3377.0714 - acc: 0.8543 - val_loss: 2830.8002 - val_acc: 0.8166\n",
      "Epoch 41/300\n",
      "9899/9899 [==============================] - 2s 226us/sample - loss: 3399.0070 - acc: 0.8477 - val_loss: 3044.7315 - val_acc: 0.8906\n",
      "Epoch 42/300\n",
      "9899/9899 [==============================] - 3s 256us/sample - loss: 3364.0012 - acc: 0.8519 - val_loss: 3243.0027 - val_acc: 0.8480\n",
      "Epoch 43/300\n",
      "9899/9899 [==============================] - 2s 176us/sample - loss: 3309.4737 - acc: 0.8533 - val_loss: 2862.1910 - val_acc: 0.8107\n",
      "Epoch 44/300\n",
      "9899/9899 [==============================] - 2s 186us/sample - loss: 3343.3881 - acc: 0.8530 - val_loss: 3434.1782 - val_acc: 0.8480\n",
      "Epoch 45/300\n",
      "9899/9899 [==============================] - 4s 375us/sample - loss: 3460.9667 - acc: 0.8420 - val_loss: 2842.5606 - val_acc: 0.8855\n",
      "Epoch 46/300\n",
      "9899/9899 [==============================] - 2s 156us/sample - loss: 3365.7551 - acc: 0.8567 - val_loss: 2900.1035 - val_acc: 0.8291\n",
      "Epoch 47/300\n",
      "9899/9899 [==============================] - 2s 154us/sample - loss: 3420.3032 - acc: 0.8523 - val_loss: 3062.4259 - val_acc: 0.8353\n",
      "Epoch 48/300\n",
      "9899/9899 [==============================] - 2s 184us/sample - loss: 3298.5850 - acc: 0.8600 - val_loss: 2820.2173 - val_acc: 0.8796\n",
      "Epoch 49/300\n",
      "9899/9899 [==============================] - 3s 297us/sample - loss: 3361.2679 - acc: 0.8546 - val_loss: 2835.0402 - val_acc: 0.8720\n",
      "Epoch 50/300\n",
      "9899/9899 [==============================] - 2s 173us/sample - loss: 3305.5801 - acc: 0.8559 - val_loss: 2837.1477 - val_acc: 0.7999\n",
      "Epoch 51/300\n",
      "9899/9899 [==============================] - 5s 499us/sample - loss: 3337.3754 - acc: 0.8541 - val_loss: 2802.9980 - val_acc: 0.8454\n",
      "Epoch 52/300\n",
      "9899/9899 [==============================] - 3s 315us/sample - loss: 3358.8253 - acc: 0.8561 - val_loss: 2813.6988 - val_acc: 0.8678\n",
      "Epoch 53/300\n",
      "9899/9899 [==============================] - 4s 437us/sample - loss: 3384.7068 - acc: 0.8517 - val_loss: 2985.7937 - val_acc: 0.8362\n",
      "Epoch 54/300\n",
      "9899/9899 [==============================] - 3s 328us/sample - loss: 3300.2680 - acc: 0.8568 - val_loss: 2820.6693 - val_acc: 0.8336\n",
      "Epoch 55/300\n",
      "9899/9899 [==============================] - 3s 321us/sample - loss: 3280.8219 - acc: 0.8597 - val_loss: 3203.1933 - val_acc: 0.7122\n",
      "Epoch 56/300\n",
      "9899/9899 [==============================] - 2s 251us/sample - loss: 3347.2621 - acc: 0.8580 - val_loss: 3064.8580 - val_acc: 0.8291\n"
     ]
    },
    {
     "name": "stdout",
     "output_type": "stream",
     "text": [
      "Epoch 57/300\n",
      "9899/9899 [==============================] - 2s 180us/sample - loss: 3344.4645 - acc: 0.8628 - val_loss: 2885.5762 - val_acc: 0.8906\n",
      "Epoch 58/300\n",
      "9899/9899 [==============================] - 2s 169us/sample - loss: 3331.7935 - acc: 0.8669 - val_loss: 3322.5343 - val_acc: 0.8680\n",
      "Epoch 59/300\n",
      "9899/9899 [==============================] - 2s 212us/sample - loss: 3337.2302 - acc: 0.8599 - val_loss: 3006.2358 - val_acc: 0.8294\n",
      "Epoch 60/300\n",
      "9899/9899 [==============================] - 3s 312us/sample - loss: 3316.1604 - acc: 0.8619 - val_loss: 2844.7148 - val_acc: 0.8364\n",
      "Epoch 61/300\n",
      "9899/9899 [==============================] - 2s 185us/sample - loss: 3324.8038 - acc: 0.8608 - val_loss: 2838.6021 - val_acc: 0.8572\n",
      "Epoch 62/300\n",
      "9899/9899 [==============================] - 2s 155us/sample - loss: 3308.8500 - acc: 0.8619 - val_loss: 3266.2877 - val_acc: 0.8480\n",
      "Epoch 63/300\n",
      "9899/9899 [==============================] - 2s 181us/sample - loss: 3287.8013 - acc: 0.8637 - val_loss: 2850.8432 - val_acc: 0.8112\n",
      "Epoch 64/300\n",
      "9899/9899 [==============================] - 2s 192us/sample - loss: 3319.4220 - acc: 0.8582 - val_loss: 2920.0578 - val_acc: 0.8428\n",
      "Epoch 65/300\n",
      "9899/9899 [==============================] - 2s 162us/sample - loss: 3298.5307 - acc: 0.8633 - val_loss: 2843.4072 - val_acc: 0.8906\n",
      "Epoch 66/300\n",
      "9899/9899 [==============================] - 1s 147us/sample - loss: 3311.2088 - acc: 0.8661 - val_loss: 2943.2674 - val_acc: 0.8291\n",
      "Epoch 67/300\n",
      "9899/9899 [==============================] - 1s 144us/sample - loss: 3326.5547 - acc: 0.8582 - val_loss: 2953.5106 - val_acc: 0.8906\n",
      "Epoch 68/300\n",
      "9899/9899 [==============================] - 2s 153us/sample - loss: 3301.2069 - acc: 0.8579 - val_loss: 2833.7928 - val_acc: 0.8876\n",
      "Epoch 69/300\n",
      "9899/9899 [==============================] - 3s 324us/sample - loss: 3324.0658 - acc: 0.8618 - val_loss: 2936.3999 - val_acc: 0.8301\n",
      "Epoch 70/300\n",
      "9899/9899 [==============================] - 2s 183us/sample - loss: 3376.0770 - acc: 0.8616 - val_loss: 2852.9842 - val_acc: 0.8433\n",
      "Epoch 71/300\n",
      "9899/9899 [==============================] - 2s 178us/sample - loss: 3341.5552 - acc: 0.8557 - val_loss: 2887.9186 - val_acc: 0.8320\n",
      "Epoch 72/300\n",
      "9899/9899 [==============================] - 2s 174us/sample - loss: 3300.7330 - acc: 0.8616 - val_loss: 2841.0151 - val_acc: 0.8376\n",
      "Epoch 73/300\n",
      "9899/9899 [==============================] - 2s 180us/sample - loss: 3322.2402 - acc: 0.8653 - val_loss: 3095.1109 - val_acc: 0.8906\n",
      "Epoch 74/300\n",
      "9899/9899 [==============================] - 2s 164us/sample - loss: 3358.7979 - acc: 0.8601 - val_loss: 2913.7844 - val_acc: 0.8605\n",
      "Epoch 75/300\n",
      "9899/9899 [==============================] - 1s 146us/sample - loss: 3263.0070 - acc: 0.8631 - val_loss: 2811.6752 - val_acc: 0.8313\n",
      "Epoch 76/300\n",
      "9899/9899 [==============================] - 1s 146us/sample - loss: 3361.8291 - acc: 0.8595 - val_loss: 2875.4597 - val_acc: 0.8291\n",
      "Epoch 77/300\n",
      "9899/9899 [==============================] - 2s 178us/sample - loss: 3296.1604 - acc: 0.8699 - val_loss: 2856.1056 - val_acc: 0.8291\n",
      "Epoch 78/300\n",
      "9899/9899 [==============================] - 3s 299us/sample - loss: 3269.5059 - acc: 0.8606 - val_loss: 3648.0535 - val_acc: 0.8195\n",
      "Epoch 79/300\n",
      "9899/9899 [==============================] - 2s 188us/sample - loss: 3260.1393 - acc: 0.8719 - val_loss: 2750.6039 - val_acc: 0.8746\n",
      "Epoch 80/300\n",
      "9899/9899 [==============================] - 2s 197us/sample - loss: 3239.8607 - acc: 0.8771 - val_loss: 2880.9606 - val_acc: 0.8897\n",
      "Epoch 81/300\n",
      "9899/9899 [==============================] - 2s 185us/sample - loss: 3324.7815 - acc: 0.8736 - val_loss: 2781.9903 - val_acc: 0.8730\n",
      "Epoch 82/300\n",
      "9899/9899 [==============================] - 2s 176us/sample - loss: 3230.5297 - acc: 0.8806 - val_loss: 2798.9222 - val_acc: 0.8888\n",
      "Epoch 83/300\n",
      "9899/9899 [==============================] - 1s 147us/sample - loss: 3247.9205 - acc: 0.8771 - val_loss: 3118.0911 - val_acc: 0.8232\n",
      "Epoch 84/300\n",
      "9899/9899 [==============================] - 2s 155us/sample - loss: 3298.3274 - acc: 0.8793 - val_loss: 2785.2550 - val_acc: 0.8906\n",
      "Epoch 85/300\n",
      "9899/9899 [==============================] - 2s 164us/sample - loss: 3218.6913 - acc: 0.8823 - val_loss: 2889.9185 - val_acc: 0.8343\n",
      "Epoch 86/300\n",
      "9899/9899 [==============================] - 3s 271us/sample - loss: 3327.5167 - acc: 0.8745 - val_loss: 2773.8661 - val_acc: 0.8906\n",
      "Epoch 87/300\n",
      "9899/9899 [==============================] - 2s 203us/sample - loss: 3248.8611 - acc: 0.8790 - val_loss: 2735.9715 - val_acc: 0.8815\n",
      "Epoch 88/300\n",
      "9899/9899 [==============================] - 2s 169us/sample - loss: 3241.9483 - acc: 0.8776 - val_loss: 2796.7366 - val_acc: 0.8906\n",
      "Epoch 89/300\n",
      "9899/9899 [==============================] - 2s 182us/sample - loss: 3272.3322 - acc: 0.8796 - val_loss: 3600.6415 - val_acc: 0.8195\n",
      "Epoch 90/300\n",
      "9899/9899 [==============================] - 2s 187us/sample - loss: 3218.2665 - acc: 0.8830 - val_loss: 2894.2060 - val_acc: 0.8320\n",
      "Epoch 91/300\n",
      "9899/9899 [==============================] - 2s 178us/sample - loss: 3277.2461 - acc: 0.8796 - val_loss: 2788.6346 - val_acc: 0.8862\n",
      "Epoch 92/300\n",
      "9899/9899 [==============================] - 2s 187us/sample - loss: 3277.7420 - acc: 0.8728 - val_loss: 2791.8284 - val_acc: 0.8906\n",
      "Epoch 93/300\n",
      "9899/9899 [==============================] - 2s 186us/sample - loss: 3198.6186 - acc: 0.8805 - val_loss: 2852.0192 - val_acc: 0.8588\n",
      "Epoch 94/300\n",
      "9899/9899 [==============================] - 2s 219us/sample - loss: 3303.7241 - acc: 0.8750 - val_loss: 2862.0531 - val_acc: 0.8812\n",
      "Epoch 95/300\n",
      "9899/9899 [==============================] - 3s 267us/sample - loss: 3218.1159 - acc: 0.8821 - val_loss: 2804.4145 - val_acc: 0.8871\n",
      "Epoch 96/300\n",
      "9899/9899 [==============================] - 2s 167us/sample - loss: 3215.0312 - acc: 0.8841 - val_loss: 2860.9542 - val_acc: 0.8562\n",
      "Epoch 97/300\n",
      "9899/9899 [==============================] - 2s 163us/sample - loss: 3232.8692 - acc: 0.8850 - val_loss: 2807.9215 - val_acc: 0.8925\n",
      "Epoch 98/300\n",
      "9899/9899 [==============================] - 2s 181us/sample - loss: 3178.7483 - acc: 0.8842 - val_loss: 3063.6337 - val_acc: 0.8527\n",
      "Epoch 99/300\n",
      "9899/9899 [==============================] - 2s 219us/sample - loss: 3216.7609 - acc: 0.8840 - val_loss: 2880.3658 - val_acc: 0.8902\n",
      "Epoch 100/300\n",
      "9899/9899 [==============================] - 2s 212us/sample - loss: 3273.1153 - acc: 0.8760 - val_loss: 2897.0993 - val_acc: 0.8904\n",
      "Epoch 101/300\n",
      "9899/9899 [==============================] - 2s 244us/sample - loss: 3238.5646 - acc: 0.8842 - val_loss: 2799.0385 - val_acc: 0.8906\n",
      "Epoch 102/300\n",
      "9899/9899 [==============================] - 4s 363us/sample - loss: 3175.8646 - acc: 0.8842 - val_loss: 2690.3265 - val_acc: 0.8876\n",
      "Epoch 103/300\n",
      "9899/9899 [==============================] - 3s 279us/sample - loss: 3196.5367 - acc: 0.8815 - val_loss: 3007.3829 - val_acc: 0.8852\n",
      "Epoch 104/300\n",
      "9899/9899 [==============================] - 2s 224us/sample - loss: 3194.4553 - acc: 0.8853 - val_loss: 2784.7324 - val_acc: 0.8694\n",
      "Epoch 105/300\n",
      "9899/9899 [==============================] - 2s 206us/sample - loss: 3176.6506 - acc: 0.8874 - val_loss: 2716.1752 - val_acc: 0.8906\n",
      "Epoch 106/300\n",
      "9899/9899 [==============================] - 2s 201us/sample - loss: 3164.3862 - acc: 0.8839 - val_loss: 2722.3216 - val_acc: 0.8906\n",
      "Epoch 107/300\n",
      "9899/9899 [==============================] - 2s 215us/sample - loss: 3187.4621 - acc: 0.8821 - val_loss: 2895.6298 - val_acc: 0.8760\n",
      "Epoch 108/300\n",
      "9899/9899 [==============================] - 2s 228us/sample - loss: 3221.8525 - acc: 0.8797 - val_loss: 2787.2651 - val_acc: 0.8732\n",
      "Epoch 109/300\n",
      "9899/9899 [==============================] - 3s 309us/sample - loss: 3178.6468 - acc: 0.8835 - val_loss: 2919.1918 - val_acc: 0.8892\n",
      "Epoch 110/300\n",
      "9899/9899 [==============================] - 2s 204us/sample - loss: 3167.3554 - acc: 0.8821 - val_loss: 2745.7518 - val_acc: 0.8906\n",
      "Epoch 111/300\n",
      "9899/9899 [==============================] - 2s 209us/sample - loss: 3150.8419 - acc: 0.8849 - val_loss: 2854.7195 - val_acc: 0.8902\n",
      "Epoch 112/300\n",
      "9899/9899 [==============================] - 2s 204us/sample - loss: 3193.6402 - acc: 0.8790 - val_loss: 2766.0565 - val_acc: 0.8711\n",
      "Epoch 113/300\n"
     ]
    },
    {
     "name": "stdout",
     "output_type": "stream",
     "text": [
      "9899/9899 [==============================] - 2s 185us/sample - loss: 3231.5679 - acc: 0.8782 - val_loss: 2653.1261 - val_acc: 0.8906\n",
      "Epoch 114/300\n",
      "9899/9899 [==============================] - 1s 151us/sample - loss: 3148.9283 - acc: 0.8852 - val_loss: 2942.0520 - val_acc: 0.8798\n",
      "Epoch 115/300\n",
      "9899/9899 [==============================] - 2s 174us/sample - loss: 3201.9848 - acc: 0.8815 - val_loss: 2727.4384 - val_acc: 0.8699\n",
      "Epoch 116/300\n",
      "9899/9899 [==============================] - 2s 226us/sample - loss: 3180.6583 - acc: 0.8867 - val_loss: 2727.1997 - val_acc: 0.8852\n",
      "Epoch 117/300\n",
      "9899/9899 [==============================] - 2s 248us/sample - loss: 3150.1629 - acc: 0.8890 - val_loss: 2649.2928 - val_acc: 0.8902\n",
      "Epoch 118/300\n",
      "9899/9899 [==============================] - 1s 144us/sample - loss: 3183.6574 - acc: 0.8834 - val_loss: 2751.2182 - val_acc: 0.8850\n",
      "Epoch 119/300\n",
      "9899/9899 [==============================] - 1s 144us/sample - loss: 3182.9314 - acc: 0.8818 - val_loss: 2852.1331 - val_acc: 0.8883\n",
      "Epoch 120/300\n",
      "9899/9899 [==============================] - 1s 140us/sample - loss: 3197.9271 - acc: 0.8827 - val_loss: 2637.4798 - val_acc: 0.8899\n",
      "Epoch 121/300\n",
      "9899/9899 [==============================] - 1s 144us/sample - loss: 3110.3006 - acc: 0.8849 - val_loss: 2995.4826 - val_acc: 0.8310\n",
      "Epoch 122/300\n",
      "9899/9899 [==============================] - 2s 164us/sample - loss: 3167.9004 - acc: 0.8838 - val_loss: 2729.2665 - val_acc: 0.8619\n",
      "Epoch 123/300\n",
      "9899/9899 [==============================] - 2s 199us/sample - loss: 3154.4871 - acc: 0.8816 - val_loss: 2790.0889 - val_acc: 0.8899\n",
      "Epoch 124/300\n",
      "9899/9899 [==============================] - 3s 269us/sample - loss: 3111.3420 - acc: 0.8890 - val_loss: 2906.6607 - val_acc: 0.8383\n",
      "Epoch 125/300\n",
      "9899/9899 [==============================] - 4s 356us/sample - loss: 3150.6301 - acc: 0.8852 - val_loss: 2766.7349 - val_acc: 0.8572\n",
      "Epoch 126/300\n",
      "9899/9899 [==============================] - 2s 159us/sample - loss: 3125.9230 - acc: 0.8858 - val_loss: 2655.4260 - val_acc: 0.8897\n",
      "Epoch 127/300\n",
      "9899/9899 [==============================] - 2s 157us/sample - loss: 3159.4930 - acc: 0.8857 - val_loss: 3324.1883 - val_acc: 0.8480\n",
      "Epoch 128/300\n",
      "9899/9899 [==============================] - 2s 160us/sample - loss: 3158.0349 - acc: 0.8830 - val_loss: 3054.1823 - val_acc: 0.8473\n",
      "Epoch 129/300\n",
      "9899/9899 [==============================] - 2s 173us/sample - loss: 3099.6547 - acc: 0.8841 - val_loss: 2796.4836 - val_acc: 0.8902\n",
      "Epoch 130/300\n",
      "9899/9899 [==============================] - 2s 173us/sample - loss: 3123.2144 - acc: 0.8829 - val_loss: 2615.4863 - val_acc: 0.8906\n",
      "Epoch 131/300\n",
      "9899/9899 [==============================] - 2s 179us/sample - loss: 3115.5408 - acc: 0.8859 - val_loss: 2695.5343 - val_acc: 0.8914\n",
      "Epoch 132/300\n",
      "9899/9899 [==============================] - 2s 152us/sample - loss: 3073.6870 - acc: 0.8881 - val_loss: 2631.6016 - val_acc: 0.8819\n",
      "Epoch 133/300\n",
      "9899/9899 [==============================] - 2s 173us/sample - loss: 3087.3641 - acc: 0.8874 - val_loss: 2656.0523 - val_acc: 0.8718\n",
      "Epoch 134/300\n",
      "9899/9899 [==============================] - 3s 305us/sample - loss: 3094.3057 - acc: 0.8853 - val_loss: 2589.3454 - val_acc: 0.8902\n",
      "Epoch 135/300\n",
      "9899/9899 [==============================] - 2s 178us/sample - loss: 3156.7871 - acc: 0.8843 - val_loss: 2613.0662 - val_acc: 0.8885\n",
      "Epoch 136/300\n",
      "9899/9899 [==============================] - 2s 176us/sample - loss: 3100.9979 - acc: 0.8856 - val_loss: 2643.2834 - val_acc: 0.8904\n",
      "Epoch 137/300\n",
      "9899/9899 [==============================] - 2s 185us/sample - loss: 3106.8736 - acc: 0.8835 - val_loss: 3197.2257 - val_acc: 0.8192\n",
      "Epoch 138/300\n",
      "9899/9899 [==============================] - 2s 178us/sample - loss: 3142.2148 - acc: 0.8799 - val_loss: 2611.6938 - val_acc: 0.8848\n",
      "Epoch 139/300\n",
      "9899/9899 [==============================] - 2s 178us/sample - loss: 3111.2040 - acc: 0.8856 - val_loss: 2592.8156 - val_acc: 0.8902\n",
      "Epoch 140/300\n",
      "9899/9899 [==============================] - 2s 202us/sample - loss: 3085.5110 - acc: 0.8860 - val_loss: 2772.6952 - val_acc: 0.8895\n",
      "Epoch 141/300\n",
      "9899/9899 [==============================] - 2s 208us/sample - loss: 3136.5911 - acc: 0.8816 - val_loss: 2898.6892 - val_acc: 0.8461\n",
      "Epoch 142/300\n",
      "9899/9899 [==============================] - 3s 322us/sample - loss: 3081.8864 - acc: 0.8850 - val_loss: 2618.0434 - val_acc: 0.8899\n",
      "Epoch 143/300\n",
      "9899/9899 [==============================] - 2s 216us/sample - loss: 3102.7431 - acc: 0.8850 - val_loss: 2727.3964 - val_acc: 0.8850\n",
      "Epoch 144/300\n",
      "9899/9899 [==============================] - 2s 172us/sample - loss: 3127.0290 - acc: 0.8809 - val_loss: 2614.0653 - val_acc: 0.8878\n",
      "Epoch 145/300\n",
      "9899/9899 [==============================] - 2s 197us/sample - loss: 3054.9103 - acc: 0.8841 - val_loss: 2576.2183 - val_acc: 0.8899\n",
      "Epoch 146/300\n",
      "9899/9899 [==============================] - 2s 184us/sample - loss: 3070.8345 - acc: 0.8842 - val_loss: 2662.4067 - val_acc: 0.8694\n",
      "Epoch 147/300\n",
      "9899/9899 [==============================] - 2s 205us/sample - loss: 3073.1824 - acc: 0.8818 - val_loss: 2813.2526 - val_acc: 0.8574\n",
      "Epoch 148/300\n",
      "9899/9899 [==============================] - 2s 190us/sample - loss: 3106.3038 - acc: 0.8804 - val_loss: 2618.7385 - val_acc: 0.8897\n",
      "Epoch 149/300\n",
      "9899/9899 [==============================] - 2s 209us/sample - loss: 3084.6629 - acc: 0.8840 - val_loss: 2544.0768 - val_acc: 0.8899\n",
      "Epoch 150/300\n",
      "9899/9899 [==============================] - 3s 295us/sample - loss: 3099.9140 - acc: 0.8819 - val_loss: 2662.8828 - val_acc: 0.8718\n",
      "Epoch 151/300\n",
      "9899/9899 [==============================] - 2s 201us/sample - loss: 3019.7881 - acc: 0.8882 - val_loss: 2582.1685 - val_acc: 0.8897\n",
      "Epoch 152/300\n",
      "9899/9899 [==============================] - 2s 187us/sample - loss: 3037.0335 - acc: 0.8859 - val_loss: 2874.9208 - val_acc: 0.8348\n",
      "Epoch 153/300\n",
      "9899/9899 [==============================] - 2s 190us/sample - loss: 3068.6365 - acc: 0.8840 - val_loss: 2555.6829 - val_acc: 0.8895\n",
      "Epoch 154/300\n",
      "9899/9899 [==============================] - 2s 171us/sample - loss: 3015.8988 - acc: 0.8857 - val_loss: 2551.7463 - val_acc: 0.8902\n",
      "Epoch 155/300\n",
      "9899/9899 [==============================] - 2s 205us/sample - loss: 3042.7404 - acc: 0.8847 - val_loss: 2588.2737 - val_acc: 0.8883\n",
      "Epoch 156/300\n",
      "9899/9899 [==============================] - 2s 188us/sample - loss: 3028.6358 - acc: 0.8862 - val_loss: 2659.4272 - val_acc: 0.8892\n",
      "Epoch 157/300\n",
      "9899/9899 [==============================] - 3s 258us/sample - loss: 3061.6019 - acc: 0.8838 - val_loss: 2753.8849 - val_acc: 0.8482\n",
      "Epoch 158/300\n",
      "9899/9899 [==============================] - 2s 242us/sample - loss: 3065.5131 - acc: 0.8754 - val_loss: 2786.5896 - val_acc: 0.8798\n",
      "Epoch 159/300\n",
      "9899/9899 [==============================] - 2s 228us/sample - loss: 3042.0687 - acc: 0.8850 - val_loss: 2911.8905 - val_acc: 0.8555\n",
      "Epoch 160/300\n",
      "9899/9899 [==============================] - 2s 153us/sample - loss: 3065.3189 - acc: 0.8835 - val_loss: 2519.0040 - val_acc: 0.8885\n",
      "Epoch 161/300\n",
      "9899/9899 [==============================] - 2s 210us/sample - loss: 2986.6238 - acc: 0.8863 - val_loss: 2570.3969 - val_acc: 0.8659\n",
      "Epoch 162/300\n",
      "9899/9899 [==============================] - 2s 183us/sample - loss: 3002.4749 - acc: 0.8829 - val_loss: 2553.9994 - val_acc: 0.8895\n",
      "Epoch 163/300\n",
      "9899/9899 [==============================] - 2s 208us/sample - loss: 3033.1680 - acc: 0.8835 - val_loss: 2823.0125 - val_acc: 0.8770\n",
      "Epoch 164/300\n",
      "9899/9899 [==============================] - 2s 235us/sample - loss: 3049.0105 - acc: 0.8811 - val_loss: 2667.4384 - val_acc: 0.8527\n",
      "Epoch 165/300\n",
      "9899/9899 [==============================] - 3s 316us/sample - loss: 2954.7539 - acc: 0.8866 - val_loss: 3051.7957 - val_acc: 0.8433\n",
      "Epoch 166/300\n",
      "9899/9899 [==============================] - 2s 219us/sample - loss: 3019.0132 - acc: 0.8846 - val_loss: 2861.8263 - val_acc: 0.8765\n",
      "Epoch 167/300\n",
      "9899/9899 [==============================] - 2s 212us/sample - loss: 3050.5492 - acc: 0.8834 - val_loss: 2569.2666 - val_acc: 0.8892\n",
      "Epoch 168/300\n",
      "9899/9899 [==============================] - 2s 212us/sample - loss: 3049.7925 - acc: 0.8819 - val_loss: 2767.8458 - val_acc: 0.8805\n"
     ]
    },
    {
     "name": "stdout",
     "output_type": "stream",
     "text": [
      "Epoch 169/300\n",
      "9899/9899 [==============================] - 2s 166us/sample - loss: 3022.7406 - acc: 0.8817 - val_loss: 2755.4426 - val_acc: 0.8631\n",
      "Epoch 170/300\n",
      "9899/9899 [==============================] - 2s 167us/sample - loss: 3026.4036 - acc: 0.8821 - val_loss: 2514.7038 - val_acc: 0.8836\n",
      "Epoch 171/300\n",
      "9899/9899 [==============================] - 2s 171us/sample - loss: 2966.5852 - acc: 0.8877 - val_loss: 2492.8943 - val_acc: 0.8899\n",
      "Epoch 172/300\n",
      "9899/9899 [==============================] - 2s 215us/sample - loss: 2965.8852 - acc: 0.8837 - val_loss: 2455.6307 - val_acc: 0.8888\n",
      "Epoch 173/300\n",
      "9899/9899 [==============================] - 3s 276us/sample - loss: 2976.3000 - acc: 0.8838 - val_loss: 2747.0094 - val_acc: 0.8777\n",
      "Epoch 174/300\n",
      "9899/9899 [==============================] - 2s 169us/sample - loss: 3020.4116 - acc: 0.8825 - val_loss: 2718.9032 - val_acc: 0.8909\n",
      "Epoch 175/300\n",
      "9899/9899 [==============================] - 2s 170us/sample - loss: 2951.7337 - acc: 0.8781 - val_loss: 2539.3457 - val_acc: 0.8909\n",
      "Epoch 176/300\n",
      "9899/9899 [==============================] - 2s 188us/sample - loss: 2967.4079 - acc: 0.8823 - val_loss: 2945.8953 - val_acc: 0.8612\n",
      "Epoch 177/300\n",
      "9899/9899 [==============================] - 2s 176us/sample - loss: 2927.0987 - acc: 0.8870 - val_loss: 2438.1063 - val_acc: 0.8751\n",
      "Epoch 178/300\n",
      "9899/9899 [==============================] - 2s 182us/sample - loss: 2948.5593 - acc: 0.8811 - val_loss: 2637.9736 - val_acc: 0.8685\n",
      "Epoch 179/300\n",
      "9899/9899 [==============================] - 2s 168us/sample - loss: 2950.7620 - acc: 0.8808 - val_loss: 2529.5949 - val_acc: 0.8558\n",
      "Epoch 180/300\n",
      "9899/9899 [==============================] - 2s 184us/sample - loss: 2937.6137 - acc: 0.8797 - val_loss: 2677.3854 - val_acc: 0.8313\n",
      "Epoch 181/300\n",
      "9899/9899 [==============================] - 3s 301us/sample - loss: 2901.9487 - acc: 0.8805 - val_loss: 2703.5495 - val_acc: 0.8657\n",
      "Epoch 182/300\n",
      "9899/9899 [==============================] - 2s 156us/sample - loss: 2936.5096 - acc: 0.8845 - val_loss: 2439.9224 - val_acc: 0.8906\n",
      "Epoch 183/300\n",
      "9899/9899 [==============================] - 2s 173us/sample - loss: 2907.1802 - acc: 0.8832 - val_loss: 2391.4329 - val_acc: 0.8796\n",
      "Epoch 184/300\n",
      "9899/9899 [==============================] - 2s 167us/sample - loss: 2847.5470 - acc: 0.8875 - val_loss: 2435.7152 - val_acc: 0.8906\n",
      "Epoch 185/300\n",
      "9899/9899 [==============================] - 1s 149us/sample - loss: 2898.1421 - acc: 0.8840 - val_loss: 2400.4365 - val_acc: 0.8791\n",
      "Epoch 186/300\n",
      "9899/9899 [==============================] - 1s 147us/sample - loss: 2943.9513 - acc: 0.8793 - val_loss: 2560.2360 - val_acc: 0.8680\n",
      "Epoch 187/300\n",
      "9899/9899 [==============================] - 2s 169us/sample - loss: 2931.6017 - acc: 0.8794 - val_loss: 2593.7653 - val_acc: 0.8697\n",
      "Epoch 188/300\n",
      "9899/9899 [==============================] - 2s 171us/sample - loss: 2906.8015 - acc: 0.8845 - val_loss: 3192.1719 - val_acc: 0.8470\n",
      "Epoch 189/300\n",
      "9899/9899 [==============================] - 2s 169us/sample - loss: 2923.0880 - acc: 0.8848 - val_loss: 2468.9284 - val_acc: 0.8939\n",
      "Epoch 190/300\n",
      "9899/9899 [==============================] - 3s 326us/sample - loss: 2923.1009 - acc: 0.8847 - val_loss: 2483.8016 - val_acc: 0.8477\n",
      "Epoch 191/300\n",
      "9899/9899 [==============================] - 2s 221us/sample - loss: 2924.7166 - acc: 0.8846 - val_loss: 2438.6901 - val_acc: 0.8704\n",
      "Epoch 192/300\n",
      "9899/9899 [==============================] - 2s 184us/sample - loss: 2944.7392 - acc: 0.8799 - val_loss: 3119.7388 - val_acc: 0.8584\n",
      "Epoch 193/300\n",
      "9899/9899 [==============================] - 2s 178us/sample - loss: 2882.1670 - acc: 0.8857 - val_loss: 2450.5703 - val_acc: 0.8914\n",
      "Epoch 194/300\n",
      "9899/9899 [==============================] - 2s 212us/sample - loss: 2957.5816 - acc: 0.8797 - val_loss: 2452.0362 - val_acc: 0.8878\n",
      "Epoch 195/300\n",
      "9899/9899 [==============================] - 2s 177us/sample - loss: 2994.0710 - acc: 0.8793 - val_loss: 2516.9196 - val_acc: 0.8888\n",
      "Epoch 196/300\n",
      "9899/9899 [==============================] - 2s 181us/sample - loss: 2968.0910 - acc: 0.8803 - val_loss: 2543.9046 - val_acc: 0.8315\n",
      "Epoch 197/300\n",
      "9899/9899 [==============================] - 2s 223us/sample - loss: 2840.5281 - acc: 0.8873 - val_loss: 2813.9807 - val_acc: 0.8906\n",
      "Epoch 198/300\n",
      "9899/9899 [==============================] - 3s 271us/sample - loss: 2927.8355 - acc: 0.8811 - val_loss: 2625.0027 - val_acc: 0.8899\n",
      "Epoch 199/300\n",
      "9899/9899 [==============================] - 2s 153us/sample - loss: 2844.1602 - acc: 0.8889 - val_loss: 2989.0850 - val_acc: 0.8810\n",
      "Epoch 200/300\n",
      "9899/9899 [==============================] - 1s 151us/sample - loss: 2963.9496 - acc: 0.8804 - val_loss: 2879.4187 - val_acc: 0.8558\n",
      "Epoch 201/300\n",
      "9899/9899 [==============================] - 2s 165us/sample - loss: 2983.7006 - acc: 0.8813 - val_loss: 2645.6176 - val_acc: 0.8734\n",
      "Epoch 202/300\n",
      "9899/9899 [==============================] - 2s 164us/sample - loss: 2832.2354 - acc: 0.8857 - val_loss: 2324.3332 - val_acc: 0.8890\n",
      "Epoch 203/300\n",
      "9899/9899 [==============================] - 2s 202us/sample - loss: 2928.9205 - acc: 0.8852 - val_loss: 2820.4989 - val_acc: 0.8909\n",
      "Epoch 204/300\n",
      "9899/9899 [==============================] - 2s 210us/sample - loss: 2879.2988 - acc: 0.8840 - val_loss: 2659.7055 - val_acc: 0.8906\n",
      "Epoch 205/300\n",
      "9899/9899 [==============================] - 2s 186us/sample - loss: 2880.8381 - acc: 0.8837 - val_loss: 2700.7511 - val_acc: 0.8897\n",
      "Epoch 206/300\n",
      "9899/9899 [==============================] - 3s 313us/sample - loss: 2841.7893 - acc: 0.8852 - val_loss: 2854.6110 - val_acc: 0.8871\n",
      "Epoch 207/300\n",
      "9899/9899 [==============================] - 3s 262us/sample - loss: 2827.9394 - acc: 0.8814 - val_loss: 2392.9690 - val_acc: 0.8890\n",
      "Epoch 208/300\n",
      "9899/9899 [==============================] - 2s 157us/sample - loss: 2933.5500 - acc: 0.8814 - val_loss: 2572.4661 - val_acc: 0.8532\n",
      "Epoch 209/300\n",
      "9899/9899 [==============================] - 2s 182us/sample - loss: 2859.9577 - acc: 0.8851 - val_loss: 2407.8225 - val_acc: 0.8921\n",
      "Epoch 210/300\n",
      "9899/9899 [==============================] - 2s 210us/sample - loss: 2951.9236 - acc: 0.8806 - val_loss: 2685.8619 - val_acc: 0.8885\n",
      "Epoch 211/300\n",
      "9899/9899 [==============================] - 2s 198us/sample - loss: 2959.9776 - acc: 0.8756 - val_loss: 2522.0801 - val_acc: 0.8892\n",
      "Epoch 212/300\n",
      "9899/9899 [==============================] - 2s 203us/sample - loss: 2811.5207 - acc: 0.8845 - val_loss: 2461.3780 - val_acc: 0.8890\n",
      "Epoch 213/300\n",
      "9899/9899 [==============================] - 2s 251us/sample - loss: 2868.7259 - acc: 0.8844 - val_loss: 2433.4842 - val_acc: 0.8522\n",
      "Epoch 214/300\n",
      "9899/9899 [==============================] - 3s 262us/sample - loss: 2901.2591 - acc: 0.8781 - val_loss: 2664.7523 - val_acc: 0.8906\n",
      "Epoch 215/300\n",
      "9899/9899 [==============================] - 2s 183us/sample - loss: 2901.6625 - acc: 0.8818 - val_loss: 2343.3048 - val_acc: 0.8881\n",
      "Epoch 216/300\n",
      "9899/9899 [==============================] - 2s 187us/sample - loss: 2869.7127 - acc: 0.8834 - val_loss: 2570.7686 - val_acc: 0.8897\n",
      "Epoch 217/300\n",
      "9899/9899 [==============================] - 2s 211us/sample - loss: 2869.3664 - acc: 0.8822 - val_loss: 2497.0279 - val_acc: 0.8565\n",
      "Epoch 218/300\n",
      "9899/9899 [==============================] - 2s 178us/sample - loss: 2864.7461 - acc: 0.8788 - val_loss: 2439.1116 - val_acc: 0.8711\n",
      "Epoch 219/300\n",
      "9899/9899 [==============================] - 2s 175us/sample - loss: 2819.6267 - acc: 0.8832 - val_loss: 2810.1998 - val_acc: 0.8635\n",
      "Epoch 220/300\n",
      "9899/9899 [==============================] - 2s 177us/sample - loss: 2956.7060 - acc: 0.8745 - val_loss: 2668.0344 - val_acc: 0.8270\n",
      "Epoch 221/300\n",
      "9899/9899 [==============================] - 2s 209us/sample - loss: 2871.9683 - acc: 0.8812 - val_loss: 2512.1566 - val_acc: 0.8492\n",
      "Epoch 222/300\n",
      "9899/9899 [==============================] - 4s 372us/sample - loss: 2813.4595 - acc: 0.8843 - val_loss: 2323.4939 - val_acc: 0.8697\n",
      "Epoch 223/300\n",
      "9899/9899 [==============================] - 3s 270us/sample - loss: 2796.3554 - acc: 0.8827 - val_loss: 2421.8706 - val_acc: 0.8687\n",
      "Epoch 224/300\n",
      "9899/9899 [==============================] - 4s 408us/sample - loss: 2833.2075 - acc: 0.8839 - val_loss: 2622.7783 - val_acc: 0.8850\n"
     ]
    },
    {
     "name": "stdout",
     "output_type": "stream",
     "text": [
      "Epoch 225/300\n",
      "9899/9899 [==============================] - 3s 270us/sample - loss: 2888.2310 - acc: 0.8809 - val_loss: 2682.4459 - val_acc: 0.8482\n",
      "Epoch 226/300\n",
      "9899/9899 [==============================] - 2s 207us/sample - loss: 2985.1266 - acc: 0.8799 - val_loss: 2411.0361 - val_acc: 0.8784\n",
      "Epoch 227/300\n",
      "9899/9899 [==============================] - 3s 284us/sample - loss: 2774.3327 - acc: 0.8854 - val_loss: 2399.0229 - val_acc: 0.8805\n",
      "Epoch 228/300\n",
      "9899/9899 [==============================] - 2s 185us/sample - loss: 2806.0096 - acc: 0.8848 - val_loss: 2380.1753 - val_acc: 0.8888\n",
      "Epoch 229/300\n",
      "9899/9899 [==============================] - 2s 186us/sample - loss: 2878.9709 - acc: 0.8824 - val_loss: 2374.0983 - val_acc: 0.8885\n",
      "Epoch 230/300\n",
      "9899/9899 [==============================] - 2s 168us/sample - loss: 2902.1925 - acc: 0.8761 - val_loss: 2685.2719 - val_acc: 0.8442\n",
      "Epoch 231/300\n",
      "9899/9899 [==============================] - 2s 168us/sample - loss: 2756.1264 - acc: 0.8872 - val_loss: 2584.3272 - val_acc: 0.8916\n",
      "Epoch 232/300\n",
      "9899/9899 [==============================] - 2s 180us/sample - loss: 2819.0368 - acc: 0.8834 - val_loss: 2302.0855 - val_acc: 0.8873\n",
      "Epoch 233/300\n",
      "9899/9899 [==============================] - 2s 178us/sample - loss: 2771.4732 - acc: 0.8851 - val_loss: 2300.1840 - val_acc: 0.8902\n",
      "Epoch 234/300\n",
      "9899/9899 [==============================] - 2s 164us/sample - loss: 2858.3518 - acc: 0.8804 - val_loss: 2293.4867 - val_acc: 0.8855\n",
      "Epoch 235/300\n",
      "9899/9899 [==============================] - 2s 219us/sample - loss: 2785.0374 - acc: 0.8871 - val_loss: 2299.5042 - val_acc: 0.8725\n",
      "Epoch 236/300\n",
      "9899/9899 [==============================] - 2s 248us/sample - loss: 2933.9835 - acc: 0.8777 - val_loss: 2695.1552 - val_acc: 0.8741\n",
      "Epoch 237/300\n",
      "9899/9899 [==============================] - 1s 145us/sample - loss: 2872.8533 - acc: 0.8786 - val_loss: 2984.9003 - val_acc: 0.8449\n",
      "Epoch 238/300\n",
      "9899/9899 [==============================] - 1s 147us/sample - loss: 2887.5709 - acc: 0.8744 - val_loss: 2302.7687 - val_acc: 0.8668\n",
      "Epoch 239/300\n",
      "9899/9899 [==============================] - 2s 153us/sample - loss: 2856.5296 - acc: 0.8806 - val_loss: 2401.7586 - val_acc: 0.8704\n",
      "Epoch 240/300\n",
      "9899/9899 [==============================] - 2s 155us/sample - loss: 2798.9116 - acc: 0.8837 - val_loss: 2630.7135 - val_acc: 0.8793\n",
      "Epoch 241/300\n",
      "9899/9899 [==============================] - 2s 183us/sample - loss: 2921.9968 - acc: 0.8751 - val_loss: 2313.0158 - val_acc: 0.8864\n",
      "Epoch 242/300\n",
      "9899/9899 [==============================] - 2s 173us/sample - loss: 2810.9465 - acc: 0.8803 - val_loss: 2807.1970 - val_acc: 0.8727\n",
      "Epoch 243/300\n",
      "9899/9899 [==============================] - 2s 174us/sample - loss: 2840.0412 - acc: 0.8847 - val_loss: 2266.8295 - val_acc: 0.8885\n",
      "Epoch 244/300\n",
      "9899/9899 [==============================] - 2s 233us/sample - loss: 2783.5273 - acc: 0.8845 - val_loss: 2665.9046 - val_acc: 0.8902\n",
      "Epoch 245/300\n",
      "9899/9899 [==============================] - 3s 283us/sample - loss: 2777.6308 - acc: 0.8846 - val_loss: 2835.2872 - val_acc: 0.7860\n",
      "Epoch 246/300\n",
      "9899/9899 [==============================] - 2s 179us/sample - loss: 2766.3762 - acc: 0.8859 - val_loss: 2315.0065 - val_acc: 0.8796\n",
      "Epoch 247/300\n",
      "9899/9899 [==============================] - 2s 177us/sample - loss: 2741.8826 - acc: 0.8865 - val_loss: 2460.6004 - val_acc: 0.8895\n",
      "Epoch 248/300\n",
      "9899/9899 [==============================] - 2s 183us/sample - loss: 2740.1581 - acc: 0.8860 - val_loss: 2534.5142 - val_acc: 0.8935\n",
      "Epoch 249/300\n",
      "9899/9899 [==============================] - 2s 175us/sample - loss: 2831.3199 - acc: 0.8815 - val_loss: 2439.8969 - val_acc: 0.8838\n",
      "Epoch 250/300\n",
      "9899/9899 [==============================] - 2s 184us/sample - loss: 2833.1638 - acc: 0.8796 - val_loss: 2552.0882 - val_acc: 0.8899\n",
      "Epoch 251/300\n",
      "9899/9899 [==============================] - 2s 202us/sample - loss: 2750.3705 - acc: 0.8827 - val_loss: 2576.7108 - val_acc: 0.8082\n",
      "Epoch 252/300\n",
      "9899/9899 [==============================] - 5s 478us/sample - loss: 2736.7260 - acc: 0.8800 - val_loss: 2294.0012 - val_acc: 0.8734\n",
      "Epoch 253/300\n",
      "9899/9899 [==============================] - 2s 168us/sample - loss: 2800.2558 - acc: 0.8824 - val_loss: 2637.0813 - val_acc: 0.8852\n",
      "Epoch 254/300\n",
      "9899/9899 [==============================] - 2s 181us/sample - loss: 2824.3349 - acc: 0.8792 - val_loss: 2361.8351 - val_acc: 0.8501\n",
      "Epoch 255/300\n",
      "9899/9899 [==============================] - 2s 208us/sample - loss: 2780.2139 - acc: 0.8805 - val_loss: 2324.7557 - val_acc: 0.8904\n",
      "Epoch 256/300\n",
      "9899/9899 [==============================] - 2s 179us/sample - loss: 2813.5811 - acc: 0.8839 - val_loss: 3189.2902 - val_acc: 0.8206\n",
      "Epoch 257/300\n",
      "9899/9899 [==============================] - 2s 193us/sample - loss: 2918.6572 - acc: 0.8746 - val_loss: 2219.7238 - val_acc: 0.8862\n",
      "Epoch 258/300\n",
      "9899/9899 [==============================] - 2s 197us/sample - loss: 2794.0082 - acc: 0.8798 - val_loss: 2547.9707 - val_acc: 0.8546\n",
      "Epoch 259/300\n",
      "9899/9899 [==============================] - 2s 250us/sample - loss: 2787.8682 - acc: 0.8809 - val_loss: 2249.4429 - val_acc: 0.8822\n",
      "Epoch 260/300\n",
      "9899/9899 [==============================] - 3s 271us/sample - loss: 2771.5358 - acc: 0.8840 - val_loss: 2302.9504 - val_acc: 0.8727\n",
      "Epoch 261/300\n",
      "9899/9899 [==============================] - 2s 205us/sample - loss: 2776.6716 - acc: 0.8830 - val_loss: 2810.9409 - val_acc: 0.8633\n",
      "Epoch 262/300\n",
      "9899/9899 [==============================] - 2s 186us/sample - loss: 2716.7081 - acc: 0.8833 - val_loss: 2231.7421 - val_acc: 0.8881\n",
      "Epoch 263/300\n",
      "9899/9899 [==============================] - 2s 200us/sample - loss: 2780.5296 - acc: 0.8839 - val_loss: 2477.9731 - val_acc: 0.8718\n",
      "Epoch 264/300\n",
      "9899/9899 [==============================] - 2s 189us/sample - loss: 2775.7142 - acc: 0.8847 - val_loss: 2448.0689 - val_acc: 0.8815\n",
      "Epoch 265/300\n",
      "9899/9899 [==============================] - 3s 284us/sample - loss: 2803.2414 - acc: 0.8833 - val_loss: 2276.1541 - val_acc: 0.8810\n",
      "Epoch 266/300\n",
      "9899/9899 [==============================] - 2s 233us/sample - loss: 2852.1732 - acc: 0.8814 - val_loss: 2677.4488 - val_acc: 0.8381\n",
      "Epoch 267/300\n",
      "9899/9899 [==============================] - 3s 300us/sample - loss: 2832.1909 - acc: 0.8803 - val_loss: 2610.3611 - val_acc: 0.8876\n",
      "Epoch 268/300\n",
      "9899/9899 [==============================] - 3s 271us/sample - loss: 2832.6592 - acc: 0.8816 - val_loss: 2716.5510 - val_acc: 0.8685\n",
      "Epoch 269/300\n",
      "9899/9899 [==============================] - 4s 371us/sample - loss: 2797.3082 - acc: 0.8838 - val_loss: 2331.8722 - val_acc: 0.8857\n",
      "Epoch 270/300\n",
      "9899/9899 [==============================] - 2s 250us/sample - loss: 2865.1981 - acc: 0.8846 - val_loss: 2322.7813 - val_acc: 0.8859\n",
      "Epoch 271/300\n",
      "9899/9899 [==============================] - 4s 357us/sample - loss: 2875.0232 - acc: 0.8764 - val_loss: 2365.5938 - val_acc: 0.8718\n",
      "Epoch 272/300\n",
      "9899/9899 [==============================] - 3s 328us/sample - loss: 2913.4213 - acc: 0.8794 - val_loss: 2391.9649 - val_acc: 0.8779\n",
      "Epoch 273/300\n",
      "9899/9899 [==============================] - 3s 305us/sample - loss: 2812.3496 - acc: 0.8810 - val_loss: 2607.5303 - val_acc: 0.8885\n",
      "Epoch 274/300\n",
      "9899/9899 [==============================] - 4s 358us/sample - loss: 2798.6245 - acc: 0.8844 - val_loss: 2316.4550 - val_acc: 0.8765\n",
      "Epoch 275/300\n",
      "9899/9899 [==============================] - 3s 319us/sample - loss: 2758.8774 - acc: 0.8854 - val_loss: 2224.6580 - val_acc: 0.8866\n",
      "Epoch 276/300\n",
      "9899/9899 [==============================] - 4s 420us/sample - loss: 2851.9277 - acc: 0.8767 - val_loss: 2468.6653 - val_acc: 0.8602\n",
      "Epoch 277/300\n",
      "9899/9899 [==============================] - 4s 380us/sample - loss: 2880.8524 - acc: 0.8804 - val_loss: 3250.5797 - val_acc: 0.8072\n",
      "Epoch 278/300\n",
      "9899/9899 [==============================] - 4s 439us/sample - loss: 2880.4566 - acc: 0.8806 - val_loss: 3190.0698 - val_acc: 0.8609\n",
      "Epoch 279/300\n",
      "9899/9899 [==============================] - 3s 297us/sample - loss: 2790.1999 - acc: 0.8759 - val_loss: 2423.5123 - val_acc: 0.8890\n",
      "Epoch 280/300\n",
      "9899/9899 [==============================] - 3s 324us/sample - loss: 2908.4677 - acc: 0.8802 - val_loss: 2731.4121 - val_acc: 0.7893\n"
     ]
    },
    {
     "name": "stdout",
     "output_type": "stream",
     "text": [
      "Epoch 281/300\n",
      "9899/9899 [==============================] - 3s 330us/sample - loss: 2825.1316 - acc: 0.8796 - val_loss: 2267.4464 - val_acc: 0.8888\n",
      "Epoch 282/300\n",
      "9899/9899 [==============================] - 1s 146us/sample - loss: 2739.8096 - acc: 0.8853 - val_loss: 2425.3467 - val_acc: 0.8866\n",
      "Epoch 283/300\n",
      "9899/9899 [==============================] - 1s 148us/sample - loss: 2900.0656 - acc: 0.8760 - val_loss: 2422.0562 - val_acc: 0.8822\n",
      "Epoch 284/300\n",
      "9899/9899 [==============================] - 1s 149us/sample - loss: 2872.1924 - acc: 0.8814 - val_loss: 2565.5255 - val_acc: 0.8902\n",
      "Epoch 285/300\n",
      "9899/9899 [==============================] - 2s 153us/sample - loss: 2778.9187 - acc: 0.8816 - val_loss: 2244.5516 - val_acc: 0.8888\n",
      "Epoch 286/300\n",
      "9899/9899 [==============================] - 2s 161us/sample - loss: 2819.0953 - acc: 0.8804 - val_loss: 2279.1613 - val_acc: 0.8899\n",
      "Epoch 287/300\n",
      "9899/9899 [==============================] - 2s 180us/sample - loss: 2814.4534 - acc: 0.8869 - val_loss: 2695.0713 - val_acc: 0.8906\n",
      "Epoch 00287: early stopping\n"
     ]
    }
   ],
   "source": [
    "# fit the model\n",
    "#history = model.fit(x_train, y_train, batch_size=30, epochs=300, callbacks=[early_stop], validation_split = 0.3)"
   ]
  },
  {
   "cell_type": "code",
   "execution_count": 41,
   "metadata": {},
   "outputs": [
    {
     "data": {
      "text/plain": [
       "<matplotlib.axes._subplots.AxesSubplot at 0x19893781f98>"
      ]
     },
     "execution_count": 41,
     "metadata": {},
     "output_type": "execute_result"
    },
    {
     "data": {
      "image/png": "[encoded data removed]",
      "text/plain": [
       "<Figure size 432x288 with 1 Axes>"
      ]
     },
     "metadata": {
      "needs_background": "light"
     },
     "output_type": "display_data"
    }
   ],
   "source": [
    "model_loss = pd.DataFrame(model.history.history)\n",
    "model_loss.plot(title = 'fig 1. Model Output')"
   ]
  },
  {
   "cell_type": "code",
   "execution_count": 42,
   "metadata": {
    "scrolled": true
   },
   "outputs": [],
   "source": [
    "# save the trained model\n",
    "model.save('model.h5')"
   ]
  },
  {
   "cell_type": "markdown",
   "metadata": {},
   "source": [
    "# Load the Saved Model and Test"
   ]
  },
  {
   "cell_type": "code",
   "execution_count": 43,
   "metadata": {},
   "outputs": [
    {
     "data": {
      "text/html": [
       "<style  type=\"text/css\" >\n",
       "    #T_9da64494_d0bf_11eb_bee7_c8d9d2925b5frow0_col5 {\n",
       "            background-color:  yellow;\n",
       "        }    #T_9da64494_d0bf_11eb_bee7_c8d9d2925b5frow0_col7 {\n",
       "            background-color:  yellow;\n",
       "        }    #T_9da64494_d0bf_11eb_bee7_c8d9d2925b5frow0_col9 {\n",
       "            background-color:  yellow;\n",
       "        }    #T_9da64494_d0bf_11eb_bee7_c8d9d2925b5frow0_col11 {\n",
       "            background-color:  yellow;\n",
       "        }    #T_9da64494_d0bf_11eb_bee7_c8d9d2925b5frow0_col13 {\n",
       "            background-color:  yellow;\n",
       "        }    #T_9da64494_d0bf_11eb_bee7_c8d9d2925b5frow0_col15 {\n",
       "            background-color:  yellow;\n",
       "        }    #T_9da64494_d0bf_11eb_bee7_c8d9d2925b5frow0_col17 {\n",
       "            background-color:  yellow;\n",
       "        }    #T_9da64494_d0bf_11eb_bee7_c8d9d2925b5frow0_col19 {\n",
       "            background-color:  yellow;\n",
       "        }    #T_9da64494_d0bf_11eb_bee7_c8d9d2925b5frow1_col5 {\n",
       "            background-color:  yellow;\n",
       "        }    #T_9da64494_d0bf_11eb_bee7_c8d9d2925b5frow1_col7 {\n",
       "            background-color:  yellow;\n",
       "        }    #T_9da64494_d0bf_11eb_bee7_c8d9d2925b5frow1_col9 {\n",
       "            background-color:  yellow;\n",
       "        }    #T_9da64494_d0bf_11eb_bee7_c8d9d2925b5frow1_col11 {\n",
       "            background-color:  yellow;\n",
       "        }    #T_9da64494_d0bf_11eb_bee7_c8d9d2925b5frow1_col13 {\n",
       "            background-color:  yellow;\n",
       "        }    #T_9da64494_d0bf_11eb_bee7_c8d9d2925b5frow1_col15 {\n",
       "            background-color:  yellow;\n",
       "        }    #T_9da64494_d0bf_11eb_bee7_c8d9d2925b5frow1_col17 {\n",
       "            background-color:  yellow;\n",
       "        }    #T_9da64494_d0bf_11eb_bee7_c8d9d2925b5frow1_col19 {\n",
       "            background-color:  yellow;\n",
       "        }    #T_9da64494_d0bf_11eb_bee7_c8d9d2925b5frow2_col5 {\n",
       "            background-color:  yellow;\n",
       "        }    #T_9da64494_d0bf_11eb_bee7_c8d9d2925b5frow2_col7 {\n",
       "            background-color:  yellow;\n",
       "        }    #T_9da64494_d0bf_11eb_bee7_c8d9d2925b5frow2_col9 {\n",
       "            background-color:  yellow;\n",
       "        }    #T_9da64494_d0bf_11eb_bee7_c8d9d2925b5frow2_col11 {\n",
       "            background-color:  yellow;\n",
       "        }    #T_9da64494_d0bf_11eb_bee7_c8d9d2925b5frow2_col13 {\n",
       "            background-color:  yellow;\n",
       "        }    #T_9da64494_d0bf_11eb_bee7_c8d9d2925b5frow2_col15 {\n",
       "            background-color:  yellow;\n",
       "        }    #T_9da64494_d0bf_11eb_bee7_c8d9d2925b5frow2_col17 {\n",
       "            background-color:  yellow;\n",
       "        }    #T_9da64494_d0bf_11eb_bee7_c8d9d2925b5frow2_col19 {\n",
       "            background-color:  yellow;\n",
       "        }    #T_9da64494_d0bf_11eb_bee7_c8d9d2925b5frow3_col5 {\n",
       "            background-color:  yellow;\n",
       "        }    #T_9da64494_d0bf_11eb_bee7_c8d9d2925b5frow3_col7 {\n",
       "            background-color:  yellow;\n",
       "        }    #T_9da64494_d0bf_11eb_bee7_c8d9d2925b5frow3_col9 {\n",
       "            background-color:  yellow;\n",
       "        }    #T_9da64494_d0bf_11eb_bee7_c8d9d2925b5frow3_col11 {\n",
       "            background-color:  yellow;\n",
       "        }    #T_9da64494_d0bf_11eb_bee7_c8d9d2925b5frow3_col13 {\n",
       "            background-color:  yellow;\n",
       "        }    #T_9da64494_d0bf_11eb_bee7_c8d9d2925b5frow3_col15 {\n",
       "            background-color:  yellow;\n",
       "        }    #T_9da64494_d0bf_11eb_bee7_c8d9d2925b5frow3_col17 {\n",
       "            background-color:  yellow;\n",
       "        }    #T_9da64494_d0bf_11eb_bee7_c8d9d2925b5frow3_col19 {\n",
       "            background-color:  yellow;\n",
       "        }    #T_9da64494_d0bf_11eb_bee7_c8d9d2925b5frow4_col5 {\n",
       "            background-color:  yellow;\n",
       "        }    #T_9da64494_d0bf_11eb_bee7_c8d9d2925b5frow4_col7 {\n",
       "            background-color:  yellow;\n",
       "        }    #T_9da64494_d0bf_11eb_bee7_c8d9d2925b5frow4_col9 {\n",
       "            background-color:  yellow;\n",
       "        }    #T_9da64494_d0bf_11eb_bee7_c8d9d2925b5frow4_col11 {\n",
       "            background-color:  yellow;\n",
       "        }    #T_9da64494_d0bf_11eb_bee7_c8d9d2925b5frow4_col13 {\n",
       "            background-color:  yellow;\n",
       "        }    #T_9da64494_d0bf_11eb_bee7_c8d9d2925b5frow4_col15 {\n",
       "            background-color:  yellow;\n",
       "        }    #T_9da64494_d0bf_11eb_bee7_c8d9d2925b5frow4_col17 {\n",
       "            background-color:  yellow;\n",
       "        }    #T_9da64494_d0bf_11eb_bee7_c8d9d2925b5frow4_col19 {\n",
       "            background-color:  yellow;\n",
       "        }    #T_9da64494_d0bf_11eb_bee7_c8d9d2925b5frow5_col5 {\n",
       "            background-color:  yellow;\n",
       "        }    #T_9da64494_d0bf_11eb_bee7_c8d9d2925b5frow5_col7 {\n",
       "            background-color:  yellow;\n",
       "        }    #T_9da64494_d0bf_11eb_bee7_c8d9d2925b5frow5_col9 {\n",
       "            background-color:  yellow;\n",
       "        }    #T_9da64494_d0bf_11eb_bee7_c8d9d2925b5frow5_col11 {\n",
       "            background-color:  yellow;\n",
       "        }    #T_9da64494_d0bf_11eb_bee7_c8d9d2925b5frow5_col13 {\n",
       "            background-color:  yellow;\n",
       "        }    #T_9da64494_d0bf_11eb_bee7_c8d9d2925b5frow5_col15 {\n",
       "            background-color:  yellow;\n",
       "        }    #T_9da64494_d0bf_11eb_bee7_c8d9d2925b5frow5_col17 {\n",
       "            background-color:  yellow;\n",
       "        }    #T_9da64494_d0bf_11eb_bee7_c8d9d2925b5frow5_col19 {\n",
       "            background-color:  yellow;\n",
       "        }    #T_9da64494_d0bf_11eb_bee7_c8d9d2925b5frow6_col5 {\n",
       "            background-color:  yellow;\n",
       "        }    #T_9da64494_d0bf_11eb_bee7_c8d9d2925b5frow6_col7 {\n",
       "            background-color:  yellow;\n",
       "        }    #T_9da64494_d0bf_11eb_bee7_c8d9d2925b5frow6_col9 {\n",
       "            background-color:  yellow;\n",
       "        }    #T_9da64494_d0bf_11eb_bee7_c8d9d2925b5frow6_col11 {\n",
       "            background-color:  yellow;\n",
       "        }    #T_9da64494_d0bf_11eb_bee7_c8d9d2925b5frow6_col13 {\n",
       "            background-color:  yellow;\n",
       "        }    #T_9da64494_d0bf_11eb_bee7_c8d9d2925b5frow6_col15 {\n",
       "            background-color:  yellow;\n",
       "        }    #T_9da64494_d0bf_11eb_bee7_c8d9d2925b5frow6_col17 {\n",
       "            background-color:  yellow;\n",
       "        }    #T_9da64494_d0bf_11eb_bee7_c8d9d2925b5frow6_col19 {\n",
       "            background-color:  yellow;\n",
       "        }    #T_9da64494_d0bf_11eb_bee7_c8d9d2925b5frow7_col5 {\n",
       "            background-color:  yellow;\n",
       "        }    #T_9da64494_d0bf_11eb_bee7_c8d9d2925b5frow7_col7 {\n",
       "            background-color:  yellow;\n",
       "        }    #T_9da64494_d0bf_11eb_bee7_c8d9d2925b5frow7_col9 {\n",
       "            background-color:  yellow;\n",
       "        }    #T_9da64494_d0bf_11eb_bee7_c8d9d2925b5frow7_col11 {\n",
       "            background-color:  yellow;\n",
       "        }    #T_9da64494_d0bf_11eb_bee7_c8d9d2925b5frow7_col13 {\n",
       "            background-color:  yellow;\n",
       "        }    #T_9da64494_d0bf_11eb_bee7_c8d9d2925b5frow7_col15 {\n",
       "            background-color:  yellow;\n",
       "        }    #T_9da64494_d0bf_11eb_bee7_c8d9d2925b5frow7_col17 {\n",
       "            background-color:  yellow;\n",
       "        }    #T_9da64494_d0bf_11eb_bee7_c8d9d2925b5frow7_col19 {\n",
       "            background-color:  yellow;\n",
       "        }    #T_9da64494_d0bf_11eb_bee7_c8d9d2925b5frow8_col5 {\n",
       "            background-color:  yellow;\n",
       "        }    #T_9da64494_d0bf_11eb_bee7_c8d9d2925b5frow8_col7 {\n",
       "            background-color:  yellow;\n",
       "        }    #T_9da64494_d0bf_11eb_bee7_c8d9d2925b5frow8_col9 {\n",
       "            background-color:  yellow;\n",
       "        }    #T_9da64494_d0bf_11eb_bee7_c8d9d2925b5frow8_col11 {\n",
       "            background-color:  yellow;\n",
       "        }    #T_9da64494_d0bf_11eb_bee7_c8d9d2925b5frow8_col13 {\n",
       "            background-color:  yellow;\n",
       "        }    #T_9da64494_d0bf_11eb_bee7_c8d9d2925b5frow8_col15 {\n",
       "            background-color:  yellow;\n",
       "        }    #T_9da64494_d0bf_11eb_bee7_c8d9d2925b5frow8_col17 {\n",
       "            background-color:  yellow;\n",
       "        }    #T_9da64494_d0bf_11eb_bee7_c8d9d2925b5frow8_col19 {\n",
       "            background-color:  yellow;\n",
       "        }    #T_9da64494_d0bf_11eb_bee7_c8d9d2925b5frow9_col5 {\n",
       "            background-color:  yellow;\n",
       "        }    #T_9da64494_d0bf_11eb_bee7_c8d9d2925b5frow9_col7 {\n",
       "            background-color:  yellow;\n",
       "        }    #T_9da64494_d0bf_11eb_bee7_c8d9d2925b5frow9_col9 {\n",
       "            background-color:  yellow;\n",
       "        }    #T_9da64494_d0bf_11eb_bee7_c8d9d2925b5frow9_col11 {\n",
       "            background-color:  yellow;\n",
       "        }    #T_9da64494_d0bf_11eb_bee7_c8d9d2925b5frow9_col13 {\n",
       "            background-color:  yellow;\n",
       "        }    #T_9da64494_d0bf_11eb_bee7_c8d9d2925b5frow9_col15 {\n",
       "            background-color:  yellow;\n",
       "        }    #T_9da64494_d0bf_11eb_bee7_c8d9d2925b5frow9_col17 {\n",
       "            background-color:  yellow;\n",
       "        }    #T_9da64494_d0bf_11eb_bee7_c8d9d2925b5frow9_col19 {\n",
       "            background-color:  yellow;\n",
       "        }    #T_9da64494_d0bf_11eb_bee7_c8d9d2925b5frow10_col5 {\n",
       "            background-color:  yellow;\n",
       "        }    #T_9da64494_d0bf_11eb_bee7_c8d9d2925b5frow10_col7 {\n",
       "            background-color:  yellow;\n",
       "        }    #T_9da64494_d0bf_11eb_bee7_c8d9d2925b5frow10_col9 {\n",
       "            background-color:  yellow;\n",
       "        }    #T_9da64494_d0bf_11eb_bee7_c8d9d2925b5frow10_col11 {\n",
       "            background-color:  yellow;\n",
       "        }    #T_9da64494_d0bf_11eb_bee7_c8d9d2925b5frow10_col13 {\n",
       "            background-color:  yellow;\n",
       "        }    #T_9da64494_d0bf_11eb_bee7_c8d9d2925b5frow10_col15 {\n",
       "            background-color:  yellow;\n",
       "        }    #T_9da64494_d0bf_11eb_bee7_c8d9d2925b5frow10_col17 {\n",
       "            background-color:  yellow;\n",
       "        }    #T_9da64494_d0bf_11eb_bee7_c8d9d2925b5frow10_col19 {\n",
       "            background-color:  yellow;\n",
       "        }    #T_9da64494_d0bf_11eb_bee7_c8d9d2925b5frow11_col5 {\n",
       "            background-color:  yellow;\n",
       "        }    #T_9da64494_d0bf_11eb_bee7_c8d9d2925b5frow11_col7 {\n",
       "            background-color:  yellow;\n",
       "        }    #T_9da64494_d0bf_11eb_bee7_c8d9d2925b5frow11_col9 {\n",
       "            background-color:  yellow;\n",
       "        }    #T_9da64494_d0bf_11eb_bee7_c8d9d2925b5frow11_col11 {\n",
       "            background-color:  yellow;\n",
       "        }    #T_9da64494_d0bf_11eb_bee7_c8d9d2925b5frow11_col13 {\n",
       "            background-color:  yellow;\n",
       "        }    #T_9da64494_d0bf_11eb_bee7_c8d9d2925b5frow11_col15 {\n",
       "            background-color:  yellow;\n",
       "        }    #T_9da64494_d0bf_11eb_bee7_c8d9d2925b5frow11_col17 {\n",
       "            background-color:  yellow;\n",
       "        }    #T_9da64494_d0bf_11eb_bee7_c8d9d2925b5frow11_col19 {\n",
       "            background-color:  yellow;\n",
       "        }    #T_9da64494_d0bf_11eb_bee7_c8d9d2925b5frow12_col5 {\n",
       "            background-color:  yellow;\n",
       "        }    #T_9da64494_d0bf_11eb_bee7_c8d9d2925b5frow12_col7 {\n",
       "            background-color:  yellow;\n",
       "        }    #T_9da64494_d0bf_11eb_bee7_c8d9d2925b5frow12_col9 {\n",
       "            background-color:  yellow;\n",
       "        }    #T_9da64494_d0bf_11eb_bee7_c8d9d2925b5frow12_col11 {\n",
       "            background-color:  yellow;\n",
       "        }    #T_9da64494_d0bf_11eb_bee7_c8d9d2925b5frow12_col13 {\n",
       "            background-color:  yellow;\n",
       "        }    #T_9da64494_d0bf_11eb_bee7_c8d9d2925b5frow12_col15 {\n",
       "            background-color:  yellow;\n",
       "        }    #T_9da64494_d0bf_11eb_bee7_c8d9d2925b5frow12_col17 {\n",
       "            background-color:  yellow;\n",
       "        }    #T_9da64494_d0bf_11eb_bee7_c8d9d2925b5frow12_col19 {\n",
       "            background-color:  yellow;\n",
       "        }    #T_9da64494_d0bf_11eb_bee7_c8d9d2925b5frow13_col5 {\n",
       "            background-color:  yellow;\n",
       "        }    #T_9da64494_d0bf_11eb_bee7_c8d9d2925b5frow13_col7 {\n",
       "            background-color:  yellow;\n",
       "        }    #T_9da64494_d0bf_11eb_bee7_c8d9d2925b5frow13_col9 {\n",
       "            background-color:  yellow;\n",
       "        }    #T_9da64494_d0bf_11eb_bee7_c8d9d2925b5frow13_col11 {\n",
       "            background-color:  yellow;\n",
       "        }    #T_9da64494_d0bf_11eb_bee7_c8d9d2925b5frow13_col13 {\n",
       "            background-color:  yellow;\n",
       "        }    #T_9da64494_d0bf_11eb_bee7_c8d9d2925b5frow13_col15 {\n",
       "            background-color:  yellow;\n",
       "        }    #T_9da64494_d0bf_11eb_bee7_c8d9d2925b5frow13_col17 {\n",
       "            background-color:  yellow;\n",
       "        }    #T_9da64494_d0bf_11eb_bee7_c8d9d2925b5frow13_col19 {\n",
       "            background-color:  yellow;\n",
       "        }    #T_9da64494_d0bf_11eb_bee7_c8d9d2925b5frow14_col5 {\n",
       "            background-color:  yellow;\n",
       "        }    #T_9da64494_d0bf_11eb_bee7_c8d9d2925b5frow14_col7 {\n",
       "            background-color:  yellow;\n",
       "        }    #T_9da64494_d0bf_11eb_bee7_c8d9d2925b5frow14_col9 {\n",
       "            background-color:  yellow;\n",
       "        }    #T_9da64494_d0bf_11eb_bee7_c8d9d2925b5frow14_col11 {\n",
       "            background-color:  yellow;\n",
       "        }    #T_9da64494_d0bf_11eb_bee7_c8d9d2925b5frow14_col13 {\n",
       "            background-color:  yellow;\n",
       "        }    #T_9da64494_d0bf_11eb_bee7_c8d9d2925b5frow14_col15 {\n",
       "            background-color:  yellow;\n",
       "        }    #T_9da64494_d0bf_11eb_bee7_c8d9d2925b5frow14_col17 {\n",
       "            background-color:  yellow;\n",
       "        }    #T_9da64494_d0bf_11eb_bee7_c8d9d2925b5frow14_col19 {\n",
       "            background-color:  yellow;\n",
       "        }    #T_9da64494_d0bf_11eb_bee7_c8d9d2925b5frow15_col5 {\n",
       "            background-color:  yellow;\n",
       "        }    #T_9da64494_d0bf_11eb_bee7_c8d9d2925b5frow15_col7 {\n",
       "            background-color:  yellow;\n",
       "        }    #T_9da64494_d0bf_11eb_bee7_c8d9d2925b5frow15_col9 {\n",
       "            background-color:  yellow;\n",
       "        }    #T_9da64494_d0bf_11eb_bee7_c8d9d2925b5frow15_col11 {\n",
       "            background-color:  yellow;\n",
       "        }    #T_9da64494_d0bf_11eb_bee7_c8d9d2925b5frow15_col13 {\n",
       "            background-color:  yellow;\n",
       "        }    #T_9da64494_d0bf_11eb_bee7_c8d9d2925b5frow15_col15 {\n",
       "            background-color:  yellow;\n",
       "        }    #T_9da64494_d0bf_11eb_bee7_c8d9d2925b5frow15_col17 {\n",
       "            background-color:  yellow;\n",
       "        }    #T_9da64494_d0bf_11eb_bee7_c8d9d2925b5frow15_col19 {\n",
       "            background-color:  yellow;\n",
       "        }    #T_9da64494_d0bf_11eb_bee7_c8d9d2925b5frow16_col5 {\n",
       "            background-color:  yellow;\n",
       "        }    #T_9da64494_d0bf_11eb_bee7_c8d9d2925b5frow16_col7 {\n",
       "            background-color:  yellow;\n",
       "        }    #T_9da64494_d0bf_11eb_bee7_c8d9d2925b5frow16_col9 {\n",
       "            background-color:  yellow;\n",
       "        }    #T_9da64494_d0bf_11eb_bee7_c8d9d2925b5frow16_col11 {\n",
       "            background-color:  yellow;\n",
       "        }    #T_9da64494_d0bf_11eb_bee7_c8d9d2925b5frow16_col13 {\n",
       "            background-color:  yellow;\n",
       "        }    #T_9da64494_d0bf_11eb_bee7_c8d9d2925b5frow16_col15 {\n",
       "            background-color:  yellow;\n",
       "        }    #T_9da64494_d0bf_11eb_bee7_c8d9d2925b5frow16_col17 {\n",
       "            background-color:  yellow;\n",
       "        }    #T_9da64494_d0bf_11eb_bee7_c8d9d2925b5frow16_col19 {\n",
       "            background-color:  yellow;\n",
       "        }    #T_9da64494_d0bf_11eb_bee7_c8d9d2925b5frow17_col5 {\n",
       "            background-color:  yellow;\n",
       "        }    #T_9da64494_d0bf_11eb_bee7_c8d9d2925b5frow17_col7 {\n",
       "            background-color:  yellow;\n",
       "        }    #T_9da64494_d0bf_11eb_bee7_c8d9d2925b5frow17_col9 {\n",
       "            background-color:  yellow;\n",
       "        }    #T_9da64494_d0bf_11eb_bee7_c8d9d2925b5frow17_col11 {\n",
       "            background-color:  yellow;\n",
       "        }    #T_9da64494_d0bf_11eb_bee7_c8d9d2925b5frow17_col13 {\n",
       "            background-color:  yellow;\n",
       "        }    #T_9da64494_d0bf_11eb_bee7_c8d9d2925b5frow17_col15 {\n",
       "            background-color:  yellow;\n",
       "        }    #T_9da64494_d0bf_11eb_bee7_c8d9d2925b5frow17_col17 {\n",
       "            background-color:  yellow;\n",
       "        }    #T_9da64494_d0bf_11eb_bee7_c8d9d2925b5frow17_col19 {\n",
       "            background-color:  yellow;\n",
       "        }    #T_9da64494_d0bf_11eb_bee7_c8d9d2925b5frow18_col5 {\n",
       "            background-color:  yellow;\n",
       "        }    #T_9da64494_d0bf_11eb_bee7_c8d9d2925b5frow18_col7 {\n",
       "            background-color:  yellow;\n",
       "        }    #T_9da64494_d0bf_11eb_bee7_c8d9d2925b5frow18_col9 {\n",
       "            background-color:  yellow;\n",
       "        }    #T_9da64494_d0bf_11eb_bee7_c8d9d2925b5frow18_col11 {\n",
       "            background-color:  yellow;\n",
       "        }    #T_9da64494_d0bf_11eb_bee7_c8d9d2925b5frow18_col13 {\n",
       "            background-color:  yellow;\n",
       "        }    #T_9da64494_d0bf_11eb_bee7_c8d9d2925b5frow18_col15 {\n",
       "            background-color:  yellow;\n",
       "        }    #T_9da64494_d0bf_11eb_bee7_c8d9d2925b5frow18_col17 {\n",
       "            background-color:  yellow;\n",
       "        }    #T_9da64494_d0bf_11eb_bee7_c8d9d2925b5frow18_col19 {\n",
       "            background-color:  yellow;\n",
       "        }    #T_9da64494_d0bf_11eb_bee7_c8d9d2925b5frow19_col5 {\n",
       "            background-color:  yellow;\n",
       "        }    #T_9da64494_d0bf_11eb_bee7_c8d9d2925b5frow19_col7 {\n",
       "            background-color:  yellow;\n",
       "        }    #T_9da64494_d0bf_11eb_bee7_c8d9d2925b5frow19_col9 {\n",
       "            background-color:  yellow;\n",
       "        }    #T_9da64494_d0bf_11eb_bee7_c8d9d2925b5frow19_col11 {\n",
       "            background-color:  yellow;\n",
       "        }    #T_9da64494_d0bf_11eb_bee7_c8d9d2925b5frow19_col13 {\n",
       "            background-color:  yellow;\n",
       "        }    #T_9da64494_d0bf_11eb_bee7_c8d9d2925b5frow19_col15 {\n",
       "            background-color:  yellow;\n",
       "        }    #T_9da64494_d0bf_11eb_bee7_c8d9d2925b5frow19_col17 {\n",
       "            background-color:  yellow;\n",
       "        }    #T_9da64494_d0bf_11eb_bee7_c8d9d2925b5frow19_col19 {\n",
       "            background-color:  yellow;\n",
       "        }</style><table id=\"T_9da64494_d0bf_11eb_bee7_c8d9d2925b5f\" ><thead>    <tr>        <th class=\"blank level0\" ></th>        <th class=\"col_heading level0 col0\" >Latitude</th>        <th class=\"col_heading level0 col1\" >Longitude</th>        <th class=\"col_heading level0 col2\" >Year</th>        <th class=\"col_heading level0 col3\" >Month</th>        <th class=\"col_heading level0 col4\" >Min Temp</th>        <th class=\"col_heading level0 col5\" >Min Temp (Predicted)</th>        <th class=\"col_heading level0 col6\" >Max Temp</th>        <th class=\"col_heading level0 col7\" >Max Temp (Predicted)</th>        <th class=\"col_heading level0 col8\" >Rainfall</th>        <th class=\"col_heading level0 col9\" >Rainfall (Predicted)</th>        <th class=\"col_heading level0 col10\" >Relative Humidity</th>        <th class=\"col_heading level0 col11\" >Relative Humidity (Predicted)</th>        <th class=\"col_heading level0 col12\" >Wind Speed</th>        <th class=\"col_heading level0 col13\" >Wind Speed (Predicted)</th>        <th class=\"col_heading level0 col14\" >Cloud Coverage</th>        <th class=\"col_heading level0 col15\" >Cloud Coverage (Predicted)</th>        <th class=\"col_heading level0 col16\" >Bright Sunshine</th>        <th class=\"col_heading level0 col17\" >Bright Sunshine (Predicted)</th>        <th class=\"col_heading level0 col18\" >Rainfall Percentage</th>        <th class=\"col_heading level0 col19\" >Rainfall Percentage (Predicted)</th>    </tr></thead><tbody>\n",
       "                <tr>\n",
       "                        <th id=\"T_9da64494_d0bf_11eb_bee7_c8d9d2925b5flevel0_row0\" class=\"row_heading level0 row0\" >0</th>\n",
       "                        <td id=\"T_9da64494_d0bf_11eb_bee7_c8d9d2925b5frow0_col0\" class=\"data row0 col0\" >25.75</td>\n",
       "                        <td id=\"T_9da64494_d0bf_11eb_bee7_c8d9d2925b5frow0_col1\" class=\"data row0 col1\" >88.92</td>\n",
       "                        <td id=\"T_9da64494_d0bf_11eb_bee7_c8d9d2925b5frow0_col2\" class=\"data row0 col2\" >1994</td>\n",
       "                        <td id=\"T_9da64494_d0bf_11eb_bee7_c8d9d2925b5frow0_col3\" class=\"data row0 col3\" >11</td>\n",
       "                        <td id=\"T_9da64494_d0bf_11eb_bee7_c8d9d2925b5frow0_col4\" class=\"data row0 col4\" >17.1</td>\n",
       "                        <td id=\"T_9da64494_d0bf_11eb_bee7_c8d9d2925b5frow0_col5\" class=\"data row0 col5\" >16.8</td>\n",
       "                        <td id=\"T_9da64494_d0bf_11eb_bee7_c8d9d2925b5frow0_col6\" class=\"data row0 col6\" >31.8</td>\n",
       "                        <td id=\"T_9da64494_d0bf_11eb_bee7_c8d9d2925b5frow0_col7\" class=\"data row0 col7\" >32.1</td>\n",
       "                        <td id=\"T_9da64494_d0bf_11eb_bee7_c8d9d2925b5frow0_col8\" class=\"data row0 col8\" >7.6</td>\n",
       "                        <td id=\"T_9da64494_d0bf_11eb_bee7_c8d9d2925b5frow0_col9\" class=\"data row0 col9\" >23.5</td>\n",
       "                        <td id=\"T_9da64494_d0bf_11eb_bee7_c8d9d2925b5frow0_col10\" class=\"data row0 col10\" >67.0</td>\n",
       "                        <td id=\"T_9da64494_d0bf_11eb_bee7_c8d9d2925b5frow0_col11\" class=\"data row0 col11\" >83.4</td>\n",
       "                        <td id=\"T_9da64494_d0bf_11eb_bee7_c8d9d2925b5frow0_col12\" class=\"data row0 col12\" >1.5</td>\n",
       "                        <td id=\"T_9da64494_d0bf_11eb_bee7_c8d9d2925b5frow0_col13\" class=\"data row0 col13\" >0.2</td>\n",
       "                        <td id=\"T_9da64494_d0bf_11eb_bee7_c8d9d2925b5frow0_col14\" class=\"data row0 col14\" >2.0</td>\n",
       "                        <td id=\"T_9da64494_d0bf_11eb_bee7_c8d9d2925b5frow0_col15\" class=\"data row0 col15\" >1.5</td>\n",
       "                        <td id=\"T_9da64494_d0bf_11eb_bee7_c8d9d2925b5frow0_col16\" class=\"data row0 col16\" >7.2</td>\n",
       "                        <td id=\"T_9da64494_d0bf_11eb_bee7_c8d9d2925b5frow0_col17\" class=\"data row0 col17\" >6.4</td>\n",
       "                        <td id=\"T_9da64494_d0bf_11eb_bee7_c8d9d2925b5frow0_col18\" class=\"data row0 col18\" >0.0</td>\n",
       "                        <td id=\"T_9da64494_d0bf_11eb_bee7_c8d9d2925b5frow0_col19\" class=\"data row0 col19\" >1.4</td>\n",
       "            </tr>\n",
       "            <tr>\n",
       "                        <th id=\"T_9da64494_d0bf_11eb_bee7_c8d9d2925b5flevel0_row1\" class=\"row_heading level0 row1\" >1</th>\n",
       "                        <td id=\"T_9da64494_d0bf_11eb_bee7_c8d9d2925b5frow1_col0\" class=\"data row1 col0\" >23.61</td>\n",
       "                        <td id=\"T_9da64494_d0bf_11eb_bee7_c8d9d2925b5frow1_col1\" class=\"data row1 col1\" >89.84</td>\n",
       "                        <td id=\"T_9da64494_d0bf_11eb_bee7_c8d9d2925b5frow1_col2\" class=\"data row1 col2\" >2002</td>\n",
       "                        <td id=\"T_9da64494_d0bf_11eb_bee7_c8d9d2925b5frow1_col3\" class=\"data row1 col3\" >1</td>\n",
       "                        <td id=\"T_9da64494_d0bf_11eb_bee7_c8d9d2925b5frow1_col4\" class=\"data row1 col4\" >13.7</td>\n",
       "                        <td id=\"T_9da64494_d0bf_11eb_bee7_c8d9d2925b5frow1_col5\" class=\"data row1 col5\" >13.9</td>\n",
       "                        <td id=\"T_9da64494_d0bf_11eb_bee7_c8d9d2925b5frow1_col6\" class=\"data row1 col6\" >27.5</td>\n",
       "                        <td id=\"T_9da64494_d0bf_11eb_bee7_c8d9d2925b5frow1_col7\" class=\"data row1 col7\" >31.4</td>\n",
       "                        <td id=\"T_9da64494_d0bf_11eb_bee7_c8d9d2925b5frow1_col8\" class=\"data row1 col8\" >19.0</td>\n",
       "                        <td id=\"T_9da64494_d0bf_11eb_bee7_c8d9d2925b5frow1_col9\" class=\"data row1 col9\" >22.1</td>\n",
       "                        <td id=\"T_9da64494_d0bf_11eb_bee7_c8d9d2925b5frow1_col10\" class=\"data row1 col10\" >78.0</td>\n",
       "                        <td id=\"T_9da64494_d0bf_11eb_bee7_c8d9d2925b5frow1_col11\" class=\"data row1 col11\" >75.8</td>\n",
       "                        <td id=\"T_9da64494_d0bf_11eb_bee7_c8d9d2925b5frow1_col12\" class=\"data row1 col12\" >0.4</td>\n",
       "                        <td id=\"T_9da64494_d0bf_11eb_bee7_c8d9d2925b5frow1_col13\" class=\"data row1 col13\" >1.7</td>\n",
       "                        <td id=\"T_9da64494_d0bf_11eb_bee7_c8d9d2925b5frow1_col14\" class=\"data row1 col14\" >1.3</td>\n",
       "                        <td id=\"T_9da64494_d0bf_11eb_bee7_c8d9d2925b5frow1_col15\" class=\"data row1 col15\" >1.2</td>\n",
       "                        <td id=\"T_9da64494_d0bf_11eb_bee7_c8d9d2925b5frow1_col16\" class=\"data row1 col16\" >7.6</td>\n",
       "                        <td id=\"T_9da64494_d0bf_11eb_bee7_c8d9d2925b5frow1_col17\" class=\"data row1 col17\" >7.5</td>\n",
       "                        <td id=\"T_9da64494_d0bf_11eb_bee7_c8d9d2925b5frow1_col18\" class=\"data row1 col18\" >1.0</td>\n",
       "                        <td id=\"T_9da64494_d0bf_11eb_bee7_c8d9d2925b5frow1_col19\" class=\"data row1 col19\" >0.1</td>\n",
       "            </tr>\n",
       "            <tr>\n",
       "                        <th id=\"T_9da64494_d0bf_11eb_bee7_c8d9d2925b5flevel0_row2\" class=\"row_heading level0 row2\" >2</th>\n",
       "                        <td id=\"T_9da64494_d0bf_11eb_bee7_c8d9d2925b5frow2_col0\" class=\"data row2 col0\" >22.83</td>\n",
       "                        <td id=\"T_9da64494_d0bf_11eb_bee7_c8d9d2925b5frow2_col1\" class=\"data row2 col1\" >91.08</td>\n",
       "                        <td id=\"T_9da64494_d0bf_11eb_bee7_c8d9d2925b5frow2_col2\" class=\"data row2 col2\" >1994</td>\n",
       "                        <td id=\"T_9da64494_d0bf_11eb_bee7_c8d9d2925b5frow2_col3\" class=\"data row2 col3\" >4</td>\n",
       "                        <td id=\"T_9da64494_d0bf_11eb_bee7_c8d9d2925b5frow2_col4\" class=\"data row2 col4\" >23.7</td>\n",
       "                        <td id=\"T_9da64494_d0bf_11eb_bee7_c8d9d2925b5frow2_col5\" class=\"data row2 col5\" >20.7</td>\n",
       "                        <td id=\"T_9da64494_d0bf_11eb_bee7_c8d9d2925b5frow2_col6\" class=\"data row2 col6\" >36.4</td>\n",
       "                        <td id=\"T_9da64494_d0bf_11eb_bee7_c8d9d2925b5frow2_col7\" class=\"data row2 col7\" >35.6</td>\n",
       "                        <td id=\"T_9da64494_d0bf_11eb_bee7_c8d9d2925b5frow2_col8\" class=\"data row2 col8\" >430.0</td>\n",
       "                        <td id=\"T_9da64494_d0bf_11eb_bee7_c8d9d2925b5frow2_col9\" class=\"data row2 col9\" >98.0</td>\n",
       "                        <td id=\"T_9da64494_d0bf_11eb_bee7_c8d9d2925b5frow2_col10\" class=\"data row2 col10\" >74.0</td>\n",
       "                        <td id=\"T_9da64494_d0bf_11eb_bee7_c8d9d2925b5frow2_col11\" class=\"data row2 col11\" >73.9</td>\n",
       "                        <td id=\"T_9da64494_d0bf_11eb_bee7_c8d9d2925b5frow2_col12\" class=\"data row2 col12\" >1.4</td>\n",
       "                        <td id=\"T_9da64494_d0bf_11eb_bee7_c8d9d2925b5frow2_col13\" class=\"data row2 col13\" >2.2</td>\n",
       "                        <td id=\"T_9da64494_d0bf_11eb_bee7_c8d9d2925b5frow2_col14\" class=\"data row2 col14\" >3.1</td>\n",
       "                        <td id=\"T_9da64494_d0bf_11eb_bee7_c8d9d2925b5frow2_col15\" class=\"data row2 col15\" >2.8</td>\n",
       "                        <td id=\"T_9da64494_d0bf_11eb_bee7_c8d9d2925b5frow2_col16\" class=\"data row2 col16\" >7.5</td>\n",
       "                        <td id=\"T_9da64494_d0bf_11eb_bee7_c8d9d2925b5frow2_col17\" class=\"data row2 col17\" >7.7</td>\n",
       "                        <td id=\"T_9da64494_d0bf_11eb_bee7_c8d9d2925b5frow2_col18\" class=\"data row2 col18\" >21.0</td>\n",
       "                        <td id=\"T_9da64494_d0bf_11eb_bee7_c8d9d2925b5frow2_col19\" class=\"data row2 col19\" >3.5</td>\n",
       "            </tr>\n",
       "            <tr>\n",
       "                        <th id=\"T_9da64494_d0bf_11eb_bee7_c8d9d2925b5flevel0_row3\" class=\"row_heading level0 row3\" >3</th>\n",
       "                        <td id=\"T_9da64494_d0bf_11eb_bee7_c8d9d2925b5frow3_col0\" class=\"data row3 col0\" >24.29</td>\n",
       "                        <td id=\"T_9da64494_d0bf_11eb_bee7_c8d9d2925b5frow3_col1\" class=\"data row3 col1\" >91.73</td>\n",
       "                        <td id=\"T_9da64494_d0bf_11eb_bee7_c8d9d2925b5frow3_col2\" class=\"data row3 col2\" >1965</td>\n",
       "                        <td id=\"T_9da64494_d0bf_11eb_bee7_c8d9d2925b5frow3_col3\" class=\"data row3 col3\" >6</td>\n",
       "                        <td id=\"T_9da64494_d0bf_11eb_bee7_c8d9d2925b5frow3_col4\" class=\"data row3 col4\" >24.3</td>\n",
       "                        <td id=\"T_9da64494_d0bf_11eb_bee7_c8d9d2925b5frow3_col5\" class=\"data row3 col5\" >24.3</td>\n",
       "                        <td id=\"T_9da64494_d0bf_11eb_bee7_c8d9d2925b5frow3_col6\" class=\"data row3 col6\" >36.1</td>\n",
       "                        <td id=\"T_9da64494_d0bf_11eb_bee7_c8d9d2925b5frow3_col7\" class=\"data row3 col7\" >34.0</td>\n",
       "                        <td id=\"T_9da64494_d0bf_11eb_bee7_c8d9d2925b5frow3_col8\" class=\"data row3 col8\" >845.0</td>\n",
       "                        <td id=\"T_9da64494_d0bf_11eb_bee7_c8d9d2925b5frow3_col9\" class=\"data row3 col9\" >373.4</td>\n",
       "                        <td id=\"T_9da64494_d0bf_11eb_bee7_c8d9d2925b5frow3_col10\" class=\"data row3 col10\" >86.0</td>\n",
       "                        <td id=\"T_9da64494_d0bf_11eb_bee7_c8d9d2925b5frow3_col11\" class=\"data row3 col11\" >80.0</td>\n",
       "                        <td id=\"T_9da64494_d0bf_11eb_bee7_c8d9d2925b5frow3_col12\" class=\"data row3 col12\" >0.8</td>\n",
       "                        <td id=\"T_9da64494_d0bf_11eb_bee7_c8d9d2925b5frow3_col13\" class=\"data row3 col13\" >1.8</td>\n",
       "                        <td id=\"T_9da64494_d0bf_11eb_bee7_c8d9d2925b5frow3_col14\" class=\"data row3 col14\" >4.3</td>\n",
       "                        <td id=\"T_9da64494_d0bf_11eb_bee7_c8d9d2925b5frow3_col15\" class=\"data row3 col15\" >5.6</td>\n",
       "                        <td id=\"T_9da64494_d0bf_11eb_bee7_c8d9d2925b5frow3_col16\" class=\"data row3 col16\" >4.3</td>\n",
       "                        <td id=\"T_9da64494_d0bf_11eb_bee7_c8d9d2925b5frow3_col17\" class=\"data row3 col17\" >4.5</td>\n",
       "                        <td id=\"T_9da64494_d0bf_11eb_bee7_c8d9d2925b5frow3_col18\" class=\"data row3 col18\" >41.0</td>\n",
       "                        <td id=\"T_9da64494_d0bf_11eb_bee7_c8d9d2925b5frow3_col19\" class=\"data row3 col19\" >16.1</td>\n",
       "            </tr>\n",
       "            <tr>\n",
       "                        <th id=\"T_9da64494_d0bf_11eb_bee7_c8d9d2925b5flevel0_row4\" class=\"row_heading level0 row4\" >4</th>\n",
       "                        <td id=\"T_9da64494_d0bf_11eb_bee7_c8d9d2925b5frow4_col0\" class=\"data row4 col0\" >23.48</td>\n",
       "                        <td id=\"T_9da64494_d0bf_11eb_bee7_c8d9d2925b5frow4_col1\" class=\"data row4 col1\" >91.19</td>\n",
       "                        <td id=\"T_9da64494_d0bf_11eb_bee7_c8d9d2925b5frow4_col2\" class=\"data row4 col2\" >1966</td>\n",
       "                        <td id=\"T_9da64494_d0bf_11eb_bee7_c8d9d2925b5frow4_col3\" class=\"data row4 col3\" >12</td>\n",
       "                        <td id=\"T_9da64494_d0bf_11eb_bee7_c8d9d2925b5frow4_col4\" class=\"data row4 col4\" >14.2</td>\n",
       "                        <td id=\"T_9da64494_d0bf_11eb_bee7_c8d9d2925b5frow4_col5\" class=\"data row4 col5\" >17.1</td>\n",
       "                        <td id=\"T_9da64494_d0bf_11eb_bee7_c8d9d2925b5frow4_col6\" class=\"data row4 col6\" >27.8</td>\n",
       "                        <td id=\"T_9da64494_d0bf_11eb_bee7_c8d9d2925b5frow4_col7\" class=\"data row4 col7\" >32.4</td>\n",
       "                        <td id=\"T_9da64494_d0bf_11eb_bee7_c8d9d2925b5frow4_col8\" class=\"data row4 col8\" >58.0</td>\n",
       "                        <td id=\"T_9da64494_d0bf_11eb_bee7_c8d9d2925b5frow4_col9\" class=\"data row4 col9\" >3.8</td>\n",
       "                        <td id=\"T_9da64494_d0bf_11eb_bee7_c8d9d2925b5frow4_col10\" class=\"data row4 col10\" >86.0</td>\n",
       "                        <td id=\"T_9da64494_d0bf_11eb_bee7_c8d9d2925b5frow4_col11\" class=\"data row4 col11\" >85.0</td>\n",
       "                        <td id=\"T_9da64494_d0bf_11eb_bee7_c8d9d2925b5frow4_col12\" class=\"data row4 col12\" >0.1</td>\n",
       "                        <td id=\"T_9da64494_d0bf_11eb_bee7_c8d9d2925b5frow4_col13\" class=\"data row4 col13\" >0.1</td>\n",
       "                        <td id=\"T_9da64494_d0bf_11eb_bee7_c8d9d2925b5frow4_col14\" class=\"data row4 col14\" >1.4</td>\n",
       "                        <td id=\"T_9da64494_d0bf_11eb_bee7_c8d9d2925b5frow4_col15\" class=\"data row4 col15\" >1.2</td>\n",
       "                        <td id=\"T_9da64494_d0bf_11eb_bee7_c8d9d2925b5frow4_col16\" class=\"data row4 col16\" >7.0</td>\n",
       "                        <td id=\"T_9da64494_d0bf_11eb_bee7_c8d9d2925b5frow4_col17\" class=\"data row4 col17\" >7.4</td>\n",
       "                        <td id=\"T_9da64494_d0bf_11eb_bee7_c8d9d2925b5frow4_col18\" class=\"data row4 col18\" >3.0</td>\n",
       "                        <td id=\"T_9da64494_d0bf_11eb_bee7_c8d9d2925b5frow4_col19\" class=\"data row4 col19\" >0.3</td>\n",
       "            </tr>\n",
       "            <tr>\n",
       "                        <th id=\"T_9da64494_d0bf_11eb_bee7_c8d9d2925b5flevel0_row5\" class=\"row_heading level0 row5\" >5</th>\n",
       "                        <td id=\"T_9da64494_d0bf_11eb_bee7_c8d9d2925b5frow5_col0\" class=\"data row5 col0\" >22.64</td>\n",
       "                        <td id=\"T_9da64494_d0bf_11eb_bee7_c8d9d2925b5frow5_col1\" class=\"data row5 col1\" >91.64</td>\n",
       "                        <td id=\"T_9da64494_d0bf_11eb_bee7_c8d9d2925b5frow5_col2\" class=\"data row5 col2\" >1992</td>\n",
       "                        <td id=\"T_9da64494_d0bf_11eb_bee7_c8d9d2925b5frow5_col3\" class=\"data row5 col3\" >10</td>\n",
       "                        <td id=\"T_9da64494_d0bf_11eb_bee7_c8d9d2925b5frow5_col4\" class=\"data row5 col4\" >23.6</td>\n",
       "                        <td id=\"T_9da64494_d0bf_11eb_bee7_c8d9d2925b5frow5_col5\" class=\"data row5 col5\" >25.7</td>\n",
       "                        <td id=\"T_9da64494_d0bf_11eb_bee7_c8d9d2925b5frow5_col6\" class=\"data row5 col6\" >34.5</td>\n",
       "                        <td id=\"T_9da64494_d0bf_11eb_bee7_c8d9d2925b5frow5_col7\" class=\"data row5 col7\" >36.3</td>\n",
       "                        <td id=\"T_9da64494_d0bf_11eb_bee7_c8d9d2925b5frow5_col8\" class=\"data row5 col8\" >480.0</td>\n",
       "                        <td id=\"T_9da64494_d0bf_11eb_bee7_c8d9d2925b5frow5_col9\" class=\"data row5 col9\" >163.5</td>\n",
       "                        <td id=\"T_9da64494_d0bf_11eb_bee7_c8d9d2925b5frow5_col10\" class=\"data row5 col10\" >83.0</td>\n",
       "                        <td id=\"T_9da64494_d0bf_11eb_bee7_c8d9d2925b5frow5_col11\" class=\"data row5 col11\" >86.9</td>\n",
       "                        <td id=\"T_9da64494_d0bf_11eb_bee7_c8d9d2925b5frow5_col12\" class=\"data row5 col12\" >0.5</td>\n",
       "                        <td id=\"T_9da64494_d0bf_11eb_bee7_c8d9d2925b5frow5_col13\" class=\"data row5 col13\" >0.6</td>\n",
       "                        <td id=\"T_9da64494_d0bf_11eb_bee7_c8d9d2925b5frow5_col14\" class=\"data row5 col14\" >3.8</td>\n",
       "                        <td id=\"T_9da64494_d0bf_11eb_bee7_c8d9d2925b5frow5_col15\" class=\"data row5 col15\" >3.9</td>\n",
       "                        <td id=\"T_9da64494_d0bf_11eb_bee7_c8d9d2925b5frow5_col16\" class=\"data row5 col16\" >5.4</td>\n",
       "                        <td id=\"T_9da64494_d0bf_11eb_bee7_c8d9d2925b5frow5_col17\" class=\"data row5 col17\" >6.4</td>\n",
       "                        <td id=\"T_9da64494_d0bf_11eb_bee7_c8d9d2925b5frow5_col18\" class=\"data row5 col18\" >23.0</td>\n",
       "                        <td id=\"T_9da64494_d0bf_11eb_bee7_c8d9d2925b5frow5_col19\" class=\"data row5 col19\" >7.1</td>\n",
       "            </tr>\n",
       "            <tr>\n",
       "                        <th id=\"T_9da64494_d0bf_11eb_bee7_c8d9d2925b5flevel0_row6\" class=\"row_heading level0 row6\" >6</th>\n",
       "                        <td id=\"T_9da64494_d0bf_11eb_bee7_c8d9d2925b5frow6_col0\" class=\"data row6 col0\" >22.68</td>\n",
       "                        <td id=\"T_9da64494_d0bf_11eb_bee7_c8d9d2925b5frow6_col1\" class=\"data row6 col1\" >89.07</td>\n",
       "                        <td id=\"T_9da64494_d0bf_11eb_bee7_c8d9d2925b5frow6_col2\" class=\"data row6 col2\" >2003</td>\n",
       "                        <td id=\"T_9da64494_d0bf_11eb_bee7_c8d9d2925b5frow6_col3\" class=\"data row6 col3\" >12</td>\n",
       "                        <td id=\"T_9da64494_d0bf_11eb_bee7_c8d9d2925b5frow6_col4\" class=\"data row6 col4\" >14.1</td>\n",
       "                        <td id=\"T_9da64494_d0bf_11eb_bee7_c8d9d2925b5frow6_col5\" class=\"data row6 col5\" >16.8</td>\n",
       "                        <td id=\"T_9da64494_d0bf_11eb_bee7_c8d9d2925b5frow6_col6\" class=\"data row6 col6\" >28.5</td>\n",
       "                        <td id=\"T_9da64494_d0bf_11eb_bee7_c8d9d2925b5frow6_col7\" class=\"data row6 col7\" >32.4</td>\n",
       "                        <td id=\"T_9da64494_d0bf_11eb_bee7_c8d9d2925b5frow6_col8\" class=\"data row6 col8\" >25.0</td>\n",
       "                        <td id=\"T_9da64494_d0bf_11eb_bee7_c8d9d2925b5frow6_col9\" class=\"data row6 col9\" >5.6</td>\n",
       "                        <td id=\"T_9da64494_d0bf_11eb_bee7_c8d9d2925b5frow6_col10\" class=\"data row6 col10\" >81.0</td>\n",
       "                        <td id=\"T_9da64494_d0bf_11eb_bee7_c8d9d2925b5frow6_col11\" class=\"data row6 col11\" >85.1</td>\n",
       "                        <td id=\"T_9da64494_d0bf_11eb_bee7_c8d9d2925b5frow6_col12\" class=\"data row6 col12\" >0.2</td>\n",
       "                        <td id=\"T_9da64494_d0bf_11eb_bee7_c8d9d2925b5frow6_col13\" class=\"data row6 col13\" >0.1</td>\n",
       "                        <td id=\"T_9da64494_d0bf_11eb_bee7_c8d9d2925b5frow6_col14\" class=\"data row6 col14\" >1.4</td>\n",
       "                        <td id=\"T_9da64494_d0bf_11eb_bee7_c8d9d2925b5frow6_col15\" class=\"data row6 col15\" >1.2</td>\n",
       "                        <td id=\"T_9da64494_d0bf_11eb_bee7_c8d9d2925b5frow6_col16\" class=\"data row6 col16\" >6.7</td>\n",
       "                        <td id=\"T_9da64494_d0bf_11eb_bee7_c8d9d2925b5frow6_col17\" class=\"data row6 col17\" >7.1</td>\n",
       "                        <td id=\"T_9da64494_d0bf_11eb_bee7_c8d9d2925b5frow6_col18\" class=\"data row6 col18\" >1.0</td>\n",
       "                        <td id=\"T_9da64494_d0bf_11eb_bee7_c8d9d2925b5frow6_col19\" class=\"data row6 col19\" >0.5</td>\n",
       "            </tr>\n",
       "            <tr>\n",
       "                        <th id=\"T_9da64494_d0bf_11eb_bee7_c8d9d2925b5flevel0_row7\" class=\"row_heading level0 row7\" >7</th>\n",
       "                        <td id=\"T_9da64494_d0bf_11eb_bee7_c8d9d2925b5frow7_col0\" class=\"data row7 col0\" >24.12</td>\n",
       "                        <td id=\"T_9da64494_d0bf_11eb_bee7_c8d9d2925b5frow7_col1\" class=\"data row7 col1\" >89.04</td>\n",
       "                        <td id=\"T_9da64494_d0bf_11eb_bee7_c8d9d2925b5frow7_col2\" class=\"data row7 col2\" >1981</td>\n",
       "                        <td id=\"T_9da64494_d0bf_11eb_bee7_c8d9d2925b5frow7_col3\" class=\"data row7 col3\" >5</td>\n",
       "                        <td id=\"T_9da64494_d0bf_11eb_bee7_c8d9d2925b5frow7_col4\" class=\"data row7 col4\" >23.7</td>\n",
       "                        <td id=\"T_9da64494_d0bf_11eb_bee7_c8d9d2925b5frow7_col5\" class=\"data row7 col5\" >22.6</td>\n",
       "                        <td id=\"T_9da64494_d0bf_11eb_bee7_c8d9d2925b5frow7_col6\" class=\"data row7 col6\" >39.0</td>\n",
       "                        <td id=\"T_9da64494_d0bf_11eb_bee7_c8d9d2925b5frow7_col7\" class=\"data row7 col7\" >34.9</td>\n",
       "                        <td id=\"T_9da64494_d0bf_11eb_bee7_c8d9d2925b5frow7_col8\" class=\"data row7 col8\" >323.0</td>\n",
       "                        <td id=\"T_9da64494_d0bf_11eb_bee7_c8d9d2925b5frow7_col9\" class=\"data row7 col9\" >225.3</td>\n",
       "                        <td id=\"T_9da64494_d0bf_11eb_bee7_c8d9d2925b5frow7_col10\" class=\"data row7 col10\" >77.0</td>\n",
       "                        <td id=\"T_9da64494_d0bf_11eb_bee7_c8d9d2925b5frow7_col11\" class=\"data row7 col11\" >73.5</td>\n",
       "                        <td id=\"T_9da64494_d0bf_11eb_bee7_c8d9d2925b5frow7_col12\" class=\"data row7 col12\" >2.4</td>\n",
       "                        <td id=\"T_9da64494_d0bf_11eb_bee7_c8d9d2925b5frow7_col13\" class=\"data row7 col13\" >2.0</td>\n",
       "                        <td id=\"T_9da64494_d0bf_11eb_bee7_c8d9d2925b5frow7_col14\" class=\"data row7 col14\" >4.9</td>\n",
       "                        <td id=\"T_9da64494_d0bf_11eb_bee7_c8d9d2925b5frow7_col15\" class=\"data row7 col15\" >4.4</td>\n",
       "                        <td id=\"T_9da64494_d0bf_11eb_bee7_c8d9d2925b5frow7_col16\" class=\"data row7 col16\" >7.3</td>\n",
       "                        <td id=\"T_9da64494_d0bf_11eb_bee7_c8d9d2925b5frow7_col17\" class=\"data row7 col17\" >6.1</td>\n",
       "                        <td id=\"T_9da64494_d0bf_11eb_bee7_c8d9d2925b5frow7_col18\" class=\"data row7 col18\" >16.0</td>\n",
       "                        <td id=\"T_9da64494_d0bf_11eb_bee7_c8d9d2925b5frow7_col19\" class=\"data row7 col19\" >9.8</td>\n",
       "            </tr>\n",
       "            <tr>\n",
       "                        <th id=\"T_9da64494_d0bf_11eb_bee7_c8d9d2925b5flevel0_row8\" class=\"row_heading level0 row8\" >8</th>\n",
       "                        <td id=\"T_9da64494_d0bf_11eb_bee7_c8d9d2925b5frow8_col0\" class=\"data row8 col0\" >22.34</td>\n",
       "                        <td id=\"T_9da64494_d0bf_11eb_bee7_c8d9d2925b5frow8_col1\" class=\"data row8 col1\" >91.79</td>\n",
       "                        <td id=\"T_9da64494_d0bf_11eb_bee7_c8d9d2925b5frow8_col2\" class=\"data row8 col2\" >2003</td>\n",
       "                        <td id=\"T_9da64494_d0bf_11eb_bee7_c8d9d2925b5frow8_col3\" class=\"data row8 col3\" >6</td>\n",
       "                        <td id=\"T_9da64494_d0bf_11eb_bee7_c8d9d2925b5frow8_col4\" class=\"data row8 col4\" >25.0</td>\n",
       "                        <td id=\"T_9da64494_d0bf_11eb_bee7_c8d9d2925b5frow8_col5\" class=\"data row8 col5\" >25.3</td>\n",
       "                        <td id=\"T_9da64494_d0bf_11eb_bee7_c8d9d2925b5frow8_col6\" class=\"data row8 col6\" >34.8</td>\n",
       "                        <td id=\"T_9da64494_d0bf_11eb_bee7_c8d9d2925b5frow8_col7\" class=\"data row8 col7\" >36.0</td>\n",
       "                        <td id=\"T_9da64494_d0bf_11eb_bee7_c8d9d2925b5frow8_col8\" class=\"data row8 col8\" >1209.0</td>\n",
       "                        <td id=\"T_9da64494_d0bf_11eb_bee7_c8d9d2925b5frow8_col9\" class=\"data row8 col9\" >391.0</td>\n",
       "                        <td id=\"T_9da64494_d0bf_11eb_bee7_c8d9d2925b5frow8_col10\" class=\"data row8 col10\" >90.0</td>\n",
       "                        <td id=\"T_9da64494_d0bf_11eb_bee7_c8d9d2925b5frow8_col11\" class=\"data row8 col11\" >87.7</td>\n",
       "                        <td id=\"T_9da64494_d0bf_11eb_bee7_c8d9d2925b5frow8_col12\" class=\"data row8 col12\" >1.2</td>\n",
       "                        <td id=\"T_9da64494_d0bf_11eb_bee7_c8d9d2925b5frow8_col13\" class=\"data row8 col13\" >2.0</td>\n",
       "                        <td id=\"T_9da64494_d0bf_11eb_bee7_c8d9d2925b5frow8_col14\" class=\"data row8 col14\" >6.7</td>\n",
       "                        <td id=\"T_9da64494_d0bf_11eb_bee7_c8d9d2925b5frow8_col15\" class=\"data row8 col15\" >5.6</td>\n",
       "                        <td id=\"T_9da64494_d0bf_11eb_bee7_c8d9d2925b5frow8_col16\" class=\"data row8 col16\" >4.2</td>\n",
       "                        <td id=\"T_9da64494_d0bf_11eb_bee7_c8d9d2925b5frow8_col17\" class=\"data row8 col17\" >4.5</td>\n",
       "                        <td id=\"T_9da64494_d0bf_11eb_bee7_c8d9d2925b5frow8_col18\" class=\"data row8 col18\" >58.0</td>\n",
       "                        <td id=\"T_9da64494_d0bf_11eb_bee7_c8d9d2925b5frow8_col19\" class=\"data row8 col19\" >18.2</td>\n",
       "            </tr>\n",
       "            <tr>\n",
       "                        <th id=\"T_9da64494_d0bf_11eb_bee7_c8d9d2925b5flevel0_row9\" class=\"row_heading level0 row9\" >9</th>\n",
       "                        <td id=\"T_9da64494_d0bf_11eb_bee7_c8d9d2925b5frow9_col0\" class=\"data row9 col0\" >23.65</td>\n",
       "                        <td id=\"T_9da64494_d0bf_11eb_bee7_c8d9d2925b5frow9_col1\" class=\"data row9 col1\" >88.82</td>\n",
       "                        <td id=\"T_9da64494_d0bf_11eb_bee7_c8d9d2925b5frow9_col2\" class=\"data row9 col2\" >2009</td>\n",
       "                        <td id=\"T_9da64494_d0bf_11eb_bee7_c8d9d2925b5frow9_col3\" class=\"data row9 col3\" >7</td>\n",
       "                        <td id=\"T_9da64494_d0bf_11eb_bee7_c8d9d2925b5frow9_col4\" class=\"data row9 col4\" >26.2</td>\n",
       "                        <td id=\"T_9da64494_d0bf_11eb_bee7_c8d9d2925b5frow9_col5\" class=\"data row9 col5\" >24.5</td>\n",
       "                        <td id=\"T_9da64494_d0bf_11eb_bee7_c8d9d2925b5frow9_col6\" class=\"data row9 col6\" >35.5</td>\n",
       "                        <td id=\"T_9da64494_d0bf_11eb_bee7_c8d9d2925b5frow9_col7\" class=\"data row9 col7\" >33.7</td>\n",
       "                        <td id=\"T_9da64494_d0bf_11eb_bee7_c8d9d2925b5frow9_col8\" class=\"data row9 col8\" >366.9</td>\n",
       "                        <td id=\"T_9da64494_d0bf_11eb_bee7_c8d9d2925b5frow9_col9\" class=\"data row9 col9\" >395.8</td>\n",
       "                        <td id=\"T_9da64494_d0bf_11eb_bee7_c8d9d2925b5frow9_col10\" class=\"data row9 col10\" >87.4</td>\n",
       "                        <td id=\"T_9da64494_d0bf_11eb_bee7_c8d9d2925b5frow9_col11\" class=\"data row9 col11\" >82.3</td>\n",
       "                        <td id=\"T_9da64494_d0bf_11eb_bee7_c8d9d2925b5frow9_col12\" class=\"data row9 col12\" >1.2</td>\n",
       "                        <td id=\"T_9da64494_d0bf_11eb_bee7_c8d9d2925b5frow9_col13\" class=\"data row9 col13\" >1.8</td>\n",
       "                        <td id=\"T_9da64494_d0bf_11eb_bee7_c8d9d2925b5frow9_col14\" class=\"data row9 col14\" >5.8</td>\n",
       "                        <td id=\"T_9da64494_d0bf_11eb_bee7_c8d9d2925b5frow9_col15\" class=\"data row9 col15\" >6.4</td>\n",
       "                        <td id=\"T_9da64494_d0bf_11eb_bee7_c8d9d2925b5frow9_col16\" class=\"data row9 col16\" >4.3</td>\n",
       "                        <td id=\"T_9da64494_d0bf_11eb_bee7_c8d9d2925b5frow9_col17\" class=\"data row9 col17\" >4.3</td>\n",
       "                        <td id=\"T_9da64494_d0bf_11eb_bee7_c8d9d2925b5frow9_col18\" class=\"data row9 col18\" >18.0</td>\n",
       "                        <td id=\"T_9da64494_d0bf_11eb_bee7_c8d9d2925b5frow9_col19\" class=\"data row9 col19\" >16.8</td>\n",
       "            </tr>\n",
       "            <tr>\n",
       "                        <th id=\"T_9da64494_d0bf_11eb_bee7_c8d9d2925b5flevel0_row10\" class=\"row_heading level0 row10\" >10</th>\n",
       "                        <td id=\"T_9da64494_d0bf_11eb_bee7_c8d9d2925b5frow10_col0\" class=\"data row10 col0\" >25.72</td>\n",
       "                        <td id=\"T_9da64494_d0bf_11eb_bee7_c8d9d2925b5frow10_col1\" class=\"data row10 col1\" >89.26</td>\n",
       "                        <td id=\"T_9da64494_d0bf_11eb_bee7_c8d9d2925b5frow10_col2\" class=\"data row10 col2\" >1961</td>\n",
       "                        <td id=\"T_9da64494_d0bf_11eb_bee7_c8d9d2925b5frow10_col3\" class=\"data row10 col3\" >5</td>\n",
       "                        <td id=\"T_9da64494_d0bf_11eb_bee7_c8d9d2925b5frow10_col4\" class=\"data row10 col4\" >23.5</td>\n",
       "                        <td id=\"T_9da64494_d0bf_11eb_bee7_c8d9d2925b5frow10_col5\" class=\"data row10 col5\" >20.4</td>\n",
       "                        <td id=\"T_9da64494_d0bf_11eb_bee7_c8d9d2925b5frow10_col6\" class=\"data row10 col6\" >35.8</td>\n",
       "                        <td id=\"T_9da64494_d0bf_11eb_bee7_c8d9d2925b5frow10_col7\" class=\"data row10 col7\" >31.0</td>\n",
       "                        <td id=\"T_9da64494_d0bf_11eb_bee7_c8d9d2925b5frow10_col8\" class=\"data row10 col8\" >279.0</td>\n",
       "                        <td id=\"T_9da64494_d0bf_11eb_bee7_c8d9d2925b5frow10_col9\" class=\"data row10 col9\" >255.1</td>\n",
       "                        <td id=\"T_9da64494_d0bf_11eb_bee7_c8d9d2925b5frow10_col10\" class=\"data row10 col10\" >80.0</td>\n",
       "                        <td id=\"T_9da64494_d0bf_11eb_bee7_c8d9d2925b5frow10_col11\" class=\"data row10 col11\" >69.3</td>\n",
       "                        <td id=\"T_9da64494_d0bf_11eb_bee7_c8d9d2925b5frow10_col12\" class=\"data row10 col12\" >1.8</td>\n",
       "                        <td id=\"T_9da64494_d0bf_11eb_bee7_c8d9d2925b5frow10_col13\" class=\"data row10 col13\" >1.8</td>\n",
       "                        <td id=\"T_9da64494_d0bf_11eb_bee7_c8d9d2925b5frow10_col14\" class=\"data row10 col14\" >3.7</td>\n",
       "                        <td id=\"T_9da64494_d0bf_11eb_bee7_c8d9d2925b5frow10_col15\" class=\"data row10 col15\" >4.5</td>\n",
       "                        <td id=\"T_9da64494_d0bf_11eb_bee7_c8d9d2925b5frow10_col16\" class=\"data row10 col16\" >6.6</td>\n",
       "                        <td id=\"T_9da64494_d0bf_11eb_bee7_c8d9d2925b5frow10_col17\" class=\"data row10 col17\" >5.5</td>\n",
       "                        <td id=\"T_9da64494_d0bf_11eb_bee7_c8d9d2925b5frow10_col18\" class=\"data row10 col18\" >13.0</td>\n",
       "                        <td id=\"T_9da64494_d0bf_11eb_bee7_c8d9d2925b5frow10_col19\" class=\"data row10 col19\" >10.6</td>\n",
       "            </tr>\n",
       "            <tr>\n",
       "                        <th id=\"T_9da64494_d0bf_11eb_bee7_c8d9d2925b5flevel0_row11\" class=\"row_heading level0 row11\" >11</th>\n",
       "                        <td id=\"T_9da64494_d0bf_11eb_bee7_c8d9d2925b5frow11_col0\" class=\"data row11 col0\" >24.88</td>\n",
       "                        <td id=\"T_9da64494_d0bf_11eb_bee7_c8d9d2925b5frow11_col1\" class=\"data row11 col1\" >91.93</td>\n",
       "                        <td id=\"T_9da64494_d0bf_11eb_bee7_c8d9d2925b5frow11_col2\" class=\"data row11 col2\" >1956</td>\n",
       "                        <td id=\"T_9da64494_d0bf_11eb_bee7_c8d9d2925b5frow11_col3\" class=\"data row11 col3\" >8</td>\n",
       "                        <td id=\"T_9da64494_d0bf_11eb_bee7_c8d9d2925b5frow11_col4\" class=\"data row11 col4\" >25.1</td>\n",
       "                        <td id=\"T_9da64494_d0bf_11eb_bee7_c8d9d2925b5frow11_col5\" class=\"data row11 col5\" >25.7</td>\n",
       "                        <td id=\"T_9da64494_d0bf_11eb_bee7_c8d9d2925b5frow11_col6\" class=\"data row11 col6\" >34.4</td>\n",
       "                        <td id=\"T_9da64494_d0bf_11eb_bee7_c8d9d2925b5frow11_col7\" class=\"data row11 col7\" >35.1</td>\n",
       "                        <td id=\"T_9da64494_d0bf_11eb_bee7_c8d9d2925b5frow11_col8\" class=\"data row11 col8\" >605.0</td>\n",
       "                        <td id=\"T_9da64494_d0bf_11eb_bee7_c8d9d2925b5frow11_col9\" class=\"data row11 col9\" >323.4</td>\n",
       "                        <td id=\"T_9da64494_d0bf_11eb_bee7_c8d9d2925b5frow11_col10\" class=\"data row11 col10\" >86.5</td>\n",
       "                        <td id=\"T_9da64494_d0bf_11eb_bee7_c8d9d2925b5frow11_col11\" class=\"data row11 col11\" >86.4</td>\n",
       "                        <td id=\"T_9da64494_d0bf_11eb_bee7_c8d9d2925b5frow11_col12\" class=\"data row11 col12\" >1.4</td>\n",
       "                        <td id=\"T_9da64494_d0bf_11eb_bee7_c8d9d2925b5frow11_col13\" class=\"data row11 col13\" >1.4</td>\n",
       "                        <td id=\"T_9da64494_d0bf_11eb_bee7_c8d9d2925b5frow11_col14\" class=\"data row11 col14\" >7.0</td>\n",
       "                        <td id=\"T_9da64494_d0bf_11eb_bee7_c8d9d2925b5frow11_col15\" class=\"data row11 col15\" >5.6</td>\n",
       "                        <td id=\"T_9da64494_d0bf_11eb_bee7_c8d9d2925b5frow11_col16\" class=\"data row11 col16\" >4.5</td>\n",
       "                        <td id=\"T_9da64494_d0bf_11eb_bee7_c8d9d2925b5frow11_col17\" class=\"data row11 col17\" >4.8</td>\n",
       "                        <td id=\"T_9da64494_d0bf_11eb_bee7_c8d9d2925b5frow11_col18\" class=\"data row11 col18\" >29.0</td>\n",
       "                        <td id=\"T_9da64494_d0bf_11eb_bee7_c8d9d2925b5frow11_col19\" class=\"data row11 col19\" >14.5</td>\n",
       "            </tr>\n",
       "            <tr>\n",
       "                        <th id=\"T_9da64494_d0bf_11eb_bee7_c8d9d2925b5flevel0_row12\" class=\"row_heading level0 row12\" >12</th>\n",
       "                        <td id=\"T_9da64494_d0bf_11eb_bee7_c8d9d2925b5frow12_col0\" class=\"data row12 col0\" >24.12</td>\n",
       "                        <td id=\"T_9da64494_d0bf_11eb_bee7_c8d9d2925b5frow12_col1\" class=\"data row12 col1\" >89.04</td>\n",
       "                        <td id=\"T_9da64494_d0bf_11eb_bee7_c8d9d2925b5frow12_col2\" class=\"data row12 col2\" >2010</td>\n",
       "                        <td id=\"T_9da64494_d0bf_11eb_bee7_c8d9d2925b5frow12_col3\" class=\"data row12 col3\" >10</td>\n",
       "                        <td id=\"T_9da64494_d0bf_11eb_bee7_c8d9d2925b5frow12_col4\" class=\"data row12 col4\" >23.5</td>\n",
       "                        <td id=\"T_9da64494_d0bf_11eb_bee7_c8d9d2925b5frow12_col5\" class=\"data row12 col5\" >22.6</td>\n",
       "                        <td id=\"T_9da64494_d0bf_11eb_bee7_c8d9d2925b5frow12_col6\" class=\"data row12 col6\" >36.4</td>\n",
       "                        <td id=\"T_9da64494_d0bf_11eb_bee7_c8d9d2925b5frow12_col7\" class=\"data row12 col7\" >34.6</td>\n",
       "                        <td id=\"T_9da64494_d0bf_11eb_bee7_c8d9d2925b5frow12_col8\" class=\"data row12 col8\" >105.0</td>\n",
       "                        <td id=\"T_9da64494_d0bf_11eb_bee7_c8d9d2925b5frow12_col9\" class=\"data row12 col9\" >119.8</td>\n",
       "                        <td id=\"T_9da64494_d0bf_11eb_bee7_c8d9d2925b5frow12_col10\" class=\"data row12 col10\" >83.0</td>\n",
       "                        <td id=\"T_9da64494_d0bf_11eb_bee7_c8d9d2925b5frow12_col11\" class=\"data row12 col11\" >84.5</td>\n",
       "                        <td id=\"T_9da64494_d0bf_11eb_bee7_c8d9d2925b5frow12_col12\" class=\"data row12 col12\" >2.0</td>\n",
       "                        <td id=\"T_9da64494_d0bf_11eb_bee7_c8d9d2925b5frow12_col13\" class=\"data row12 col13\" >0.5</td>\n",
       "                        <td id=\"T_9da64494_d0bf_11eb_bee7_c8d9d2925b5frow12_col14\" class=\"data row12 col14\" >3.4</td>\n",
       "                        <td id=\"T_9da64494_d0bf_11eb_bee7_c8d9d2925b5frow12_col15\" class=\"data row12 col15\" >3.2</td>\n",
       "                        <td id=\"T_9da64494_d0bf_11eb_bee7_c8d9d2925b5frow12_col16\" class=\"data row12 col16\" >6.9</td>\n",
       "                        <td id=\"T_9da64494_d0bf_11eb_bee7_c8d9d2925b5frow12_col17\" class=\"data row12 col17\" >5.9</td>\n",
       "                        <td id=\"T_9da64494_d0bf_11eb_bee7_c8d9d2925b5frow12_col18\" class=\"data row12 col18\" >5.0</td>\n",
       "                        <td id=\"T_9da64494_d0bf_11eb_bee7_c8d9d2925b5frow12_col19\" class=\"data row12 col19\" >5.4</td>\n",
       "            </tr>\n",
       "            <tr>\n",
       "                        <th id=\"T_9da64494_d0bf_11eb_bee7_c8d9d2925b5flevel0_row13\" class=\"row_heading level0 row13\" >13</th>\n",
       "                        <td id=\"T_9da64494_d0bf_11eb_bee7_c8d9d2925b5frow13_col0\" class=\"data row13 col0\" >23.17</td>\n",
       "                        <td id=\"T_9da64494_d0bf_11eb_bee7_c8d9d2925b5frow13_col1\" class=\"data row13 col1\" >89.22</td>\n",
       "                        <td id=\"T_9da64494_d0bf_11eb_bee7_c8d9d2925b5frow13_col2\" class=\"data row13 col2\" >2011</td>\n",
       "                        <td id=\"T_9da64494_d0bf_11eb_bee7_c8d9d2925b5frow13_col3\" class=\"data row13 col3\" >2</td>\n",
       "                        <td id=\"T_9da64494_d0bf_11eb_bee7_c8d9d2925b5frow13_col4\" class=\"data row13 col4\" >14.0</td>\n",
       "                        <td id=\"T_9da64494_d0bf_11eb_bee7_c8d9d2925b5frow13_col5\" class=\"data row13 col5\" >14.2</td>\n",
       "                        <td id=\"T_9da64494_d0bf_11eb_bee7_c8d9d2925b5frow13_col6\" class=\"data row13 col6\" >32.8</td>\n",
       "                        <td id=\"T_9da64494_d0bf_11eb_bee7_c8d9d2925b5frow13_col7\" class=\"data row13 col7\" >30.9</td>\n",
       "                        <td id=\"T_9da64494_d0bf_11eb_bee7_c8d9d2925b5frow13_col8\" class=\"data row13 col8\" >0.0</td>\n",
       "                        <td id=\"T_9da64494_d0bf_11eb_bee7_c8d9d2925b5frow13_col9\" class=\"data row13 col9\" >22.7</td>\n",
       "                        <td id=\"T_9da64494_d0bf_11eb_bee7_c8d9d2925b5frow13_col10\" class=\"data row13 col10\" >71.0</td>\n",
       "                        <td id=\"T_9da64494_d0bf_11eb_bee7_c8d9d2925b5frow13_col11\" class=\"data row13 col11\" >73.2</td>\n",
       "                        <td id=\"T_9da64494_d0bf_11eb_bee7_c8d9d2925b5frow13_col12\" class=\"data row13 col12\" >5.6</td>\n",
       "                        <td id=\"T_9da64494_d0bf_11eb_bee7_c8d9d2925b5frow13_col13\" class=\"data row13 col13\" >1.7</td>\n",
       "                        <td id=\"T_9da64494_d0bf_11eb_bee7_c8d9d2925b5frow13_col14\" class=\"data row13 col14\" >0.7</td>\n",
       "                        <td id=\"T_9da64494_d0bf_11eb_bee7_c8d9d2925b5frow13_col15\" class=\"data row13 col15\" >1.3</td>\n",
       "                        <td id=\"T_9da64494_d0bf_11eb_bee7_c8d9d2925b5frow13_col16\" class=\"data row13 col16\" >7.1</td>\n",
       "                        <td id=\"T_9da64494_d0bf_11eb_bee7_c8d9d2925b5frow13_col17\" class=\"data row13 col17\" >7.3</td>\n",
       "                        <td id=\"T_9da64494_d0bf_11eb_bee7_c8d9d2925b5frow13_col18\" class=\"data row13 col18\" >0.0</td>\n",
       "                        <td id=\"T_9da64494_d0bf_11eb_bee7_c8d9d2925b5frow13_col19\" class=\"data row13 col19\" >0.2</td>\n",
       "            </tr>\n",
       "            <tr>\n",
       "                        <th id=\"T_9da64494_d0bf_11eb_bee7_c8d9d2925b5flevel0_row14\" class=\"row_heading level0 row14\" >14</th>\n",
       "                        <td id=\"T_9da64494_d0bf_11eb_bee7_c8d9d2925b5frow14_col0\" class=\"data row14 col0\" >22.34</td>\n",
       "                        <td id=\"T_9da64494_d0bf_11eb_bee7_c8d9d2925b5frow14_col1\" class=\"data row14 col1\" >91.79</td>\n",
       "                        <td id=\"T_9da64494_d0bf_11eb_bee7_c8d9d2925b5frow14_col2\" class=\"data row14 col2\" >1986</td>\n",
       "                        <td id=\"T_9da64494_d0bf_11eb_bee7_c8d9d2925b5frow14_col3\" class=\"data row14 col3\" >12</td>\n",
       "                        <td id=\"T_9da64494_d0bf_11eb_bee7_c8d9d2925b5frow14_col4\" class=\"data row14 col4\" >16.4</td>\n",
       "                        <td id=\"T_9da64494_d0bf_11eb_bee7_c8d9d2925b5frow14_col5\" class=\"data row14 col5\" >18.3</td>\n",
       "                        <td id=\"T_9da64494_d0bf_11eb_bee7_c8d9d2925b5frow14_col6\" class=\"data row14 col6\" >29.5</td>\n",
       "                        <td id=\"T_9da64494_d0bf_11eb_bee7_c8d9d2925b5frow14_col7\" class=\"data row14 col7\" >32.9</td>\n",
       "                        <td id=\"T_9da64494_d0bf_11eb_bee7_c8d9d2925b5frow14_col8\" class=\"data row14 col8\" >0.0</td>\n",
       "                        <td id=\"T_9da64494_d0bf_11eb_bee7_c8d9d2925b5frow14_col9\" class=\"data row14 col9\" >12.4</td>\n",
       "                        <td id=\"T_9da64494_d0bf_11eb_bee7_c8d9d2925b5frow14_col10\" class=\"data row14 col10\" >73.0</td>\n",
       "                        <td id=\"T_9da64494_d0bf_11eb_bee7_c8d9d2925b5frow14_col11\" class=\"data row14 col11\" >84.9</td>\n",
       "                        <td id=\"T_9da64494_d0bf_11eb_bee7_c8d9d2925b5frow14_col12\" class=\"data row14 col12\" >1.8</td>\n",
       "                        <td id=\"T_9da64494_d0bf_11eb_bee7_c8d9d2925b5frow14_col13\" class=\"data row14 col13\" >0.2</td>\n",
       "                        <td id=\"T_9da64494_d0bf_11eb_bee7_c8d9d2925b5frow14_col14\" class=\"data row14 col14\" >1.0</td>\n",
       "                        <td id=\"T_9da64494_d0bf_11eb_bee7_c8d9d2925b5frow14_col15\" class=\"data row14 col15\" >1.5</td>\n",
       "                        <td id=\"T_9da64494_d0bf_11eb_bee7_c8d9d2925b5frow14_col16\" class=\"data row14 col16\" >3.0</td>\n",
       "                        <td id=\"T_9da64494_d0bf_11eb_bee7_c8d9d2925b5frow14_col17\" class=\"data row14 col17\" >7.5</td>\n",
       "                        <td id=\"T_9da64494_d0bf_11eb_bee7_c8d9d2925b5frow14_col18\" class=\"data row14 col18\" >0.0</td>\n",
       "                        <td id=\"T_9da64494_d0bf_11eb_bee7_c8d9d2925b5frow14_col19\" class=\"data row14 col19\" >0.6</td>\n",
       "            </tr>\n",
       "            <tr>\n",
       "                        <th id=\"T_9da64494_d0bf_11eb_bee7_c8d9d2925b5flevel0_row15\" class=\"row_heading level0 row15\" >15</th>\n",
       "                        <td id=\"T_9da64494_d0bf_11eb_bee7_c8d9d2925b5frow15_col0\" class=\"data row15 col0\" >22.68</td>\n",
       "                        <td id=\"T_9da64494_d0bf_11eb_bee7_c8d9d2925b5frow15_col1\" class=\"data row15 col1\" >89.07</td>\n",
       "                        <td id=\"T_9da64494_d0bf_11eb_bee7_c8d9d2925b5frow15_col2\" class=\"data row15 col2\" >1970</td>\n",
       "                        <td id=\"T_9da64494_d0bf_11eb_bee7_c8d9d2925b5frow15_col3\" class=\"data row15 col3\" >3</td>\n",
       "                        <td id=\"T_9da64494_d0bf_11eb_bee7_c8d9d2925b5frow15_col4\" class=\"data row15 col4\" >21.1</td>\n",
       "                        <td id=\"T_9da64494_d0bf_11eb_bee7_c8d9d2925b5frow15_col5\" class=\"data row15 col5\" >16.6</td>\n",
       "                        <td id=\"T_9da64494_d0bf_11eb_bee7_c8d9d2925b5frow15_col6\" class=\"data row15 col6\" >36.8</td>\n",
       "                        <td id=\"T_9da64494_d0bf_11eb_bee7_c8d9d2925b5frow15_col7\" class=\"data row15 col7\" >31.9</td>\n",
       "                        <td id=\"T_9da64494_d0bf_11eb_bee7_c8d9d2925b5frow15_col8\" class=\"data row15 col8\" >22.0</td>\n",
       "                        <td id=\"T_9da64494_d0bf_11eb_bee7_c8d9d2925b5frow15_col9\" class=\"data row15 col9\" >50.3</td>\n",
       "                        <td id=\"T_9da64494_d0bf_11eb_bee7_c8d9d2925b5frow15_col10\" class=\"data row15 col10\" >75.0</td>\n",
       "                        <td id=\"T_9da64494_d0bf_11eb_bee7_c8d9d2925b5frow15_col11\" class=\"data row15 col11\" >71.6</td>\n",
       "                        <td id=\"T_9da64494_d0bf_11eb_bee7_c8d9d2925b5frow15_col12\" class=\"data row15 col12\" >1.1</td>\n",
       "                        <td id=\"T_9da64494_d0bf_11eb_bee7_c8d9d2925b5frow15_col13\" class=\"data row15 col13\" >1.8</td>\n",
       "                        <td id=\"T_9da64494_d0bf_11eb_bee7_c8d9d2925b5frow15_col14\" class=\"data row15 col14\" >2.8</td>\n",
       "                        <td id=\"T_9da64494_d0bf_11eb_bee7_c8d9d2925b5frow15_col15\" class=\"data row15 col15\" >1.8</td>\n",
       "                        <td id=\"T_9da64494_d0bf_11eb_bee7_c8d9d2925b5frow15_col16\" class=\"data row15 col16\" >8.3</td>\n",
       "                        <td id=\"T_9da64494_d0bf_11eb_bee7_c8d9d2925b5frow15_col17\" class=\"data row15 col17\" >7.2</td>\n",
       "                        <td id=\"T_9da64494_d0bf_11eb_bee7_c8d9d2925b5frow15_col18\" class=\"data row15 col18\" >1.0</td>\n",
       "                        <td id=\"T_9da64494_d0bf_11eb_bee7_c8d9d2925b5frow15_col19\" class=\"data row15 col19\" >1.5</td>\n",
       "            </tr>\n",
       "            <tr>\n",
       "                        <th id=\"T_9da64494_d0bf_11eb_bee7_c8d9d2925b5flevel0_row16\" class=\"row_heading level0 row16\" >16</th>\n",
       "                        <td id=\"T_9da64494_d0bf_11eb_bee7_c8d9d2925b5frow16_col0\" class=\"data row16 col0\" >23.17</td>\n",
       "                        <td id=\"T_9da64494_d0bf_11eb_bee7_c8d9d2925b5frow16_col1\" class=\"data row16 col1\" >89.22</td>\n",
       "                        <td id=\"T_9da64494_d0bf_11eb_bee7_c8d9d2925b5frow16_col2\" class=\"data row16 col2\" >1957</td>\n",
       "                        <td id=\"T_9da64494_d0bf_11eb_bee7_c8d9d2925b5frow16_col3\" class=\"data row16 col3\" >7</td>\n",
       "                        <td id=\"T_9da64494_d0bf_11eb_bee7_c8d9d2925b5frow16_col4\" class=\"data row16 col4\" >25.9</td>\n",
       "                        <td id=\"T_9da64494_d0bf_11eb_bee7_c8d9d2925b5frow16_col5\" class=\"data row16 col5\" >25.2</td>\n",
       "                        <td id=\"T_9da64494_d0bf_11eb_bee7_c8d9d2925b5frow16_col6\" class=\"data row16 col6\" >34.4</td>\n",
       "                        <td id=\"T_9da64494_d0bf_11eb_bee7_c8d9d2925b5frow16_col7\" class=\"data row16 col7\" >34.1</td>\n",
       "                        <td id=\"T_9da64494_d0bf_11eb_bee7_c8d9d2925b5frow16_col8\" class=\"data row16 col8\" >381.0</td>\n",
       "                        <td id=\"T_9da64494_d0bf_11eb_bee7_c8d9d2925b5frow16_col9\" class=\"data row16 col9\" >389.6</td>\n",
       "                        <td id=\"T_9da64494_d0bf_11eb_bee7_c8d9d2925b5frow16_col10\" class=\"data row16 col10\" >89.0</td>\n",
       "                        <td id=\"T_9da64494_d0bf_11eb_bee7_c8d9d2925b5frow16_col11\" class=\"data row16 col11\" >83.5</td>\n",
       "                        <td id=\"T_9da64494_d0bf_11eb_bee7_c8d9d2925b5frow16_col12\" class=\"data row16 col12\" >3.0</td>\n",
       "                        <td id=\"T_9da64494_d0bf_11eb_bee7_c8d9d2925b5frow16_col13\" class=\"data row16 col13\" >1.8</td>\n",
       "                        <td id=\"T_9da64494_d0bf_11eb_bee7_c8d9d2925b5frow16_col14\" class=\"data row16 col14\" >6.4</td>\n",
       "                        <td id=\"T_9da64494_d0bf_11eb_bee7_c8d9d2925b5frow16_col15\" class=\"data row16 col15\" >6.1</td>\n",
       "                        <td id=\"T_9da64494_d0bf_11eb_bee7_c8d9d2925b5frow16_col16\" class=\"data row16 col16\" >4.0</td>\n",
       "                        <td id=\"T_9da64494_d0bf_11eb_bee7_c8d9d2925b5frow16_col17\" class=\"data row16 col17\" >4.3</td>\n",
       "                        <td id=\"T_9da64494_d0bf_11eb_bee7_c8d9d2925b5frow16_col18\" class=\"data row16 col18\" >18.0</td>\n",
       "                        <td id=\"T_9da64494_d0bf_11eb_bee7_c8d9d2925b5frow16_col19\" class=\"data row16 col19\" >17.6</td>\n",
       "            </tr>\n",
       "            <tr>\n",
       "                        <th id=\"T_9da64494_d0bf_11eb_bee7_c8d9d2925b5flevel0_row17\" class=\"row_heading level0 row17\" >17</th>\n",
       "                        <td id=\"T_9da64494_d0bf_11eb_bee7_c8d9d2925b5frow17_col0\" class=\"data row17 col0\" >24.75</td>\n",
       "                        <td id=\"T_9da64494_d0bf_11eb_bee7_c8d9d2925b5frow17_col1\" class=\"data row17 col1\" >90.41</td>\n",
       "                        <td id=\"T_9da64494_d0bf_11eb_bee7_c8d9d2925b5frow17_col2\" class=\"data row17 col2\" >1999</td>\n",
       "                        <td id=\"T_9da64494_d0bf_11eb_bee7_c8d9d2925b5frow17_col3\" class=\"data row17 col3\" >8</td>\n",
       "                        <td id=\"T_9da64494_d0bf_11eb_bee7_c8d9d2925b5frow17_col4\" class=\"data row17 col4\" >26.1</td>\n",
       "                        <td id=\"T_9da64494_d0bf_11eb_bee7_c8d9d2925b5frow17_col5\" class=\"data row17 col5\" >26.0</td>\n",
       "                        <td id=\"T_9da64494_d0bf_11eb_bee7_c8d9d2925b5frow17_col6\" class=\"data row17 col6\" >34.4</td>\n",
       "                        <td id=\"T_9da64494_d0bf_11eb_bee7_c8d9d2925b5frow17_col7\" class=\"data row17 col7\" >35.6</td>\n",
       "                        <td id=\"T_9da64494_d0bf_11eb_bee7_c8d9d2925b5frow17_col8\" class=\"data row17 col8\" >349.0</td>\n",
       "                        <td id=\"T_9da64494_d0bf_11eb_bee7_c8d9d2925b5frow17_col9\" class=\"data row17 col9\" >328.2</td>\n",
       "                        <td id=\"T_9da64494_d0bf_11eb_bee7_c8d9d2925b5frow17_col10\" class=\"data row17 col10\" >88.0</td>\n",
       "                        <td id=\"T_9da64494_d0bf_11eb_bee7_c8d9d2925b5frow17_col11\" class=\"data row17 col11\" >85.9</td>\n",
       "                        <td id=\"T_9da64494_d0bf_11eb_bee7_c8d9d2925b5frow17_col12\" class=\"data row17 col12\" >1.9</td>\n",
       "                        <td id=\"T_9da64494_d0bf_11eb_bee7_c8d9d2925b5frow17_col13\" class=\"data row17 col13\" >1.5</td>\n",
       "                        <td id=\"T_9da64494_d0bf_11eb_bee7_c8d9d2925b5frow17_col14\" class=\"data row17 col14\" >6.3</td>\n",
       "                        <td id=\"T_9da64494_d0bf_11eb_bee7_c8d9d2925b5frow17_col15\" class=\"data row17 col15\" >6.0</td>\n",
       "                        <td id=\"T_9da64494_d0bf_11eb_bee7_c8d9d2925b5frow17_col16\" class=\"data row17 col16\" >3.8</td>\n",
       "                        <td id=\"T_9da64494_d0bf_11eb_bee7_c8d9d2925b5frow17_col17\" class=\"data row17 col17\" >4.8</td>\n",
       "                        <td id=\"T_9da64494_d0bf_11eb_bee7_c8d9d2925b5frow17_col18\" class=\"data row17 col18\" >17.0</td>\n",
       "                        <td id=\"T_9da64494_d0bf_11eb_bee7_c8d9d2925b5frow17_col19\" class=\"data row17 col19\" >13.7</td>\n",
       "            </tr>\n",
       "            <tr>\n",
       "                        <th id=\"T_9da64494_d0bf_11eb_bee7_c8d9d2925b5flevel0_row18\" class=\"row_heading level0 row18\" >18</th>\n",
       "                        <td id=\"T_9da64494_d0bf_11eb_bee7_c8d9d2925b5frow18_col0\" class=\"data row18 col0\" >24.75</td>\n",
       "                        <td id=\"T_9da64494_d0bf_11eb_bee7_c8d9d2925b5frow18_col1\" class=\"data row18 col1\" >90.41</td>\n",
       "                        <td id=\"T_9da64494_d0bf_11eb_bee7_c8d9d2925b5frow18_col2\" class=\"data row18 col2\" >1994</td>\n",
       "                        <td id=\"T_9da64494_d0bf_11eb_bee7_c8d9d2925b5frow18_col3\" class=\"data row18 col3\" >2</td>\n",
       "                        <td id=\"T_9da64494_d0bf_11eb_bee7_c8d9d2925b5frow18_col4\" class=\"data row18 col4\" >13.1</td>\n",
       "                        <td id=\"T_9da64494_d0bf_11eb_bee7_c8d9d2925b5frow18_col5\" class=\"data row18 col5\" >13.8</td>\n",
       "                        <td id=\"T_9da64494_d0bf_11eb_bee7_c8d9d2925b5frow18_col6\" class=\"data row18 col6\" >29.0</td>\n",
       "                        <td id=\"T_9da64494_d0bf_11eb_bee7_c8d9d2925b5frow18_col7\" class=\"data row18 col7\" >30.2</td>\n",
       "                        <td id=\"T_9da64494_d0bf_11eb_bee7_c8d9d2925b5frow18_col8\" class=\"data row18 col8\" >59.0</td>\n",
       "                        <td id=\"T_9da64494_d0bf_11eb_bee7_c8d9d2925b5frow18_col9\" class=\"data row18 col9\" >22.1</td>\n",
       "                        <td id=\"T_9da64494_d0bf_11eb_bee7_c8d9d2925b5frow18_col10\" class=\"data row18 col10\" >70.0</td>\n",
       "                        <td id=\"T_9da64494_d0bf_11eb_bee7_c8d9d2925b5frow18_col11\" class=\"data row18 col11\" >71.5</td>\n",
       "                        <td id=\"T_9da64494_d0bf_11eb_bee7_c8d9d2925b5frow18_col12\" class=\"data row18 col12\" >0.8</td>\n",
       "                        <td id=\"T_9da64494_d0bf_11eb_bee7_c8d9d2925b5frow18_col13\" class=\"data row18 col13\" >1.6</td>\n",
       "                        <td id=\"T_9da64494_d0bf_11eb_bee7_c8d9d2925b5frow18_col14\" class=\"data row18 col14\" >1.4</td>\n",
       "                        <td id=\"T_9da64494_d0bf_11eb_bee7_c8d9d2925b5frow18_col15\" class=\"data row18 col15\" >1.2</td>\n",
       "                        <td id=\"T_9da64494_d0bf_11eb_bee7_c8d9d2925b5frow18_col16\" class=\"data row18 col16\" >7.1</td>\n",
       "                        <td id=\"T_9da64494_d0bf_11eb_bee7_c8d9d2925b5frow18_col17\" class=\"data row18 col17\" >7.1</td>\n",
       "                        <td id=\"T_9da64494_d0bf_11eb_bee7_c8d9d2925b5frow18_col18\" class=\"data row18 col18\" >3.0</td>\n",
       "                        <td id=\"T_9da64494_d0bf_11eb_bee7_c8d9d2925b5frow18_col19\" class=\"data row18 col19\" >0.2</td>\n",
       "            </tr>\n",
       "            <tr>\n",
       "                        <th id=\"T_9da64494_d0bf_11eb_bee7_c8d9d2925b5flevel0_row19\" class=\"row_heading level0 row19\" >19</th>\n",
       "                        <td id=\"T_9da64494_d0bf_11eb_bee7_c8d9d2925b5frow19_col0\" class=\"data row19 col0\" >21.98</td>\n",
       "                        <td id=\"T_9da64494_d0bf_11eb_bee7_c8d9d2925b5frow19_col1\" class=\"data row19 col1\" >90.22</td>\n",
       "                        <td id=\"T_9da64494_d0bf_11eb_bee7_c8d9d2925b5frow19_col2\" class=\"data row19 col2\" >1977</td>\n",
       "                        <td id=\"T_9da64494_d0bf_11eb_bee7_c8d9d2925b5frow19_col3\" class=\"data row19 col3\" >10</td>\n",
       "                        <td id=\"T_9da64494_d0bf_11eb_bee7_c8d9d2925b5frow19_col4\" class=\"data row19 col4\" >24.4</td>\n",
       "                        <td id=\"T_9da64494_d0bf_11eb_bee7_c8d9d2925b5frow19_col5\" class=\"data row19 col5\" >25.1</td>\n",
       "                        <td id=\"T_9da64494_d0bf_11eb_bee7_c8d9d2925b5frow19_col6\" class=\"data row19 col6\" >32.3</td>\n",
       "                        <td id=\"T_9da64494_d0bf_11eb_bee7_c8d9d2925b5frow19_col7\" class=\"data row19 col7\" >35.8</td>\n",
       "                        <td id=\"T_9da64494_d0bf_11eb_bee7_c8d9d2925b5frow19_col8\" class=\"data row19 col8\" >162.0</td>\n",
       "                        <td id=\"T_9da64494_d0bf_11eb_bee7_c8d9d2925b5frow19_col9\" class=\"data row19 col9\" >155.2</td>\n",
       "                        <td id=\"T_9da64494_d0bf_11eb_bee7_c8d9d2925b5frow19_col10\" class=\"data row19 col10\" >84.0</td>\n",
       "                        <td id=\"T_9da64494_d0bf_11eb_bee7_c8d9d2925b5frow19_col11\" class=\"data row19 col11\" >85.8</td>\n",
       "                        <td id=\"T_9da64494_d0bf_11eb_bee7_c8d9d2925b5frow19_col12\" class=\"data row19 col12\" >1.6</td>\n",
       "                        <td id=\"T_9da64494_d0bf_11eb_bee7_c8d9d2925b5frow19_col13\" class=\"data row19 col13\" >0.6</td>\n",
       "                        <td id=\"T_9da64494_d0bf_11eb_bee7_c8d9d2925b5frow19_col14\" class=\"data row19 col14\" >4.8</td>\n",
       "                        <td id=\"T_9da64494_d0bf_11eb_bee7_c8d9d2925b5frow19_col15\" class=\"data row19 col15\" >3.8</td>\n",
       "                        <td id=\"T_9da64494_d0bf_11eb_bee7_c8d9d2925b5frow19_col16\" class=\"data row19 col16\" >6.0</td>\n",
       "                        <td id=\"T_9da64494_d0bf_11eb_bee7_c8d9d2925b5frow19_col17\" class=\"data row19 col17\" >6.4</td>\n",
       "                        <td id=\"T_9da64494_d0bf_11eb_bee7_c8d9d2925b5frow19_col18\" class=\"data row19 col18\" >8.0</td>\n",
       "                        <td id=\"T_9da64494_d0bf_11eb_bee7_c8d9d2925b5frow19_col19\" class=\"data row19 col19\" >6.7</td>\n",
       "            </tr>\n",
       "    </tbody></table>"
      ],
      "text/plain": [
       "<pandas.io.formats.style.Styler at 0x1989b4836a0>"
      ]
     },
     "execution_count": 43,
     "metadata": {},
     "output_type": "execute_result"
    }
   ],
   "source": [
    "# load the model\n",
    "model = keras.models.load_model('model.h5')\n",
    "\n",
    "# bulk prediction\n",
    "test_dataframe = []\n",
    "for i in range(0, 20):\n",
    "    test_x = x_test[i]\n",
    "    test_y = y_test[i]\n",
    "    pred_y = model.predict(np.array([test_x]))[0]\n",
    "    test_dataframe.append([\n",
    "        str(round(test_x[0], 2)), str(round(test_x[1], 2)), int(test_x[2]), int(test_x[3]),\n",
    "        str(round(test_y[0], 1)), str(round(pred_y[0], 1)), str(round(test_y[1], 1)), str(round(pred_y[1], 1)),\n",
    "        str(round(test_y[2], 1)), str(round(pred_y[2], 1)), str(round(test_y[3], 1)), str(round(pred_y[3], 1)),\n",
    "        str(round(test_y[4], 1)), str(round(pred_y[4], 1)), str(round(test_y[5], 1)), str(round(pred_y[5], 1)),\n",
    "        str(round(test_y[6], 1)), str(round(pred_y[6], 1)), str(round(test_y[7], 1)), str(round(pred_y[7], 1))\n",
    "    ])\n",
    "\n",
    "test_dataframe = pd.DataFrame(test_dataframe)\n",
    "test_dataframe.columns = [\n",
    "    'Latitude', 'Longitude', 'Year', 'Month', 'Min Temp', 'Min Temp (Predicted)', 'Max Temp', 'Max Temp (Predicted)',\n",
    "    'Rainfall', 'Rainfall (Predicted)', 'Relative Humidity', 'Relative Humidity (Predicted)',\n",
    "    'Wind Speed', 'Wind Speed (Predicted)', 'Cloud Coverage', 'Cloud Coverage (Predicted)',\n",
    "    'Bright Sunshine', 'Bright Sunshine (Predicted)', 'Rainfall Percentage', 'Rainfall Percentage (Predicted)'\n",
    "]\n",
    "\n",
    "def dataframe_style(data):\n",
    "    return ['background-color: yellow;' for i in data]\n",
    "\n",
    "test_dataframe.style.apply(dataframe_style, axis=0, subset=[\n",
    "    'Max Temp (Predicted)', 'Min Temp (Predicted)','Relative Humidity (Predicted)', 'Rainfall (Predicted)',\n",
    "    'Cloud Coverage (Predicted)', 'Wind Speed (Predicted)','Bright Sunshine (Predicted)', 'Rainfall Percentage (Predicted)'\n",
    "])"
   ]
  },
  {
   "cell_type": "code",
   "execution_count": 44,
   "metadata": {},
   "outputs": [
    {
     "name": "stdout",
     "output_type": "stream",
     "text": [
      "Explain variance score = 0.4872351725973381\n",
      "R2 score = 0.4758937008920575\n"
     ]
    }
   ],
   "source": [
    "y_pred = model.predict(x_test)\n",
    "print(\"Explain variance score =\", metrics.explained_variance_score(y_test, y_pred)) \n",
    "print(\"R2 score =\", metrics.r2_score(y_test, y_pred))"
   ]
  },
  {
   "cell_type": "markdown",
   "metadata": {},
   "source": [
    "# Load the Location and Forecast Weather of Next 12 Months"
   ]
  },
  {
   "cell_type": "code",
   "execution_count": 45,
   "metadata": {},
   "outputs": [],
   "source": [
    "#Dehradun ----\n",
    "current_position = {'latitude': 30.45,'longitude': 78.1002}\n",
    "\n",
    "#Dhaka ----\n",
    "#current_position = {'latitude': 23.8103,'longitude': 90.4125}"
   ]
  },
  {
   "cell_type": "code",
   "execution_count": 47,
   "metadata": {
    "scrolled": false
   },
   "outputs": [
    {
     "name": "stdout",
     "output_type": "stream",
     "text": [
      "Weather Forecasting for:\n",
      "Location: Lane 11 West, বারিধারা, ঢাকা, Chanpara Bazar, ঢাকা জেলা, ঢাকা বিভাগ, 1230, বাংলাদেশ\n",
      "Latitude: 23.8103\n",
      "Longitude: 90.4125\n"
     ]
    },
    {
     "data": {
      "text/html": [
       "<div>\n",
       "<style scoped>\n",
       "    .dataframe tbody tr th:only-of-type {\n",
       "        vertical-align: middle;\n",
       "    }\n",
       "\n",
       "    .dataframe tbody tr th {\n",
       "        vertical-align: top;\n",
       "    }\n",
       "\n",
       "    .dataframe thead th {\n",
       "        text-align: right;\n",
       "    }\n",
       "</style>\n",
       "<table border=\"1\" class=\"dataframe\">\n",
       "  <thead>\n",
       "    <tr style=\"text-align: right;\">\n",
       "      <th></th>\n",
       "      <th>Month</th>\n",
       "      <th>Min Temp</th>\n",
       "      <th>Max Temp</th>\n",
       "      <th>Rainfall</th>\n",
       "      <th>Relative Humidity</th>\n",
       "      <th>Wind Speed</th>\n",
       "      <th>Cloud Coverage</th>\n",
       "      <th>Bright Sunshine</th>\n",
       "      <th>Rainfall Percenatge</th>\n",
       "    </tr>\n",
       "  </thead>\n",
       "  <tbody>\n",
       "    <tr>\n",
       "      <th>0</th>\n",
       "      <td>6/2021</td>\n",
       "      <td>23.52</td>\n",
       "      <td>33.39</td>\n",
       "      <td>343.00</td>\n",
       "      <td>76.88</td>\n",
       "      <td>1.73</td>\n",
       "      <td>5.44</td>\n",
       "      <td>4.99</td>\n",
       "      <td>14.13</td>\n",
       "    </tr>\n",
       "    <tr>\n",
       "      <th>1</th>\n",
       "      <td>7/2021</td>\n",
       "      <td>25.41</td>\n",
       "      <td>34.54</td>\n",
       "      <td>406.39</td>\n",
       "      <td>84.12</td>\n",
       "      <td>1.86</td>\n",
       "      <td>6.47</td>\n",
       "      <td>4.30</td>\n",
       "      <td>17.67</td>\n",
       "    </tr>\n",
       "    <tr>\n",
       "      <th>2</th>\n",
       "      <td>8/2021</td>\n",
       "      <td>25.75</td>\n",
       "      <td>35.28</td>\n",
       "      <td>345.34</td>\n",
       "      <td>86.35</td>\n",
       "      <td>1.53</td>\n",
       "      <td>5.97</td>\n",
       "      <td>4.72</td>\n",
       "      <td>14.85</td>\n",
       "    </tr>\n",
       "    <tr>\n",
       "      <th>3</th>\n",
       "      <td>9/2021</td>\n",
       "      <td>28.20</td>\n",
       "      <td>37.97</td>\n",
       "      <td>287.55</td>\n",
       "      <td>91.19</td>\n",
       "      <td>1.18</td>\n",
       "      <td>5.65</td>\n",
       "      <td>5.18</td>\n",
       "      <td>12.46</td>\n",
       "    </tr>\n",
       "    <tr>\n",
       "      <th>4</th>\n",
       "      <td>10/2021</td>\n",
       "      <td>24.10</td>\n",
       "      <td>35.63</td>\n",
       "      <td>144.51</td>\n",
       "      <td>86.28</td>\n",
       "      <td>0.56</td>\n",
       "      <td>3.58</td>\n",
       "      <td>6.06</td>\n",
       "      <td>6.42</td>\n",
       "    </tr>\n",
       "    <tr>\n",
       "      <th>5</th>\n",
       "      <td>11/2021</td>\n",
       "      <td>19.13</td>\n",
       "      <td>32.93</td>\n",
       "      <td>39.56</td>\n",
       "      <td>83.18</td>\n",
       "      <td>0.24</td>\n",
       "      <td>1.97</td>\n",
       "      <td>6.68</td>\n",
       "      <td>1.93</td>\n",
       "    </tr>\n",
       "    <tr>\n",
       "      <th>6</th>\n",
       "      <td>12/2021</td>\n",
       "      <td>16.76</td>\n",
       "      <td>32.62</td>\n",
       "      <td>6.64</td>\n",
       "      <td>85.96</td>\n",
       "      <td>0.12</td>\n",
       "      <td>1.20</td>\n",
       "      <td>7.10</td>\n",
       "      <td>0.56</td>\n",
       "    </tr>\n",
       "    <tr>\n",
       "      <th>7</th>\n",
       "      <td>1/2022</td>\n",
       "      <td>13.95</td>\n",
       "      <td>31.65</td>\n",
       "      <td>22.32</td>\n",
       "      <td>76.49</td>\n",
       "      <td>1.68</td>\n",
       "      <td>1.17</td>\n",
       "      <td>7.54</td>\n",
       "      <td>0.12</td>\n",
       "    </tr>\n",
       "    <tr>\n",
       "      <th>8</th>\n",
       "      <td>2/2022</td>\n",
       "      <td>14.26</td>\n",
       "      <td>30.98</td>\n",
       "      <td>22.79</td>\n",
       "      <td>73.48</td>\n",
       "      <td>1.66</td>\n",
       "      <td>1.26</td>\n",
       "      <td>7.28</td>\n",
       "      <td>0.24</td>\n",
       "    </tr>\n",
       "    <tr>\n",
       "      <th>9</th>\n",
       "      <td>3/2022</td>\n",
       "      <td>15.18</td>\n",
       "      <td>31.06</td>\n",
       "      <td>43.07</td>\n",
       "      <td>70.88</td>\n",
       "      <td>1.76</td>\n",
       "      <td>1.64</td>\n",
       "      <td>7.23</td>\n",
       "      <td>1.16</td>\n",
       "    </tr>\n",
       "    <tr>\n",
       "      <th>10</th>\n",
       "      <td>4/2022</td>\n",
       "      <td>17.20</td>\n",
       "      <td>32.86</td>\n",
       "      <td>80.87</td>\n",
       "      <td>69.60</td>\n",
       "      <td>1.99</td>\n",
       "      <td>2.36</td>\n",
       "      <td>7.52</td>\n",
       "      <td>2.84</td>\n",
       "    </tr>\n",
       "    <tr>\n",
       "      <th>11</th>\n",
       "      <td>5/2022</td>\n",
       "      <td>24.13</td>\n",
       "      <td>37.67</td>\n",
       "      <td>200.85</td>\n",
       "      <td>76.39</td>\n",
       "      <td>2.13</td>\n",
       "      <td>4.33</td>\n",
       "      <td>6.58</td>\n",
       "      <td>9.03</td>\n",
       "    </tr>\n",
       "  </tbody>\n",
       "</table>\n",
       "</div>"
      ],
      "text/plain": [
       "      Month  Min Temp  Max Temp  Rainfall  Relative Humidity  Wind Speed  \\\n",
       "0    6/2021     23.52     33.39    343.00              76.88        1.73   \n",
       "1    7/2021     25.41     34.54    406.39              84.12        1.86   \n",
       "2    8/2021     25.75     35.28    345.34              86.35        1.53   \n",
       "3    9/2021     28.20     37.97    287.55              91.19        1.18   \n",
       "4   10/2021     24.10     35.63    144.51              86.28        0.56   \n",
       "5   11/2021     19.13     32.93     39.56              83.18        0.24   \n",
       "6   12/2021     16.76     32.62      6.64              85.96        0.12   \n",
       "7    1/2022     13.95     31.65     22.32              76.49        1.68   \n",
       "8    2/2022     14.26     30.98     22.79              73.48        1.66   \n",
       "9    3/2022     15.18     31.06     43.07              70.88        1.76   \n",
       "10   4/2022     17.20     32.86     80.87              69.60        1.99   \n",
       "11   5/2022     24.13     37.67    200.85              76.39        2.13   \n",
       "\n",
       "    Cloud Coverage  Bright Sunshine  Rainfall Percenatge  \n",
       "0             5.44             4.99                14.13  \n",
       "1             6.47             4.30                17.67  \n",
       "2             5.97             4.72                14.85  \n",
       "3             5.65             5.18                12.46  \n",
       "4             3.58             6.06                 6.42  \n",
       "5             1.97             6.68                 1.93  \n",
       "6             1.20             7.10                 0.56  \n",
       "7             1.17             7.54                 0.12  \n",
       "8             1.26             7.28                 0.24  \n",
       "9             1.64             7.23                 1.16  \n",
       "10            2.36             7.52                 2.84  \n",
       "11            4.33             6.58                 9.03  "
      ]
     },
     "execution_count": 47,
     "metadata": {},
     "output_type": "execute_result"
    }
   ],
   "source": [
    "# bulk prediction\n",
    "result_dataframe = []\n",
    "for i in range(0, 12):\n",
    "    month = datetime.datetime.now().month + i\n",
    "    year = datetime.datetime.now().year\n",
    "    if month > 12:\n",
    "        month = month - 12\n",
    "        year = year + 1\n",
    "        \n",
    "    pred = model.predict(np.array([[current_position['latitude'],current_position['longitude'],year,month]]))[0]\n",
    "    result_dataframe.append([str(month) + '/' + str(year), pred[0], pred[1], pred[2], pred[3], pred[4], pred[5], pred[6], pred[7]])\n",
    "    \n",
    "result_dataframe = pd.DataFrame(result_dataframe)\n",
    "result_dataframe.columns = ['Month','Min Temp','Max Temp','Rainfall','Relative Humidity',\n",
    "                            'Wind Speed','Cloud Coverage','Bright Sunshine','Rainfall Percenatge']\n",
    "\n",
    "location = Nominatim(user_agent=\"Weather Forecasting\").reverse(str(current_position['latitude']) + ', ' + str(current_position['longitude']))\n",
    "\n",
    "print('Weather Forecasting for:\\nLocation: ' + location.address + '\\nLatitude: ' + str(current_position['latitude']) + '\\nLongitude: ' + str(current_position['longitude']))\n",
    "result_dataframe"
   ]
  },
  {
   "cell_type": "code",
   "execution_count": 48,
   "metadata": {},
   "outputs": [
    {
     "data": {
      "image/png": "[encoded data removed]",
      "text/plain": [
       "<Figure size 1800x720 with 1 Axes>"
      ]
     },
     "metadata": {
      "needs_background": "light"
     },
     "output_type": "display_data"
    }
   ],
   "source": [
    "pyplot.figure(figsize=(25,10))\n",
    "\n",
    "# plot data\n",
    "ax = pyplot.gca(title = 'fig 2. Weather Forecast Graph')\n",
    "result_dataframe.plot(kind='line', x='Month', y='Min Temp', ax=ax)\n",
    "result_dataframe.plot(kind='line', x='Month', y='Max Temp', ax=ax)\n",
    "result_dataframe.plot(kind='line', x='Month', y='Rainfall', ax=ax)\n",
    "result_dataframe.plot(kind='line', x='Month', y='Relative Humidity', ax=ax)\n",
    "result_dataframe.plot(kind='line', x='Month', y='Wind Speed', ax=ax)\n",
    "result_dataframe.plot(kind='line', x='Month', y='Cloud Coverage', ax=ax)\n",
    "result_dataframe.plot(kind='line', x='Month', y='Bright Sunshine', ax=ax)\n",
    "result_dataframe.plot(kind='line', x='Month', y='Rainfall Percenatge', ax=ax)\n",
    "\n",
    "pyplot.show()"
   ]
  },
  {
   "cell_type": "code",
   "execution_count": 49,
   "metadata": {},
   "outputs": [
    {
     "data": {
      "application/vnd.plotly.v1+json": {
       "config": {
        "plotlyServerURL": "https://plot.ly"
       },
       "data": [
        {
         "hovertemplate": "Month=%{x}<br>Min Temp=%{y}<extra></extra>",
         "legendgroup": "",
         "line": {
          "color": "#636efa",
          "dash": "solid"
         },
         "mode": "lines",
         "name": "",
         "orientation": "v",
         "showlegend": false,
         "type": "scatter",
         "x": [
          "6/2021",
          "7/2021",
          "8/2021",
          "9/2021",
          "10/2021",
          "11/2021",
          "12/2021",
          "1/2022",
          "2/2022",
          "3/2022",
          "4/2022",
          "5/2022"
         ],
         "xaxis": "x",
         "y": [
          23.5201416015625,
          25.410959243774414,
          25.75194549560547,
          28.197879791259766,
          24.096946716308594,
          19.130126953125,
          16.763690948486328,
          13.951457977294922,
          14.26198959350586,
          15.175819396972656,
          17.19612693786621,
          24.133380889892578
         ],
         "yaxis": "y"
        }
       ],
       "layout": {
        "legend": {
         "tracegroupgap": 0
        },
        "template": {
         "data": {
          "bar": [
           {
            "error_x": {
             "color": "#2a3f5f"
            },
            "error_y": {
             "color": "#2a3f5f"
            },
            "marker": {
             "line": {
              "color": "#E5ECF6",
              "width": 0.5
             }
            },
            "type": "bar"
           }
          ],
          "barpolar": [
           {
            "marker": {
             "line": {
              "color": "#E5ECF6",
              "width": 0.5
             }
            },
            "type": "barpolar"
           }
          ],
          "carpet": [
           {
            "aaxis": {
             "endlinecolor": "#2a3f5f",
             "gridcolor": "white",
             "linecolor": "white",
             "minorgridcolor": "white",
             "startlinecolor": "#2a3f5f"
            },
            "baxis": {
             "endlinecolor": "#2a3f5f",
             "gridcolor": "white",
             "linecolor": "white",
             "minorgridcolor": "white",
             "startlinecolor": "#2a3f5f"
            },
            "type": "carpet"
           }
          ],
          "choropleth": [
           {
            "colorbar": {
             "outlinewidth": 0,
             "ticks": ""
            },
            "type": "choropleth"
           }
          ],
          "contour": [
           {
            "colorbar": {
             "outlinewidth": 0,
             "ticks": ""
            },
            "colorscale": [
             [
              0,
              "#0d0887"
             ],
             [
              0.1111111111111111,
              "#46039f"
             ],
             [
              0.2222222222222222,
              "#7201a8"
             ],
             [
              0.3333333333333333,
              "#9c179e"
             ],
             [
              0.4444444444444444,
              "#bd3786"
             ],
             [
              0.5555555555555556,
              "#d8576b"
             ],
             [
              0.6666666666666666,
              "#ed7953"
             ],
             [
              0.7777777777777778,
              "#fb9f3a"
             ],
             [
              0.8888888888888888,
              "#fdca26"
             ],
             [
              1,
              "#f0f921"
             ]
            ],
            "type": "contour"
           }
          ],
          "contourcarpet": [
           {
            "colorbar": {
             "outlinewidth": 0,
             "ticks": ""
            },
            "type": "contourcarpet"
           }
          ],
          "heatmap": [
           {
            "colorbar": {
             "outlinewidth": 0,
             "ticks": ""
            },
            "colorscale": [
             [
              0,
              "#0d0887"
             ],
             [
              0.1111111111111111,
              "#46039f"
             ],
             [
              0.2222222222222222,
              "#7201a8"
             ],
             [
              0.3333333333333333,
              "#9c179e"
             ],
             [
              0.4444444444444444,
              "#bd3786"
             ],
             [
              0.5555555555555556,
              "#d8576b"
             ],
             [
              0.6666666666666666,
              "#ed7953"
             ],
             [
              0.7777777777777778,
              "#fb9f3a"
             ],
             [
              0.8888888888888888,
              "#fdca26"
             ],
             [
              1,
              "#f0f921"
             ]
            ],
            "type": "heatmap"
           }
          ],
          "heatmapgl": [
           {
            "colorbar": {
             "outlinewidth": 0,
             "ticks": ""
            },
            "colorscale": [
             [
              0,
              "#0d0887"
             ],
             [
              0.1111111111111111,
              "#46039f"
             ],
             [
              0.2222222222222222,
              "#7201a8"
             ],
             [
              0.3333333333333333,
              "#9c179e"
             ],
             [
              0.4444444444444444,
              "#bd3786"
             ],
             [
              0.5555555555555556,
              "#d8576b"
             ],
             [
              0.6666666666666666,
              "#ed7953"
             ],
             [
              0.7777777777777778,
              "#fb9f3a"
             ],
             [
              0.8888888888888888,
              "#fdca26"
             ],
             [
              1,
              "#f0f921"
             ]
            ],
            "type": "heatmapgl"
           }
          ],
          "histogram": [
           {
            "marker": {
             "colorbar": {
              "outlinewidth": 0,
              "ticks": ""
             }
            },
            "type": "histogram"
           }
          ],
          "histogram2d": [
           {
            "colorbar": {
             "outlinewidth": 0,
             "ticks": ""
            },
            "colorscale": [
             [
              0,
              "#0d0887"
             ],
             [
              0.1111111111111111,
              "#46039f"
             ],
             [
              0.2222222222222222,
              "#7201a8"
             ],
             [
              0.3333333333333333,
              "#9c179e"
             ],
             [
              0.4444444444444444,
              "#bd3786"
             ],
             [
              0.5555555555555556,
              "#d8576b"
             ],
             [
              0.6666666666666666,
              "#ed7953"
             ],
             [
              0.7777777777777778,
              "#fb9f3a"
             ],
             [
              0.8888888888888888,
              "#fdca26"
             ],
             [
              1,
              "#f0f921"
             ]
            ],
            "type": "histogram2d"
           }
          ],
          "histogram2dcontour": [
           {
            "colorbar": {
             "outlinewidth": 0,
             "ticks": ""
            },
            "colorscale": [
             [
              0,
              "#0d0887"
             ],
             [
              0.1111111111111111,
              "#46039f"
             ],
             [
              0.2222222222222222,
              "#7201a8"
             ],
             [
              0.3333333333333333,
              "#9c179e"
             ],
             [
              0.4444444444444444,
              "#bd3786"
             ],
             [
              0.5555555555555556,
              "#d8576b"
             ],
             [
              0.6666666666666666,
              "#ed7953"
             ],
             [
              0.7777777777777778,
              "#fb9f3a"
             ],
             [
              0.8888888888888888,
              "#fdca26"
             ],
             [
              1,
              "#f0f921"
             ]
            ],
            "type": "histogram2dcontour"
           }
          ],
          "mesh3d": [
           {
            "colorbar": {
             "outlinewidth": 0,
             "ticks": ""
            },
            "type": "mesh3d"
           }
          ],
          "parcoords": [
           {
            "line": {
             "colorbar": {
              "outlinewidth": 0,
              "ticks": ""
             }
            },
            "type": "parcoords"
           }
          ],
          "pie": [
           {
            "automargin": true,
            "type": "pie"
           }
          ],
          "scatter": [
           {
            "marker": {
             "colorbar": {
              "outlinewidth": 0,
              "ticks": ""
             }
            },
            "type": "scatter"
           }
          ],
          "scatter3d": [
           {
            "line": {
             "colorbar": {
              "outlinewidth": 0,
              "ticks": ""
             }
            },
            "marker": {
             "colorbar": {
              "outlinewidth": 0,
              "ticks": ""
             }
            },
            "type": "scatter3d"
           }
          ],
          "scattercarpet": [
           {
            "marker": {
             "colorbar": {
              "outlinewidth": 0,
              "ticks": ""
             }
            },
            "type": "scattercarpet"
           }
          ],
          "scattergeo": [
           {
            "marker": {
             "colorbar": {
              "outlinewidth": 0,
              "ticks": ""
             }
            },
            "type": "scattergeo"
           }
          ],
          "scattergl": [
           {
            "marker": {
             "colorbar": {
              "outlinewidth": 0,
              "ticks": ""
             }
            },
            "type": "scattergl"
           }
          ],
          "scattermapbox": [
           {
            "marker": {
             "colorbar": {
              "outlinewidth": 0,
              "ticks": ""
             }
            },
            "type": "scattermapbox"
           }
          ],
          "scatterpolar": [
           {
            "marker": {
             "colorbar": {
              "outlinewidth": 0,
              "ticks": ""
             }
            },
            "type": "scatterpolar"
           }
          ],
          "scatterpolargl": [
           {
            "marker": {
             "colorbar": {
              "outlinewidth": 0,
              "ticks": ""
             }
            },
            "type": "scatterpolargl"
           }
          ],
          "scatterternary": [
           {
            "marker": {
             "colorbar": {
              "outlinewidth": 0,
              "ticks": ""
             }
            },
            "type": "scatterternary"
           }
          ],
          "surface": [
           {
            "colorbar": {
             "outlinewidth": 0,
             "ticks": ""
            },
            "colorscale": [
             [
              0,
              "#0d0887"
             ],
             [
              0.1111111111111111,
              "#46039f"
             ],
             [
              0.2222222222222222,
              "#7201a8"
             ],
             [
              0.3333333333333333,
              "#9c179e"
             ],
             [
              0.4444444444444444,
              "#bd3786"
             ],
             [
              0.5555555555555556,
              "#d8576b"
             ],
             [
              0.6666666666666666,
              "#ed7953"
             ],
             [
              0.7777777777777778,
              "#fb9f3a"
             ],
             [
              0.8888888888888888,
              "#fdca26"
             ],
             [
              1,
              "#f0f921"
             ]
            ],
            "type": "surface"
           }
          ],
          "table": [
           {
            "cells": {
             "fill": {
              "color": "#EBF0F8"
             },
             "line": {
              "color": "white"
             }
            },
            "header": {
             "fill": {
              "color": "#C8D4E3"
             },
             "line": {
              "color": "white"
             }
            },
            "type": "table"
           }
          ]
         },
         "layout": {
          "annotationdefaults": {
           "arrowcolor": "#2a3f5f",
           "arrowhead": 0,
           "arrowwidth": 1
          },
          "autotypenumbers": "strict",
          "coloraxis": {
           "colorbar": {
            "outlinewidth": 0,
            "ticks": ""
           }
          },
          "colorscale": {
           "diverging": [
            [
             0,
             "#8e0152"
            ],
            [
             0.1,
             "#c51b7d"
            ],
            [
             0.2,
             "#de77ae"
            ],
            [
             0.3,
             "#f1b6da"
            ],
            [
             0.4,
             "#fde0ef"
            ],
            [
             0.5,
             "#f7f7f7"
            ],
            [
             0.6,
             "#e6f5d0"
            ],
            [
             0.7,
             "#b8e186"
            ],
            [
             0.8,
             "#7fbc41"
            ],
            [
             0.9,
             "#4d9221"
            ],
            [
             1,
             "#276419"
            ]
           ],
           "sequential": [
            [
             0,
             "#0d0887"
            ],
            [
             0.1111111111111111,
             "#46039f"
            ],
            [
             0.2222222222222222,
             "#7201a8"
            ],
            [
             0.3333333333333333,
             "#9c179e"
            ],
            [
             0.4444444444444444,
             "#bd3786"
            ],
            [
             0.5555555555555556,
             "#d8576b"
            ],
            [
             0.6666666666666666,
             "#ed7953"
            ],
            [
             0.7777777777777778,
             "#fb9f3a"
            ],
            [
             0.8888888888888888,
             "#fdca26"
            ],
            [
             1,
             "#f0f921"
            ]
           ],
           "sequentialminus": [
            [
             0,
             "#0d0887"
            ],
            [
             0.1111111111111111,
             "#46039f"
            ],
            [
             0.2222222222222222,
             "#7201a8"
            ],
            [
             0.3333333333333333,
             "#9c179e"
            ],
            [
             0.4444444444444444,
             "#bd3786"
            ],
            [
             0.5555555555555556,
             "#d8576b"
            ],
            [
             0.6666666666666666,
             "#ed7953"
            ],
            [
             0.7777777777777778,
             "#fb9f3a"
            ],
            [
             0.8888888888888888,
             "#fdca26"
            ],
            [
             1,
             "#f0f921"
            ]
           ]
          },
          "colorway": [
           "#636efa",
           "#EF553B",
           "#00cc96",
           "#ab63fa",
           "#FFA15A",
           "#19d3f3",
           "#FF6692",
           "#B6E880",
           "#FF97FF",
           "#FECB52"
          ],
          "font": {
           "color": "#2a3f5f"
          },
          "geo": {
           "bgcolor": "white",
           "lakecolor": "white",
           "landcolor": "#E5ECF6",
           "showlakes": true,
           "showland": true,
           "subunitcolor": "white"
          },
          "hoverlabel": {
           "align": "left"
          },
          "hovermode": "closest",
          "mapbox": {
           "style": "light"
          },
          "paper_bgcolor": "white",
          "plot_bgcolor": "#E5ECF6",
          "polar": {
           "angularaxis": {
            "gridcolor": "white",
            "linecolor": "white",
            "ticks": ""
           },
           "bgcolor": "#E5ECF6",
           "radialaxis": {
            "gridcolor": "white",
            "linecolor": "white",
            "ticks": ""
           }
          },
          "scene": {
           "xaxis": {
            "backgroundcolor": "#E5ECF6",
            "gridcolor": "white",
            "gridwidth": 2,
            "linecolor": "white",
            "showbackground": true,
            "ticks": "",
            "zerolinecolor": "white"
           },
           "yaxis": {
            "backgroundcolor": "#E5ECF6",
            "gridcolor": "white",
            "gridwidth": 2,
            "linecolor": "white",
            "showbackground": true,
            "ticks": "",
            "zerolinecolor": "white"
           },
           "zaxis": {
            "backgroundcolor": "#E5ECF6",
            "gridcolor": "white",
            "gridwidth": 2,
            "linecolor": "white",
            "showbackground": true,
            "ticks": "",
            "zerolinecolor": "white"
           }
          },
          "shapedefaults": {
           "line": {
            "color": "#2a3f5f"
           }
          },
          "ternary": {
           "aaxis": {
            "gridcolor": "white",
            "linecolor": "white",
            "ticks": ""
           },
           "baxis": {
            "gridcolor": "white",
            "linecolor": "white",
            "ticks": ""
           },
           "bgcolor": "#E5ECF6",
           "caxis": {
            "gridcolor": "white",
            "linecolor": "white",
            "ticks": ""
           }
          },
          "title": {
           "x": 0.05
          },
          "xaxis": {
           "automargin": true,
           "gridcolor": "white",
           "linecolor": "white",
           "ticks": "",
           "title": {
            "standoff": 15
           },
           "zerolinecolor": "white",
           "zerolinewidth": 2
          },
          "yaxis": {
           "automargin": true,
           "gridcolor": "white",
           "linecolor": "white",
           "ticks": "",
           "title": {
            "standoff": 15
           },
           "zerolinecolor": "white",
           "zerolinewidth": 2
          }
         }
        },
        "title": {
         "text": "fig 5. Minimum Temperature for next year"
        },
        "xaxis": {
         "anchor": "y",
         "domain": [
          0,
          1
         ],
         "title": {
          "text": "Month"
         }
        },
        "yaxis": {
         "anchor": "x",
         "domain": [
          0,
          1
         ],
         "title": {
          "text": "Min Temp"
         }
        }
       }
      },
      "text/html": [
       "<div>                            <div id=\"dd869c6c-293c-48c2-862c-61ab7d605fa1\" class=\"plotly-graph-div\" style=\"height:525px; width:100%;\"></div>            <script type=\"text/javascript\">                require([\"plotly\"], function(Plotly) {                    window.PLOTLYENV=window.PLOTLYENV || {};                                    if (document.getElementById(\"dd869c6c-293c-48c2-862c-61ab7d605fa1\")) {                    Plotly.newPlot(                        \"dd869c6c-293c-48c2-862c-61ab7d605fa1\",                        [{\"hovertemplate\": \"Month=%{x}<br>Min Temp=%{y}<extra></extra>\", \"legendgroup\": \"\", \"line\": {\"color\": \"#636efa\", \"dash\": \"solid\"}, \"mode\": \"lines\", \"name\": \"\", \"orientation\": \"v\", \"showlegend\": false, \"type\": \"scatter\", \"x\": [\"6/2021\", \"7/2021\", \"8/2021\", \"9/2021\", \"10/2021\", \"11/2021\", \"12/2021\", \"1/2022\", \"2/2022\", \"3/2022\", \"4/2022\", \"5/2022\"], \"xaxis\": \"x\", \"y\": [23.5201416015625, 25.410959243774414, 25.75194549560547, 28.197879791259766, 24.096946716308594, 19.130126953125, 16.763690948486328, 13.951457977294922, 14.26198959350586, 15.175819396972656, 17.19612693786621, 24.133380889892578], \"yaxis\": \"y\"}],                        {\"legend\": {\"tracegroupgap\": 0}, \"template\": {\"data\": {\"bar\": [{\"error_x\": {\"color\": \"#2a3f5f\"}, \"error_y\": {\"color\": \"#2a3f5f\"}, \"marker\": {\"line\": {\"color\": \"#E5ECF6\", \"width\": 0.5}}, \"type\": \"bar\"}], \"barpolar\": [{\"marker\": {\"line\": {\"color\": \"#E5ECF6\", \"width\": 0.5}}, \"type\": \"barpolar\"}], \"carpet\": [{\"aaxis\": {\"endlinecolor\": \"#2a3f5f\", \"gridcolor\": \"white\", \"linecolor\": \"white\", \"minorgridcolor\": \"white\", \"startlinecolor\": \"#2a3f5f\"}, \"baxis\": {\"endlinecolor\": \"#2a3f5f\", \"gridcolor\": \"white\", \"linecolor\": \"white\", \"minorgridcolor\": \"white\", \"startlinecolor\": \"#2a3f5f\"}, \"type\": \"carpet\"}], \"choropleth\": [{\"colorbar\": {\"outlinewidth\": 0, \"ticks\": \"\"}, \"type\": \"choropleth\"}], \"contour\": [{\"colorbar\": {\"outlinewidth\": 0, \"ticks\": \"\"}, \"colorscale\": [[0.0, \"#0d0887\"], [0.1111111111111111, \"#46039f\"], [0.2222222222222222, \"#7201a8\"], [0.3333333333333333, \"#9c179e\"], [0.4444444444444444, \"#bd3786\"], [0.5555555555555556, \"#d8576b\"], [0.6666666666666666, \"#ed7953\"], [0.7777777777777778, \"#fb9f3a\"], [0.8888888888888888, \"#fdca26\"], [1.0, \"#f0f921\"]], \"type\": \"contour\"}], \"contourcarpet\": [{\"colorbar\": {\"outlinewidth\": 0, \"ticks\": \"\"}, \"type\": \"contourcarpet\"}], \"heatmap\": [{\"colorbar\": {\"outlinewidth\": 0, \"ticks\": \"\"}, \"colorscale\": [[0.0, \"#0d0887\"], [0.1111111111111111, \"#46039f\"], [0.2222222222222222, \"#7201a8\"], [0.3333333333333333, \"#9c179e\"], [0.4444444444444444, \"#bd3786\"], [0.5555555555555556, \"#d8576b\"], [0.6666666666666666, \"#ed7953\"], [0.7777777777777778, \"#fb9f3a\"], [0.8888888888888888, \"#fdca26\"], [1.0, \"#f0f921\"]], \"type\": \"heatmap\"}], \"heatmapgl\": [{\"colorbar\": {\"outlinewidth\": 0, \"ticks\": \"\"}, \"colorscale\": [[0.0, \"#0d0887\"], [0.1111111111111111, \"#46039f\"], [0.2222222222222222, \"#7201a8\"], [0.3333333333333333, \"#9c179e\"], [0.4444444444444444, \"#bd3786\"], [0.5555555555555556, \"#d8576b\"], [0.6666666666666666, \"#ed7953\"], [0.7777777777777778, \"#fb9f3a\"], [0.8888888888888888, \"#fdca26\"], [1.0, \"#f0f921\"]], \"type\": \"heatmapgl\"}], \"histogram\": [{\"marker\": {\"colorbar\": {\"outlinewidth\": 0, \"ticks\": \"\"}}, \"type\": \"histogram\"}], \"histogram2d\": [{\"colorbar\": {\"outlinewidth\": 0, \"ticks\": \"\"}, \"colorscale\": [[0.0, \"#0d0887\"], [0.1111111111111111, \"#46039f\"], [0.2222222222222222, \"#7201a8\"], [0.3333333333333333, \"#9c179e\"], [0.4444444444444444, \"#bd3786\"], [0.5555555555555556, \"#d8576b\"], [0.6666666666666666, \"#ed7953\"], [0.7777777777777778, \"#fb9f3a\"], [0.8888888888888888, \"#fdca26\"], [1.0, \"#f0f921\"]], \"type\": \"histogram2d\"}], \"histogram2dcontour\": [{\"colorbar\": {\"outlinewidth\": 0, \"ticks\": \"\"}, \"colorscale\": [[0.0, \"#0d0887\"], [0.1111111111111111, \"#46039f\"], [0.2222222222222222, \"#7201a8\"], [0.3333333333333333, \"#9c179e\"], [0.4444444444444444, \"#bd3786\"], [0.5555555555555556, \"#d8576b\"], [0.6666666666666666, \"#ed7953\"], [0.7777777777777778, \"#fb9f3a\"], [0.8888888888888888, \"#fdca26\"], [1.0, \"#f0f921\"]], \"type\": \"histogram2dcontour\"}], \"mesh3d\": [{\"colorbar\": {\"outlinewidth\": 0, \"ticks\": \"\"}, \"type\": \"mesh3d\"}], \"parcoords\": [{\"line\": {\"colorbar\": {\"outlinewidth\": 0, \"ticks\": \"\"}}, \"type\": \"parcoords\"}], \"pie\": [{\"automargin\": true, \"type\": \"pie\"}], \"scatter\": [{\"marker\": {\"colorbar\": {\"outlinewidth\": 0, \"ticks\": \"\"}}, \"type\": \"scatter\"}], \"scatter3d\": [{\"line\": {\"colorbar\": {\"outlinewidth\": 0, \"ticks\": \"\"}}, \"marker\": {\"colorbar\": {\"outlinewidth\": 0, \"ticks\": \"\"}}, \"type\": \"scatter3d\"}], \"scattercarpet\": [{\"marker\": {\"colorbar\": {\"outlinewidth\": 0, \"ticks\": \"\"}}, \"type\": \"scattercarpet\"}], \"scattergeo\": [{\"marker\": {\"colorbar\": {\"outlinewidth\": 0, \"ticks\": \"\"}}, \"type\": \"scattergeo\"}], \"scattergl\": [{\"marker\": {\"colorbar\": {\"outlinewidth\": 0, \"ticks\": \"\"}}, \"type\": \"scattergl\"}], \"scattermapbox\": [{\"marker\": {\"colorbar\": {\"outlinewidth\": 0, \"ticks\": \"\"}}, \"type\": \"scattermapbox\"}], \"scatterpolar\": [{\"marker\": {\"colorbar\": {\"outlinewidth\": 0, \"ticks\": \"\"}}, \"type\": \"scatterpolar\"}], \"scatterpolargl\": [{\"marker\": {\"colorbar\": {\"outlinewidth\": 0, \"ticks\": \"\"}}, \"type\": \"scatterpolargl\"}], \"scatterternary\": [{\"marker\": {\"colorbar\": {\"outlinewidth\": 0, \"ticks\": \"\"}}, \"type\": \"scatterternary\"}], \"surface\": [{\"colorbar\": {\"outlinewidth\": 0, \"ticks\": \"\"}, \"colorscale\": [[0.0, \"#0d0887\"], [0.1111111111111111, \"#46039f\"], [0.2222222222222222, \"#7201a8\"], [0.3333333333333333, \"#9c179e\"], [0.4444444444444444, \"#bd3786\"], [0.5555555555555556, \"#d8576b\"], [0.6666666666666666, \"#ed7953\"], [0.7777777777777778, \"#fb9f3a\"], [0.8888888888888888, \"#fdca26\"], [1.0, \"#f0f921\"]], \"type\": \"surface\"}], \"table\": [{\"cells\": {\"fill\": {\"color\": \"#EBF0F8\"}, \"line\": {\"color\": \"white\"}}, \"header\": {\"fill\": {\"color\": \"#C8D4E3\"}, \"line\": {\"color\": \"white\"}}, \"type\": \"table\"}]}, \"layout\": {\"annotationdefaults\": {\"arrowcolor\": \"#2a3f5f\", \"arrowhead\": 0, \"arrowwidth\": 1}, \"autotypenumbers\": \"strict\", \"coloraxis\": {\"colorbar\": {\"outlinewidth\": 0, \"ticks\": \"\"}}, \"colorscale\": {\"diverging\": [[0, \"#8e0152\"], [0.1, \"#c51b7d\"], [0.2, \"#de77ae\"], [0.3, \"#f1b6da\"], [0.4, \"#fde0ef\"], [0.5, \"#f7f7f7\"], [0.6, \"#e6f5d0\"], [0.7, \"#b8e186\"], [0.8, \"#7fbc41\"], [0.9, \"#4d9221\"], [1, \"#276419\"]], \"sequential\": [[0.0, \"#0d0887\"], [0.1111111111111111, \"#46039f\"], [0.2222222222222222, \"#7201a8\"], [0.3333333333333333, \"#9c179e\"], [0.4444444444444444, \"#bd3786\"], [0.5555555555555556, \"#d8576b\"], [0.6666666666666666, \"#ed7953\"], [0.7777777777777778, \"#fb9f3a\"], [0.8888888888888888, \"#fdca26\"], [1.0, \"#f0f921\"]], \"sequentialminus\": [[0.0, \"#0d0887\"], [0.1111111111111111, \"#46039f\"], [0.2222222222222222, \"#7201a8\"], [0.3333333333333333, \"#9c179e\"], [0.4444444444444444, \"#bd3786\"], [0.5555555555555556, \"#d8576b\"], [0.6666666666666666, \"#ed7953\"], [0.7777777777777778, \"#fb9f3a\"], [0.8888888888888888, \"#fdca26\"], [1.0, \"#f0f921\"]]}, \"colorway\": [\"#636efa\", \"#EF553B\", \"#00cc96\", \"#ab63fa\", \"#FFA15A\", \"#19d3f3\", \"#FF6692\", \"#B6E880\", \"#FF97FF\", \"#FECB52\"], \"font\": {\"color\": \"#2a3f5f\"}, \"geo\": {\"bgcolor\": \"white\", \"lakecolor\": \"white\", \"landcolor\": \"#E5ECF6\", \"showlakes\": true, \"showland\": true, \"subunitcolor\": \"white\"}, \"hoverlabel\": {\"align\": \"left\"}, \"hovermode\": \"closest\", \"mapbox\": {\"style\": \"light\"}, \"paper_bgcolor\": \"white\", \"plot_bgcolor\": \"#E5ECF6\", \"polar\": {\"angularaxis\": {\"gridcolor\": \"white\", \"linecolor\": \"white\", \"ticks\": \"\"}, \"bgcolor\": \"#E5ECF6\", \"radialaxis\": {\"gridcolor\": \"white\", \"linecolor\": \"white\", \"ticks\": \"\"}}, \"scene\": {\"xaxis\": {\"backgroundcolor\": \"#E5ECF6\", \"gridcolor\": \"white\", \"gridwidth\": 2, \"linecolor\": \"white\", \"showbackground\": true, \"ticks\": \"\", \"zerolinecolor\": \"white\"}, \"yaxis\": {\"backgroundcolor\": \"#E5ECF6\", \"gridcolor\": \"white\", \"gridwidth\": 2, \"linecolor\": \"white\", \"showbackground\": true, \"ticks\": \"\", \"zerolinecolor\": \"white\"}, \"zaxis\": {\"backgroundcolor\": \"#E5ECF6\", \"gridcolor\": \"white\", \"gridwidth\": 2, \"linecolor\": \"white\", \"showbackground\": true, \"ticks\": \"\", \"zerolinecolor\": \"white\"}}, \"shapedefaults\": {\"line\": {\"color\": \"#2a3f5f\"}}, \"ternary\": {\"aaxis\": {\"gridcolor\": \"white\", \"linecolor\": \"white\", \"ticks\": \"\"}, \"baxis\": {\"gridcolor\": \"white\", \"linecolor\": \"white\", \"ticks\": \"\"}, \"bgcolor\": \"#E5ECF6\", \"caxis\": {\"gridcolor\": \"white\", \"linecolor\": \"white\", \"ticks\": \"\"}}, \"title\": {\"x\": 0.05}, \"xaxis\": {\"automargin\": true, \"gridcolor\": \"white\", \"linecolor\": \"white\", \"ticks\": \"\", \"title\": {\"standoff\": 15}, \"zerolinecolor\": \"white\", \"zerolinewidth\": 2}, \"yaxis\": {\"automargin\": true, \"gridcolor\": \"white\", \"linecolor\": \"white\", \"ticks\": \"\", \"title\": {\"standoff\": 15}, \"zerolinecolor\": \"white\", \"zerolinewidth\": 2}}}, \"title\": {\"text\": \"fig 5. Minimum Temperature for next year\"}, \"xaxis\": {\"anchor\": \"y\", \"domain\": [0.0, 1.0], \"title\": {\"text\": \"Month\"}}, \"yaxis\": {\"anchor\": \"x\", \"domain\": [0.0, 1.0], \"title\": {\"text\": \"Min Temp\"}}},                        {\"responsive\": true}                    ).then(function(){\n",
       "                            \n",
       "var gd = document.getElementById('dd869c6c-293c-48c2-862c-61ab7d605fa1');\n",
       "var x = new MutationObserver(function (mutations, observer) {{\n",
       "        var display = window.getComputedStyle(gd).display;\n",
       "        if (!display || display === 'none') {{\n",
       "            console.log([gd, 'removed!']);\n",
       "            Plotly.purge(gd);\n",
       "            observer.disconnect();\n",
       "        }}\n",
       "}});\n",
       "\n",
       "// Listen for the removal of the full notebook cells\n",
       "var notebookContainer = gd.closest('#notebook-container');\n",
       "if (notebookContainer) {{\n",
       "    x.observe(notebookContainer, {childList: true});\n",
       "}}\n",
       "\n",
       "// Listen for the clearing of the current output cell\n",
       "var outputEl = gd.closest('.output');\n",
       "if (outputEl) {{\n",
       "    x.observe(outputEl, {childList: true});\n",
       "}}\n",
       "\n",
       "                        })                };                });            </script>        </div>"
      ]
     },
     "metadata": {},
     "output_type": "display_data"
    }
   ],
   "source": [
    "fig = px.line(result_dataframe,x='Month', y='Min Temp', title = 'fig 3. Minimum Temperature for next year')\n",
    "fig.show()"
   ]
  },
  {
   "cell_type": "code",
   "execution_count": 50,
   "metadata": {},
   "outputs": [
    {
     "data": {
      "application/vnd.plotly.v1+json": {
       "config": {
        "plotlyServerURL": "https://plot.ly"
       },
       "data": [
        {
         "alignmentgroup": "True",
         "hovertemplate": "Month=%{x}<br>Max Temp=%{y}<extra></extra>",
         "legendgroup": "",
         "marker": {
          "color": "#636efa"
         },
         "name": "",
         "offsetgroup": "",
         "orientation": "v",
         "showlegend": false,
         "textposition": "auto",
         "type": "bar",
         "x": [
          "6/2021",
          "7/2021",
          "8/2021",
          "9/2021",
          "10/2021",
          "11/2021",
          "12/2021",
          "1/2022",
          "2/2022",
          "3/2022",
          "4/2022",
          "5/2022"
         ],
         "xaxis": "x",
         "y": [
          33.386959075927734,
          34.5360221862793,
          35.283714294433594,
          37.96730041503906,
          35.63087463378906,
          32.93401336669922,
          32.61650848388672,
          31.648103713989258,
          30.977819442749023,
          31.061906814575195,
          32.857635498046875,
          37.668190002441406
         ],
         "yaxis": "y"
        }
       ],
       "layout": {
        "barmode": "relative",
        "legend": {
         "tracegroupgap": 0
        },
        "template": {
         "data": {
          "bar": [
           {
            "error_x": {
             "color": "#2a3f5f"
            },
            "error_y": {
             "color": "#2a3f5f"
            },
            "marker": {
             "line": {
              "color": "#E5ECF6",
              "width": 0.5
             }
            },
            "type": "bar"
           }
          ],
          "barpolar": [
           {
            "marker": {
             "line": {
              "color": "#E5ECF6",
              "width": 0.5
             }
            },
            "type": "barpolar"
           }
          ],
          "carpet": [
           {
            "aaxis": {
             "endlinecolor": "#2a3f5f",
             "gridcolor": "white",
             "linecolor": "white",
             "minorgridcolor": "white",
             "startlinecolor": "#2a3f5f"
            },
            "baxis": {
             "endlinecolor": "#2a3f5f",
             "gridcolor": "white",
             "linecolor": "white",
             "minorgridcolor": "white",
             "startlinecolor": "#2a3f5f"
            },
            "type": "carpet"
           }
          ],
          "choropleth": [
           {
            "colorbar": {
             "outlinewidth": 0,
             "ticks": ""
            },
            "type": "choropleth"
           }
          ],
          "contour": [
           {
            "colorbar": {
             "outlinewidth": 0,
             "ticks": ""
            },
            "colorscale": [
             [
              0,
              "#0d0887"
             ],
             [
              0.1111111111111111,
              "#46039f"
             ],
             [
              0.2222222222222222,
              "#7201a8"
             ],
             [
              0.3333333333333333,
              "#9c179e"
             ],
             [
              0.4444444444444444,
              "#bd3786"
             ],
             [
              0.5555555555555556,
              "#d8576b"
             ],
             [
              0.6666666666666666,
              "#ed7953"
             ],
             [
              0.7777777777777778,
              "#fb9f3a"
             ],
             [
              0.8888888888888888,
              "#fdca26"
             ],
             [
              1,
              "#f0f921"
             ]
            ],
            "type": "contour"
           }
          ],
          "contourcarpet": [
           {
            "colorbar": {
             "outlinewidth": 0,
             "ticks": ""
            },
            "type": "contourcarpet"
           }
          ],
          "heatmap": [
           {
            "colorbar": {
             "outlinewidth": 0,
             "ticks": ""
            },
            "colorscale": [
             [
              0,
              "#0d0887"
             ],
             [
              0.1111111111111111,
              "#46039f"
             ],
             [
              0.2222222222222222,
              "#7201a8"
             ],
             [
              0.3333333333333333,
              "#9c179e"
             ],
             [
              0.4444444444444444,
              "#bd3786"
             ],
             [
              0.5555555555555556,
              "#d8576b"
             ],
             [
              0.6666666666666666,
              "#ed7953"
             ],
             [
              0.7777777777777778,
              "#fb9f3a"
             ],
             [
              0.8888888888888888,
              "#fdca26"
             ],
             [
              1,
              "#f0f921"
             ]
            ],
            "type": "heatmap"
           }
          ],
          "heatmapgl": [
           {
            "colorbar": {
             "outlinewidth": 0,
             "ticks": ""
            },
            "colorscale": [
             [
              0,
              "#0d0887"
             ],
             [
              0.1111111111111111,
              "#46039f"
             ],
             [
              0.2222222222222222,
              "#7201a8"
             ],
             [
              0.3333333333333333,
              "#9c179e"
             ],
             [
              0.4444444444444444,
              "#bd3786"
             ],
             [
              0.5555555555555556,
              "#d8576b"
             ],
             [
              0.6666666666666666,
              "#ed7953"
             ],
             [
              0.7777777777777778,
              "#fb9f3a"
             ],
             [
              0.8888888888888888,
              "#fdca26"
             ],
             [
              1,
              "#f0f921"
             ]
            ],
            "type": "heatmapgl"
           }
          ],
          "histogram": [
           {
            "marker": {
             "colorbar": {
              "outlinewidth": 0,
              "ticks": ""
             }
            },
            "type": "histogram"
           }
          ],
          "histogram2d": [
           {
            "colorbar": {
             "outlinewidth": 0,
             "ticks": ""
            },
            "colorscale": [
             [
              0,
              "#0d0887"
             ],
             [
              0.1111111111111111,
              "#46039f"
             ],
             [
              0.2222222222222222,
              "#7201a8"
             ],
             [
              0.3333333333333333,
              "#9c179e"
             ],
             [
              0.4444444444444444,
              "#bd3786"
             ],
             [
              0.5555555555555556,
              "#d8576b"
             ],
             [
              0.6666666666666666,
              "#ed7953"
             ],
             [
              0.7777777777777778,
              "#fb9f3a"
             ],
             [
              0.8888888888888888,
              "#fdca26"
             ],
             [
              1,
              "#f0f921"
             ]
            ],
            "type": "histogram2d"
           }
          ],
          "histogram2dcontour": [
           {
            "colorbar": {
             "outlinewidth": 0,
             "ticks": ""
            },
            "colorscale": [
             [
              0,
              "#0d0887"
             ],
             [
              0.1111111111111111,
              "#46039f"
             ],
             [
              0.2222222222222222,
              "#7201a8"
             ],
             [
              0.3333333333333333,
              "#9c179e"
             ],
             [
              0.4444444444444444,
              "#bd3786"
             ],
             [
              0.5555555555555556,
              "#d8576b"
             ],
             [
              0.6666666666666666,
              "#ed7953"
             ],
             [
              0.7777777777777778,
              "#fb9f3a"
             ],
             [
              0.8888888888888888,
              "#fdca26"
             ],
             [
              1,
              "#f0f921"
             ]
            ],
            "type": "histogram2dcontour"
           }
          ],
          "mesh3d": [
           {
            "colorbar": {
             "outlinewidth": 0,
             "ticks": ""
            },
            "type": "mesh3d"
           }
          ],
          "parcoords": [
           {
            "line": {
             "colorbar": {
              "outlinewidth": 0,
              "ticks": ""
             }
            },
            "type": "parcoords"
           }
          ],
          "pie": [
           {
            "automargin": true,
            "type": "pie"
           }
          ],
          "scatter": [
           {
            "marker": {
             "colorbar": {
              "outlinewidth": 0,
              "ticks": ""
             }
            },
            "type": "scatter"
           }
          ],
          "scatter3d": [
           {
            "line": {
             "colorbar": {
              "outlinewidth": 0,
              "ticks": ""
             }
            },
            "marker": {
             "colorbar": {
              "outlinewidth": 0,
              "ticks": ""
             }
            },
            "type": "scatter3d"
           }
          ],
          "scattercarpet": [
           {
            "marker": {
             "colorbar": {
              "outlinewidth": 0,
              "ticks": ""
             }
            },
            "type": "scattercarpet"
           }
          ],
          "scattergeo": [
           {
            "marker": {
             "colorbar": {
              "outlinewidth": 0,
              "ticks": ""
             }
            },
            "type": "scattergeo"
           }
          ],
          "scattergl": [
           {
            "marker": {
             "colorbar": {
              "outlinewidth": 0,
              "ticks": ""
             }
            },
            "type": "scattergl"
           }
          ],
          "scattermapbox": [
           {
            "marker": {
             "colorbar": {
              "outlinewidth": 0,
              "ticks": ""
             }
            },
            "type": "scattermapbox"
           }
          ],
          "scatterpolar": [
           {
            "marker": {
             "colorbar": {
              "outlinewidth": 0,
              "ticks": ""
             }
            },
            "type": "scatterpolar"
           }
          ],
          "scatterpolargl": [
           {
            "marker": {
             "colorbar": {
              "outlinewidth": 0,
              "ticks": ""
             }
            },
            "type": "scatterpolargl"
           }
          ],
          "scatterternary": [
           {
            "marker": {
             "colorbar": {
              "outlinewidth": 0,
              "ticks": ""
             }
            },
            "type": "scatterternary"
           }
          ],
          "surface": [
           {
            "colorbar": {
             "outlinewidth": 0,
             "ticks": ""
            },
            "colorscale": [
             [
              0,
              "#0d0887"
             ],
             [
              0.1111111111111111,
              "#46039f"
             ],
             [
              0.2222222222222222,
              "#7201a8"
             ],
             [
              0.3333333333333333,
              "#9c179e"
             ],
             [
              0.4444444444444444,
              "#bd3786"
             ],
             [
              0.5555555555555556,
              "#d8576b"
             ],
             [
              0.6666666666666666,
              "#ed7953"
             ],
             [
              0.7777777777777778,
              "#fb9f3a"
             ],
             [
              0.8888888888888888,
              "#fdca26"
             ],
             [
              1,
              "#f0f921"
             ]
            ],
            "type": "surface"
           }
          ],
          "table": [
           {
            "cells": {
             "fill": {
              "color": "#EBF0F8"
             },
             "line": {
              "color": "white"
             }
            },
            "header": {
             "fill": {
              "color": "#C8D4E3"
             },
             "line": {
              "color": "white"
             }
            },
            "type": "table"
           }
          ]
         },
         "layout": {
          "annotationdefaults": {
           "arrowcolor": "#2a3f5f",
           "arrowhead": 0,
           "arrowwidth": 1
          },
          "autotypenumbers": "strict",
          "coloraxis": {
           "colorbar": {
            "outlinewidth": 0,
            "ticks": ""
           }
          },
          "colorscale": {
           "diverging": [
            [
             0,
             "#8e0152"
            ],
            [
             0.1,
             "#c51b7d"
            ],
            [
             0.2,
             "#de77ae"
            ],
            [
             0.3,
             "#f1b6da"
            ],
            [
             0.4,
             "#fde0ef"
            ],
            [
             0.5,
             "#f7f7f7"
            ],
            [
             0.6,
             "#e6f5d0"
            ],
            [
             0.7,
             "#b8e186"
            ],
            [
             0.8,
             "#7fbc41"
            ],
            [
             0.9,
             "#4d9221"
            ],
            [
             1,
             "#276419"
            ]
           ],
           "sequential": [
            [
             0,
             "#0d0887"
            ],
            [
             0.1111111111111111,
             "#46039f"
            ],
            [
             0.2222222222222222,
             "#7201a8"
            ],
            [
             0.3333333333333333,
             "#9c179e"
            ],
            [
             0.4444444444444444,
             "#bd3786"
            ],
            [
             0.5555555555555556,
             "#d8576b"
            ],
            [
             0.6666666666666666,
             "#ed7953"
            ],
            [
             0.7777777777777778,
             "#fb9f3a"
            ],
            [
             0.8888888888888888,
             "#fdca26"
            ],
            [
             1,
             "#f0f921"
            ]
           ],
           "sequentialminus": [
            [
             0,
             "#0d0887"
            ],
            [
             0.1111111111111111,
             "#46039f"
            ],
            [
             0.2222222222222222,
             "#7201a8"
            ],
            [
             0.3333333333333333,
             "#9c179e"
            ],
            [
             0.4444444444444444,
             "#bd3786"
            ],
            [
             0.5555555555555556,
             "#d8576b"
            ],
            [
             0.6666666666666666,
             "#ed7953"
            ],
            [
             0.7777777777777778,
             "#fb9f3a"
            ],
            [
             0.8888888888888888,
             "#fdca26"
            ],
            [
             1,
             "#f0f921"
            ]
           ]
          },
          "colorway": [
           "#636efa",
           "#EF553B",
           "#00cc96",
           "#ab63fa",
           "#FFA15A",
           "#19d3f3",
           "#FF6692",
           "#B6E880",
           "#FF97FF",
           "#FECB52"
          ],
          "font": {
           "color": "#2a3f5f"
          },
          "geo": {
           "bgcolor": "white",
           "lakecolor": "white",
           "landcolor": "#E5ECF6",
           "showlakes": true,
           "showland": true,
           "subunitcolor": "white"
          },
          "hoverlabel": {
           "align": "left"
          },
          "hovermode": "closest",
          "mapbox": {
           "style": "light"
          },
          "paper_bgcolor": "white",
          "plot_bgcolor": "#E5ECF6",
          "polar": {
           "angularaxis": {
            "gridcolor": "white",
            "linecolor": "white",
            "ticks": ""
           },
           "bgcolor": "#E5ECF6",
           "radialaxis": {
            "gridcolor": "white",
            "linecolor": "white",
            "ticks": ""
           }
          },
          "scene": {
           "xaxis": {
            "backgroundcolor": "#E5ECF6",
            "gridcolor": "white",
            "gridwidth": 2,
            "linecolor": "white",
            "showbackground": true,
            "ticks": "",
            "zerolinecolor": "white"
           },
           "yaxis": {
            "backgroundcolor": "#E5ECF6",
            "gridcolor": "white",
            "gridwidth": 2,
            "linecolor": "white",
            "showbackground": true,
            "ticks": "",
            "zerolinecolor": "white"
           },
           "zaxis": {
            "backgroundcolor": "#E5ECF6",
            "gridcolor": "white",
            "gridwidth": 2,
            "linecolor": "white",
            "showbackground": true,
            "ticks": "",
            "zerolinecolor": "white"
           }
          },
          "shapedefaults": {
           "line": {
            "color": "#2a3f5f"
           }
          },
          "ternary": {
           "aaxis": {
            "gridcolor": "white",
            "linecolor": "white",
            "ticks": ""
           },
           "baxis": {
            "gridcolor": "white",
            "linecolor": "white",
            "ticks": ""
           },
           "bgcolor": "#E5ECF6",
           "caxis": {
            "gridcolor": "white",
            "linecolor": "white",
            "ticks": ""
           }
          },
          "title": {
           "x": 0.05
          },
          "xaxis": {
           "automargin": true,
           "gridcolor": "white",
           "linecolor": "white",
           "ticks": "",
           "title": {
            "standoff": 15
           },
           "zerolinecolor": "white",
           "zerolinewidth": 2
          },
          "yaxis": {
           "automargin": true,
           "gridcolor": "white",
           "linecolor": "white",
           "ticks": "",
           "title": {
            "standoff": 15
           },
           "zerolinecolor": "white",
           "zerolinewidth": 2
          }
         }
        },
        "title": {
         "text": "fig 6. Maximum Temperature for next year"
        },
        "xaxis": {
         "anchor": "y",
         "domain": [
          0,
          1
         ],
         "title": {
          "text": "Month"
         }
        },
        "yaxis": {
         "anchor": "x",
         "domain": [
          0,
          1
         ],
         "title": {
          "text": "Max Temp"
         }
        }
       }
      },
      "text/html": [
       "<div>                            <div id=\"b138c94e-1db5-402e-b453-5d6fdcd7bc53\" class=\"plotly-graph-div\" style=\"height:525px; width:100%;\"></div>            <script type=\"text/javascript\">                require([\"plotly\"], function(Plotly) {                    window.PLOTLYENV=window.PLOTLYENV || {};                                    if (document.getElementById(\"b138c94e-1db5-402e-b453-5d6fdcd7bc53\")) {                    Plotly.newPlot(                        \"b138c94e-1db5-402e-b453-5d6fdcd7bc53\",                        [{\"alignmentgroup\": \"True\", \"hovertemplate\": \"Month=%{x}<br>Max Temp=%{y}<extra></extra>\", \"legendgroup\": \"\", \"marker\": {\"color\": \"#636efa\"}, \"name\": \"\", \"offsetgroup\": \"\", \"orientation\": \"v\", \"showlegend\": false, \"textposition\": \"auto\", \"type\": \"bar\", \"x\": [\"6/2021\", \"7/2021\", \"8/2021\", \"9/2021\", \"10/2021\", \"11/2021\", \"12/2021\", \"1/2022\", \"2/2022\", \"3/2022\", \"4/2022\", \"5/2022\"], \"xaxis\": \"x\", \"y\": [33.386959075927734, 34.5360221862793, 35.283714294433594, 37.96730041503906, 35.63087463378906, 32.93401336669922, 32.61650848388672, 31.648103713989258, 30.977819442749023, 31.061906814575195, 32.857635498046875, 37.668190002441406], \"yaxis\": \"y\"}],                        {\"barmode\": \"relative\", \"legend\": {\"tracegroupgap\": 0}, \"template\": {\"data\": {\"bar\": [{\"error_x\": {\"color\": \"#2a3f5f\"}, \"error_y\": {\"color\": \"#2a3f5f\"}, \"marker\": {\"line\": {\"color\": \"#E5ECF6\", \"width\": 0.5}}, \"type\": \"bar\"}], \"barpolar\": [{\"marker\": {\"line\": {\"color\": \"#E5ECF6\", \"width\": 0.5}}, \"type\": \"barpolar\"}], \"carpet\": [{\"aaxis\": {\"endlinecolor\": \"#2a3f5f\", \"gridcolor\": \"white\", \"linecolor\": \"white\", \"minorgridcolor\": \"white\", \"startlinecolor\": \"#2a3f5f\"}, \"baxis\": {\"endlinecolor\": \"#2a3f5f\", \"gridcolor\": \"white\", \"linecolor\": \"white\", \"minorgridcolor\": \"white\", \"startlinecolor\": \"#2a3f5f\"}, \"type\": \"carpet\"}], \"choropleth\": [{\"colorbar\": {\"outlinewidth\": 0, \"ticks\": \"\"}, \"type\": \"choropleth\"}], \"contour\": [{\"colorbar\": {\"outlinewidth\": 0, \"ticks\": \"\"}, \"colorscale\": [[0.0, \"#0d0887\"], [0.1111111111111111, \"#46039f\"], [0.2222222222222222, \"#7201a8\"], [0.3333333333333333, \"#9c179e\"], [0.4444444444444444, \"#bd3786\"], [0.5555555555555556, \"#d8576b\"], [0.6666666666666666, \"#ed7953\"], [0.7777777777777778, \"#fb9f3a\"], [0.8888888888888888, \"#fdca26\"], [1.0, \"#f0f921\"]], \"type\": \"contour\"}], \"contourcarpet\": [{\"colorbar\": {\"outlinewidth\": 0, \"ticks\": \"\"}, \"type\": \"contourcarpet\"}], \"heatmap\": [{\"colorbar\": {\"outlinewidth\": 0, \"ticks\": \"\"}, \"colorscale\": [[0.0, \"#0d0887\"], [0.1111111111111111, \"#46039f\"], [0.2222222222222222, \"#7201a8\"], [0.3333333333333333, \"#9c179e\"], [0.4444444444444444, \"#bd3786\"], [0.5555555555555556, \"#d8576b\"], [0.6666666666666666, \"#ed7953\"], [0.7777777777777778, \"#fb9f3a\"], [0.8888888888888888, \"#fdca26\"], [1.0, \"#f0f921\"]], \"type\": \"heatmap\"}], \"heatmapgl\": [{\"colorbar\": {\"outlinewidth\": 0, \"ticks\": \"\"}, \"colorscale\": [[0.0, \"#0d0887\"], [0.1111111111111111, \"#46039f\"], [0.2222222222222222, \"#7201a8\"], [0.3333333333333333, \"#9c179e\"], [0.4444444444444444, \"#bd3786\"], [0.5555555555555556, \"#d8576b\"], [0.6666666666666666, \"#ed7953\"], [0.7777777777777778, \"#fb9f3a\"], [0.8888888888888888, \"#fdca26\"], [1.0, \"#f0f921\"]], \"type\": \"heatmapgl\"}], \"histogram\": [{\"marker\": {\"colorbar\": {\"outlinewidth\": 0, \"ticks\": \"\"}}, \"type\": \"histogram\"}], \"histogram2d\": [{\"colorbar\": {\"outlinewidth\": 0, \"ticks\": \"\"}, \"colorscale\": [[0.0, \"#0d0887\"], [0.1111111111111111, \"#46039f\"], [0.2222222222222222, \"#7201a8\"], [0.3333333333333333, \"#9c179e\"], [0.4444444444444444, \"#bd3786\"], [0.5555555555555556, \"#d8576b\"], [0.6666666666666666, \"#ed7953\"], [0.7777777777777778, \"#fb9f3a\"], [0.8888888888888888, \"#fdca26\"], [1.0, \"#f0f921\"]], \"type\": \"histogram2d\"}], \"histogram2dcontour\": [{\"colorbar\": {\"outlinewidth\": 0, \"ticks\": \"\"}, \"colorscale\": [[0.0, \"#0d0887\"], [0.1111111111111111, \"#46039f\"], [0.2222222222222222, \"#7201a8\"], [0.3333333333333333, \"#9c179e\"], [0.4444444444444444, \"#bd3786\"], [0.5555555555555556, \"#d8576b\"], [0.6666666666666666, \"#ed7953\"], [0.7777777777777778, \"#fb9f3a\"], [0.8888888888888888, \"#fdca26\"], [1.0, \"#f0f921\"]], \"type\": \"histogram2dcontour\"}], \"mesh3d\": [{\"colorbar\": {\"outlinewidth\": 0, \"ticks\": \"\"}, \"type\": \"mesh3d\"}], \"parcoords\": [{\"line\": {\"colorbar\": {\"outlinewidth\": 0, \"ticks\": \"\"}}, \"type\": \"parcoords\"}], \"pie\": [{\"automargin\": true, \"type\": \"pie\"}], \"scatter\": [{\"marker\": {\"colorbar\": {\"outlinewidth\": 0, \"ticks\": \"\"}}, \"type\": \"scatter\"}], \"scatter3d\": [{\"line\": {\"colorbar\": {\"outlinewidth\": 0, \"ticks\": \"\"}}, \"marker\": {\"colorbar\": {\"outlinewidth\": 0, \"ticks\": \"\"}}, \"type\": \"scatter3d\"}], \"scattercarpet\": [{\"marker\": {\"colorbar\": {\"outlinewidth\": 0, \"ticks\": \"\"}}, \"type\": \"scattercarpet\"}], \"scattergeo\": [{\"marker\": {\"colorbar\": {\"outlinewidth\": 0, \"ticks\": \"\"}}, \"type\": \"scattergeo\"}], \"scattergl\": [{\"marker\": {\"colorbar\": {\"outlinewidth\": 0, \"ticks\": \"\"}}, \"type\": \"scattergl\"}], \"scattermapbox\": [{\"marker\": {\"colorbar\": {\"outlinewidth\": 0, \"ticks\": \"\"}}, \"type\": \"scattermapbox\"}], \"scatterpolar\": [{\"marker\": {\"colorbar\": {\"outlinewidth\": 0, \"ticks\": \"\"}}, \"type\": \"scatterpolar\"}], \"scatterpolargl\": [{\"marker\": {\"colorbar\": {\"outlinewidth\": 0, \"ticks\": \"\"}}, \"type\": \"scatterpolargl\"}], \"scatterternary\": [{\"marker\": {\"colorbar\": {\"outlinewidth\": 0, \"ticks\": \"\"}}, \"type\": \"scatterternary\"}], \"surface\": [{\"colorbar\": {\"outlinewidth\": 0, \"ticks\": \"\"}, \"colorscale\": [[0.0, \"#0d0887\"], [0.1111111111111111, \"#46039f\"], [0.2222222222222222, \"#7201a8\"], [0.3333333333333333, \"#9c179e\"], [0.4444444444444444, \"#bd3786\"], [0.5555555555555556, \"#d8576b\"], [0.6666666666666666, \"#ed7953\"], [0.7777777777777778, \"#fb9f3a\"], [0.8888888888888888, \"#fdca26\"], [1.0, \"#f0f921\"]], \"type\": \"surface\"}], \"table\": [{\"cells\": {\"fill\": {\"color\": \"#EBF0F8\"}, \"line\": {\"color\": \"white\"}}, \"header\": {\"fill\": {\"color\": \"#C8D4E3\"}, \"line\": {\"color\": \"white\"}}, \"type\": \"table\"}]}, \"layout\": {\"annotationdefaults\": {\"arrowcolor\": \"#2a3f5f\", \"arrowhead\": 0, \"arrowwidth\": 1}, \"autotypenumbers\": \"strict\", \"coloraxis\": {\"colorbar\": {\"outlinewidth\": 0, \"ticks\": \"\"}}, \"colorscale\": {\"diverging\": [[0, \"#8e0152\"], [0.1, \"#c51b7d\"], [0.2, \"#de77ae\"], [0.3, \"#f1b6da\"], [0.4, \"#fde0ef\"], [0.5, \"#f7f7f7\"], [0.6, \"#e6f5d0\"], [0.7, \"#b8e186\"], [0.8, \"#7fbc41\"], [0.9, \"#4d9221\"], [1, \"#276419\"]], \"sequential\": [[0.0, \"#0d0887\"], [0.1111111111111111, \"#46039f\"], [0.2222222222222222, \"#7201a8\"], [0.3333333333333333, \"#9c179e\"], [0.4444444444444444, \"#bd3786\"], [0.5555555555555556, \"#d8576b\"], [0.6666666666666666, \"#ed7953\"], [0.7777777777777778, \"#fb9f3a\"], [0.8888888888888888, \"#fdca26\"], [1.0, \"#f0f921\"]], \"sequentialminus\": [[0.0, \"#0d0887\"], [0.1111111111111111, \"#46039f\"], [0.2222222222222222, \"#7201a8\"], [0.3333333333333333, \"#9c179e\"], [0.4444444444444444, \"#bd3786\"], [0.5555555555555556, \"#d8576b\"], [0.6666666666666666, \"#ed7953\"], [0.7777777777777778, \"#fb9f3a\"], [0.8888888888888888, \"#fdca26\"], [1.0, \"#f0f921\"]]}, \"colorway\": [\"#636efa\", \"#EF553B\", \"#00cc96\", \"#ab63fa\", \"#FFA15A\", \"#19d3f3\", \"#FF6692\", \"#B6E880\", \"#FF97FF\", \"#FECB52\"], \"font\": {\"color\": \"#2a3f5f\"}, \"geo\": {\"bgcolor\": \"white\", \"lakecolor\": \"white\", \"landcolor\": \"#E5ECF6\", \"showlakes\": true, \"showland\": true, \"subunitcolor\": \"white\"}, \"hoverlabel\": {\"align\": \"left\"}, \"hovermode\": \"closest\", \"mapbox\": {\"style\": \"light\"}, \"paper_bgcolor\": \"white\", \"plot_bgcolor\": \"#E5ECF6\", \"polar\": {\"angularaxis\": {\"gridcolor\": \"white\", \"linecolor\": \"white\", \"ticks\": \"\"}, \"bgcolor\": \"#E5ECF6\", \"radialaxis\": {\"gridcolor\": \"white\", \"linecolor\": \"white\", \"ticks\": \"\"}}, \"scene\": {\"xaxis\": {\"backgroundcolor\": \"#E5ECF6\", \"gridcolor\": \"white\", \"gridwidth\": 2, \"linecolor\": \"white\", \"showbackground\": true, \"ticks\": \"\", \"zerolinecolor\": \"white\"}, \"yaxis\": {\"backgroundcolor\": \"#E5ECF6\", \"gridcolor\": \"white\", \"gridwidth\": 2, \"linecolor\": \"white\", \"showbackground\": true, \"ticks\": \"\", \"zerolinecolor\": \"white\"}, \"zaxis\": {\"backgroundcolor\": \"#E5ECF6\", \"gridcolor\": \"white\", \"gridwidth\": 2, \"linecolor\": \"white\", \"showbackground\": true, \"ticks\": \"\", \"zerolinecolor\": \"white\"}}, \"shapedefaults\": {\"line\": {\"color\": \"#2a3f5f\"}}, \"ternary\": {\"aaxis\": {\"gridcolor\": \"white\", \"linecolor\": \"white\", \"ticks\": \"\"}, \"baxis\": {\"gridcolor\": \"white\", \"linecolor\": \"white\", \"ticks\": \"\"}, \"bgcolor\": \"#E5ECF6\", \"caxis\": {\"gridcolor\": \"white\", \"linecolor\": \"white\", \"ticks\": \"\"}}, \"title\": {\"x\": 0.05}, \"xaxis\": {\"automargin\": true, \"gridcolor\": \"white\", \"linecolor\": \"white\", \"ticks\": \"\", \"title\": {\"standoff\": 15}, \"zerolinecolor\": \"white\", \"zerolinewidth\": 2}, \"yaxis\": {\"automargin\": true, \"gridcolor\": \"white\", \"linecolor\": \"white\", \"ticks\": \"\", \"title\": {\"standoff\": 15}, \"zerolinecolor\": \"white\", \"zerolinewidth\": 2}}}, \"title\": {\"text\": \"fig 6. Maximum Temperature for next year\"}, \"xaxis\": {\"anchor\": \"y\", \"domain\": [0.0, 1.0], \"title\": {\"text\": \"Month\"}}, \"yaxis\": {\"anchor\": \"x\", \"domain\": [0.0, 1.0], \"title\": {\"text\": \"Max Temp\"}}},                        {\"responsive\": true}                    ).then(function(){\n",
       "                            \n",
       "var gd = document.getElementById('b138c94e-1db5-402e-b453-5d6fdcd7bc53');\n",
       "var x = new MutationObserver(function (mutations, observer) {{\n",
       "        var display = window.getComputedStyle(gd).display;\n",
       "        if (!display || display === 'none') {{\n",
       "            console.log([gd, 'removed!']);\n",
       "            Plotly.purge(gd);\n",
       "            observer.disconnect();\n",
       "        }}\n",
       "}});\n",
       "\n",
       "// Listen for the removal of the full notebook cells\n",
       "var notebookContainer = gd.closest('#notebook-container');\n",
       "if (notebookContainer) {{\n",
       "    x.observe(notebookContainer, {childList: true});\n",
       "}}\n",
       "\n",
       "// Listen for the clearing of the current output cell\n",
       "var outputEl = gd.closest('.output');\n",
       "if (outputEl) {{\n",
       "    x.observe(outputEl, {childList: true});\n",
       "}}\n",
       "\n",
       "                        })                };                });            </script>        </div>"
      ]
     },
     "metadata": {},
     "output_type": "display_data"
    }
   ],
   "source": [
    "fig = px.bar(result_dataframe,x='Month', y='Max Temp', title = 'fig 4. Maximum Temperature for next year')\n",
    "fig.show()"
   ]
  },
  {
   "cell_type": "code",
   "execution_count": 51,
   "metadata": {},
   "outputs": [
    {
     "data": {
      "application/vnd.plotly.v1+json": {
       "config": {
        "plotlyServerURL": "https://plot.ly"
       },
       "data": [
        {
         "hovertemplate": "Month=%{x}<br>Rainfall=%{y}<extra></extra>",
         "legendgroup": "",
         "marker": {
          "color": "#636efa",
          "symbol": "circle"
         },
         "mode": "markers",
         "name": "",
         "orientation": "v",
         "showlegend": false,
         "type": "scatter",
         "x": [
          "6/2021",
          "7/2021",
          "8/2021",
          "9/2021",
          "10/2021",
          "11/2021",
          "12/2021",
          "1/2022",
          "2/2022",
          "3/2022",
          "4/2022",
          "5/2022"
         ],
         "xaxis": "x",
         "y": [
          342.996337890625,
          406.3912048339844,
          345.3371276855469,
          287.5540466308594,
          144.50572204589844,
          39.561553955078125,
          6.637296676635742,
          22.32387924194336,
          22.787580490112305,
          43.065284729003906,
          80.86904907226562,
          200.85316467285156
         ],
         "yaxis": "y"
        }
       ],
       "layout": {
        "legend": {
         "tracegroupgap": 0
        },
        "template": {
         "data": {
          "bar": [
           {
            "error_x": {
             "color": "#2a3f5f"
            },
            "error_y": {
             "color": "#2a3f5f"
            },
            "marker": {
             "line": {
              "color": "#E5ECF6",
              "width": 0.5
             }
            },
            "type": "bar"
           }
          ],
          "barpolar": [
           {
            "marker": {
             "line": {
              "color": "#E5ECF6",
              "width": 0.5
             }
            },
            "type": "barpolar"
           }
          ],
          "carpet": [
           {
            "aaxis": {
             "endlinecolor": "#2a3f5f",
             "gridcolor": "white",
             "linecolor": "white",
             "minorgridcolor": "white",
             "startlinecolor": "#2a3f5f"
            },
            "baxis": {
             "endlinecolor": "#2a3f5f",
             "gridcolor": "white",
             "linecolor": "white",
             "minorgridcolor": "white",
             "startlinecolor": "#2a3f5f"
            },
            "type": "carpet"
           }
          ],
          "choropleth": [
           {
            "colorbar": {
             "outlinewidth": 0,
             "ticks": ""
            },
            "type": "choropleth"
           }
          ],
          "contour": [
           {
            "colorbar": {
             "outlinewidth": 0,
             "ticks": ""
            },
            "colorscale": [
             [
              0,
              "#0d0887"
             ],
             [
              0.1111111111111111,
              "#46039f"
             ],
             [
              0.2222222222222222,
              "#7201a8"
             ],
             [
              0.3333333333333333,
              "#9c179e"
             ],
             [
              0.4444444444444444,
              "#bd3786"
             ],
             [
              0.5555555555555556,
              "#d8576b"
             ],
             [
              0.6666666666666666,
              "#ed7953"
             ],
             [
              0.7777777777777778,
              "#fb9f3a"
             ],
             [
              0.8888888888888888,
              "#fdca26"
             ],
             [
              1,
              "#f0f921"
             ]
            ],
            "type": "contour"
           }
          ],
          "contourcarpet": [
           {
            "colorbar": {
             "outlinewidth": 0,
             "ticks": ""
            },
            "type": "contourcarpet"
           }
          ],
          "heatmap": [
           {
            "colorbar": {
             "outlinewidth": 0,
             "ticks": ""
            },
            "colorscale": [
             [
              0,
              "#0d0887"
             ],
             [
              0.1111111111111111,
              "#46039f"
             ],
             [
              0.2222222222222222,
              "#7201a8"
             ],
             [
              0.3333333333333333,
              "#9c179e"
             ],
             [
              0.4444444444444444,
              "#bd3786"
             ],
             [
              0.5555555555555556,
              "#d8576b"
             ],
             [
              0.6666666666666666,
              "#ed7953"
             ],
             [
              0.7777777777777778,
              "#fb9f3a"
             ],
             [
              0.8888888888888888,
              "#fdca26"
             ],
             [
              1,
              "#f0f921"
             ]
            ],
            "type": "heatmap"
           }
          ],
          "heatmapgl": [
           {
            "colorbar": {
             "outlinewidth": 0,
             "ticks": ""
            },
            "colorscale": [
             [
              0,
              "#0d0887"
             ],
             [
              0.1111111111111111,
              "#46039f"
             ],
             [
              0.2222222222222222,
              "#7201a8"
             ],
             [
              0.3333333333333333,
              "#9c179e"
             ],
             [
              0.4444444444444444,
              "#bd3786"
             ],
             [
              0.5555555555555556,
              "#d8576b"
             ],
             [
              0.6666666666666666,
              "#ed7953"
             ],
             [
              0.7777777777777778,
              "#fb9f3a"
             ],
             [
              0.8888888888888888,
              "#fdca26"
             ],
             [
              1,
              "#f0f921"
             ]
            ],
            "type": "heatmapgl"
           }
          ],
          "histogram": [
           {
            "marker": {
             "colorbar": {
              "outlinewidth": 0,
              "ticks": ""
             }
            },
            "type": "histogram"
           }
          ],
          "histogram2d": [
           {
            "colorbar": {
             "outlinewidth": 0,
             "ticks": ""
            },
            "colorscale": [
             [
              0,
              "#0d0887"
             ],
             [
              0.1111111111111111,
              "#46039f"
             ],
             [
              0.2222222222222222,
              "#7201a8"
             ],
             [
              0.3333333333333333,
              "#9c179e"
             ],
             [
              0.4444444444444444,
              "#bd3786"
             ],
             [
              0.5555555555555556,
              "#d8576b"
             ],
             [
              0.6666666666666666,
              "#ed7953"
             ],
             [
              0.7777777777777778,
              "#fb9f3a"
             ],
             [
              0.8888888888888888,
              "#fdca26"
             ],
             [
              1,
              "#f0f921"
             ]
            ],
            "type": "histogram2d"
           }
          ],
          "histogram2dcontour": [
           {
            "colorbar": {
             "outlinewidth": 0,
             "ticks": ""
            },
            "colorscale": [
             [
              0,
              "#0d0887"
             ],
             [
              0.1111111111111111,
              "#46039f"
             ],
             [
              0.2222222222222222,
              "#7201a8"
             ],
             [
              0.3333333333333333,
              "#9c179e"
             ],
             [
              0.4444444444444444,
              "#bd3786"
             ],
             [
              0.5555555555555556,
              "#d8576b"
             ],
             [
              0.6666666666666666,
              "#ed7953"
             ],
             [
              0.7777777777777778,
              "#fb9f3a"
             ],
             [
              0.8888888888888888,
              "#fdca26"
             ],
             [
              1,
              "#f0f921"
             ]
            ],
            "type": "histogram2dcontour"
           }
          ],
          "mesh3d": [
           {
            "colorbar": {
             "outlinewidth": 0,
             "ticks": ""
            },
            "type": "mesh3d"
           }
          ],
          "parcoords": [
           {
            "line": {
             "colorbar": {
              "outlinewidth": 0,
              "ticks": ""
             }
            },
            "type": "parcoords"
           }
          ],
          "pie": [
           {
            "automargin": true,
            "type": "pie"
           }
          ],
          "scatter": [
           {
            "marker": {
             "colorbar": {
              "outlinewidth": 0,
              "ticks": ""
             }
            },
            "type": "scatter"
           }
          ],
          "scatter3d": [
           {
            "line": {
             "colorbar": {
              "outlinewidth": 0,
              "ticks": ""
             }
            },
            "marker": {
             "colorbar": {
              "outlinewidth": 0,
              "ticks": ""
             }
            },
            "type": "scatter3d"
           }
          ],
          "scattercarpet": [
           {
            "marker": {
             "colorbar": {
              "outlinewidth": 0,
              "ticks": ""
             }
            },
            "type": "scattercarpet"
           }
          ],
          "scattergeo": [
           {
            "marker": {
             "colorbar": {
              "outlinewidth": 0,
              "ticks": ""
             }
            },
            "type": "scattergeo"
           }
          ],
          "scattergl": [
           {
            "marker": {
             "colorbar": {
              "outlinewidth": 0,
              "ticks": ""
             }
            },
            "type": "scattergl"
           }
          ],
          "scattermapbox": [
           {
            "marker": {
             "colorbar": {
              "outlinewidth": 0,
              "ticks": ""
             }
            },
            "type": "scattermapbox"
           }
          ],
          "scatterpolar": [
           {
            "marker": {
             "colorbar": {
              "outlinewidth": 0,
              "ticks": ""
             }
            },
            "type": "scatterpolar"
           }
          ],
          "scatterpolargl": [
           {
            "marker": {
             "colorbar": {
              "outlinewidth": 0,
              "ticks": ""
             }
            },
            "type": "scatterpolargl"
           }
          ],
          "scatterternary": [
           {
            "marker": {
             "colorbar": {
              "outlinewidth": 0,
              "ticks": ""
             }
            },
            "type": "scatterternary"
           }
          ],
          "surface": [
           {
            "colorbar": {
             "outlinewidth": 0,
             "ticks": ""
            },
            "colorscale": [
             [
              0,
              "#0d0887"
             ],
             [
              0.1111111111111111,
              "#46039f"
             ],
             [
              0.2222222222222222,
              "#7201a8"
             ],
             [
              0.3333333333333333,
              "#9c179e"
             ],
             [
              0.4444444444444444,
              "#bd3786"
             ],
             [
              0.5555555555555556,
              "#d8576b"
             ],
             [
              0.6666666666666666,
              "#ed7953"
             ],
             [
              0.7777777777777778,
              "#fb9f3a"
             ],
             [
              0.8888888888888888,
              "#fdca26"
             ],
             [
              1,
              "#f0f921"
             ]
            ],
            "type": "surface"
           }
          ],
          "table": [
           {
            "cells": {
             "fill": {
              "color": "#EBF0F8"
             },
             "line": {
              "color": "white"
             }
            },
            "header": {
             "fill": {
              "color": "#C8D4E3"
             },
             "line": {
              "color": "white"
             }
            },
            "type": "table"
           }
          ]
         },
         "layout": {
          "annotationdefaults": {
           "arrowcolor": "#2a3f5f",
           "arrowhead": 0,
           "arrowwidth": 1
          },
          "autotypenumbers": "strict",
          "coloraxis": {
           "colorbar": {
            "outlinewidth": 0,
            "ticks": ""
           }
          },
          "colorscale": {
           "diverging": [
            [
             0,
             "#8e0152"
            ],
            [
             0.1,
             "#c51b7d"
            ],
            [
             0.2,
             "#de77ae"
            ],
            [
             0.3,
             "#f1b6da"
            ],
            [
             0.4,
             "#fde0ef"
            ],
            [
             0.5,
             "#f7f7f7"
            ],
            [
             0.6,
             "#e6f5d0"
            ],
            [
             0.7,
             "#b8e186"
            ],
            [
             0.8,
             "#7fbc41"
            ],
            [
             0.9,
             "#4d9221"
            ],
            [
             1,
             "#276419"
            ]
           ],
           "sequential": [
            [
             0,
             "#0d0887"
            ],
            [
             0.1111111111111111,
             "#46039f"
            ],
            [
             0.2222222222222222,
             "#7201a8"
            ],
            [
             0.3333333333333333,
             "#9c179e"
            ],
            [
             0.4444444444444444,
             "#bd3786"
            ],
            [
             0.5555555555555556,
             "#d8576b"
            ],
            [
             0.6666666666666666,
             "#ed7953"
            ],
            [
             0.7777777777777778,
             "#fb9f3a"
            ],
            [
             0.8888888888888888,
             "#fdca26"
            ],
            [
             1,
             "#f0f921"
            ]
           ],
           "sequentialminus": [
            [
             0,
             "#0d0887"
            ],
            [
             0.1111111111111111,
             "#46039f"
            ],
            [
             0.2222222222222222,
             "#7201a8"
            ],
            [
             0.3333333333333333,
             "#9c179e"
            ],
            [
             0.4444444444444444,
             "#bd3786"
            ],
            [
             0.5555555555555556,
             "#d8576b"
            ],
            [
             0.6666666666666666,
             "#ed7953"
            ],
            [
             0.7777777777777778,
             "#fb9f3a"
            ],
            [
             0.8888888888888888,
             "#fdca26"
            ],
            [
             1,
             "#f0f921"
            ]
           ]
          },
          "colorway": [
           "#636efa",
           "#EF553B",
           "#00cc96",
           "#ab63fa",
           "#FFA15A",
           "#19d3f3",
           "#FF6692",
           "#B6E880",
           "#FF97FF",
           "#FECB52"
          ],
          "font": {
           "color": "#2a3f5f"
          },
          "geo": {
           "bgcolor": "white",
           "lakecolor": "white",
           "landcolor": "#E5ECF6",
           "showlakes": true,
           "showland": true,
           "subunitcolor": "white"
          },
          "hoverlabel": {
           "align": "left"
          },
          "hovermode": "closest",
          "mapbox": {
           "style": "light"
          },
          "paper_bgcolor": "white",
          "plot_bgcolor": "#E5ECF6",
          "polar": {
           "angularaxis": {
            "gridcolor": "white",
            "linecolor": "white",
            "ticks": ""
           },
           "bgcolor": "#E5ECF6",
           "radialaxis": {
            "gridcolor": "white",
            "linecolor": "white",
            "ticks": ""
           }
          },
          "scene": {
           "xaxis": {
            "backgroundcolor": "#E5ECF6",
            "gridcolor": "white",
            "gridwidth": 2,
            "linecolor": "white",
            "showbackground": true,
            "ticks": "",
            "zerolinecolor": "white"
           },
           "yaxis": {
            "backgroundcolor": "#E5ECF6",
            "gridcolor": "white",
            "gridwidth": 2,
            "linecolor": "white",
            "showbackground": true,
            "ticks": "",
            "zerolinecolor": "white"
           },
           "zaxis": {
            "backgroundcolor": "#E5ECF6",
            "gridcolor": "white",
            "gridwidth": 2,
            "linecolor": "white",
            "showbackground": true,
            "ticks": "",
            "zerolinecolor": "white"
           }
          },
          "shapedefaults": {
           "line": {
            "color": "#2a3f5f"
           }
          },
          "ternary": {
           "aaxis": {
            "gridcolor": "white",
            "linecolor": "white",
            "ticks": ""
           },
           "baxis": {
            "gridcolor": "white",
            "linecolor": "white",
            "ticks": ""
           },
           "bgcolor": "#E5ECF6",
           "caxis": {
            "gridcolor": "white",
            "linecolor": "white",
            "ticks": ""
           }
          },
          "title": {
           "x": 0.05
          },
          "xaxis": {
           "automargin": true,
           "gridcolor": "white",
           "linecolor": "white",
           "ticks": "",
           "title": {
            "standoff": 15
           },
           "zerolinecolor": "white",
           "zerolinewidth": 2
          },
          "yaxis": {
           "automargin": true,
           "gridcolor": "white",
           "linecolor": "white",
           "ticks": "",
           "title": {
            "standoff": 15
           },
           "zerolinecolor": "white",
           "zerolinewidth": 2
          }
         }
        },
        "title": {
         "text": "fig 7. Rainfall for next year"
        },
        "xaxis": {
         "anchor": "y",
         "domain": [
          0,
          1
         ],
         "title": {
          "text": "Month"
         }
        },
        "yaxis": {
         "anchor": "x",
         "domain": [
          0,
          1
         ],
         "title": {
          "text": "Rainfall"
         }
        }
       }
      },
      "text/html": [
       "<div>                            <div id=\"70cb7bb3-0070-4c9f-849d-0da02459a012\" class=\"plotly-graph-div\" style=\"height:525px; width:100%;\"></div>            <script type=\"text/javascript\">                require([\"plotly\"], function(Plotly) {                    window.PLOTLYENV=window.PLOTLYENV || {};                                    if (document.getElementById(\"70cb7bb3-0070-4c9f-849d-0da02459a012\")) {                    Plotly.newPlot(                        \"70cb7bb3-0070-4c9f-849d-0da02459a012\",                        [{\"hovertemplate\": \"Month=%{x}<br>Rainfall=%{y}<extra></extra>\", \"legendgroup\": \"\", \"marker\": {\"color\": \"#636efa\", \"symbol\": \"circle\"}, \"mode\": \"markers\", \"name\": \"\", \"orientation\": \"v\", \"showlegend\": false, \"type\": \"scatter\", \"x\": [\"6/2021\", \"7/2021\", \"8/2021\", \"9/2021\", \"10/2021\", \"11/2021\", \"12/2021\", \"1/2022\", \"2/2022\", \"3/2022\", \"4/2022\", \"5/2022\"], \"xaxis\": \"x\", \"y\": [342.996337890625, 406.3912048339844, 345.3371276855469, 287.5540466308594, 144.50572204589844, 39.561553955078125, 6.637296676635742, 22.32387924194336, 22.787580490112305, 43.065284729003906, 80.86904907226562, 200.85316467285156], \"yaxis\": \"y\"}],                        {\"legend\": {\"tracegroupgap\": 0}, \"template\": {\"data\": {\"bar\": [{\"error_x\": {\"color\": \"#2a3f5f\"}, \"error_y\": {\"color\": \"#2a3f5f\"}, \"marker\": {\"line\": {\"color\": \"#E5ECF6\", \"width\": 0.5}}, \"type\": \"bar\"}], \"barpolar\": [{\"marker\": {\"line\": {\"color\": \"#E5ECF6\", \"width\": 0.5}}, \"type\": \"barpolar\"}], \"carpet\": [{\"aaxis\": {\"endlinecolor\": \"#2a3f5f\", \"gridcolor\": \"white\", \"linecolor\": \"white\", \"minorgridcolor\": \"white\", \"startlinecolor\": \"#2a3f5f\"}, \"baxis\": {\"endlinecolor\": \"#2a3f5f\", \"gridcolor\": \"white\", \"linecolor\": \"white\", \"minorgridcolor\": \"white\", \"startlinecolor\": \"#2a3f5f\"}, \"type\": \"carpet\"}], \"choropleth\": [{\"colorbar\": {\"outlinewidth\": 0, \"ticks\": \"\"}, \"type\": \"choropleth\"}], \"contour\": [{\"colorbar\": {\"outlinewidth\": 0, \"ticks\": \"\"}, \"colorscale\": [[0.0, \"#0d0887\"], [0.1111111111111111, \"#46039f\"], [0.2222222222222222, \"#7201a8\"], [0.3333333333333333, \"#9c179e\"], [0.4444444444444444, \"#bd3786\"], [0.5555555555555556, \"#d8576b\"], [0.6666666666666666, \"#ed7953\"], [0.7777777777777778, \"#fb9f3a\"], [0.8888888888888888, \"#fdca26\"], [1.0, \"#f0f921\"]], \"type\": \"contour\"}], \"contourcarpet\": [{\"colorbar\": {\"outlinewidth\": 0, \"ticks\": \"\"}, \"type\": \"contourcarpet\"}], \"heatmap\": [{\"colorbar\": {\"outlinewidth\": 0, \"ticks\": \"\"}, \"colorscale\": [[0.0, \"#0d0887\"], [0.1111111111111111, \"#46039f\"], [0.2222222222222222, \"#7201a8\"], [0.3333333333333333, \"#9c179e\"], [0.4444444444444444, \"#bd3786\"], [0.5555555555555556, \"#d8576b\"], [0.6666666666666666, \"#ed7953\"], [0.7777777777777778, \"#fb9f3a\"], [0.8888888888888888, \"#fdca26\"], [1.0, \"#f0f921\"]], \"type\": \"heatmap\"}], \"heatmapgl\": [{\"colorbar\": {\"outlinewidth\": 0, \"ticks\": \"\"}, \"colorscale\": [[0.0, \"#0d0887\"], [0.1111111111111111, \"#46039f\"], [0.2222222222222222, \"#7201a8\"], [0.3333333333333333, \"#9c179e\"], [0.4444444444444444, \"#bd3786\"], [0.5555555555555556, \"#d8576b\"], [0.6666666666666666, \"#ed7953\"], [0.7777777777777778, \"#fb9f3a\"], [0.8888888888888888, \"#fdca26\"], [1.0, \"#f0f921\"]], \"type\": \"heatmapgl\"}], \"histogram\": [{\"marker\": {\"colorbar\": {\"outlinewidth\": 0, \"ticks\": \"\"}}, \"type\": \"histogram\"}], \"histogram2d\": [{\"colorbar\": {\"outlinewidth\": 0, \"ticks\": \"\"}, \"colorscale\": [[0.0, \"#0d0887\"], [0.1111111111111111, \"#46039f\"], [0.2222222222222222, \"#7201a8\"], [0.3333333333333333, \"#9c179e\"], [0.4444444444444444, \"#bd3786\"], [0.5555555555555556, \"#d8576b\"], [0.6666666666666666, \"#ed7953\"], [0.7777777777777778, \"#fb9f3a\"], [0.8888888888888888, \"#fdca26\"], [1.0, \"#f0f921\"]], \"type\": \"histogram2d\"}], \"histogram2dcontour\": [{\"colorbar\": {\"outlinewidth\": 0, \"ticks\": \"\"}, \"colorscale\": [[0.0, \"#0d0887\"], [0.1111111111111111, \"#46039f\"], [0.2222222222222222, \"#7201a8\"], [0.3333333333333333, \"#9c179e\"], [0.4444444444444444, \"#bd3786\"], [0.5555555555555556, \"#d8576b\"], [0.6666666666666666, \"#ed7953\"], [0.7777777777777778, \"#fb9f3a\"], [0.8888888888888888, \"#fdca26\"], [1.0, \"#f0f921\"]], \"type\": \"histogram2dcontour\"}], \"mesh3d\": [{\"colorbar\": {\"outlinewidth\": 0, \"ticks\": \"\"}, \"type\": \"mesh3d\"}], \"parcoords\": [{\"line\": {\"colorbar\": {\"outlinewidth\": 0, \"ticks\": \"\"}}, \"type\": \"parcoords\"}], \"pie\": [{\"automargin\": true, \"type\": \"pie\"}], \"scatter\": [{\"marker\": {\"colorbar\": {\"outlinewidth\": 0, \"ticks\": \"\"}}, \"type\": \"scatter\"}], \"scatter3d\": [{\"line\": {\"colorbar\": {\"outlinewidth\": 0, \"ticks\": \"\"}}, \"marker\": {\"colorbar\": {\"outlinewidth\": 0, \"ticks\": \"\"}}, \"type\": \"scatter3d\"}], \"scattercarpet\": [{\"marker\": {\"colorbar\": {\"outlinewidth\": 0, \"ticks\": \"\"}}, \"type\": \"scattercarpet\"}], \"scattergeo\": [{\"marker\": {\"colorbar\": {\"outlinewidth\": 0, \"ticks\": \"\"}}, \"type\": \"scattergeo\"}], \"scattergl\": [{\"marker\": {\"colorbar\": {\"outlinewidth\": 0, \"ticks\": \"\"}}, \"type\": \"scattergl\"}], \"scattermapbox\": [{\"marker\": {\"colorbar\": {\"outlinewidth\": 0, \"ticks\": \"\"}}, \"type\": \"scattermapbox\"}], \"scatterpolar\": [{\"marker\": {\"colorbar\": {\"outlinewidth\": 0, \"ticks\": \"\"}}, \"type\": \"scatterpolar\"}], \"scatterpolargl\": [{\"marker\": {\"colorbar\": {\"outlinewidth\": 0, \"ticks\": \"\"}}, \"type\": \"scatterpolargl\"}], \"scatterternary\": [{\"marker\": {\"colorbar\": {\"outlinewidth\": 0, \"ticks\": \"\"}}, \"type\": \"scatterternary\"}], \"surface\": [{\"colorbar\": {\"outlinewidth\": 0, \"ticks\": \"\"}, \"colorscale\": [[0.0, \"#0d0887\"], [0.1111111111111111, \"#46039f\"], [0.2222222222222222, \"#7201a8\"], [0.3333333333333333, \"#9c179e\"], [0.4444444444444444, \"#bd3786\"], [0.5555555555555556, \"#d8576b\"], [0.6666666666666666, \"#ed7953\"], [0.7777777777777778, \"#fb9f3a\"], [0.8888888888888888, \"#fdca26\"], [1.0, \"#f0f921\"]], \"type\": \"surface\"}], \"table\": [{\"cells\": {\"fill\": {\"color\": \"#EBF0F8\"}, \"line\": {\"color\": \"white\"}}, \"header\": {\"fill\": {\"color\": \"#C8D4E3\"}, \"line\": {\"color\": \"white\"}}, \"type\": \"table\"}]}, \"layout\": {\"annotationdefaults\": {\"arrowcolor\": \"#2a3f5f\", \"arrowhead\": 0, \"arrowwidth\": 1}, \"autotypenumbers\": \"strict\", \"coloraxis\": {\"colorbar\": {\"outlinewidth\": 0, \"ticks\": \"\"}}, \"colorscale\": {\"diverging\": [[0, \"#8e0152\"], [0.1, \"#c51b7d\"], [0.2, \"#de77ae\"], [0.3, \"#f1b6da\"], [0.4, \"#fde0ef\"], [0.5, \"#f7f7f7\"], [0.6, \"#e6f5d0\"], [0.7, \"#b8e186\"], [0.8, \"#7fbc41\"], [0.9, \"#4d9221\"], [1, \"#276419\"]], \"sequential\": [[0.0, \"#0d0887\"], [0.1111111111111111, \"#46039f\"], [0.2222222222222222, \"#7201a8\"], [0.3333333333333333, \"#9c179e\"], [0.4444444444444444, \"#bd3786\"], [0.5555555555555556, \"#d8576b\"], [0.6666666666666666, \"#ed7953\"], [0.7777777777777778, \"#fb9f3a\"], [0.8888888888888888, \"#fdca26\"], [1.0, \"#f0f921\"]], \"sequentialminus\": [[0.0, \"#0d0887\"], [0.1111111111111111, \"#46039f\"], [0.2222222222222222, \"#7201a8\"], [0.3333333333333333, \"#9c179e\"], [0.4444444444444444, \"#bd3786\"], [0.5555555555555556, \"#d8576b\"], [0.6666666666666666, \"#ed7953\"], [0.7777777777777778, \"#fb9f3a\"], [0.8888888888888888, \"#fdca26\"], [1.0, \"#f0f921\"]]}, \"colorway\": [\"#636efa\", \"#EF553B\", \"#00cc96\", \"#ab63fa\", \"#FFA15A\", \"#19d3f3\", \"#FF6692\", \"#B6E880\", \"#FF97FF\", \"#FECB52\"], \"font\": {\"color\": \"#2a3f5f\"}, \"geo\": {\"bgcolor\": \"white\", \"lakecolor\": \"white\", \"landcolor\": \"#E5ECF6\", \"showlakes\": true, \"showland\": true, \"subunitcolor\": \"white\"}, \"hoverlabel\": {\"align\": \"left\"}, \"hovermode\": \"closest\", \"mapbox\": {\"style\": \"light\"}, \"paper_bgcolor\": \"white\", \"plot_bgcolor\": \"#E5ECF6\", \"polar\": {\"angularaxis\": {\"gridcolor\": \"white\", \"linecolor\": \"white\", \"ticks\": \"\"}, \"bgcolor\": \"#E5ECF6\", \"radialaxis\": {\"gridcolor\": \"white\", \"linecolor\": \"white\", \"ticks\": \"\"}}, \"scene\": {\"xaxis\": {\"backgroundcolor\": \"#E5ECF6\", \"gridcolor\": \"white\", \"gridwidth\": 2, \"linecolor\": \"white\", \"showbackground\": true, \"ticks\": \"\", \"zerolinecolor\": \"white\"}, \"yaxis\": {\"backgroundcolor\": \"#E5ECF6\", \"gridcolor\": \"white\", \"gridwidth\": 2, \"linecolor\": \"white\", \"showbackground\": true, \"ticks\": \"\", \"zerolinecolor\": \"white\"}, \"zaxis\": {\"backgroundcolor\": \"#E5ECF6\", \"gridcolor\": \"white\", \"gridwidth\": 2, \"linecolor\": \"white\", \"showbackground\": true, \"ticks\": \"\", \"zerolinecolor\": \"white\"}}, \"shapedefaults\": {\"line\": {\"color\": \"#2a3f5f\"}}, \"ternary\": {\"aaxis\": {\"gridcolor\": \"white\", \"linecolor\": \"white\", \"ticks\": \"\"}, \"baxis\": {\"gridcolor\": \"white\", \"linecolor\": \"white\", \"ticks\": \"\"}, \"bgcolor\": \"#E5ECF6\", \"caxis\": {\"gridcolor\": \"white\", \"linecolor\": \"white\", \"ticks\": \"\"}}, \"title\": {\"x\": 0.05}, \"xaxis\": {\"automargin\": true, \"gridcolor\": \"white\", \"linecolor\": \"white\", \"ticks\": \"\", \"title\": {\"standoff\": 15}, \"zerolinecolor\": \"white\", \"zerolinewidth\": 2}, \"yaxis\": {\"automargin\": true, \"gridcolor\": \"white\", \"linecolor\": \"white\", \"ticks\": \"\", \"title\": {\"standoff\": 15}, \"zerolinecolor\": \"white\", \"zerolinewidth\": 2}}}, \"title\": {\"text\": \"fig 7. Rainfall for next year\"}, \"xaxis\": {\"anchor\": \"y\", \"domain\": [0.0, 1.0], \"title\": {\"text\": \"Month\"}}, \"yaxis\": {\"anchor\": \"x\", \"domain\": [0.0, 1.0], \"title\": {\"text\": \"Rainfall\"}}},                        {\"responsive\": true}                    ).then(function(){\n",
       "                            \n",
       "var gd = document.getElementById('70cb7bb3-0070-4c9f-849d-0da02459a012');\n",
       "var x = new MutationObserver(function (mutations, observer) {{\n",
       "        var display = window.getComputedStyle(gd).display;\n",
       "        if (!display || display === 'none') {{\n",
       "            console.log([gd, 'removed!']);\n",
       "            Plotly.purge(gd);\n",
       "            observer.disconnect();\n",
       "        }}\n",
       "}});\n",
       "\n",
       "// Listen for the removal of the full notebook cells\n",
       "var notebookContainer = gd.closest('#notebook-container');\n",
       "if (notebookContainer) {{\n",
       "    x.observe(notebookContainer, {childList: true});\n",
       "}}\n",
       "\n",
       "// Listen for the clearing of the current output cell\n",
       "var outputEl = gd.closest('.output');\n",
       "if (outputEl) {{\n",
       "    x.observe(outputEl, {childList: true});\n",
       "}}\n",
       "\n",
       "                        })                };                });            </script>        </div>"
      ]
     },
     "metadata": {},
     "output_type": "display_data"
    }
   ],
   "source": [
    "fig = px.scatter(result_dataframe,x='Month', y='Rainfall', title = 'fig 5. Rainfall for next year')\n",
    "fig.show()"
   ]
  },
  {
   "cell_type": "code",
   "execution_count": 52,
   "metadata": {},
   "outputs": [
    {
     "data": {
      "application/vnd.plotly.v1+json": {
       "config": {
        "plotlyServerURL": "https://plot.ly"
       },
       "data": [
        {
         "alignmentgroup": "True",
         "bingroup": "x",
         "histfunc": "sum",
         "hovertemplate": "Month=%{x}<br>sum of Relative Humidity=%{y}<extra></extra>",
         "legendgroup": "",
         "marker": {
          "color": "#636efa"
         },
         "name": "",
         "offsetgroup": "",
         "orientation": "v",
         "showlegend": false,
         "type": "histogram",
         "x": [
          "6/2021",
          "7/2021",
          "8/2021",
          "9/2021",
          "10/2021",
          "11/2021",
          "12/2021",
          "1/2022",
          "2/2022",
          "3/2022",
          "4/2022",
          "5/2022"
         ],
         "xaxis": "x",
         "y": [
          76.88396453857422,
          84.11705017089844,
          86.3531723022461,
          91.19071197509766,
          86.28355407714844,
          83.17940521240234,
          85.9605484008789,
          76.49422454833984,
          73.4804458618164,
          70.87882232666016,
          69.59709167480469,
          76.38912963867188
         ],
         "yaxis": "y"
        }
       ],
       "layout": {
        "barmode": "relative",
        "legend": {
         "tracegroupgap": 0
        },
        "template": {
         "data": {
          "bar": [
           {
            "error_x": {
             "color": "#2a3f5f"
            },
            "error_y": {
             "color": "#2a3f5f"
            },
            "marker": {
             "line": {
              "color": "#E5ECF6",
              "width": 0.5
             }
            },
            "type": "bar"
           }
          ],
          "barpolar": [
           {
            "marker": {
             "line": {
              "color": "#E5ECF6",
              "width": 0.5
             }
            },
            "type": "barpolar"
           }
          ],
          "carpet": [
           {
            "aaxis": {
             "endlinecolor": "#2a3f5f",
             "gridcolor": "white",
             "linecolor": "white",
             "minorgridcolor": "white",
             "startlinecolor": "#2a3f5f"
            },
            "baxis": {
             "endlinecolor": "#2a3f5f",
             "gridcolor": "white",
             "linecolor": "white",
             "minorgridcolor": "white",
             "startlinecolor": "#2a3f5f"
            },
            "type": "carpet"
           }
          ],
          "choropleth": [
           {
            "colorbar": {
             "outlinewidth": 0,
             "ticks": ""
            },
            "type": "choropleth"
           }
          ],
          "contour": [
           {
            "colorbar": {
             "outlinewidth": 0,
             "ticks": ""
            },
            "colorscale": [
             [
              0,
              "#0d0887"
             ],
             [
              0.1111111111111111,
              "#46039f"
             ],
             [
              0.2222222222222222,
              "#7201a8"
             ],
             [
              0.3333333333333333,
              "#9c179e"
             ],
             [
              0.4444444444444444,
              "#bd3786"
             ],
             [
              0.5555555555555556,
              "#d8576b"
             ],
             [
              0.6666666666666666,
              "#ed7953"
             ],
             [
              0.7777777777777778,
              "#fb9f3a"
             ],
             [
              0.8888888888888888,
              "#fdca26"
             ],
             [
              1,
              "#f0f921"
             ]
            ],
            "type": "contour"
           }
          ],
          "contourcarpet": [
           {
            "colorbar": {
             "outlinewidth": 0,
             "ticks": ""
            },
            "type": "contourcarpet"
           }
          ],
          "heatmap": [
           {
            "colorbar": {
             "outlinewidth": 0,
             "ticks": ""
            },
            "colorscale": [
             [
              0,
              "#0d0887"
             ],
             [
              0.1111111111111111,
              "#46039f"
             ],
             [
              0.2222222222222222,
              "#7201a8"
             ],
             [
              0.3333333333333333,
              "#9c179e"
             ],
             [
              0.4444444444444444,
              "#bd3786"
             ],
             [
              0.5555555555555556,
              "#d8576b"
             ],
             [
              0.6666666666666666,
              "#ed7953"
             ],
             [
              0.7777777777777778,
              "#fb9f3a"
             ],
             [
              0.8888888888888888,
              "#fdca26"
             ],
             [
              1,
              "#f0f921"
             ]
            ],
            "type": "heatmap"
           }
          ],
          "heatmapgl": [
           {
            "colorbar": {
             "outlinewidth": 0,
             "ticks": ""
            },
            "colorscale": [
             [
              0,
              "#0d0887"
             ],
             [
              0.1111111111111111,
              "#46039f"
             ],
             [
              0.2222222222222222,
              "#7201a8"
             ],
             [
              0.3333333333333333,
              "#9c179e"
             ],
             [
              0.4444444444444444,
              "#bd3786"
             ],
             [
              0.5555555555555556,
              "#d8576b"
             ],
             [
              0.6666666666666666,
              "#ed7953"
             ],
             [
              0.7777777777777778,
              "#fb9f3a"
             ],
             [
              0.8888888888888888,
              "#fdca26"
             ],
             [
              1,
              "#f0f921"
             ]
            ],
            "type": "heatmapgl"
           }
          ],
          "histogram": [
           {
            "marker": {
             "colorbar": {
              "outlinewidth": 0,
              "ticks": ""
             }
            },
            "type": "histogram"
           }
          ],
          "histogram2d": [
           {
            "colorbar": {
             "outlinewidth": 0,
             "ticks": ""
            },
            "colorscale": [
             [
              0,
              "#0d0887"
             ],
             [
              0.1111111111111111,
              "#46039f"
             ],
             [
              0.2222222222222222,
              "#7201a8"
             ],
             [
              0.3333333333333333,
              "#9c179e"
             ],
             [
              0.4444444444444444,
              "#bd3786"
             ],
             [
              0.5555555555555556,
              "#d8576b"
             ],
             [
              0.6666666666666666,
              "#ed7953"
             ],
             [
              0.7777777777777778,
              "#fb9f3a"
             ],
             [
              0.8888888888888888,
              "#fdca26"
             ],
             [
              1,
              "#f0f921"
             ]
            ],
            "type": "histogram2d"
           }
          ],
          "histogram2dcontour": [
           {
            "colorbar": {
             "outlinewidth": 0,
             "ticks": ""
            },
            "colorscale": [
             [
              0,
              "#0d0887"
             ],
             [
              0.1111111111111111,
              "#46039f"
             ],
             [
              0.2222222222222222,
              "#7201a8"
             ],
             [
              0.3333333333333333,
              "#9c179e"
             ],
             [
              0.4444444444444444,
              "#bd3786"
             ],
             [
              0.5555555555555556,
              "#d8576b"
             ],
             [
              0.6666666666666666,
              "#ed7953"
             ],
             [
              0.7777777777777778,
              "#fb9f3a"
             ],
             [
              0.8888888888888888,
              "#fdca26"
             ],
             [
              1,
              "#f0f921"
             ]
            ],
            "type": "histogram2dcontour"
           }
          ],
          "mesh3d": [
           {
            "colorbar": {
             "outlinewidth": 0,
             "ticks": ""
            },
            "type": "mesh3d"
           }
          ],
          "parcoords": [
           {
            "line": {
             "colorbar": {
              "outlinewidth": 0,
              "ticks": ""
             }
            },
            "type": "parcoords"
           }
          ],
          "pie": [
           {
            "automargin": true,
            "type": "pie"
           }
          ],
          "scatter": [
           {
            "marker": {
             "colorbar": {
              "outlinewidth": 0,
              "ticks": ""
             }
            },
            "type": "scatter"
           }
          ],
          "scatter3d": [
           {
            "line": {
             "colorbar": {
              "outlinewidth": 0,
              "ticks": ""
             }
            },
            "marker": {
             "colorbar": {
              "outlinewidth": 0,
              "ticks": ""
             }
            },
            "type": "scatter3d"
           }
          ],
          "scattercarpet": [
           {
            "marker": {
             "colorbar": {
              "outlinewidth": 0,
              "ticks": ""
             }
            },
            "type": "scattercarpet"
           }
          ],
          "scattergeo": [
           {
            "marker": {
             "colorbar": {
              "outlinewidth": 0,
              "ticks": ""
             }
            },
            "type": "scattergeo"
           }
          ],
          "scattergl": [
           {
            "marker": {
             "colorbar": {
              "outlinewidth": 0,
              "ticks": ""
             }
            },
            "type": "scattergl"
           }
          ],
          "scattermapbox": [
           {
            "marker": {
             "colorbar": {
              "outlinewidth": 0,
              "ticks": ""
             }
            },
            "type": "scattermapbox"
           }
          ],
          "scatterpolar": [
           {
            "marker": {
             "colorbar": {
              "outlinewidth": 0,
              "ticks": ""
             }
            },
            "type": "scatterpolar"
           }
          ],
          "scatterpolargl": [
           {
            "marker": {
             "colorbar": {
              "outlinewidth": 0,
              "ticks": ""
             }
            },
            "type": "scatterpolargl"
           }
          ],
          "scatterternary": [
           {
            "marker": {
             "colorbar": {
              "outlinewidth": 0,
              "ticks": ""
             }
            },
            "type": "scatterternary"
           }
          ],
          "surface": [
           {
            "colorbar": {
             "outlinewidth": 0,
             "ticks": ""
            },
            "colorscale": [
             [
              0,
              "#0d0887"
             ],
             [
              0.1111111111111111,
              "#46039f"
             ],
             [
              0.2222222222222222,
              "#7201a8"
             ],
             [
              0.3333333333333333,
              "#9c179e"
             ],
             [
              0.4444444444444444,
              "#bd3786"
             ],
             [
              0.5555555555555556,
              "#d8576b"
             ],
             [
              0.6666666666666666,
              "#ed7953"
             ],
             [
              0.7777777777777778,
              "#fb9f3a"
             ],
             [
              0.8888888888888888,
              "#fdca26"
             ],
             [
              1,
              "#f0f921"
             ]
            ],
            "type": "surface"
           }
          ],
          "table": [
           {
            "cells": {
             "fill": {
              "color": "#EBF0F8"
             },
             "line": {
              "color": "white"
             }
            },
            "header": {
             "fill": {
              "color": "#C8D4E3"
             },
             "line": {
              "color": "white"
             }
            },
            "type": "table"
           }
          ]
         },
         "layout": {
          "annotationdefaults": {
           "arrowcolor": "#2a3f5f",
           "arrowhead": 0,
           "arrowwidth": 1
          },
          "autotypenumbers": "strict",
          "coloraxis": {
           "colorbar": {
            "outlinewidth": 0,
            "ticks": ""
           }
          },
          "colorscale": {
           "diverging": [
            [
             0,
             "#8e0152"
            ],
            [
             0.1,
             "#c51b7d"
            ],
            [
             0.2,
             "#de77ae"
            ],
            [
             0.3,
             "#f1b6da"
            ],
            [
             0.4,
             "#fde0ef"
            ],
            [
             0.5,
             "#f7f7f7"
            ],
            [
             0.6,
             "#e6f5d0"
            ],
            [
             0.7,
             "#b8e186"
            ],
            [
             0.8,
             "#7fbc41"
            ],
            [
             0.9,
             "#4d9221"
            ],
            [
             1,
             "#276419"
            ]
           ],
           "sequential": [
            [
             0,
             "#0d0887"
            ],
            [
             0.1111111111111111,
             "#46039f"
            ],
            [
             0.2222222222222222,
             "#7201a8"
            ],
            [
             0.3333333333333333,
             "#9c179e"
            ],
            [
             0.4444444444444444,
             "#bd3786"
            ],
            [
             0.5555555555555556,
             "#d8576b"
            ],
            [
             0.6666666666666666,
             "#ed7953"
            ],
            [
             0.7777777777777778,
             "#fb9f3a"
            ],
            [
             0.8888888888888888,
             "#fdca26"
            ],
            [
             1,
             "#f0f921"
            ]
           ],
           "sequentialminus": [
            [
             0,
             "#0d0887"
            ],
            [
             0.1111111111111111,
             "#46039f"
            ],
            [
             0.2222222222222222,
             "#7201a8"
            ],
            [
             0.3333333333333333,
             "#9c179e"
            ],
            [
             0.4444444444444444,
             "#bd3786"
            ],
            [
             0.5555555555555556,
             "#d8576b"
            ],
            [
             0.6666666666666666,
             "#ed7953"
            ],
            [
             0.7777777777777778,
             "#fb9f3a"
            ],
            [
             0.8888888888888888,
             "#fdca26"
            ],
            [
             1,
             "#f0f921"
            ]
           ]
          },
          "colorway": [
           "#636efa",
           "#EF553B",
           "#00cc96",
           "#ab63fa",
           "#FFA15A",
           "#19d3f3",
           "#FF6692",
           "#B6E880",
           "#FF97FF",
           "#FECB52"
          ],
          "font": {
           "color": "#2a3f5f"
          },
          "geo": {
           "bgcolor": "white",
           "lakecolor": "white",
           "landcolor": "#E5ECF6",
           "showlakes": true,
           "showland": true,
           "subunitcolor": "white"
          },
          "hoverlabel": {
           "align": "left"
          },
          "hovermode": "closest",
          "mapbox": {
           "style": "light"
          },
          "paper_bgcolor": "white",
          "plot_bgcolor": "#E5ECF6",
          "polar": {
           "angularaxis": {
            "gridcolor": "white",
            "linecolor": "white",
            "ticks": ""
           },
           "bgcolor": "#E5ECF6",
           "radialaxis": {
            "gridcolor": "white",
            "linecolor": "white",
            "ticks": ""
           }
          },
          "scene": {
           "xaxis": {
            "backgroundcolor": "#E5ECF6",
            "gridcolor": "white",
            "gridwidth": 2,
            "linecolor": "white",
            "showbackground": true,
            "ticks": "",
            "zerolinecolor": "white"
           },
           "yaxis": {
            "backgroundcolor": "#E5ECF6",
            "gridcolor": "white",
            "gridwidth": 2,
            "linecolor": "white",
            "showbackground": true,
            "ticks": "",
            "zerolinecolor": "white"
           },
           "zaxis": {
            "backgroundcolor": "#E5ECF6",
            "gridcolor": "white",
            "gridwidth": 2,
            "linecolor": "white",
            "showbackground": true,
            "ticks": "",
            "zerolinecolor": "white"
           }
          },
          "shapedefaults": {
           "line": {
            "color": "#2a3f5f"
           }
          },
          "ternary": {
           "aaxis": {
            "gridcolor": "white",
            "linecolor": "white",
            "ticks": ""
           },
           "baxis": {
            "gridcolor": "white",
            "linecolor": "white",
            "ticks": ""
           },
           "bgcolor": "#E5ECF6",
           "caxis": {
            "gridcolor": "white",
            "linecolor": "white",
            "ticks": ""
           }
          },
          "title": {
           "x": 0.05
          },
          "xaxis": {
           "automargin": true,
           "gridcolor": "white",
           "linecolor": "white",
           "ticks": "",
           "title": {
            "standoff": 15
           },
           "zerolinecolor": "white",
           "zerolinewidth": 2
          },
          "yaxis": {
           "automargin": true,
           "gridcolor": "white",
           "linecolor": "white",
           "ticks": "",
           "title": {
            "standoff": 15
           },
           "zerolinecolor": "white",
           "zerolinewidth": 2
          }
         }
        },
        "title": {
         "text": "fig 8. Relative Humidity for next year"
        },
        "xaxis": {
         "anchor": "y",
         "domain": [
          0,
          1
         ],
         "title": {
          "text": "Month"
         }
        },
        "yaxis": {
         "anchor": "x",
         "domain": [
          0,
          1
         ],
         "title": {
          "text": "sum of Relative Humidity"
         }
        }
       }
      },
      "text/html": [
       "<div>                            <div id=\"9e4228d6-352f-4529-9ad3-f763c3bf8501\" class=\"plotly-graph-div\" style=\"height:525px; width:100%;\"></div>            <script type=\"text/javascript\">                require([\"plotly\"], function(Plotly) {                    window.PLOTLYENV=window.PLOTLYENV || {};                                    if (document.getElementById(\"9e4228d6-352f-4529-9ad3-f763c3bf8501\")) {                    Plotly.newPlot(                        \"9e4228d6-352f-4529-9ad3-f763c3bf8501\",                        [{\"alignmentgroup\": \"True\", \"bingroup\": \"x\", \"histfunc\": \"sum\", \"hovertemplate\": \"Month=%{x}<br>sum of Relative Humidity=%{y}<extra></extra>\", \"legendgroup\": \"\", \"marker\": {\"color\": \"#636efa\"}, \"name\": \"\", \"offsetgroup\": \"\", \"orientation\": \"v\", \"showlegend\": false, \"type\": \"histogram\", \"x\": [\"6/2021\", \"7/2021\", \"8/2021\", \"9/2021\", \"10/2021\", \"11/2021\", \"12/2021\", \"1/2022\", \"2/2022\", \"3/2022\", \"4/2022\", \"5/2022\"], \"xaxis\": \"x\", \"y\": [76.88396453857422, 84.11705017089844, 86.3531723022461, 91.19071197509766, 86.28355407714844, 83.17940521240234, 85.9605484008789, 76.49422454833984, 73.4804458618164, 70.87882232666016, 69.59709167480469, 76.38912963867188], \"yaxis\": \"y\"}],                        {\"barmode\": \"relative\", \"legend\": {\"tracegroupgap\": 0}, \"template\": {\"data\": {\"bar\": [{\"error_x\": {\"color\": \"#2a3f5f\"}, \"error_y\": {\"color\": \"#2a3f5f\"}, \"marker\": {\"line\": {\"color\": \"#E5ECF6\", \"width\": 0.5}}, \"type\": \"bar\"}], \"barpolar\": [{\"marker\": {\"line\": {\"color\": \"#E5ECF6\", \"width\": 0.5}}, \"type\": \"barpolar\"}], \"carpet\": [{\"aaxis\": {\"endlinecolor\": \"#2a3f5f\", \"gridcolor\": \"white\", \"linecolor\": \"white\", \"minorgridcolor\": \"white\", \"startlinecolor\": \"#2a3f5f\"}, \"baxis\": {\"endlinecolor\": \"#2a3f5f\", \"gridcolor\": \"white\", \"linecolor\": \"white\", \"minorgridcolor\": \"white\", \"startlinecolor\": \"#2a3f5f\"}, \"type\": \"carpet\"}], \"choropleth\": [{\"colorbar\": {\"outlinewidth\": 0, \"ticks\": \"\"}, \"type\": \"choropleth\"}], \"contour\": [{\"colorbar\": {\"outlinewidth\": 0, \"ticks\": \"\"}, \"colorscale\": [[0.0, \"#0d0887\"], [0.1111111111111111, \"#46039f\"], [0.2222222222222222, \"#7201a8\"], [0.3333333333333333, \"#9c179e\"], [0.4444444444444444, \"#bd3786\"], [0.5555555555555556, \"#d8576b\"], [0.6666666666666666, \"#ed7953\"], [0.7777777777777778, \"#fb9f3a\"], [0.8888888888888888, \"#fdca26\"], [1.0, \"#f0f921\"]], \"type\": \"contour\"}], \"contourcarpet\": [{\"colorbar\": {\"outlinewidth\": 0, \"ticks\": \"\"}, \"type\": \"contourcarpet\"}], \"heatmap\": [{\"colorbar\": {\"outlinewidth\": 0, \"ticks\": \"\"}, \"colorscale\": [[0.0, \"#0d0887\"], [0.1111111111111111, \"#46039f\"], [0.2222222222222222, \"#7201a8\"], [0.3333333333333333, \"#9c179e\"], [0.4444444444444444, \"#bd3786\"], [0.5555555555555556, \"#d8576b\"], [0.6666666666666666, \"#ed7953\"], [0.7777777777777778, \"#fb9f3a\"], [0.8888888888888888, \"#fdca26\"], [1.0, \"#f0f921\"]], \"type\": \"heatmap\"}], \"heatmapgl\": [{\"colorbar\": {\"outlinewidth\": 0, \"ticks\": \"\"}, \"colorscale\": [[0.0, \"#0d0887\"], [0.1111111111111111, \"#46039f\"], [0.2222222222222222, \"#7201a8\"], [0.3333333333333333, \"#9c179e\"], [0.4444444444444444, \"#bd3786\"], [0.5555555555555556, \"#d8576b\"], [0.6666666666666666, \"#ed7953\"], [0.7777777777777778, \"#fb9f3a\"], [0.8888888888888888, \"#fdca26\"], [1.0, \"#f0f921\"]], \"type\": \"heatmapgl\"}], \"histogram\": [{\"marker\": {\"colorbar\": {\"outlinewidth\": 0, \"ticks\": \"\"}}, \"type\": \"histogram\"}], \"histogram2d\": [{\"colorbar\": {\"outlinewidth\": 0, \"ticks\": \"\"}, \"colorscale\": [[0.0, \"#0d0887\"], [0.1111111111111111, \"#46039f\"], [0.2222222222222222, \"#7201a8\"], [0.3333333333333333, \"#9c179e\"], [0.4444444444444444, \"#bd3786\"], [0.5555555555555556, \"#d8576b\"], [0.6666666666666666, \"#ed7953\"], [0.7777777777777778, \"#fb9f3a\"], [0.8888888888888888, \"#fdca26\"], [1.0, \"#f0f921\"]], \"type\": \"histogram2d\"}], \"histogram2dcontour\": [{\"colorbar\": {\"outlinewidth\": 0, \"ticks\": \"\"}, \"colorscale\": [[0.0, \"#0d0887\"], [0.1111111111111111, \"#46039f\"], [0.2222222222222222, \"#7201a8\"], [0.3333333333333333, \"#9c179e\"], [0.4444444444444444, \"#bd3786\"], [0.5555555555555556, \"#d8576b\"], [0.6666666666666666, \"#ed7953\"], [0.7777777777777778, \"#fb9f3a\"], [0.8888888888888888, \"#fdca26\"], [1.0, \"#f0f921\"]], \"type\": \"histogram2dcontour\"}], \"mesh3d\": [{\"colorbar\": {\"outlinewidth\": 0, \"ticks\": \"\"}, \"type\": \"mesh3d\"}], \"parcoords\": [{\"line\": {\"colorbar\": {\"outlinewidth\": 0, \"ticks\": \"\"}}, \"type\": \"parcoords\"}], \"pie\": [{\"automargin\": true, \"type\": \"pie\"}], \"scatter\": [{\"marker\": {\"colorbar\": {\"outlinewidth\": 0, \"ticks\": \"\"}}, \"type\": \"scatter\"}], \"scatter3d\": [{\"line\": {\"colorbar\": {\"outlinewidth\": 0, \"ticks\": \"\"}}, \"marker\": {\"colorbar\": {\"outlinewidth\": 0, \"ticks\": \"\"}}, \"type\": \"scatter3d\"}], \"scattercarpet\": [{\"marker\": {\"colorbar\": {\"outlinewidth\": 0, \"ticks\": \"\"}}, \"type\": \"scattercarpet\"}], \"scattergeo\": [{\"marker\": {\"colorbar\": {\"outlinewidth\": 0, \"ticks\": \"\"}}, \"type\": \"scattergeo\"}], \"scattergl\": [{\"marker\": {\"colorbar\": {\"outlinewidth\": 0, \"ticks\": \"\"}}, \"type\": \"scattergl\"}], \"scattermapbox\": [{\"marker\": {\"colorbar\": {\"outlinewidth\": 0, \"ticks\": \"\"}}, \"type\": \"scattermapbox\"}], \"scatterpolar\": [{\"marker\": {\"colorbar\": {\"outlinewidth\": 0, \"ticks\": \"\"}}, \"type\": \"scatterpolar\"}], \"scatterpolargl\": [{\"marker\": {\"colorbar\": {\"outlinewidth\": 0, \"ticks\": \"\"}}, \"type\": \"scatterpolargl\"}], \"scatterternary\": [{\"marker\": {\"colorbar\": {\"outlinewidth\": 0, \"ticks\": \"\"}}, \"type\": \"scatterternary\"}], \"surface\": [{\"colorbar\": {\"outlinewidth\": 0, \"ticks\": \"\"}, \"colorscale\": [[0.0, \"#0d0887\"], [0.1111111111111111, \"#46039f\"], [0.2222222222222222, \"#7201a8\"], [0.3333333333333333, \"#9c179e\"], [0.4444444444444444, \"#bd3786\"], [0.5555555555555556, \"#d8576b\"], [0.6666666666666666, \"#ed7953\"], [0.7777777777777778, \"#fb9f3a\"], [0.8888888888888888, \"#fdca26\"], [1.0, \"#f0f921\"]], \"type\": \"surface\"}], \"table\": [{\"cells\": {\"fill\": {\"color\": \"#EBF0F8\"}, \"line\": {\"color\": \"white\"}}, \"header\": {\"fill\": {\"color\": \"#C8D4E3\"}, \"line\": {\"color\": \"white\"}}, \"type\": \"table\"}]}, \"layout\": {\"annotationdefaults\": {\"arrowcolor\": \"#2a3f5f\", \"arrowhead\": 0, \"arrowwidth\": 1}, \"autotypenumbers\": \"strict\", \"coloraxis\": {\"colorbar\": {\"outlinewidth\": 0, \"ticks\": \"\"}}, \"colorscale\": {\"diverging\": [[0, \"#8e0152\"], [0.1, \"#c51b7d\"], [0.2, \"#de77ae\"], [0.3, \"#f1b6da\"], [0.4, \"#fde0ef\"], [0.5, \"#f7f7f7\"], [0.6, \"#e6f5d0\"], [0.7, \"#b8e186\"], [0.8, \"#7fbc41\"], [0.9, \"#4d9221\"], [1, \"#276419\"]], \"sequential\": [[0.0, \"#0d0887\"], [0.1111111111111111, \"#46039f\"], [0.2222222222222222, \"#7201a8\"], [0.3333333333333333, \"#9c179e\"], [0.4444444444444444, \"#bd3786\"], [0.5555555555555556, \"#d8576b\"], [0.6666666666666666, \"#ed7953\"], [0.7777777777777778, \"#fb9f3a\"], [0.8888888888888888, \"#fdca26\"], [1.0, \"#f0f921\"]], \"sequentialminus\": [[0.0, \"#0d0887\"], [0.1111111111111111, \"#46039f\"], [0.2222222222222222, \"#7201a8\"], [0.3333333333333333, \"#9c179e\"], [0.4444444444444444, \"#bd3786\"], [0.5555555555555556, \"#d8576b\"], [0.6666666666666666, \"#ed7953\"], [0.7777777777777778, \"#fb9f3a\"], [0.8888888888888888, \"#fdca26\"], [1.0, \"#f0f921\"]]}, \"colorway\": [\"#636efa\", \"#EF553B\", \"#00cc96\", \"#ab63fa\", \"#FFA15A\", \"#19d3f3\", \"#FF6692\", \"#B6E880\", \"#FF97FF\", \"#FECB52\"], \"font\": {\"color\": \"#2a3f5f\"}, \"geo\": {\"bgcolor\": \"white\", \"lakecolor\": \"white\", \"landcolor\": \"#E5ECF6\", \"showlakes\": true, \"showland\": true, \"subunitcolor\": \"white\"}, \"hoverlabel\": {\"align\": \"left\"}, \"hovermode\": \"closest\", \"mapbox\": {\"style\": \"light\"}, \"paper_bgcolor\": \"white\", \"plot_bgcolor\": \"#E5ECF6\", \"polar\": {\"angularaxis\": {\"gridcolor\": \"white\", \"linecolor\": \"white\", \"ticks\": \"\"}, \"bgcolor\": \"#E5ECF6\", \"radialaxis\": {\"gridcolor\": \"white\", \"linecolor\": \"white\", \"ticks\": \"\"}}, \"scene\": {\"xaxis\": {\"backgroundcolor\": \"#E5ECF6\", \"gridcolor\": \"white\", \"gridwidth\": 2, \"linecolor\": \"white\", \"showbackground\": true, \"ticks\": \"\", \"zerolinecolor\": \"white\"}, \"yaxis\": {\"backgroundcolor\": \"#E5ECF6\", \"gridcolor\": \"white\", \"gridwidth\": 2, \"linecolor\": \"white\", \"showbackground\": true, \"ticks\": \"\", \"zerolinecolor\": \"white\"}, \"zaxis\": {\"backgroundcolor\": \"#E5ECF6\", \"gridcolor\": \"white\", \"gridwidth\": 2, \"linecolor\": \"white\", \"showbackground\": true, \"ticks\": \"\", \"zerolinecolor\": \"white\"}}, \"shapedefaults\": {\"line\": {\"color\": \"#2a3f5f\"}}, \"ternary\": {\"aaxis\": {\"gridcolor\": \"white\", \"linecolor\": \"white\", \"ticks\": \"\"}, \"baxis\": {\"gridcolor\": \"white\", \"linecolor\": \"white\", \"ticks\": \"\"}, \"bgcolor\": \"#E5ECF6\", \"caxis\": {\"gridcolor\": \"white\", \"linecolor\": \"white\", \"ticks\": \"\"}}, \"title\": {\"x\": 0.05}, \"xaxis\": {\"automargin\": true, \"gridcolor\": \"white\", \"linecolor\": \"white\", \"ticks\": \"\", \"title\": {\"standoff\": 15}, \"zerolinecolor\": \"white\", \"zerolinewidth\": 2}, \"yaxis\": {\"automargin\": true, \"gridcolor\": \"white\", \"linecolor\": \"white\", \"ticks\": \"\", \"title\": {\"standoff\": 15}, \"zerolinecolor\": \"white\", \"zerolinewidth\": 2}}}, \"title\": {\"text\": \"fig 8. Relative Humidity for next year\"}, \"xaxis\": {\"anchor\": \"y\", \"domain\": [0.0, 1.0], \"title\": {\"text\": \"Month\"}}, \"yaxis\": {\"anchor\": \"x\", \"domain\": [0.0, 1.0], \"title\": {\"text\": \"sum of Relative Humidity\"}}},                        {\"responsive\": true}                    ).then(function(){\n",
       "                            \n",
       "var gd = document.getElementById('9e4228d6-352f-4529-9ad3-f763c3bf8501');\n",
       "var x = new MutationObserver(function (mutations, observer) {{\n",
       "        var display = window.getComputedStyle(gd).display;\n",
       "        if (!display || display === 'none') {{\n",
       "            console.log([gd, 'removed!']);\n",
       "            Plotly.purge(gd);\n",
       "            observer.disconnect();\n",
       "        }}\n",
       "}});\n",
       "\n",
       "// Listen for the removal of the full notebook cells\n",
       "var notebookContainer = gd.closest('#notebook-container');\n",
       "if (notebookContainer) {{\n",
       "    x.observe(notebookContainer, {childList: true});\n",
       "}}\n",
       "\n",
       "// Listen for the clearing of the current output cell\n",
       "var outputEl = gd.closest('.output');\n",
       "if (outputEl) {{\n",
       "    x.observe(outputEl, {childList: true});\n",
       "}}\n",
       "\n",
       "                        })                };                });            </script>        </div>"
      ]
     },
     "metadata": {},
     "output_type": "display_data"
    }
   ],
   "source": [
    "fig = px.histogram(result_dataframe,x='Month', y='Relative Humidity', title = 'fig 6. Relative Humidity for next year')\n",
    "fig.show()"
   ]
  },
  {
   "cell_type": "code",
   "execution_count": 53,
   "metadata": {},
   "outputs": [
    {
     "data": {
      "application/vnd.plotly.v1+json": {
       "config": {
        "plotlyServerURL": "https://plot.ly"
       },
       "data": [
        {
         "hovertemplate": "Month=%{x}<br>Wind Speed=%{y}<extra></extra>",
         "legendgroup": "",
         "line": {
          "color": "#636efa",
          "dash": "solid"
         },
         "mode": "lines",
         "name": "",
         "orientation": "v",
         "showlegend": false,
         "type": "scatter",
         "x": [
          "6/2021",
          "7/2021",
          "8/2021",
          "9/2021",
          "10/2021",
          "11/2021",
          "12/2021",
          "1/2022",
          "2/2022",
          "3/2022",
          "4/2022",
          "5/2022"
         ],
         "xaxis": "x",
         "y": [
          1.7286596298217773,
          1.8580763339996338,
          1.5253655910491943,
          1.1834640502929688,
          0.5554100275039673,
          0.23578470945358276,
          0.12470036745071411,
          1.682617425918579,
          1.6600279808044434,
          1.7550575733184814,
          1.9906859397888184,
          2.131024122238159
         ],
         "yaxis": "y"
        }
       ],
       "layout": {
        "legend": {
         "tracegroupgap": 0
        },
        "template": {
         "data": {
          "bar": [
           {
            "error_x": {
             "color": "#2a3f5f"
            },
            "error_y": {
             "color": "#2a3f5f"
            },
            "marker": {
             "line": {
              "color": "#E5ECF6",
              "width": 0.5
             }
            },
            "type": "bar"
           }
          ],
          "barpolar": [
           {
            "marker": {
             "line": {
              "color": "#E5ECF6",
              "width": 0.5
             }
            },
            "type": "barpolar"
           }
          ],
          "carpet": [
           {
            "aaxis": {
             "endlinecolor": "#2a3f5f",
             "gridcolor": "white",
             "linecolor": "white",
             "minorgridcolor": "white",
             "startlinecolor": "#2a3f5f"
            },
            "baxis": {
             "endlinecolor": "#2a3f5f",
             "gridcolor": "white",
             "linecolor": "white",
             "minorgridcolor": "white",
             "startlinecolor": "#2a3f5f"
            },
            "type": "carpet"
           }
          ],
          "choropleth": [
           {
            "colorbar": {
             "outlinewidth": 0,
             "ticks": ""
            },
            "type": "choropleth"
           }
          ],
          "contour": [
           {
            "colorbar": {
             "outlinewidth": 0,
             "ticks": ""
            },
            "colorscale": [
             [
              0,
              "#0d0887"
             ],
             [
              0.1111111111111111,
              "#46039f"
             ],
             [
              0.2222222222222222,
              "#7201a8"
             ],
             [
              0.3333333333333333,
              "#9c179e"
             ],
             [
              0.4444444444444444,
              "#bd3786"
             ],
             [
              0.5555555555555556,
              "#d8576b"
             ],
             [
              0.6666666666666666,
              "#ed7953"
             ],
             [
              0.7777777777777778,
              "#fb9f3a"
             ],
             [
              0.8888888888888888,
              "#fdca26"
             ],
             [
              1,
              "#f0f921"
             ]
            ],
            "type": "contour"
           }
          ],
          "contourcarpet": [
           {
            "colorbar": {
             "outlinewidth": 0,
             "ticks": ""
            },
            "type": "contourcarpet"
           }
          ],
          "heatmap": [
           {
            "colorbar": {
             "outlinewidth": 0,
             "ticks": ""
            },
            "colorscale": [
             [
              0,
              "#0d0887"
             ],
             [
              0.1111111111111111,
              "#46039f"
             ],
             [
              0.2222222222222222,
              "#7201a8"
             ],
             [
              0.3333333333333333,
              "#9c179e"
             ],
             [
              0.4444444444444444,
              "#bd3786"
             ],
             [
              0.5555555555555556,
              "#d8576b"
             ],
             [
              0.6666666666666666,
              "#ed7953"
             ],
             [
              0.7777777777777778,
              "#fb9f3a"
             ],
             [
              0.8888888888888888,
              "#fdca26"
             ],
             [
              1,
              "#f0f921"
             ]
            ],
            "type": "heatmap"
           }
          ],
          "heatmapgl": [
           {
            "colorbar": {
             "outlinewidth": 0,
             "ticks": ""
            },
            "colorscale": [
             [
              0,
              "#0d0887"
             ],
             [
              0.1111111111111111,
              "#46039f"
             ],
             [
              0.2222222222222222,
              "#7201a8"
             ],
             [
              0.3333333333333333,
              "#9c179e"
             ],
             [
              0.4444444444444444,
              "#bd3786"
             ],
             [
              0.5555555555555556,
              "#d8576b"
             ],
             [
              0.6666666666666666,
              "#ed7953"
             ],
             [
              0.7777777777777778,
              "#fb9f3a"
             ],
             [
              0.8888888888888888,
              "#fdca26"
             ],
             [
              1,
              "#f0f921"
             ]
            ],
            "type": "heatmapgl"
           }
          ],
          "histogram": [
           {
            "marker": {
             "colorbar": {
              "outlinewidth": 0,
              "ticks": ""
             }
            },
            "type": "histogram"
           }
          ],
          "histogram2d": [
           {
            "colorbar": {
             "outlinewidth": 0,
             "ticks": ""
            },
            "colorscale": [
             [
              0,
              "#0d0887"
             ],
             [
              0.1111111111111111,
              "#46039f"
             ],
             [
              0.2222222222222222,
              "#7201a8"
             ],
             [
              0.3333333333333333,
              "#9c179e"
             ],
             [
              0.4444444444444444,
              "#bd3786"
             ],
             [
              0.5555555555555556,
              "#d8576b"
             ],
             [
              0.6666666666666666,
              "#ed7953"
             ],
             [
              0.7777777777777778,
              "#fb9f3a"
             ],
             [
              0.8888888888888888,
              "#fdca26"
             ],
             [
              1,
              "#f0f921"
             ]
            ],
            "type": "histogram2d"
           }
          ],
          "histogram2dcontour": [
           {
            "colorbar": {
             "outlinewidth": 0,
             "ticks": ""
            },
            "colorscale": [
             [
              0,
              "#0d0887"
             ],
             [
              0.1111111111111111,
              "#46039f"
             ],
             [
              0.2222222222222222,
              "#7201a8"
             ],
             [
              0.3333333333333333,
              "#9c179e"
             ],
             [
              0.4444444444444444,
              "#bd3786"
             ],
             [
              0.5555555555555556,
              "#d8576b"
             ],
             [
              0.6666666666666666,
              "#ed7953"
             ],
             [
              0.7777777777777778,
              "#fb9f3a"
             ],
             [
              0.8888888888888888,
              "#fdca26"
             ],
             [
              1,
              "#f0f921"
             ]
            ],
            "type": "histogram2dcontour"
           }
          ],
          "mesh3d": [
           {
            "colorbar": {
             "outlinewidth": 0,
             "ticks": ""
            },
            "type": "mesh3d"
           }
          ],
          "parcoords": [
           {
            "line": {
             "colorbar": {
              "outlinewidth": 0,
              "ticks": ""
             }
            },
            "type": "parcoords"
           }
          ],
          "pie": [
           {
            "automargin": true,
            "type": "pie"
           }
          ],
          "scatter": [
           {
            "marker": {
             "colorbar": {
              "outlinewidth": 0,
              "ticks": ""
             }
            },
            "type": "scatter"
           }
          ],
          "scatter3d": [
           {
            "line": {
             "colorbar": {
              "outlinewidth": 0,
              "ticks": ""
             }
            },
            "marker": {
             "colorbar": {
              "outlinewidth": 0,
              "ticks": ""
             }
            },
            "type": "scatter3d"
           }
          ],
          "scattercarpet": [
           {
            "marker": {
             "colorbar": {
              "outlinewidth": 0,
              "ticks": ""
             }
            },
            "type": "scattercarpet"
           }
          ],
          "scattergeo": [
           {
            "marker": {
             "colorbar": {
              "outlinewidth": 0,
              "ticks": ""
             }
            },
            "type": "scattergeo"
           }
          ],
          "scattergl": [
           {
            "marker": {
             "colorbar": {
              "outlinewidth": 0,
              "ticks": ""
             }
            },
            "type": "scattergl"
           }
          ],
          "scattermapbox": [
           {
            "marker": {
             "colorbar": {
              "outlinewidth": 0,
              "ticks": ""
             }
            },
            "type": "scattermapbox"
           }
          ],
          "scatterpolar": [
           {
            "marker": {
             "colorbar": {
              "outlinewidth": 0,
              "ticks": ""
             }
            },
            "type": "scatterpolar"
           }
          ],
          "scatterpolargl": [
           {
            "marker": {
             "colorbar": {
              "outlinewidth": 0,
              "ticks": ""
             }
            },
            "type": "scatterpolargl"
           }
          ],
          "scatterternary": [
           {
            "marker": {
             "colorbar": {
              "outlinewidth": 0,
              "ticks": ""
             }
            },
            "type": "scatterternary"
           }
          ],
          "surface": [
           {
            "colorbar": {
             "outlinewidth": 0,
             "ticks": ""
            },
            "colorscale": [
             [
              0,
              "#0d0887"
             ],
             [
              0.1111111111111111,
              "#46039f"
             ],
             [
              0.2222222222222222,
              "#7201a8"
             ],
             [
              0.3333333333333333,
              "#9c179e"
             ],
             [
              0.4444444444444444,
              "#bd3786"
             ],
             [
              0.5555555555555556,
              "#d8576b"
             ],
             [
              0.6666666666666666,
              "#ed7953"
             ],
             [
              0.7777777777777778,
              "#fb9f3a"
             ],
             [
              0.8888888888888888,
              "#fdca26"
             ],
             [
              1,
              "#f0f921"
             ]
            ],
            "type": "surface"
           }
          ],
          "table": [
           {
            "cells": {
             "fill": {
              "color": "#EBF0F8"
             },
             "line": {
              "color": "white"
             }
            },
            "header": {
             "fill": {
              "color": "#C8D4E3"
             },
             "line": {
              "color": "white"
             }
            },
            "type": "table"
           }
          ]
         },
         "layout": {
          "annotationdefaults": {
           "arrowcolor": "#2a3f5f",
           "arrowhead": 0,
           "arrowwidth": 1
          },
          "autotypenumbers": "strict",
          "coloraxis": {
           "colorbar": {
            "outlinewidth": 0,
            "ticks": ""
           }
          },
          "colorscale": {
           "diverging": [
            [
             0,
             "#8e0152"
            ],
            [
             0.1,
             "#c51b7d"
            ],
            [
             0.2,
             "#de77ae"
            ],
            [
             0.3,
             "#f1b6da"
            ],
            [
             0.4,
             "#fde0ef"
            ],
            [
             0.5,
             "#f7f7f7"
            ],
            [
             0.6,
             "#e6f5d0"
            ],
            [
             0.7,
             "#b8e186"
            ],
            [
             0.8,
             "#7fbc41"
            ],
            [
             0.9,
             "#4d9221"
            ],
            [
             1,
             "#276419"
            ]
           ],
           "sequential": [
            [
             0,
             "#0d0887"
            ],
            [
             0.1111111111111111,
             "#46039f"
            ],
            [
             0.2222222222222222,
             "#7201a8"
            ],
            [
             0.3333333333333333,
             "#9c179e"
            ],
            [
             0.4444444444444444,
             "#bd3786"
            ],
            [
             0.5555555555555556,
             "#d8576b"
            ],
            [
             0.6666666666666666,
             "#ed7953"
            ],
            [
             0.7777777777777778,
             "#fb9f3a"
            ],
            [
             0.8888888888888888,
             "#fdca26"
            ],
            [
             1,
             "#f0f921"
            ]
           ],
           "sequentialminus": [
            [
             0,
             "#0d0887"
            ],
            [
             0.1111111111111111,
             "#46039f"
            ],
            [
             0.2222222222222222,
             "#7201a8"
            ],
            [
             0.3333333333333333,
             "#9c179e"
            ],
            [
             0.4444444444444444,
             "#bd3786"
            ],
            [
             0.5555555555555556,
             "#d8576b"
            ],
            [
             0.6666666666666666,
             "#ed7953"
            ],
            [
             0.7777777777777778,
             "#fb9f3a"
            ],
            [
             0.8888888888888888,
             "#fdca26"
            ],
            [
             1,
             "#f0f921"
            ]
           ]
          },
          "colorway": [
           "#636efa",
           "#EF553B",
           "#00cc96",
           "#ab63fa",
           "#FFA15A",
           "#19d3f3",
           "#FF6692",
           "#B6E880",
           "#FF97FF",
           "#FECB52"
          ],
          "font": {
           "color": "#2a3f5f"
          },
          "geo": {
           "bgcolor": "white",
           "lakecolor": "white",
           "landcolor": "#E5ECF6",
           "showlakes": true,
           "showland": true,
           "subunitcolor": "white"
          },
          "hoverlabel": {
           "align": "left"
          },
          "hovermode": "closest",
          "mapbox": {
           "style": "light"
          },
          "paper_bgcolor": "white",
          "plot_bgcolor": "#E5ECF6",
          "polar": {
           "angularaxis": {
            "gridcolor": "white",
            "linecolor": "white",
            "ticks": ""
           },
           "bgcolor": "#E5ECF6",
           "radialaxis": {
            "gridcolor": "white",
            "linecolor": "white",
            "ticks": ""
           }
          },
          "scene": {
           "xaxis": {
            "backgroundcolor": "#E5ECF6",
            "gridcolor": "white",
            "gridwidth": 2,
            "linecolor": "white",
            "showbackground": true,
            "ticks": "",
            "zerolinecolor": "white"
           },
           "yaxis": {
            "backgroundcolor": "#E5ECF6",
            "gridcolor": "white",
            "gridwidth": 2,
            "linecolor": "white",
            "showbackground": true,
            "ticks": "",
            "zerolinecolor": "white"
           },
           "zaxis": {
            "backgroundcolor": "#E5ECF6",
            "gridcolor": "white",
            "gridwidth": 2,
            "linecolor": "white",
            "showbackground": true,
            "ticks": "",
            "zerolinecolor": "white"
           }
          },
          "shapedefaults": {
           "line": {
            "color": "#2a3f5f"
           }
          },
          "ternary": {
           "aaxis": {
            "gridcolor": "white",
            "linecolor": "white",
            "ticks": ""
           },
           "baxis": {
            "gridcolor": "white",
            "linecolor": "white",
            "ticks": ""
           },
           "bgcolor": "#E5ECF6",
           "caxis": {
            "gridcolor": "white",
            "linecolor": "white",
            "ticks": ""
           }
          },
          "title": {
           "x": 0.05
          },
          "xaxis": {
           "automargin": true,
           "gridcolor": "white",
           "linecolor": "white",
           "ticks": "",
           "title": {
            "standoff": 15
           },
           "zerolinecolor": "white",
           "zerolinewidth": 2
          },
          "yaxis": {
           "automargin": true,
           "gridcolor": "white",
           "linecolor": "white",
           "ticks": "",
           "title": {
            "standoff": 15
           },
           "zerolinecolor": "white",
           "zerolinewidth": 2
          }
         }
        },
        "title": {
         "text": "fig 9. Wind Speed for next year"
        },
        "xaxis": {
         "anchor": "y",
         "domain": [
          0,
          1
         ],
         "title": {
          "text": "Month"
         }
        },
        "yaxis": {
         "anchor": "x",
         "domain": [
          0,
          1
         ],
         "title": {
          "text": "Wind Speed"
         }
        }
       }
      },
      "text/html": [
       "<div>                            <div id=\"10de20fa-dcfd-4dd2-82ef-ff82d77458fd\" class=\"plotly-graph-div\" style=\"height:525px; width:100%;\"></div>            <script type=\"text/javascript\">                require([\"plotly\"], function(Plotly) {                    window.PLOTLYENV=window.PLOTLYENV || {};                                    if (document.getElementById(\"10de20fa-dcfd-4dd2-82ef-ff82d77458fd\")) {                    Plotly.newPlot(                        \"10de20fa-dcfd-4dd2-82ef-ff82d77458fd\",                        [{\"hovertemplate\": \"Month=%{x}<br>Wind Speed=%{y}<extra></extra>\", \"legendgroup\": \"\", \"line\": {\"color\": \"#636efa\", \"dash\": \"solid\"}, \"mode\": \"lines\", \"name\": \"\", \"orientation\": \"v\", \"showlegend\": false, \"type\": \"scatter\", \"x\": [\"6/2021\", \"7/2021\", \"8/2021\", \"9/2021\", \"10/2021\", \"11/2021\", \"12/2021\", \"1/2022\", \"2/2022\", \"3/2022\", \"4/2022\", \"5/2022\"], \"xaxis\": \"x\", \"y\": [1.7286596298217773, 1.8580763339996338, 1.5253655910491943, 1.1834640502929688, 0.5554100275039673, 0.23578470945358276, 0.12470036745071411, 1.682617425918579, 1.6600279808044434, 1.7550575733184814, 1.9906859397888184, 2.131024122238159], \"yaxis\": \"y\"}],                        {\"legend\": {\"tracegroupgap\": 0}, \"template\": {\"data\": {\"bar\": [{\"error_x\": {\"color\": \"#2a3f5f\"}, \"error_y\": {\"color\": \"#2a3f5f\"}, \"marker\": {\"line\": {\"color\": \"#E5ECF6\", \"width\": 0.5}}, \"type\": \"bar\"}], \"barpolar\": [{\"marker\": {\"line\": {\"color\": \"#E5ECF6\", \"width\": 0.5}}, \"type\": \"barpolar\"}], \"carpet\": [{\"aaxis\": {\"endlinecolor\": \"#2a3f5f\", \"gridcolor\": \"white\", \"linecolor\": \"white\", \"minorgridcolor\": \"white\", \"startlinecolor\": \"#2a3f5f\"}, \"baxis\": {\"endlinecolor\": \"#2a3f5f\", \"gridcolor\": \"white\", \"linecolor\": \"white\", \"minorgridcolor\": \"white\", \"startlinecolor\": \"#2a3f5f\"}, \"type\": \"carpet\"}], \"choropleth\": [{\"colorbar\": {\"outlinewidth\": 0, \"ticks\": \"\"}, \"type\": \"choropleth\"}], \"contour\": [{\"colorbar\": {\"outlinewidth\": 0, \"ticks\": \"\"}, \"colorscale\": [[0.0, \"#0d0887\"], [0.1111111111111111, \"#46039f\"], [0.2222222222222222, \"#7201a8\"], [0.3333333333333333, \"#9c179e\"], [0.4444444444444444, \"#bd3786\"], [0.5555555555555556, \"#d8576b\"], [0.6666666666666666, \"#ed7953\"], [0.7777777777777778, \"#fb9f3a\"], [0.8888888888888888, \"#fdca26\"], [1.0, \"#f0f921\"]], \"type\": \"contour\"}], \"contourcarpet\": [{\"colorbar\": {\"outlinewidth\": 0, \"ticks\": \"\"}, \"type\": \"contourcarpet\"}], \"heatmap\": [{\"colorbar\": {\"outlinewidth\": 0, \"ticks\": \"\"}, \"colorscale\": [[0.0, \"#0d0887\"], [0.1111111111111111, \"#46039f\"], [0.2222222222222222, \"#7201a8\"], [0.3333333333333333, \"#9c179e\"], [0.4444444444444444, \"#bd3786\"], [0.5555555555555556, \"#d8576b\"], [0.6666666666666666, \"#ed7953\"], [0.7777777777777778, \"#fb9f3a\"], [0.8888888888888888, \"#fdca26\"], [1.0, \"#f0f921\"]], \"type\": \"heatmap\"}], \"heatmapgl\": [{\"colorbar\": {\"outlinewidth\": 0, \"ticks\": \"\"}, \"colorscale\": [[0.0, \"#0d0887\"], [0.1111111111111111, \"#46039f\"], [0.2222222222222222, \"#7201a8\"], [0.3333333333333333, \"#9c179e\"], [0.4444444444444444, \"#bd3786\"], [0.5555555555555556, \"#d8576b\"], [0.6666666666666666, \"#ed7953\"], [0.7777777777777778, \"#fb9f3a\"], [0.8888888888888888, \"#fdca26\"], [1.0, \"#f0f921\"]], \"type\": \"heatmapgl\"}], \"histogram\": [{\"marker\": {\"colorbar\": {\"outlinewidth\": 0, \"ticks\": \"\"}}, \"type\": \"histogram\"}], \"histogram2d\": [{\"colorbar\": {\"outlinewidth\": 0, \"ticks\": \"\"}, \"colorscale\": [[0.0, \"#0d0887\"], [0.1111111111111111, \"#46039f\"], [0.2222222222222222, \"#7201a8\"], [0.3333333333333333, \"#9c179e\"], [0.4444444444444444, \"#bd3786\"], [0.5555555555555556, \"#d8576b\"], [0.6666666666666666, \"#ed7953\"], [0.7777777777777778, \"#fb9f3a\"], [0.8888888888888888, \"#fdca26\"], [1.0, \"#f0f921\"]], \"type\": \"histogram2d\"}], \"histogram2dcontour\": [{\"colorbar\": {\"outlinewidth\": 0, \"ticks\": \"\"}, \"colorscale\": [[0.0, \"#0d0887\"], [0.1111111111111111, \"#46039f\"], [0.2222222222222222, \"#7201a8\"], [0.3333333333333333, \"#9c179e\"], [0.4444444444444444, \"#bd3786\"], [0.5555555555555556, \"#d8576b\"], [0.6666666666666666, \"#ed7953\"], [0.7777777777777778, \"#fb9f3a\"], [0.8888888888888888, \"#fdca26\"], [1.0, \"#f0f921\"]], \"type\": \"histogram2dcontour\"}], \"mesh3d\": [{\"colorbar\": {\"outlinewidth\": 0, \"ticks\": \"\"}, \"type\": \"mesh3d\"}], \"parcoords\": [{\"line\": {\"colorbar\": {\"outlinewidth\": 0, \"ticks\": \"\"}}, \"type\": \"parcoords\"}], \"pie\": [{\"automargin\": true, \"type\": \"pie\"}], \"scatter\": [{\"marker\": {\"colorbar\": {\"outlinewidth\": 0, \"ticks\": \"\"}}, \"type\": \"scatter\"}], \"scatter3d\": [{\"line\": {\"colorbar\": {\"outlinewidth\": 0, \"ticks\": \"\"}}, \"marker\": {\"colorbar\": {\"outlinewidth\": 0, \"ticks\": \"\"}}, \"type\": \"scatter3d\"}], \"scattercarpet\": [{\"marker\": {\"colorbar\": {\"outlinewidth\": 0, \"ticks\": \"\"}}, \"type\": \"scattercarpet\"}], \"scattergeo\": [{\"marker\": {\"colorbar\": {\"outlinewidth\": 0, \"ticks\": \"\"}}, \"type\": \"scattergeo\"}], \"scattergl\": [{\"marker\": {\"colorbar\": {\"outlinewidth\": 0, \"ticks\": \"\"}}, \"type\": \"scattergl\"}], \"scattermapbox\": [{\"marker\": {\"colorbar\": {\"outlinewidth\": 0, \"ticks\": \"\"}}, \"type\": \"scattermapbox\"}], \"scatterpolar\": [{\"marker\": {\"colorbar\": {\"outlinewidth\": 0, \"ticks\": \"\"}}, \"type\": \"scatterpolar\"}], \"scatterpolargl\": [{\"marker\": {\"colorbar\": {\"outlinewidth\": 0, \"ticks\": \"\"}}, \"type\": \"scatterpolargl\"}], \"scatterternary\": [{\"marker\": {\"colorbar\": {\"outlinewidth\": 0, \"ticks\": \"\"}}, \"type\": \"scatterternary\"}], \"surface\": [{\"colorbar\": {\"outlinewidth\": 0, \"ticks\": \"\"}, \"colorscale\": [[0.0, \"#0d0887\"], [0.1111111111111111, \"#46039f\"], [0.2222222222222222, \"#7201a8\"], [0.3333333333333333, \"#9c179e\"], [0.4444444444444444, \"#bd3786\"], [0.5555555555555556, \"#d8576b\"], [0.6666666666666666, \"#ed7953\"], [0.7777777777777778, \"#fb9f3a\"], [0.8888888888888888, \"#fdca26\"], [1.0, \"#f0f921\"]], \"type\": \"surface\"}], \"table\": [{\"cells\": {\"fill\": {\"color\": \"#EBF0F8\"}, \"line\": {\"color\": \"white\"}}, \"header\": {\"fill\": {\"color\": \"#C8D4E3\"}, \"line\": {\"color\": \"white\"}}, \"type\": \"table\"}]}, \"layout\": {\"annotationdefaults\": {\"arrowcolor\": \"#2a3f5f\", \"arrowhead\": 0, \"arrowwidth\": 1}, \"autotypenumbers\": \"strict\", \"coloraxis\": {\"colorbar\": {\"outlinewidth\": 0, \"ticks\": \"\"}}, \"colorscale\": {\"diverging\": [[0, \"#8e0152\"], [0.1, \"#c51b7d\"], [0.2, \"#de77ae\"], [0.3, \"#f1b6da\"], [0.4, \"#fde0ef\"], [0.5, \"#f7f7f7\"], [0.6, \"#e6f5d0\"], [0.7, \"#b8e186\"], [0.8, \"#7fbc41\"], [0.9, \"#4d9221\"], [1, \"#276419\"]], \"sequential\": [[0.0, \"#0d0887\"], [0.1111111111111111, \"#46039f\"], [0.2222222222222222, \"#7201a8\"], [0.3333333333333333, \"#9c179e\"], [0.4444444444444444, \"#bd3786\"], [0.5555555555555556, \"#d8576b\"], [0.6666666666666666, \"#ed7953\"], [0.7777777777777778, \"#fb9f3a\"], [0.8888888888888888, \"#fdca26\"], [1.0, \"#f0f921\"]], \"sequentialminus\": [[0.0, \"#0d0887\"], [0.1111111111111111, \"#46039f\"], [0.2222222222222222, \"#7201a8\"], [0.3333333333333333, \"#9c179e\"], [0.4444444444444444, \"#bd3786\"], [0.5555555555555556, \"#d8576b\"], [0.6666666666666666, \"#ed7953\"], [0.7777777777777778, \"#fb9f3a\"], [0.8888888888888888, \"#fdca26\"], [1.0, \"#f0f921\"]]}, \"colorway\": [\"#636efa\", \"#EF553B\", \"#00cc96\", \"#ab63fa\", \"#FFA15A\", \"#19d3f3\", \"#FF6692\", \"#B6E880\", \"#FF97FF\", \"#FECB52\"], \"font\": {\"color\": \"#2a3f5f\"}, \"geo\": {\"bgcolor\": \"white\", \"lakecolor\": \"white\", \"landcolor\": \"#E5ECF6\", \"showlakes\": true, \"showland\": true, \"subunitcolor\": \"white\"}, \"hoverlabel\": {\"align\": \"left\"}, \"hovermode\": \"closest\", \"mapbox\": {\"style\": \"light\"}, \"paper_bgcolor\": \"white\", \"plot_bgcolor\": \"#E5ECF6\", \"polar\": {\"angularaxis\": {\"gridcolor\": \"white\", \"linecolor\": \"white\", \"ticks\": \"\"}, \"bgcolor\": \"#E5ECF6\", \"radialaxis\": {\"gridcolor\": \"white\", \"linecolor\": \"white\", \"ticks\": \"\"}}, \"scene\": {\"xaxis\": {\"backgroundcolor\": \"#E5ECF6\", \"gridcolor\": \"white\", \"gridwidth\": 2, \"linecolor\": \"white\", \"showbackground\": true, \"ticks\": \"\", \"zerolinecolor\": \"white\"}, \"yaxis\": {\"backgroundcolor\": \"#E5ECF6\", \"gridcolor\": \"white\", \"gridwidth\": 2, \"linecolor\": \"white\", \"showbackground\": true, \"ticks\": \"\", \"zerolinecolor\": \"white\"}, \"zaxis\": {\"backgroundcolor\": \"#E5ECF6\", \"gridcolor\": \"white\", \"gridwidth\": 2, \"linecolor\": \"white\", \"showbackground\": true, \"ticks\": \"\", \"zerolinecolor\": \"white\"}}, \"shapedefaults\": {\"line\": {\"color\": \"#2a3f5f\"}}, \"ternary\": {\"aaxis\": {\"gridcolor\": \"white\", \"linecolor\": \"white\", \"ticks\": \"\"}, \"baxis\": {\"gridcolor\": \"white\", \"linecolor\": \"white\", \"ticks\": \"\"}, \"bgcolor\": \"#E5ECF6\", \"caxis\": {\"gridcolor\": \"white\", \"linecolor\": \"white\", \"ticks\": \"\"}}, \"title\": {\"x\": 0.05}, \"xaxis\": {\"automargin\": true, \"gridcolor\": \"white\", \"linecolor\": \"white\", \"ticks\": \"\", \"title\": {\"standoff\": 15}, \"zerolinecolor\": \"white\", \"zerolinewidth\": 2}, \"yaxis\": {\"automargin\": true, \"gridcolor\": \"white\", \"linecolor\": \"white\", \"ticks\": \"\", \"title\": {\"standoff\": 15}, \"zerolinecolor\": \"white\", \"zerolinewidth\": 2}}}, \"title\": {\"text\": \"fig 9. Wind Speed for next year\"}, \"xaxis\": {\"anchor\": \"y\", \"domain\": [0.0, 1.0], \"title\": {\"text\": \"Month\"}}, \"yaxis\": {\"anchor\": \"x\", \"domain\": [0.0, 1.0], \"title\": {\"text\": \"Wind Speed\"}}},                        {\"responsive\": true}                    ).then(function(){\n",
       "                            \n",
       "var gd = document.getElementById('10de20fa-dcfd-4dd2-82ef-ff82d77458fd');\n",
       "var x = new MutationObserver(function (mutations, observer) {{\n",
       "        var display = window.getComputedStyle(gd).display;\n",
       "        if (!display || display === 'none') {{\n",
       "            console.log([gd, 'removed!']);\n",
       "            Plotly.purge(gd);\n",
       "            observer.disconnect();\n",
       "        }}\n",
       "}});\n",
       "\n",
       "// Listen for the removal of the full notebook cells\n",
       "var notebookContainer = gd.closest('#notebook-container');\n",
       "if (notebookContainer) {{\n",
       "    x.observe(notebookContainer, {childList: true});\n",
       "}}\n",
       "\n",
       "// Listen for the clearing of the current output cell\n",
       "var outputEl = gd.closest('.output');\n",
       "if (outputEl) {{\n",
       "    x.observe(outputEl, {childList: true});\n",
       "}}\n",
       "\n",
       "                        })                };                });            </script>        </div>"
      ]
     },
     "metadata": {},
     "output_type": "display_data"
    }
   ],
   "source": [
    "fig = px.line(result_dataframe, x='Month', y='Wind Speed', title = 'fig 7. Wind Speed for next year')\n",
    "fig.show()"
   ]
  },
  {
   "cell_type": "code",
   "execution_count": 54,
   "metadata": {},
   "outputs": [
    {
     "data": {
      "application/vnd.plotly.v1+json": {
       "config": {
        "plotlyServerURL": "https://plot.ly"
       },
       "data": [
        {
         "alignmentgroup": "True",
         "hovertemplate": "Month=%{x}<br>Cloud Coverage=%{y}<extra></extra>",
         "legendgroup": "",
         "marker": {
          "color": "#636efa"
         },
         "name": "",
         "offsetgroup": "",
         "orientation": "v",
         "showlegend": false,
         "textposition": "auto",
         "type": "bar",
         "x": [
          "6/2021",
          "7/2021",
          "8/2021",
          "9/2021",
          "10/2021",
          "11/2021",
          "12/2021",
          "1/2022",
          "2/2022",
          "3/2022",
          "4/2022",
          "5/2022"
         ],
         "xaxis": "x",
         "y": [
          5.444276332855225,
          6.468191146850586,
          5.96697473526001,
          5.652795314788818,
          3.575472354888916,
          1.9705294370651245,
          1.2009925842285156,
          1.1738619804382324,
          1.258257269859314,
          1.6396715641021729,
          2.356402635574341,
          4.3346991539001465
         ],
         "yaxis": "y"
        }
       ],
       "layout": {
        "barmode": "relative",
        "legend": {
         "tracegroupgap": 0
        },
        "template": {
         "data": {
          "bar": [
           {
            "error_x": {
             "color": "#2a3f5f"
            },
            "error_y": {
             "color": "#2a3f5f"
            },
            "marker": {
             "line": {
              "color": "#E5ECF6",
              "width": 0.5
             }
            },
            "type": "bar"
           }
          ],
          "barpolar": [
           {
            "marker": {
             "line": {
              "color": "#E5ECF6",
              "width": 0.5
             }
            },
            "type": "barpolar"
           }
          ],
          "carpet": [
           {
            "aaxis": {
             "endlinecolor": "#2a3f5f",
             "gridcolor": "white",
             "linecolor": "white",
             "minorgridcolor": "white",
             "startlinecolor": "#2a3f5f"
            },
            "baxis": {
             "endlinecolor": "#2a3f5f",
             "gridcolor": "white",
             "linecolor": "white",
             "minorgridcolor": "white",
             "startlinecolor": "#2a3f5f"
            },
            "type": "carpet"
           }
          ],
          "choropleth": [
           {
            "colorbar": {
             "outlinewidth": 0,
             "ticks": ""
            },
            "type": "choropleth"
           }
          ],
          "contour": [
           {
            "colorbar": {
             "outlinewidth": 0,
             "ticks": ""
            },
            "colorscale": [
             [
              0,
              "#0d0887"
             ],
             [
              0.1111111111111111,
              "#46039f"
             ],
             [
              0.2222222222222222,
              "#7201a8"
             ],
             [
              0.3333333333333333,
              "#9c179e"
             ],
             [
              0.4444444444444444,
              "#bd3786"
             ],
             [
              0.5555555555555556,
              "#d8576b"
             ],
             [
              0.6666666666666666,
              "#ed7953"
             ],
             [
              0.7777777777777778,
              "#fb9f3a"
             ],
             [
              0.8888888888888888,
              "#fdca26"
             ],
             [
              1,
              "#f0f921"
             ]
            ],
            "type": "contour"
           }
          ],
          "contourcarpet": [
           {
            "colorbar": {
             "outlinewidth": 0,
             "ticks": ""
            },
            "type": "contourcarpet"
           }
          ],
          "heatmap": [
           {
            "colorbar": {
             "outlinewidth": 0,
             "ticks": ""
            },
            "colorscale": [
             [
              0,
              "#0d0887"
             ],
             [
              0.1111111111111111,
              "#46039f"
             ],
             [
              0.2222222222222222,
              "#7201a8"
             ],
             [
              0.3333333333333333,
              "#9c179e"
             ],
             [
              0.4444444444444444,
              "#bd3786"
             ],
             [
              0.5555555555555556,
              "#d8576b"
             ],
             [
              0.6666666666666666,
              "#ed7953"
             ],
             [
              0.7777777777777778,
              "#fb9f3a"
             ],
             [
              0.8888888888888888,
              "#fdca26"
             ],
             [
              1,
              "#f0f921"
             ]
            ],
            "type": "heatmap"
           }
          ],
          "heatmapgl": [
           {
            "colorbar": {
             "outlinewidth": 0,
             "ticks": ""
            },
            "colorscale": [
             [
              0,
              "#0d0887"
             ],
             [
              0.1111111111111111,
              "#46039f"
             ],
             [
              0.2222222222222222,
              "#7201a8"
             ],
             [
              0.3333333333333333,
              "#9c179e"
             ],
             [
              0.4444444444444444,
              "#bd3786"
             ],
             [
              0.5555555555555556,
              "#d8576b"
             ],
             [
              0.6666666666666666,
              "#ed7953"
             ],
             [
              0.7777777777777778,
              "#fb9f3a"
             ],
             [
              0.8888888888888888,
              "#fdca26"
             ],
             [
              1,
              "#f0f921"
             ]
            ],
            "type": "heatmapgl"
           }
          ],
          "histogram": [
           {
            "marker": {
             "colorbar": {
              "outlinewidth": 0,
              "ticks": ""
             }
            },
            "type": "histogram"
           }
          ],
          "histogram2d": [
           {
            "colorbar": {
             "outlinewidth": 0,
             "ticks": ""
            },
            "colorscale": [
             [
              0,
              "#0d0887"
             ],
             [
              0.1111111111111111,
              "#46039f"
             ],
             [
              0.2222222222222222,
              "#7201a8"
             ],
             [
              0.3333333333333333,
              "#9c179e"
             ],
             [
              0.4444444444444444,
              "#bd3786"
             ],
             [
              0.5555555555555556,
              "#d8576b"
             ],
             [
              0.6666666666666666,
              "#ed7953"
             ],
             [
              0.7777777777777778,
              "#fb9f3a"
             ],
             [
              0.8888888888888888,
              "#fdca26"
             ],
             [
              1,
              "#f0f921"
             ]
            ],
            "type": "histogram2d"
           }
          ],
          "histogram2dcontour": [
           {
            "colorbar": {
             "outlinewidth": 0,
             "ticks": ""
            },
            "colorscale": [
             [
              0,
              "#0d0887"
             ],
             [
              0.1111111111111111,
              "#46039f"
             ],
             [
              0.2222222222222222,
              "#7201a8"
             ],
             [
              0.3333333333333333,
              "#9c179e"
             ],
             [
              0.4444444444444444,
              "#bd3786"
             ],
             [
              0.5555555555555556,
              "#d8576b"
             ],
             [
              0.6666666666666666,
              "#ed7953"
             ],
             [
              0.7777777777777778,
              "#fb9f3a"
             ],
             [
              0.8888888888888888,
              "#fdca26"
             ],
             [
              1,
              "#f0f921"
             ]
            ],
            "type": "histogram2dcontour"
           }
          ],
          "mesh3d": [
           {
            "colorbar": {
             "outlinewidth": 0,
             "ticks": ""
            },
            "type": "mesh3d"
           }
          ],
          "parcoords": [
           {
            "line": {
             "colorbar": {
              "outlinewidth": 0,
              "ticks": ""
             }
            },
            "type": "parcoords"
           }
          ],
          "pie": [
           {
            "automargin": true,
            "type": "pie"
           }
          ],
          "scatter": [
           {
            "marker": {
             "colorbar": {
              "outlinewidth": 0,
              "ticks": ""
             }
            },
            "type": "scatter"
           }
          ],
          "scatter3d": [
           {
            "line": {
             "colorbar": {
              "outlinewidth": 0,
              "ticks": ""
             }
            },
            "marker": {
             "colorbar": {
              "outlinewidth": 0,
              "ticks": ""
             }
            },
            "type": "scatter3d"
           }
          ],
          "scattercarpet": [
           {
            "marker": {
             "colorbar": {
              "outlinewidth": 0,
              "ticks": ""
             }
            },
            "type": "scattercarpet"
           }
          ],
          "scattergeo": [
           {
            "marker": {
             "colorbar": {
              "outlinewidth": 0,
              "ticks": ""
             }
            },
            "type": "scattergeo"
           }
          ],
          "scattergl": [
           {
            "marker": {
             "colorbar": {
              "outlinewidth": 0,
              "ticks": ""
             }
            },
            "type": "scattergl"
           }
          ],
          "scattermapbox": [
           {
            "marker": {
             "colorbar": {
              "outlinewidth": 0,
              "ticks": ""
             }
            },
            "type": "scattermapbox"
           }
          ],
          "scatterpolar": [
           {
            "marker": {
             "colorbar": {
              "outlinewidth": 0,
              "ticks": ""
             }
            },
            "type": "scatterpolar"
           }
          ],
          "scatterpolargl": [
           {
            "marker": {
             "colorbar": {
              "outlinewidth": 0,
              "ticks": ""
             }
            },
            "type": "scatterpolargl"
           }
          ],
          "scatterternary": [
           {
            "marker": {
             "colorbar": {
              "outlinewidth": 0,
              "ticks": ""
             }
            },
            "type": "scatterternary"
           }
          ],
          "surface": [
           {
            "colorbar": {
             "outlinewidth": 0,
             "ticks": ""
            },
            "colorscale": [
             [
              0,
              "#0d0887"
             ],
             [
              0.1111111111111111,
              "#46039f"
             ],
             [
              0.2222222222222222,
              "#7201a8"
             ],
             [
              0.3333333333333333,
              "#9c179e"
             ],
             [
              0.4444444444444444,
              "#bd3786"
             ],
             [
              0.5555555555555556,
              "#d8576b"
             ],
             [
              0.6666666666666666,
              "#ed7953"
             ],
             [
              0.7777777777777778,
              "#fb9f3a"
             ],
             [
              0.8888888888888888,
              "#fdca26"
             ],
             [
              1,
              "#f0f921"
             ]
            ],
            "type": "surface"
           }
          ],
          "table": [
           {
            "cells": {
             "fill": {
              "color": "#EBF0F8"
             },
             "line": {
              "color": "white"
             }
            },
            "header": {
             "fill": {
              "color": "#C8D4E3"
             },
             "line": {
              "color": "white"
             }
            },
            "type": "table"
           }
          ]
         },
         "layout": {
          "annotationdefaults": {
           "arrowcolor": "#2a3f5f",
           "arrowhead": 0,
           "arrowwidth": 1
          },
          "autotypenumbers": "strict",
          "coloraxis": {
           "colorbar": {
            "outlinewidth": 0,
            "ticks": ""
           }
          },
          "colorscale": {
           "diverging": [
            [
             0,
             "#8e0152"
            ],
            [
             0.1,
             "#c51b7d"
            ],
            [
             0.2,
             "#de77ae"
            ],
            [
             0.3,
             "#f1b6da"
            ],
            [
             0.4,
             "#fde0ef"
            ],
            [
             0.5,
             "#f7f7f7"
            ],
            [
             0.6,
             "#e6f5d0"
            ],
            [
             0.7,
             "#b8e186"
            ],
            [
             0.8,
             "#7fbc41"
            ],
            [
             0.9,
             "#4d9221"
            ],
            [
             1,
             "#276419"
            ]
           ],
           "sequential": [
            [
             0,
             "#0d0887"
            ],
            [
             0.1111111111111111,
             "#46039f"
            ],
            [
             0.2222222222222222,
             "#7201a8"
            ],
            [
             0.3333333333333333,
             "#9c179e"
            ],
            [
             0.4444444444444444,
             "#bd3786"
            ],
            [
             0.5555555555555556,
             "#d8576b"
            ],
            [
             0.6666666666666666,
             "#ed7953"
            ],
            [
             0.7777777777777778,
             "#fb9f3a"
            ],
            [
             0.8888888888888888,
             "#fdca26"
            ],
            [
             1,
             "#f0f921"
            ]
           ],
           "sequentialminus": [
            [
             0,
             "#0d0887"
            ],
            [
             0.1111111111111111,
             "#46039f"
            ],
            [
             0.2222222222222222,
             "#7201a8"
            ],
            [
             0.3333333333333333,
             "#9c179e"
            ],
            [
             0.4444444444444444,
             "#bd3786"
            ],
            [
             0.5555555555555556,
             "#d8576b"
            ],
            [
             0.6666666666666666,
             "#ed7953"
            ],
            [
             0.7777777777777778,
             "#fb9f3a"
            ],
            [
             0.8888888888888888,
             "#fdca26"
            ],
            [
             1,
             "#f0f921"
            ]
           ]
          },
          "colorway": [
           "#636efa",
           "#EF553B",
           "#00cc96",
           "#ab63fa",
           "#FFA15A",
           "#19d3f3",
           "#FF6692",
           "#B6E880",
           "#FF97FF",
           "#FECB52"
          ],
          "font": {
           "color": "#2a3f5f"
          },
          "geo": {
           "bgcolor": "white",
           "lakecolor": "white",
           "landcolor": "#E5ECF6",
           "showlakes": true,
           "showland": true,
           "subunitcolor": "white"
          },
          "hoverlabel": {
           "align": "left"
          },
          "hovermode": "closest",
          "mapbox": {
           "style": "light"
          },
          "paper_bgcolor": "white",
          "plot_bgcolor": "#E5ECF6",
          "polar": {
           "angularaxis": {
            "gridcolor": "white",
            "linecolor": "white",
            "ticks": ""
           },
           "bgcolor": "#E5ECF6",
           "radialaxis": {
            "gridcolor": "white",
            "linecolor": "white",
            "ticks": ""
           }
          },
          "scene": {
           "xaxis": {
            "backgroundcolor": "#E5ECF6",
            "gridcolor": "white",
            "gridwidth": 2,
            "linecolor": "white",
            "showbackground": true,
            "ticks": "",
            "zerolinecolor": "white"
           },
           "yaxis": {
            "backgroundcolor": "#E5ECF6",
            "gridcolor": "white",
            "gridwidth": 2,
            "linecolor": "white",
            "showbackground": true,
            "ticks": "",
            "zerolinecolor": "white"
           },
           "zaxis": {
            "backgroundcolor": "#E5ECF6",
            "gridcolor": "white",
            "gridwidth": 2,
            "linecolor": "white",
            "showbackground": true,
            "ticks": "",
            "zerolinecolor": "white"
           }
          },
          "shapedefaults": {
           "line": {
            "color": "#2a3f5f"
           }
          },
          "ternary": {
           "aaxis": {
            "gridcolor": "white",
            "linecolor": "white",
            "ticks": ""
           },
           "baxis": {
            "gridcolor": "white",
            "linecolor": "white",
            "ticks": ""
           },
           "bgcolor": "#E5ECF6",
           "caxis": {
            "gridcolor": "white",
            "linecolor": "white",
            "ticks": ""
           }
          },
          "title": {
           "x": 0.05
          },
          "xaxis": {
           "automargin": true,
           "gridcolor": "white",
           "linecolor": "white",
           "ticks": "",
           "title": {
            "standoff": 15
           },
           "zerolinecolor": "white",
           "zerolinewidth": 2
          },
          "yaxis": {
           "automargin": true,
           "gridcolor": "white",
           "linecolor": "white",
           "ticks": "",
           "title": {
            "standoff": 15
           },
           "zerolinecolor": "white",
           "zerolinewidth": 2
          }
         }
        },
        "title": {
         "text": "fig 10. Cloud Coverage for next year"
        },
        "xaxis": {
         "anchor": "y",
         "domain": [
          0,
          1
         ],
         "title": {
          "text": "Month"
         }
        },
        "yaxis": {
         "anchor": "x",
         "domain": [
          0,
          1
         ],
         "title": {
          "text": "Cloud Coverage"
         }
        }
       }
      },
      "text/html": [
       "<div>                            <div id=\"ab9159bb-9fda-4f87-ae1c-47255fd3f811\" class=\"plotly-graph-div\" style=\"height:525px; width:100%;\"></div>            <script type=\"text/javascript\">                require([\"plotly\"], function(Plotly) {                    window.PLOTLYENV=window.PLOTLYENV || {};                                    if (document.getElementById(\"ab9159bb-9fda-4f87-ae1c-47255fd3f811\")) {                    Plotly.newPlot(                        \"ab9159bb-9fda-4f87-ae1c-47255fd3f811\",                        [{\"alignmentgroup\": \"True\", \"hovertemplate\": \"Month=%{x}<br>Cloud Coverage=%{y}<extra></extra>\", \"legendgroup\": \"\", \"marker\": {\"color\": \"#636efa\"}, \"name\": \"\", \"offsetgroup\": \"\", \"orientation\": \"v\", \"showlegend\": false, \"textposition\": \"auto\", \"type\": \"bar\", \"x\": [\"6/2021\", \"7/2021\", \"8/2021\", \"9/2021\", \"10/2021\", \"11/2021\", \"12/2021\", \"1/2022\", \"2/2022\", \"3/2022\", \"4/2022\", \"5/2022\"], \"xaxis\": \"x\", \"y\": [5.444276332855225, 6.468191146850586, 5.96697473526001, 5.652795314788818, 3.575472354888916, 1.9705294370651245, 1.2009925842285156, 1.1738619804382324, 1.258257269859314, 1.6396715641021729, 2.356402635574341, 4.3346991539001465], \"yaxis\": \"y\"}],                        {\"barmode\": \"relative\", \"legend\": {\"tracegroupgap\": 0}, \"template\": {\"data\": {\"bar\": [{\"error_x\": {\"color\": \"#2a3f5f\"}, \"error_y\": {\"color\": \"#2a3f5f\"}, \"marker\": {\"line\": {\"color\": \"#E5ECF6\", \"width\": 0.5}}, \"type\": \"bar\"}], \"barpolar\": [{\"marker\": {\"line\": {\"color\": \"#E5ECF6\", \"width\": 0.5}}, \"type\": \"barpolar\"}], \"carpet\": [{\"aaxis\": {\"endlinecolor\": \"#2a3f5f\", \"gridcolor\": \"white\", \"linecolor\": \"white\", \"minorgridcolor\": \"white\", \"startlinecolor\": \"#2a3f5f\"}, \"baxis\": {\"endlinecolor\": \"#2a3f5f\", \"gridcolor\": \"white\", \"linecolor\": \"white\", \"minorgridcolor\": \"white\", \"startlinecolor\": \"#2a3f5f\"}, \"type\": \"carpet\"}], \"choropleth\": [{\"colorbar\": {\"outlinewidth\": 0, \"ticks\": \"\"}, \"type\": \"choropleth\"}], \"contour\": [{\"colorbar\": {\"outlinewidth\": 0, \"ticks\": \"\"}, \"colorscale\": [[0.0, \"#0d0887\"], [0.1111111111111111, \"#46039f\"], [0.2222222222222222, \"#7201a8\"], [0.3333333333333333, \"#9c179e\"], [0.4444444444444444, \"#bd3786\"], [0.5555555555555556, \"#d8576b\"], [0.6666666666666666, \"#ed7953\"], [0.7777777777777778, \"#fb9f3a\"], [0.8888888888888888, \"#fdca26\"], [1.0, \"#f0f921\"]], \"type\": \"contour\"}], \"contourcarpet\": [{\"colorbar\": {\"outlinewidth\": 0, \"ticks\": \"\"}, \"type\": \"contourcarpet\"}], \"heatmap\": [{\"colorbar\": {\"outlinewidth\": 0, \"ticks\": \"\"}, \"colorscale\": [[0.0, \"#0d0887\"], [0.1111111111111111, \"#46039f\"], [0.2222222222222222, \"#7201a8\"], [0.3333333333333333, \"#9c179e\"], [0.4444444444444444, \"#bd3786\"], [0.5555555555555556, \"#d8576b\"], [0.6666666666666666, \"#ed7953\"], [0.7777777777777778, \"#fb9f3a\"], [0.8888888888888888, \"#fdca26\"], [1.0, \"#f0f921\"]], \"type\": \"heatmap\"}], \"heatmapgl\": [{\"colorbar\": {\"outlinewidth\": 0, \"ticks\": \"\"}, \"colorscale\": [[0.0, \"#0d0887\"], [0.1111111111111111, \"#46039f\"], [0.2222222222222222, \"#7201a8\"], [0.3333333333333333, \"#9c179e\"], [0.4444444444444444, \"#bd3786\"], [0.5555555555555556, \"#d8576b\"], [0.6666666666666666, \"#ed7953\"], [0.7777777777777778, \"#fb9f3a\"], [0.8888888888888888, \"#fdca26\"], [1.0, \"#f0f921\"]], \"type\": \"heatmapgl\"}], \"histogram\": [{\"marker\": {\"colorbar\": {\"outlinewidth\": 0, \"ticks\": \"\"}}, \"type\": \"histogram\"}], \"histogram2d\": [{\"colorbar\": {\"outlinewidth\": 0, \"ticks\": \"\"}, \"colorscale\": [[0.0, \"#0d0887\"], [0.1111111111111111, \"#46039f\"], [0.2222222222222222, \"#7201a8\"], [0.3333333333333333, \"#9c179e\"], [0.4444444444444444, \"#bd3786\"], [0.5555555555555556, \"#d8576b\"], [0.6666666666666666, \"#ed7953\"], [0.7777777777777778, \"#fb9f3a\"], [0.8888888888888888, \"#fdca26\"], [1.0, \"#f0f921\"]], \"type\": \"histogram2d\"}], \"histogram2dcontour\": [{\"colorbar\": {\"outlinewidth\": 0, \"ticks\": \"\"}, \"colorscale\": [[0.0, \"#0d0887\"], [0.1111111111111111, \"#46039f\"], [0.2222222222222222, \"#7201a8\"], [0.3333333333333333, \"#9c179e\"], [0.4444444444444444, \"#bd3786\"], [0.5555555555555556, \"#d8576b\"], [0.6666666666666666, \"#ed7953\"], [0.7777777777777778, \"#fb9f3a\"], [0.8888888888888888, \"#fdca26\"], [1.0, \"#f0f921\"]], \"type\": \"histogram2dcontour\"}], \"mesh3d\": [{\"colorbar\": {\"outlinewidth\": 0, \"ticks\": \"\"}, \"type\": \"mesh3d\"}], \"parcoords\": [{\"line\": {\"colorbar\": {\"outlinewidth\": 0, \"ticks\": \"\"}}, \"type\": \"parcoords\"}], \"pie\": [{\"automargin\": true, \"type\": \"pie\"}], \"scatter\": [{\"marker\": {\"colorbar\": {\"outlinewidth\": 0, \"ticks\": \"\"}}, \"type\": \"scatter\"}], \"scatter3d\": [{\"line\": {\"colorbar\": {\"outlinewidth\": 0, \"ticks\": \"\"}}, \"marker\": {\"colorbar\": {\"outlinewidth\": 0, \"ticks\": \"\"}}, \"type\": \"scatter3d\"}], \"scattercarpet\": [{\"marker\": {\"colorbar\": {\"outlinewidth\": 0, \"ticks\": \"\"}}, \"type\": \"scattercarpet\"}], \"scattergeo\": [{\"marker\": {\"colorbar\": {\"outlinewidth\": 0, \"ticks\": \"\"}}, \"type\": \"scattergeo\"}], \"scattergl\": [{\"marker\": {\"colorbar\": {\"outlinewidth\": 0, \"ticks\": \"\"}}, \"type\": \"scattergl\"}], \"scattermapbox\": [{\"marker\": {\"colorbar\": {\"outlinewidth\": 0, \"ticks\": \"\"}}, \"type\": \"scattermapbox\"}], \"scatterpolar\": [{\"marker\": {\"colorbar\": {\"outlinewidth\": 0, \"ticks\": \"\"}}, \"type\": \"scatterpolar\"}], \"scatterpolargl\": [{\"marker\": {\"colorbar\": {\"outlinewidth\": 0, \"ticks\": \"\"}}, \"type\": \"scatterpolargl\"}], \"scatterternary\": [{\"marker\": {\"colorbar\": {\"outlinewidth\": 0, \"ticks\": \"\"}}, \"type\": \"scatterternary\"}], \"surface\": [{\"colorbar\": {\"outlinewidth\": 0, \"ticks\": \"\"}, \"colorscale\": [[0.0, \"#0d0887\"], [0.1111111111111111, \"#46039f\"], [0.2222222222222222, \"#7201a8\"], [0.3333333333333333, \"#9c179e\"], [0.4444444444444444, \"#bd3786\"], [0.5555555555555556, \"#d8576b\"], [0.6666666666666666, \"#ed7953\"], [0.7777777777777778, \"#fb9f3a\"], [0.8888888888888888, \"#fdca26\"], [1.0, \"#f0f921\"]], \"type\": \"surface\"}], \"table\": [{\"cells\": {\"fill\": {\"color\": \"#EBF0F8\"}, \"line\": {\"color\": \"white\"}}, \"header\": {\"fill\": {\"color\": \"#C8D4E3\"}, \"line\": {\"color\": \"white\"}}, \"type\": \"table\"}]}, \"layout\": {\"annotationdefaults\": {\"arrowcolor\": \"#2a3f5f\", \"arrowhead\": 0, \"arrowwidth\": 1}, \"autotypenumbers\": \"strict\", \"coloraxis\": {\"colorbar\": {\"outlinewidth\": 0, \"ticks\": \"\"}}, \"colorscale\": {\"diverging\": [[0, \"#8e0152\"], [0.1, \"#c51b7d\"], [0.2, \"#de77ae\"], [0.3, \"#f1b6da\"], [0.4, \"#fde0ef\"], [0.5, \"#f7f7f7\"], [0.6, \"#e6f5d0\"], [0.7, \"#b8e186\"], [0.8, \"#7fbc41\"], [0.9, \"#4d9221\"], [1, \"#276419\"]], \"sequential\": [[0.0, \"#0d0887\"], [0.1111111111111111, \"#46039f\"], [0.2222222222222222, \"#7201a8\"], [0.3333333333333333, \"#9c179e\"], [0.4444444444444444, \"#bd3786\"], [0.5555555555555556, \"#d8576b\"], [0.6666666666666666, \"#ed7953\"], [0.7777777777777778, \"#fb9f3a\"], [0.8888888888888888, \"#fdca26\"], [1.0, \"#f0f921\"]], \"sequentialminus\": [[0.0, \"#0d0887\"], [0.1111111111111111, \"#46039f\"], [0.2222222222222222, \"#7201a8\"], [0.3333333333333333, \"#9c179e\"], [0.4444444444444444, \"#bd3786\"], [0.5555555555555556, \"#d8576b\"], [0.6666666666666666, \"#ed7953\"], [0.7777777777777778, \"#fb9f3a\"], [0.8888888888888888, \"#fdca26\"], [1.0, \"#f0f921\"]]}, \"colorway\": [\"#636efa\", \"#EF553B\", \"#00cc96\", \"#ab63fa\", \"#FFA15A\", \"#19d3f3\", \"#FF6692\", \"#B6E880\", \"#FF97FF\", \"#FECB52\"], \"font\": {\"color\": \"#2a3f5f\"}, \"geo\": {\"bgcolor\": \"white\", \"lakecolor\": \"white\", \"landcolor\": \"#E5ECF6\", \"showlakes\": true, \"showland\": true, \"subunitcolor\": \"white\"}, \"hoverlabel\": {\"align\": \"left\"}, \"hovermode\": \"closest\", \"mapbox\": {\"style\": \"light\"}, \"paper_bgcolor\": \"white\", \"plot_bgcolor\": \"#E5ECF6\", \"polar\": {\"angularaxis\": {\"gridcolor\": \"white\", \"linecolor\": \"white\", \"ticks\": \"\"}, \"bgcolor\": \"#E5ECF6\", \"radialaxis\": {\"gridcolor\": \"white\", \"linecolor\": \"white\", \"ticks\": \"\"}}, \"scene\": {\"xaxis\": {\"backgroundcolor\": \"#E5ECF6\", \"gridcolor\": \"white\", \"gridwidth\": 2, \"linecolor\": \"white\", \"showbackground\": true, \"ticks\": \"\", \"zerolinecolor\": \"white\"}, \"yaxis\": {\"backgroundcolor\": \"#E5ECF6\", \"gridcolor\": \"white\", \"gridwidth\": 2, \"linecolor\": \"white\", \"showbackground\": true, \"ticks\": \"\", \"zerolinecolor\": \"white\"}, \"zaxis\": {\"backgroundcolor\": \"#E5ECF6\", \"gridcolor\": \"white\", \"gridwidth\": 2, \"linecolor\": \"white\", \"showbackground\": true, \"ticks\": \"\", \"zerolinecolor\": \"white\"}}, \"shapedefaults\": {\"line\": {\"color\": \"#2a3f5f\"}}, \"ternary\": {\"aaxis\": {\"gridcolor\": \"white\", \"linecolor\": \"white\", \"ticks\": \"\"}, \"baxis\": {\"gridcolor\": \"white\", \"linecolor\": \"white\", \"ticks\": \"\"}, \"bgcolor\": \"#E5ECF6\", \"caxis\": {\"gridcolor\": \"white\", \"linecolor\": \"white\", \"ticks\": \"\"}}, \"title\": {\"x\": 0.05}, \"xaxis\": {\"automargin\": true, \"gridcolor\": \"white\", \"linecolor\": \"white\", \"ticks\": \"\", \"title\": {\"standoff\": 15}, \"zerolinecolor\": \"white\", \"zerolinewidth\": 2}, \"yaxis\": {\"automargin\": true, \"gridcolor\": \"white\", \"linecolor\": \"white\", \"ticks\": \"\", \"title\": {\"standoff\": 15}, \"zerolinecolor\": \"white\", \"zerolinewidth\": 2}}}, \"title\": {\"text\": \"fig 10. Cloud Coverage for next year\"}, \"xaxis\": {\"anchor\": \"y\", \"domain\": [0.0, 1.0], \"title\": {\"text\": \"Month\"}}, \"yaxis\": {\"anchor\": \"x\", \"domain\": [0.0, 1.0], \"title\": {\"text\": \"Cloud Coverage\"}}},                        {\"responsive\": true}                    ).then(function(){\n",
       "                            \n",
       "var gd = document.getElementById('ab9159bb-9fda-4f87-ae1c-47255fd3f811');\n",
       "var x = new MutationObserver(function (mutations, observer) {{\n",
       "        var display = window.getComputedStyle(gd).display;\n",
       "        if (!display || display === 'none') {{\n",
       "            console.log([gd, 'removed!']);\n",
       "            Plotly.purge(gd);\n",
       "            observer.disconnect();\n",
       "        }}\n",
       "}});\n",
       "\n",
       "// Listen for the removal of the full notebook cells\n",
       "var notebookContainer = gd.closest('#notebook-container');\n",
       "if (notebookContainer) {{\n",
       "    x.observe(notebookContainer, {childList: true});\n",
       "}}\n",
       "\n",
       "// Listen for the clearing of the current output cell\n",
       "var outputEl = gd.closest('.output');\n",
       "if (outputEl) {{\n",
       "    x.observe(outputEl, {childList: true});\n",
       "}}\n",
       "\n",
       "                        })                };                });            </script>        </div>"
      ]
     },
     "metadata": {},
     "output_type": "display_data"
    }
   ],
   "source": [
    "fig = px.bar(result_dataframe,x='Month', y='Cloud Coverage', title = 'fig 8. Cloud Coverage for next year')\n",
    "fig.show()"
   ]
  },
  {
   "cell_type": "code",
   "execution_count": 55,
   "metadata": {},
   "outputs": [
    {
     "data": {
      "application/vnd.plotly.v1+json": {
       "config": {
        "plotlyServerURL": "https://plot.ly"
       },
       "data": [
        {
         "hovertemplate": "Month=%{x}<br>Bright Sunshine=%{y}<extra></extra>",
         "legendgroup": "",
         "line": {
          "color": "#636efa",
          "dash": "solid"
         },
         "mode": "lines",
         "name": "",
         "orientation": "v",
         "showlegend": false,
         "type": "scatter",
         "x": [
          "6/2021",
          "7/2021",
          "8/2021",
          "9/2021",
          "10/2021",
          "11/2021",
          "12/2021",
          "1/2022",
          "2/2022",
          "3/2022",
          "4/2022",
          "5/2022"
         ],
         "xaxis": "x",
         "y": [
          4.9897050857543945,
          4.295502662658691,
          4.719402313232422,
          5.178470134735107,
          6.0647172927856445,
          6.678566932678223,
          7.097933769226074,
          7.542583465576172,
          7.284422874450684,
          7.231947898864746,
          7.51547908782959,
          6.581827163696289
         ],
         "yaxis": "y"
        }
       ],
       "layout": {
        "legend": {
         "tracegroupgap": 0
        },
        "template": {
         "data": {
          "bar": [
           {
            "error_x": {
             "color": "#2a3f5f"
            },
            "error_y": {
             "color": "#2a3f5f"
            },
            "marker": {
             "line": {
              "color": "#E5ECF6",
              "width": 0.5
             }
            },
            "type": "bar"
           }
          ],
          "barpolar": [
           {
            "marker": {
             "line": {
              "color": "#E5ECF6",
              "width": 0.5
             }
            },
            "type": "barpolar"
           }
          ],
          "carpet": [
           {
            "aaxis": {
             "endlinecolor": "#2a3f5f",
             "gridcolor": "white",
             "linecolor": "white",
             "minorgridcolor": "white",
             "startlinecolor": "#2a3f5f"
            },
            "baxis": {
             "endlinecolor": "#2a3f5f",
             "gridcolor": "white",
             "linecolor": "white",
             "minorgridcolor": "white",
             "startlinecolor": "#2a3f5f"
            },
            "type": "carpet"
           }
          ],
          "choropleth": [
           {
            "colorbar": {
             "outlinewidth": 0,
             "ticks": ""
            },
            "type": "choropleth"
           }
          ],
          "contour": [
           {
            "colorbar": {
             "outlinewidth": 0,
             "ticks": ""
            },
            "colorscale": [
             [
              0,
              "#0d0887"
             ],
             [
              0.1111111111111111,
              "#46039f"
             ],
             [
              0.2222222222222222,
              "#7201a8"
             ],
             [
              0.3333333333333333,
              "#9c179e"
             ],
             [
              0.4444444444444444,
              "#bd3786"
             ],
             [
              0.5555555555555556,
              "#d8576b"
             ],
             [
              0.6666666666666666,
              "#ed7953"
             ],
             [
              0.7777777777777778,
              "#fb9f3a"
             ],
             [
              0.8888888888888888,
              "#fdca26"
             ],
             [
              1,
              "#f0f921"
             ]
            ],
            "type": "contour"
           }
          ],
          "contourcarpet": [
           {
            "colorbar": {
             "outlinewidth": 0,
             "ticks": ""
            },
            "type": "contourcarpet"
           }
          ],
          "heatmap": [
           {
            "colorbar": {
             "outlinewidth": 0,
             "ticks": ""
            },
            "colorscale": [
             [
              0,
              "#0d0887"
             ],
             [
              0.1111111111111111,
              "#46039f"
             ],
             [
              0.2222222222222222,
              "#7201a8"
             ],
             [
              0.3333333333333333,
              "#9c179e"
             ],
             [
              0.4444444444444444,
              "#bd3786"
             ],
             [
              0.5555555555555556,
              "#d8576b"
             ],
             [
              0.6666666666666666,
              "#ed7953"
             ],
             [
              0.7777777777777778,
              "#fb9f3a"
             ],
             [
              0.8888888888888888,
              "#fdca26"
             ],
             [
              1,
              "#f0f921"
             ]
            ],
            "type": "heatmap"
           }
          ],
          "heatmapgl": [
           {
            "colorbar": {
             "outlinewidth": 0,
             "ticks": ""
            },
            "colorscale": [
             [
              0,
              "#0d0887"
             ],
             [
              0.1111111111111111,
              "#46039f"
             ],
             [
              0.2222222222222222,
              "#7201a8"
             ],
             [
              0.3333333333333333,
              "#9c179e"
             ],
             [
              0.4444444444444444,
              "#bd3786"
             ],
             [
              0.5555555555555556,
              "#d8576b"
             ],
             [
              0.6666666666666666,
              "#ed7953"
             ],
             [
              0.7777777777777778,
              "#fb9f3a"
             ],
             [
              0.8888888888888888,
              "#fdca26"
             ],
             [
              1,
              "#f0f921"
             ]
            ],
            "type": "heatmapgl"
           }
          ],
          "histogram": [
           {
            "marker": {
             "colorbar": {
              "outlinewidth": 0,
              "ticks": ""
             }
            },
            "type": "histogram"
           }
          ],
          "histogram2d": [
           {
            "colorbar": {
             "outlinewidth": 0,
             "ticks": ""
            },
            "colorscale": [
             [
              0,
              "#0d0887"
             ],
             [
              0.1111111111111111,
              "#46039f"
             ],
             [
              0.2222222222222222,
              "#7201a8"
             ],
             [
              0.3333333333333333,
              "#9c179e"
             ],
             [
              0.4444444444444444,
              "#bd3786"
             ],
             [
              0.5555555555555556,
              "#d8576b"
             ],
             [
              0.6666666666666666,
              "#ed7953"
             ],
             [
              0.7777777777777778,
              "#fb9f3a"
             ],
             [
              0.8888888888888888,
              "#fdca26"
             ],
             [
              1,
              "#f0f921"
             ]
            ],
            "type": "histogram2d"
           }
          ],
          "histogram2dcontour": [
           {
            "colorbar": {
             "outlinewidth": 0,
             "ticks": ""
            },
            "colorscale": [
             [
              0,
              "#0d0887"
             ],
             [
              0.1111111111111111,
              "#46039f"
             ],
             [
              0.2222222222222222,
              "#7201a8"
             ],
             [
              0.3333333333333333,
              "#9c179e"
             ],
             [
              0.4444444444444444,
              "#bd3786"
             ],
             [
              0.5555555555555556,
              "#d8576b"
             ],
             [
              0.6666666666666666,
              "#ed7953"
             ],
             [
              0.7777777777777778,
              "#fb9f3a"
             ],
             [
              0.8888888888888888,
              "#fdca26"
             ],
             [
              1,
              "#f0f921"
             ]
            ],
            "type": "histogram2dcontour"
           }
          ],
          "mesh3d": [
           {
            "colorbar": {
             "outlinewidth": 0,
             "ticks": ""
            },
            "type": "mesh3d"
           }
          ],
          "parcoords": [
           {
            "line": {
             "colorbar": {
              "outlinewidth": 0,
              "ticks": ""
             }
            },
            "type": "parcoords"
           }
          ],
          "pie": [
           {
            "automargin": true,
            "type": "pie"
           }
          ],
          "scatter": [
           {
            "marker": {
             "colorbar": {
              "outlinewidth": 0,
              "ticks": ""
             }
            },
            "type": "scatter"
           }
          ],
          "scatter3d": [
           {
            "line": {
             "colorbar": {
              "outlinewidth": 0,
              "ticks": ""
             }
            },
            "marker": {
             "colorbar": {
              "outlinewidth": 0,
              "ticks": ""
             }
            },
            "type": "scatter3d"
           }
          ],
          "scattercarpet": [
           {
            "marker": {
             "colorbar": {
              "outlinewidth": 0,
              "ticks": ""
             }
            },
            "type": "scattercarpet"
           }
          ],
          "scattergeo": [
           {
            "marker": {
             "colorbar": {
              "outlinewidth": 0,
              "ticks": ""
             }
            },
            "type": "scattergeo"
           }
          ],
          "scattergl": [
           {
            "marker": {
             "colorbar": {
              "outlinewidth": 0,
              "ticks": ""
             }
            },
            "type": "scattergl"
           }
          ],
          "scattermapbox": [
           {
            "marker": {
             "colorbar": {
              "outlinewidth": 0,
              "ticks": ""
             }
            },
            "type": "scattermapbox"
           }
          ],
          "scatterpolar": [
           {
            "marker": {
             "colorbar": {
              "outlinewidth": 0,
              "ticks": ""
             }
            },
            "type": "scatterpolar"
           }
          ],
          "scatterpolargl": [
           {
            "marker": {
             "colorbar": {
              "outlinewidth": 0,
              "ticks": ""
             }
            },
            "type": "scatterpolargl"
           }
          ],
          "scatterternary": [
           {
            "marker": {
             "colorbar": {
              "outlinewidth": 0,
              "ticks": ""
             }
            },
            "type": "scatterternary"
           }
          ],
          "surface": [
           {
            "colorbar": {
             "outlinewidth": 0,
             "ticks": ""
            },
            "colorscale": [
             [
              0,
              "#0d0887"
             ],
             [
              0.1111111111111111,
              "#46039f"
             ],
             [
              0.2222222222222222,
              "#7201a8"
             ],
             [
              0.3333333333333333,
              "#9c179e"
             ],
             [
              0.4444444444444444,
              "#bd3786"
             ],
             [
              0.5555555555555556,
              "#d8576b"
             ],
             [
              0.6666666666666666,
              "#ed7953"
             ],
             [
              0.7777777777777778,
              "#fb9f3a"
             ],
             [
              0.8888888888888888,
              "#fdca26"
             ],
             [
              1,
              "#f0f921"
             ]
            ],
            "type": "surface"
           }
          ],
          "table": [
           {
            "cells": {
             "fill": {
              "color": "#EBF0F8"
             },
             "line": {
              "color": "white"
             }
            },
            "header": {
             "fill": {
              "color": "#C8D4E3"
             },
             "line": {
              "color": "white"
             }
            },
            "type": "table"
           }
          ]
         },
         "layout": {
          "annotationdefaults": {
           "arrowcolor": "#2a3f5f",
           "arrowhead": 0,
           "arrowwidth": 1
          },
          "autotypenumbers": "strict",
          "coloraxis": {
           "colorbar": {
            "outlinewidth": 0,
            "ticks": ""
           }
          },
          "colorscale": {
           "diverging": [
            [
             0,
             "#8e0152"
            ],
            [
             0.1,
             "#c51b7d"
            ],
            [
             0.2,
             "#de77ae"
            ],
            [
             0.3,
             "#f1b6da"
            ],
            [
             0.4,
             "#fde0ef"
            ],
            [
             0.5,
             "#f7f7f7"
            ],
            [
             0.6,
             "#e6f5d0"
            ],
            [
             0.7,
             "#b8e186"
            ],
            [
             0.8,
             "#7fbc41"
            ],
            [
             0.9,
             "#4d9221"
            ],
            [
             1,
             "#276419"
            ]
           ],
           "sequential": [
            [
             0,
             "#0d0887"
            ],
            [
             0.1111111111111111,
             "#46039f"
            ],
            [
             0.2222222222222222,
             "#7201a8"
            ],
            [
             0.3333333333333333,
             "#9c179e"
            ],
            [
             0.4444444444444444,
             "#bd3786"
            ],
            [
             0.5555555555555556,
             "#d8576b"
            ],
            [
             0.6666666666666666,
             "#ed7953"
            ],
            [
             0.7777777777777778,
             "#fb9f3a"
            ],
            [
             0.8888888888888888,
             "#fdca26"
            ],
            [
             1,
             "#f0f921"
            ]
           ],
           "sequentialminus": [
            [
             0,
             "#0d0887"
            ],
            [
             0.1111111111111111,
             "#46039f"
            ],
            [
             0.2222222222222222,
             "#7201a8"
            ],
            [
             0.3333333333333333,
             "#9c179e"
            ],
            [
             0.4444444444444444,
             "#bd3786"
            ],
            [
             0.5555555555555556,
             "#d8576b"
            ],
            [
             0.6666666666666666,
             "#ed7953"
            ],
            [
             0.7777777777777778,
             "#fb9f3a"
            ],
            [
             0.8888888888888888,
             "#fdca26"
            ],
            [
             1,
             "#f0f921"
            ]
           ]
          },
          "colorway": [
           "#636efa",
           "#EF553B",
           "#00cc96",
           "#ab63fa",
           "#FFA15A",
           "#19d3f3",
           "#FF6692",
           "#B6E880",
           "#FF97FF",
           "#FECB52"
          ],
          "font": {
           "color": "#2a3f5f"
          },
          "geo": {
           "bgcolor": "white",
           "lakecolor": "white",
           "landcolor": "#E5ECF6",
           "showlakes": true,
           "showland": true,
           "subunitcolor": "white"
          },
          "hoverlabel": {
           "align": "left"
          },
          "hovermode": "closest",
          "mapbox": {
           "style": "light"
          },
          "paper_bgcolor": "white",
          "plot_bgcolor": "#E5ECF6",
          "polar": {
           "angularaxis": {
            "gridcolor": "white",
            "linecolor": "white",
            "ticks": ""
           },
           "bgcolor": "#E5ECF6",
           "radialaxis": {
            "gridcolor": "white",
            "linecolor": "white",
            "ticks": ""
           }
          },
          "scene": {
           "xaxis": {
            "backgroundcolor": "#E5ECF6",
            "gridcolor": "white",
            "gridwidth": 2,
            "linecolor": "white",
            "showbackground": true,
            "ticks": "",
            "zerolinecolor": "white"
           },
           "yaxis": {
            "backgroundcolor": "#E5ECF6",
            "gridcolor": "white",
            "gridwidth": 2,
            "linecolor": "white",
            "showbackground": true,
            "ticks": "",
            "zerolinecolor": "white"
           },
           "zaxis": {
            "backgroundcolor": "#E5ECF6",
            "gridcolor": "white",
            "gridwidth": 2,
            "linecolor": "white",
            "showbackground": true,
            "ticks": "",
            "zerolinecolor": "white"
           }
          },
          "shapedefaults": {
           "line": {
            "color": "#2a3f5f"
           }
          },
          "ternary": {
           "aaxis": {
            "gridcolor": "white",
            "linecolor": "white",
            "ticks": ""
           },
           "baxis": {
            "gridcolor": "white",
            "linecolor": "white",
            "ticks": ""
           },
           "bgcolor": "#E5ECF6",
           "caxis": {
            "gridcolor": "white",
            "linecolor": "white",
            "ticks": ""
           }
          },
          "title": {
           "x": 0.05
          },
          "xaxis": {
           "automargin": true,
           "gridcolor": "white",
           "linecolor": "white",
           "ticks": "",
           "title": {
            "standoff": 15
           },
           "zerolinecolor": "white",
           "zerolinewidth": 2
          },
          "yaxis": {
           "automargin": true,
           "gridcolor": "white",
           "linecolor": "white",
           "ticks": "",
           "title": {
            "standoff": 15
           },
           "zerolinecolor": "white",
           "zerolinewidth": 2
          }
         }
        },
        "title": {
         "text": "fig 11. Sunshine for next year"
        },
        "xaxis": {
         "anchor": "y",
         "domain": [
          0,
          1
         ],
         "title": {
          "text": "Month"
         }
        },
        "yaxis": {
         "anchor": "x",
         "domain": [
          0,
          1
         ],
         "title": {
          "text": "Bright Sunshine"
         }
        }
       }
      },
      "text/html": [
       "<div>                            <div id=\"dbf35d90-5bc2-43c8-a9b2-61c00d8cd8d4\" class=\"plotly-graph-div\" style=\"height:525px; width:100%;\"></div>            <script type=\"text/javascript\">                require([\"plotly\"], function(Plotly) {                    window.PLOTLYENV=window.PLOTLYENV || {};                                    if (document.getElementById(\"dbf35d90-5bc2-43c8-a9b2-61c00d8cd8d4\")) {                    Plotly.newPlot(                        \"dbf35d90-5bc2-43c8-a9b2-61c00d8cd8d4\",                        [{\"hovertemplate\": \"Month=%{x}<br>Bright Sunshine=%{y}<extra></extra>\", \"legendgroup\": \"\", \"line\": {\"color\": \"#636efa\", \"dash\": \"solid\"}, \"mode\": \"lines\", \"name\": \"\", \"orientation\": \"v\", \"showlegend\": false, \"type\": \"scatter\", \"x\": [\"6/2021\", \"7/2021\", \"8/2021\", \"9/2021\", \"10/2021\", \"11/2021\", \"12/2021\", \"1/2022\", \"2/2022\", \"3/2022\", \"4/2022\", \"5/2022\"], \"xaxis\": \"x\", \"y\": [4.9897050857543945, 4.295502662658691, 4.719402313232422, 5.178470134735107, 6.0647172927856445, 6.678566932678223, 7.097933769226074, 7.542583465576172, 7.284422874450684, 7.231947898864746, 7.51547908782959, 6.581827163696289], \"yaxis\": \"y\"}],                        {\"legend\": {\"tracegroupgap\": 0}, \"template\": {\"data\": {\"bar\": [{\"error_x\": {\"color\": \"#2a3f5f\"}, \"error_y\": {\"color\": \"#2a3f5f\"}, \"marker\": {\"line\": {\"color\": \"#E5ECF6\", \"width\": 0.5}}, \"type\": \"bar\"}], \"barpolar\": [{\"marker\": {\"line\": {\"color\": \"#E5ECF6\", \"width\": 0.5}}, \"type\": \"barpolar\"}], \"carpet\": [{\"aaxis\": {\"endlinecolor\": \"#2a3f5f\", \"gridcolor\": \"white\", \"linecolor\": \"white\", \"minorgridcolor\": \"white\", \"startlinecolor\": \"#2a3f5f\"}, \"baxis\": {\"endlinecolor\": \"#2a3f5f\", \"gridcolor\": \"white\", \"linecolor\": \"white\", \"minorgridcolor\": \"white\", \"startlinecolor\": \"#2a3f5f\"}, \"type\": \"carpet\"}], \"choropleth\": [{\"colorbar\": {\"outlinewidth\": 0, \"ticks\": \"\"}, \"type\": \"choropleth\"}], \"contour\": [{\"colorbar\": {\"outlinewidth\": 0, \"ticks\": \"\"}, \"colorscale\": [[0.0, \"#0d0887\"], [0.1111111111111111, \"#46039f\"], [0.2222222222222222, \"#7201a8\"], [0.3333333333333333, \"#9c179e\"], [0.4444444444444444, \"#bd3786\"], [0.5555555555555556, \"#d8576b\"], [0.6666666666666666, \"#ed7953\"], [0.7777777777777778, \"#fb9f3a\"], [0.8888888888888888, \"#fdca26\"], [1.0, \"#f0f921\"]], \"type\": \"contour\"}], \"contourcarpet\": [{\"colorbar\": {\"outlinewidth\": 0, \"ticks\": \"\"}, \"type\": \"contourcarpet\"}], \"heatmap\": [{\"colorbar\": {\"outlinewidth\": 0, \"ticks\": \"\"}, \"colorscale\": [[0.0, \"#0d0887\"], [0.1111111111111111, \"#46039f\"], [0.2222222222222222, \"#7201a8\"], [0.3333333333333333, \"#9c179e\"], [0.4444444444444444, \"#bd3786\"], [0.5555555555555556, \"#d8576b\"], [0.6666666666666666, \"#ed7953\"], [0.7777777777777778, \"#fb9f3a\"], [0.8888888888888888, \"#fdca26\"], [1.0, \"#f0f921\"]], \"type\": \"heatmap\"}], \"heatmapgl\": [{\"colorbar\": {\"outlinewidth\": 0, \"ticks\": \"\"}, \"colorscale\": [[0.0, \"#0d0887\"], [0.1111111111111111, \"#46039f\"], [0.2222222222222222, \"#7201a8\"], [0.3333333333333333, \"#9c179e\"], [0.4444444444444444, \"#bd3786\"], [0.5555555555555556, \"#d8576b\"], [0.6666666666666666, \"#ed7953\"], [0.7777777777777778, \"#fb9f3a\"], [0.8888888888888888, \"#fdca26\"], [1.0, \"#f0f921\"]], \"type\": \"heatmapgl\"}], \"histogram\": [{\"marker\": {\"colorbar\": {\"outlinewidth\": 0, \"ticks\": \"\"}}, \"type\": \"histogram\"}], \"histogram2d\": [{\"colorbar\": {\"outlinewidth\": 0, \"ticks\": \"\"}, \"colorscale\": [[0.0, \"#0d0887\"], [0.1111111111111111, \"#46039f\"], [0.2222222222222222, \"#7201a8\"], [0.3333333333333333, \"#9c179e\"], [0.4444444444444444, \"#bd3786\"], [0.5555555555555556, \"#d8576b\"], [0.6666666666666666, \"#ed7953\"], [0.7777777777777778, \"#fb9f3a\"], [0.8888888888888888, \"#fdca26\"], [1.0, \"#f0f921\"]], \"type\": \"histogram2d\"}], \"histogram2dcontour\": [{\"colorbar\": {\"outlinewidth\": 0, \"ticks\": \"\"}, \"colorscale\": [[0.0, \"#0d0887\"], [0.1111111111111111, \"#46039f\"], [0.2222222222222222, \"#7201a8\"], [0.3333333333333333, \"#9c179e\"], [0.4444444444444444, \"#bd3786\"], [0.5555555555555556, \"#d8576b\"], [0.6666666666666666, \"#ed7953\"], [0.7777777777777778, \"#fb9f3a\"], [0.8888888888888888, \"#fdca26\"], [1.0, \"#f0f921\"]], \"type\": \"histogram2dcontour\"}], \"mesh3d\": [{\"colorbar\": {\"outlinewidth\": 0, \"ticks\": \"\"}, \"type\": \"mesh3d\"}], \"parcoords\": [{\"line\": {\"colorbar\": {\"outlinewidth\": 0, \"ticks\": \"\"}}, \"type\": \"parcoords\"}], \"pie\": [{\"automargin\": true, \"type\": \"pie\"}], \"scatter\": [{\"marker\": {\"colorbar\": {\"outlinewidth\": 0, \"ticks\": \"\"}}, \"type\": \"scatter\"}], \"scatter3d\": [{\"line\": {\"colorbar\": {\"outlinewidth\": 0, \"ticks\": \"\"}}, \"marker\": {\"colorbar\": {\"outlinewidth\": 0, \"ticks\": \"\"}}, \"type\": \"scatter3d\"}], \"scattercarpet\": [{\"marker\": {\"colorbar\": {\"outlinewidth\": 0, \"ticks\": \"\"}}, \"type\": \"scattercarpet\"}], \"scattergeo\": [{\"marker\": {\"colorbar\": {\"outlinewidth\": 0, \"ticks\": \"\"}}, \"type\": \"scattergeo\"}], \"scattergl\": [{\"marker\": {\"colorbar\": {\"outlinewidth\": 0, \"ticks\": \"\"}}, \"type\": \"scattergl\"}], \"scattermapbox\": [{\"marker\": {\"colorbar\": {\"outlinewidth\": 0, \"ticks\": \"\"}}, \"type\": \"scattermapbox\"}], \"scatterpolar\": [{\"marker\": {\"colorbar\": {\"outlinewidth\": 0, \"ticks\": \"\"}}, \"type\": \"scatterpolar\"}], \"scatterpolargl\": [{\"marker\": {\"colorbar\": {\"outlinewidth\": 0, \"ticks\": \"\"}}, \"type\": \"scatterpolargl\"}], \"scatterternary\": [{\"marker\": {\"colorbar\": {\"outlinewidth\": 0, \"ticks\": \"\"}}, \"type\": \"scatterternary\"}], \"surface\": [{\"colorbar\": {\"outlinewidth\": 0, \"ticks\": \"\"}, \"colorscale\": [[0.0, \"#0d0887\"], [0.1111111111111111, \"#46039f\"], [0.2222222222222222, \"#7201a8\"], [0.3333333333333333, \"#9c179e\"], [0.4444444444444444, \"#bd3786\"], [0.5555555555555556, \"#d8576b\"], [0.6666666666666666, \"#ed7953\"], [0.7777777777777778, \"#fb9f3a\"], [0.8888888888888888, \"#fdca26\"], [1.0, \"#f0f921\"]], \"type\": \"surface\"}], \"table\": [{\"cells\": {\"fill\": {\"color\": \"#EBF0F8\"}, \"line\": {\"color\": \"white\"}}, \"header\": {\"fill\": {\"color\": \"#C8D4E3\"}, \"line\": {\"color\": \"white\"}}, \"type\": \"table\"}]}, \"layout\": {\"annotationdefaults\": {\"arrowcolor\": \"#2a3f5f\", \"arrowhead\": 0, \"arrowwidth\": 1}, \"autotypenumbers\": \"strict\", \"coloraxis\": {\"colorbar\": {\"outlinewidth\": 0, \"ticks\": \"\"}}, \"colorscale\": {\"diverging\": [[0, \"#8e0152\"], [0.1, \"#c51b7d\"], [0.2, \"#de77ae\"], [0.3, \"#f1b6da\"], [0.4, \"#fde0ef\"], [0.5, \"#f7f7f7\"], [0.6, \"#e6f5d0\"], [0.7, \"#b8e186\"], [0.8, \"#7fbc41\"], [0.9, \"#4d9221\"], [1, \"#276419\"]], \"sequential\": [[0.0, \"#0d0887\"], [0.1111111111111111, \"#46039f\"], [0.2222222222222222, \"#7201a8\"], [0.3333333333333333, \"#9c179e\"], [0.4444444444444444, \"#bd3786\"], [0.5555555555555556, \"#d8576b\"], [0.6666666666666666, \"#ed7953\"], [0.7777777777777778, \"#fb9f3a\"], [0.8888888888888888, \"#fdca26\"], [1.0, \"#f0f921\"]], \"sequentialminus\": [[0.0, \"#0d0887\"], [0.1111111111111111, \"#46039f\"], [0.2222222222222222, \"#7201a8\"], [0.3333333333333333, \"#9c179e\"], [0.4444444444444444, \"#bd3786\"], [0.5555555555555556, \"#d8576b\"], [0.6666666666666666, \"#ed7953\"], [0.7777777777777778, \"#fb9f3a\"], [0.8888888888888888, \"#fdca26\"], [1.0, \"#f0f921\"]]}, \"colorway\": [\"#636efa\", \"#EF553B\", \"#00cc96\", \"#ab63fa\", \"#FFA15A\", \"#19d3f3\", \"#FF6692\", \"#B6E880\", \"#FF97FF\", \"#FECB52\"], \"font\": {\"color\": \"#2a3f5f\"}, \"geo\": {\"bgcolor\": \"white\", \"lakecolor\": \"white\", \"landcolor\": \"#E5ECF6\", \"showlakes\": true, \"showland\": true, \"subunitcolor\": \"white\"}, \"hoverlabel\": {\"align\": \"left\"}, \"hovermode\": \"closest\", \"mapbox\": {\"style\": \"light\"}, \"paper_bgcolor\": \"white\", \"plot_bgcolor\": \"#E5ECF6\", \"polar\": {\"angularaxis\": {\"gridcolor\": \"white\", \"linecolor\": \"white\", \"ticks\": \"\"}, \"bgcolor\": \"#E5ECF6\", \"radialaxis\": {\"gridcolor\": \"white\", \"linecolor\": \"white\", \"ticks\": \"\"}}, \"scene\": {\"xaxis\": {\"backgroundcolor\": \"#E5ECF6\", \"gridcolor\": \"white\", \"gridwidth\": 2, \"linecolor\": \"white\", \"showbackground\": true, \"ticks\": \"\", \"zerolinecolor\": \"white\"}, \"yaxis\": {\"backgroundcolor\": \"#E5ECF6\", \"gridcolor\": \"white\", \"gridwidth\": 2, \"linecolor\": \"white\", \"showbackground\": true, \"ticks\": \"\", \"zerolinecolor\": \"white\"}, \"zaxis\": {\"backgroundcolor\": \"#E5ECF6\", \"gridcolor\": \"white\", \"gridwidth\": 2, \"linecolor\": \"white\", \"showbackground\": true, \"ticks\": \"\", \"zerolinecolor\": \"white\"}}, \"shapedefaults\": {\"line\": {\"color\": \"#2a3f5f\"}}, \"ternary\": {\"aaxis\": {\"gridcolor\": \"white\", \"linecolor\": \"white\", \"ticks\": \"\"}, \"baxis\": {\"gridcolor\": \"white\", \"linecolor\": \"white\", \"ticks\": \"\"}, \"bgcolor\": \"#E5ECF6\", \"caxis\": {\"gridcolor\": \"white\", \"linecolor\": \"white\", \"ticks\": \"\"}}, \"title\": {\"x\": 0.05}, \"xaxis\": {\"automargin\": true, \"gridcolor\": \"white\", \"linecolor\": \"white\", \"ticks\": \"\", \"title\": {\"standoff\": 15}, \"zerolinecolor\": \"white\", \"zerolinewidth\": 2}, \"yaxis\": {\"automargin\": true, \"gridcolor\": \"white\", \"linecolor\": \"white\", \"ticks\": \"\", \"title\": {\"standoff\": 15}, \"zerolinecolor\": \"white\", \"zerolinewidth\": 2}}}, \"title\": {\"text\": \"fig 11. Sunshine for next year\"}, \"xaxis\": {\"anchor\": \"y\", \"domain\": [0.0, 1.0], \"title\": {\"text\": \"Month\"}}, \"yaxis\": {\"anchor\": \"x\", \"domain\": [0.0, 1.0], \"title\": {\"text\": \"Bright Sunshine\"}}},                        {\"responsive\": true}                    ).then(function(){\n",
       "                            \n",
       "var gd = document.getElementById('dbf35d90-5bc2-43c8-a9b2-61c00d8cd8d4');\n",
       "var x = new MutationObserver(function (mutations, observer) {{\n",
       "        var display = window.getComputedStyle(gd).display;\n",
       "        if (!display || display === 'none') {{\n",
       "            console.log([gd, 'removed!']);\n",
       "            Plotly.purge(gd);\n",
       "            observer.disconnect();\n",
       "        }}\n",
       "}});\n",
       "\n",
       "// Listen for the removal of the full notebook cells\n",
       "var notebookContainer = gd.closest('#notebook-container');\n",
       "if (notebookContainer) {{\n",
       "    x.observe(notebookContainer, {childList: true});\n",
       "}}\n",
       "\n",
       "// Listen for the clearing of the current output cell\n",
       "var outputEl = gd.closest('.output');\n",
       "if (outputEl) {{\n",
       "    x.observe(outputEl, {childList: true});\n",
       "}}\n",
       "\n",
       "                        })                };                });            </script>        </div>"
      ]
     },
     "metadata": {},
     "output_type": "display_data"
    }
   ],
   "source": [
    "fig = px.line(result_dataframe,x='Month', y='Bright Sunshine', title = 'fig 9. Sunshine for next year')\n",
    "fig.show()"
   ]
  },
  {
   "cell_type": "code",
   "execution_count": 57,
   "metadata": {},
   "outputs": [
    {
     "data": {
      "application/vnd.plotly.v1+json": {
       "config": {
        "plotlyServerURL": "https://plot.ly"
       },
       "data": [
        {
         "alignmentgroup": "True",
         "hovertemplate": "Month=%{x}<br>Rainfall Percenatge=%{y}<extra></extra>",
         "legendgroup": "",
         "marker": {
          "color": "#636efa"
         },
         "name": "",
         "offsetgroup": "",
         "orientation": "v",
         "showlegend": false,
         "textposition": "auto",
         "type": "bar",
         "x": [
          "6/2021",
          "7/2021",
          "8/2021",
          "9/2021",
          "10/2021",
          "11/2021",
          "12/2021",
          "1/2022",
          "2/2022",
          "3/2022",
          "4/2022",
          "5/2022"
         ],
         "xaxis": "x",
         "y": [
          14.132372856140137,
          17.672239303588867,
          14.845759391784668,
          12.464727401733398,
          6.422231674194336,
          1.9277293682098389,
          0.5609487295150757,
          0.11654740571975708,
          0.24370411038398743,
          1.163040280342102,
          2.8389053344726562,
          9.030755996704102
         ],
         "yaxis": "y"
        }
       ],
       "layout": {
        "barmode": "relative",
        "legend": {
         "tracegroupgap": 0
        },
        "template": {
         "data": {
          "bar": [
           {
            "error_x": {
             "color": "#2a3f5f"
            },
            "error_y": {
             "color": "#2a3f5f"
            },
            "marker": {
             "line": {
              "color": "#E5ECF6",
              "width": 0.5
             }
            },
            "type": "bar"
           }
          ],
          "barpolar": [
           {
            "marker": {
             "line": {
              "color": "#E5ECF6",
              "width": 0.5
             }
            },
            "type": "barpolar"
           }
          ],
          "carpet": [
           {
            "aaxis": {
             "endlinecolor": "#2a3f5f",
             "gridcolor": "white",
             "linecolor": "white",
             "minorgridcolor": "white",
             "startlinecolor": "#2a3f5f"
            },
            "baxis": {
             "endlinecolor": "#2a3f5f",
             "gridcolor": "white",
             "linecolor": "white",
             "minorgridcolor": "white",
             "startlinecolor": "#2a3f5f"
            },
            "type": "carpet"
           }
          ],
          "choropleth": [
           {
            "colorbar": {
             "outlinewidth": 0,
             "ticks": ""
            },
            "type": "choropleth"
           }
          ],
          "contour": [
           {
            "colorbar": {
             "outlinewidth": 0,
             "ticks": ""
            },
            "colorscale": [
             [
              0,
              "#0d0887"
             ],
             [
              0.1111111111111111,
              "#46039f"
             ],
             [
              0.2222222222222222,
              "#7201a8"
             ],
             [
              0.3333333333333333,
              "#9c179e"
             ],
             [
              0.4444444444444444,
              "#bd3786"
             ],
             [
              0.5555555555555556,
              "#d8576b"
             ],
             [
              0.6666666666666666,
              "#ed7953"
             ],
             [
              0.7777777777777778,
              "#fb9f3a"
             ],
             [
              0.8888888888888888,
              "#fdca26"
             ],
             [
              1,
              "#f0f921"
             ]
            ],
            "type": "contour"
           }
          ],
          "contourcarpet": [
           {
            "colorbar": {
             "outlinewidth": 0,
             "ticks": ""
            },
            "type": "contourcarpet"
           }
          ],
          "heatmap": [
           {
            "colorbar": {
             "outlinewidth": 0,
             "ticks": ""
            },
            "colorscale": [
             [
              0,
              "#0d0887"
             ],
             [
              0.1111111111111111,
              "#46039f"
             ],
             [
              0.2222222222222222,
              "#7201a8"
             ],
             [
              0.3333333333333333,
              "#9c179e"
             ],
             [
              0.4444444444444444,
              "#bd3786"
             ],
             [
              0.5555555555555556,
              "#d8576b"
             ],
             [
              0.6666666666666666,
              "#ed7953"
             ],
             [
              0.7777777777777778,
              "#fb9f3a"
             ],
             [
              0.8888888888888888,
              "#fdca26"
             ],
             [
              1,
              "#f0f921"
             ]
            ],
            "type": "heatmap"
           }
          ],
          "heatmapgl": [
           {
            "colorbar": {
             "outlinewidth": 0,
             "ticks": ""
            },
            "colorscale": [
             [
              0,
              "#0d0887"
             ],
             [
              0.1111111111111111,
              "#46039f"
             ],
             [
              0.2222222222222222,
              "#7201a8"
             ],
             [
              0.3333333333333333,
              "#9c179e"
             ],
             [
              0.4444444444444444,
              "#bd3786"
             ],
             [
              0.5555555555555556,
              "#d8576b"
             ],
             [
              0.6666666666666666,
              "#ed7953"
             ],
             [
              0.7777777777777778,
              "#fb9f3a"
             ],
             [
              0.8888888888888888,
              "#fdca26"
             ],
             [
              1,
              "#f0f921"
             ]
            ],
            "type": "heatmapgl"
           }
          ],
          "histogram": [
           {
            "marker": {
             "colorbar": {
              "outlinewidth": 0,
              "ticks": ""
             }
            },
            "type": "histogram"
           }
          ],
          "histogram2d": [
           {
            "colorbar": {
             "outlinewidth": 0,
             "ticks": ""
            },
            "colorscale": [
             [
              0,
              "#0d0887"
             ],
             [
              0.1111111111111111,
              "#46039f"
             ],
             [
              0.2222222222222222,
              "#7201a8"
             ],
             [
              0.3333333333333333,
              "#9c179e"
             ],
             [
              0.4444444444444444,
              "#bd3786"
             ],
             [
              0.5555555555555556,
              "#d8576b"
             ],
             [
              0.6666666666666666,
              "#ed7953"
             ],
             [
              0.7777777777777778,
              "#fb9f3a"
             ],
             [
              0.8888888888888888,
              "#fdca26"
             ],
             [
              1,
              "#f0f921"
             ]
            ],
            "type": "histogram2d"
           }
          ],
          "histogram2dcontour": [
           {
            "colorbar": {
             "outlinewidth": 0,
             "ticks": ""
            },
            "colorscale": [
             [
              0,
              "#0d0887"
             ],
             [
              0.1111111111111111,
              "#46039f"
             ],
             [
              0.2222222222222222,
              "#7201a8"
             ],
             [
              0.3333333333333333,
              "#9c179e"
             ],
             [
              0.4444444444444444,
              "#bd3786"
             ],
             [
              0.5555555555555556,
              "#d8576b"
             ],
             [
              0.6666666666666666,
              "#ed7953"
             ],
             [
              0.7777777777777778,
              "#fb9f3a"
             ],
             [
              0.8888888888888888,
              "#fdca26"
             ],
             [
              1,
              "#f0f921"
             ]
            ],
            "type": "histogram2dcontour"
           }
          ],
          "mesh3d": [
           {
            "colorbar": {
             "outlinewidth": 0,
             "ticks": ""
            },
            "type": "mesh3d"
           }
          ],
          "parcoords": [
           {
            "line": {
             "colorbar": {
              "outlinewidth": 0,
              "ticks": ""
             }
            },
            "type": "parcoords"
           }
          ],
          "pie": [
           {
            "automargin": true,
            "type": "pie"
           }
          ],
          "scatter": [
           {
            "marker": {
             "colorbar": {
              "outlinewidth": 0,
              "ticks": ""
             }
            },
            "type": "scatter"
           }
          ],
          "scatter3d": [
           {
            "line": {
             "colorbar": {
              "outlinewidth": 0,
              "ticks": ""
             }
            },
            "marker": {
             "colorbar": {
              "outlinewidth": 0,
              "ticks": ""
             }
            },
            "type": "scatter3d"
           }
          ],
          "scattercarpet": [
           {
            "marker": {
             "colorbar": {
              "outlinewidth": 0,
              "ticks": ""
             }
            },
            "type": "scattercarpet"
           }
          ],
          "scattergeo": [
           {
            "marker": {
             "colorbar": {
              "outlinewidth": 0,
              "ticks": ""
             }
            },
            "type": "scattergeo"
           }
          ],
          "scattergl": [
           {
            "marker": {
             "colorbar": {
              "outlinewidth": 0,
              "ticks": ""
             }
            },
            "type": "scattergl"
           }
          ],
          "scattermapbox": [
           {
            "marker": {
             "colorbar": {
              "outlinewidth": 0,
              "ticks": ""
             }
            },
            "type": "scattermapbox"
           }
          ],
          "scatterpolar": [
           {
            "marker": {
             "colorbar": {
              "outlinewidth": 0,
              "ticks": ""
             }
            },
            "type": "scatterpolar"
           }
          ],
          "scatterpolargl": [
           {
            "marker": {
             "colorbar": {
              "outlinewidth": 0,
              "ticks": ""
             }
            },
            "type": "scatterpolargl"
           }
          ],
          "scatterternary": [
           {
            "marker": {
             "colorbar": {
              "outlinewidth": 0,
              "ticks": ""
             }
            },
            "type": "scatterternary"
           }
          ],
          "surface": [
           {
            "colorbar": {
             "outlinewidth": 0,
             "ticks": ""
            },
            "colorscale": [
             [
              0,
              "#0d0887"
             ],
             [
              0.1111111111111111,
              "#46039f"
             ],
             [
              0.2222222222222222,
              "#7201a8"
             ],
             [
              0.3333333333333333,
              "#9c179e"
             ],
             [
              0.4444444444444444,
              "#bd3786"
             ],
             [
              0.5555555555555556,
              "#d8576b"
             ],
             [
              0.6666666666666666,
              "#ed7953"
             ],
             [
              0.7777777777777778,
              "#fb9f3a"
             ],
             [
              0.8888888888888888,
              "#fdca26"
             ],
             [
              1,
              "#f0f921"
             ]
            ],
            "type": "surface"
           }
          ],
          "table": [
           {
            "cells": {
             "fill": {
              "color": "#EBF0F8"
             },
             "line": {
              "color": "white"
             }
            },
            "header": {
             "fill": {
              "color": "#C8D4E3"
             },
             "line": {
              "color": "white"
             }
            },
            "type": "table"
           }
          ]
         },
         "layout": {
          "annotationdefaults": {
           "arrowcolor": "#2a3f5f",
           "arrowhead": 0,
           "arrowwidth": 1
          },
          "autotypenumbers": "strict",
          "coloraxis": {
           "colorbar": {
            "outlinewidth": 0,
            "ticks": ""
           }
          },
          "colorscale": {
           "diverging": [
            [
             0,
             "#8e0152"
            ],
            [
             0.1,
             "#c51b7d"
            ],
            [
             0.2,
             "#de77ae"
            ],
            [
             0.3,
             "#f1b6da"
            ],
            [
             0.4,
             "#fde0ef"
            ],
            [
             0.5,
             "#f7f7f7"
            ],
            [
             0.6,
             "#e6f5d0"
            ],
            [
             0.7,
             "#b8e186"
            ],
            [
             0.8,
             "#7fbc41"
            ],
            [
             0.9,
             "#4d9221"
            ],
            [
             1,
             "#276419"
            ]
           ],
           "sequential": [
            [
             0,
             "#0d0887"
            ],
            [
             0.1111111111111111,
             "#46039f"
            ],
            [
             0.2222222222222222,
             "#7201a8"
            ],
            [
             0.3333333333333333,
             "#9c179e"
            ],
            [
             0.4444444444444444,
             "#bd3786"
            ],
            [
             0.5555555555555556,
             "#d8576b"
            ],
            [
             0.6666666666666666,
             "#ed7953"
            ],
            [
             0.7777777777777778,
             "#fb9f3a"
            ],
            [
             0.8888888888888888,
             "#fdca26"
            ],
            [
             1,
             "#f0f921"
            ]
           ],
           "sequentialminus": [
            [
             0,
             "#0d0887"
            ],
            [
             0.1111111111111111,
             "#46039f"
            ],
            [
             0.2222222222222222,
             "#7201a8"
            ],
            [
             0.3333333333333333,
             "#9c179e"
            ],
            [
             0.4444444444444444,
             "#bd3786"
            ],
            [
             0.5555555555555556,
             "#d8576b"
            ],
            [
             0.6666666666666666,
             "#ed7953"
            ],
            [
             0.7777777777777778,
             "#fb9f3a"
            ],
            [
             0.8888888888888888,
             "#fdca26"
            ],
            [
             1,
             "#f0f921"
            ]
           ]
          },
          "colorway": [
           "#636efa",
           "#EF553B",
           "#00cc96",
           "#ab63fa",
           "#FFA15A",
           "#19d3f3",
           "#FF6692",
           "#B6E880",
           "#FF97FF",
           "#FECB52"
          ],
          "font": {
           "color": "#2a3f5f"
          },
          "geo": {
           "bgcolor": "white",
           "lakecolor": "white",
           "landcolor": "#E5ECF6",
           "showlakes": true,
           "showland": true,
           "subunitcolor": "white"
          },
          "hoverlabel": {
           "align": "left"
          },
          "hovermode": "closest",
          "mapbox": {
           "style": "light"
          },
          "paper_bgcolor": "white",
          "plot_bgcolor": "#E5ECF6",
          "polar": {
           "angularaxis": {
            "gridcolor": "white",
            "linecolor": "white",
            "ticks": ""
           },
           "bgcolor": "#E5ECF6",
           "radialaxis": {
            "gridcolor": "white",
            "linecolor": "white",
            "ticks": ""
           }
          },
          "scene": {
           "xaxis": {
            "backgroundcolor": "#E5ECF6",
            "gridcolor": "white",
            "gridwidth": 2,
            "linecolor": "white",
            "showbackground": true,
            "ticks": "",
            "zerolinecolor": "white"
           },
           "yaxis": {
            "backgroundcolor": "#E5ECF6",
            "gridcolor": "white",
            "gridwidth": 2,
            "linecolor": "white",
            "showbackground": true,
            "ticks": "",
            "zerolinecolor": "white"
           },
           "zaxis": {
            "backgroundcolor": "#E5ECF6",
            "gridcolor": "white",
            "gridwidth": 2,
            "linecolor": "white",
            "showbackground": true,
            "ticks": "",
            "zerolinecolor": "white"
           }
          },
          "shapedefaults": {
           "line": {
            "color": "#2a3f5f"
           }
          },
          "ternary": {
           "aaxis": {
            "gridcolor": "white",
            "linecolor": "white",
            "ticks": ""
           },
           "baxis": {
            "gridcolor": "white",
            "linecolor": "white",
            "ticks": ""
           },
           "bgcolor": "#E5ECF6",
           "caxis": {
            "gridcolor": "white",
            "linecolor": "white",
            "ticks": ""
           }
          },
          "title": {
           "x": 0.05
          },
          "xaxis": {
           "automargin": true,
           "gridcolor": "white",
           "linecolor": "white",
           "ticks": "",
           "title": {
            "standoff": 15
           },
           "zerolinecolor": "white",
           "zerolinewidth": 2
          },
          "yaxis": {
           "automargin": true,
           "gridcolor": "white",
           "linecolor": "white",
           "ticks": "",
           "title": {
            "standoff": 15
           },
           "zerolinecolor": "white",
           "zerolinewidth": 2
          }
         }
        },
        "title": {
         "text": "fig 10. Overall Rainfall % for next year"
        },
        "xaxis": {
         "anchor": "y",
         "domain": [
          0,
          1
         ],
         "title": {
          "text": "Month"
         }
        },
        "yaxis": {
         "anchor": "x",
         "domain": [
          0,
          1
         ],
         "title": {
          "text": "Rainfall Percenatge"
         }
        }
       }
      },
      "text/html": [
       "<div>                            <div id=\"4f7dbb9d-4044-430a-bbf4-2f779919b2e7\" class=\"plotly-graph-div\" style=\"height:525px; width:100%;\"></div>            <script type=\"text/javascript\">                require([\"plotly\"], function(Plotly) {                    window.PLOTLYENV=window.PLOTLYENV || {};                                    if (document.getElementById(\"4f7dbb9d-4044-430a-bbf4-2f779919b2e7\")) {                    Plotly.newPlot(                        \"4f7dbb9d-4044-430a-bbf4-2f779919b2e7\",                        [{\"alignmentgroup\": \"True\", \"hovertemplate\": \"Month=%{x}<br>Rainfall Percenatge=%{y}<extra></extra>\", \"legendgroup\": \"\", \"marker\": {\"color\": \"#636efa\"}, \"name\": \"\", \"offsetgroup\": \"\", \"orientation\": \"v\", \"showlegend\": false, \"textposition\": \"auto\", \"type\": \"bar\", \"x\": [\"6/2021\", \"7/2021\", \"8/2021\", \"9/2021\", \"10/2021\", \"11/2021\", \"12/2021\", \"1/2022\", \"2/2022\", \"3/2022\", \"4/2022\", \"5/2022\"], \"xaxis\": \"x\", \"y\": [14.132372856140137, 17.672239303588867, 14.845759391784668, 12.464727401733398, 6.422231674194336, 1.9277293682098389, 0.5609487295150757, 0.11654740571975708, 0.24370411038398743, 1.163040280342102, 2.8389053344726562, 9.030755996704102], \"yaxis\": \"y\"}],                        {\"barmode\": \"relative\", \"legend\": {\"tracegroupgap\": 0}, \"template\": {\"data\": {\"bar\": [{\"error_x\": {\"color\": \"#2a3f5f\"}, \"error_y\": {\"color\": \"#2a3f5f\"}, \"marker\": {\"line\": {\"color\": \"#E5ECF6\", \"width\": 0.5}}, \"type\": \"bar\"}], \"barpolar\": [{\"marker\": {\"line\": {\"color\": \"#E5ECF6\", \"width\": 0.5}}, \"type\": \"barpolar\"}], \"carpet\": [{\"aaxis\": {\"endlinecolor\": \"#2a3f5f\", \"gridcolor\": \"white\", \"linecolor\": \"white\", \"minorgridcolor\": \"white\", \"startlinecolor\": \"#2a3f5f\"}, \"baxis\": {\"endlinecolor\": \"#2a3f5f\", \"gridcolor\": \"white\", \"linecolor\": \"white\", \"minorgridcolor\": \"white\", \"startlinecolor\": \"#2a3f5f\"}, \"type\": \"carpet\"}], \"choropleth\": [{\"colorbar\": {\"outlinewidth\": 0, \"ticks\": \"\"}, \"type\": \"choropleth\"}], \"contour\": [{\"colorbar\": {\"outlinewidth\": 0, \"ticks\": \"\"}, \"colorscale\": [[0.0, \"#0d0887\"], [0.1111111111111111, \"#46039f\"], [0.2222222222222222, \"#7201a8\"], [0.3333333333333333, \"#9c179e\"], [0.4444444444444444, \"#bd3786\"], [0.5555555555555556, \"#d8576b\"], [0.6666666666666666, \"#ed7953\"], [0.7777777777777778, \"#fb9f3a\"], [0.8888888888888888, \"#fdca26\"], [1.0, \"#f0f921\"]], \"type\": \"contour\"}], \"contourcarpet\": [{\"colorbar\": {\"outlinewidth\": 0, \"ticks\": \"\"}, \"type\": \"contourcarpet\"}], \"heatmap\": [{\"colorbar\": {\"outlinewidth\": 0, \"ticks\": \"\"}, \"colorscale\": [[0.0, \"#0d0887\"], [0.1111111111111111, \"#46039f\"], [0.2222222222222222, \"#7201a8\"], [0.3333333333333333, \"#9c179e\"], [0.4444444444444444, \"#bd3786\"], [0.5555555555555556, \"#d8576b\"], [0.6666666666666666, \"#ed7953\"], [0.7777777777777778, \"#fb9f3a\"], [0.8888888888888888, \"#fdca26\"], [1.0, \"#f0f921\"]], \"type\": \"heatmap\"}], \"heatmapgl\": [{\"colorbar\": {\"outlinewidth\": 0, \"ticks\": \"\"}, \"colorscale\": [[0.0, \"#0d0887\"], [0.1111111111111111, \"#46039f\"], [0.2222222222222222, \"#7201a8\"], [0.3333333333333333, \"#9c179e\"], [0.4444444444444444, \"#bd3786\"], [0.5555555555555556, \"#d8576b\"], [0.6666666666666666, \"#ed7953\"], [0.7777777777777778, \"#fb9f3a\"], [0.8888888888888888, \"#fdca26\"], [1.0, \"#f0f921\"]], \"type\": \"heatmapgl\"}], \"histogram\": [{\"marker\": {\"colorbar\": {\"outlinewidth\": 0, \"ticks\": \"\"}}, \"type\": \"histogram\"}], \"histogram2d\": [{\"colorbar\": {\"outlinewidth\": 0, \"ticks\": \"\"}, \"colorscale\": [[0.0, \"#0d0887\"], [0.1111111111111111, \"#46039f\"], [0.2222222222222222, \"#7201a8\"], [0.3333333333333333, \"#9c179e\"], [0.4444444444444444, \"#bd3786\"], [0.5555555555555556, \"#d8576b\"], [0.6666666666666666, \"#ed7953\"], [0.7777777777777778, \"#fb9f3a\"], [0.8888888888888888, \"#fdca26\"], [1.0, \"#f0f921\"]], \"type\": \"histogram2d\"}], \"histogram2dcontour\": [{\"colorbar\": {\"outlinewidth\": 0, \"ticks\": \"\"}, \"colorscale\": [[0.0, \"#0d0887\"], [0.1111111111111111, \"#46039f\"], [0.2222222222222222, \"#7201a8\"], [0.3333333333333333, \"#9c179e\"], [0.4444444444444444, \"#bd3786\"], [0.5555555555555556, \"#d8576b\"], [0.6666666666666666, \"#ed7953\"], [0.7777777777777778, \"#fb9f3a\"], [0.8888888888888888, \"#fdca26\"], [1.0, \"#f0f921\"]], \"type\": \"histogram2dcontour\"}], \"mesh3d\": [{\"colorbar\": {\"outlinewidth\": 0, \"ticks\": \"\"}, \"type\": \"mesh3d\"}], \"parcoords\": [{\"line\": {\"colorbar\": {\"outlinewidth\": 0, \"ticks\": \"\"}}, \"type\": \"parcoords\"}], \"pie\": [{\"automargin\": true, \"type\": \"pie\"}], \"scatter\": [{\"marker\": {\"colorbar\": {\"outlinewidth\": 0, \"ticks\": \"\"}}, \"type\": \"scatter\"}], \"scatter3d\": [{\"line\": {\"colorbar\": {\"outlinewidth\": 0, \"ticks\": \"\"}}, \"marker\": {\"colorbar\": {\"outlinewidth\": 0, \"ticks\": \"\"}}, \"type\": \"scatter3d\"}], \"scattercarpet\": [{\"marker\": {\"colorbar\": {\"outlinewidth\": 0, \"ticks\": \"\"}}, \"type\": \"scattercarpet\"}], \"scattergeo\": [{\"marker\": {\"colorbar\": {\"outlinewidth\": 0, \"ticks\": \"\"}}, \"type\": \"scattergeo\"}], \"scattergl\": [{\"marker\": {\"colorbar\": {\"outlinewidth\": 0, \"ticks\": \"\"}}, \"type\": \"scattergl\"}], \"scattermapbox\": [{\"marker\": {\"colorbar\": {\"outlinewidth\": 0, \"ticks\": \"\"}}, \"type\": \"scattermapbox\"}], \"scatterpolar\": [{\"marker\": {\"colorbar\": {\"outlinewidth\": 0, \"ticks\": \"\"}}, \"type\": \"scatterpolar\"}], \"scatterpolargl\": [{\"marker\": {\"colorbar\": {\"outlinewidth\": 0, \"ticks\": \"\"}}, \"type\": \"scatterpolargl\"}], \"scatterternary\": [{\"marker\": {\"colorbar\": {\"outlinewidth\": 0, \"ticks\": \"\"}}, \"type\": \"scatterternary\"}], \"surface\": [{\"colorbar\": {\"outlinewidth\": 0, \"ticks\": \"\"}, \"colorscale\": [[0.0, \"#0d0887\"], [0.1111111111111111, \"#46039f\"], [0.2222222222222222, \"#7201a8\"], [0.3333333333333333, \"#9c179e\"], [0.4444444444444444, \"#bd3786\"], [0.5555555555555556, \"#d8576b\"], [0.6666666666666666, \"#ed7953\"], [0.7777777777777778, \"#fb9f3a\"], [0.8888888888888888, \"#fdca26\"], [1.0, \"#f0f921\"]], \"type\": \"surface\"}], \"table\": [{\"cells\": {\"fill\": {\"color\": \"#EBF0F8\"}, \"line\": {\"color\": \"white\"}}, \"header\": {\"fill\": {\"color\": \"#C8D4E3\"}, \"line\": {\"color\": \"white\"}}, \"type\": \"table\"}]}, \"layout\": {\"annotationdefaults\": {\"arrowcolor\": \"#2a3f5f\", \"arrowhead\": 0, \"arrowwidth\": 1}, \"autotypenumbers\": \"strict\", \"coloraxis\": {\"colorbar\": {\"outlinewidth\": 0, \"ticks\": \"\"}}, \"colorscale\": {\"diverging\": [[0, \"#8e0152\"], [0.1, \"#c51b7d\"], [0.2, \"#de77ae\"], [0.3, \"#f1b6da\"], [0.4, \"#fde0ef\"], [0.5, \"#f7f7f7\"], [0.6, \"#e6f5d0\"], [0.7, \"#b8e186\"], [0.8, \"#7fbc41\"], [0.9, \"#4d9221\"], [1, \"#276419\"]], \"sequential\": [[0.0, \"#0d0887\"], [0.1111111111111111, \"#46039f\"], [0.2222222222222222, \"#7201a8\"], [0.3333333333333333, \"#9c179e\"], [0.4444444444444444, \"#bd3786\"], [0.5555555555555556, \"#d8576b\"], [0.6666666666666666, \"#ed7953\"], [0.7777777777777778, \"#fb9f3a\"], [0.8888888888888888, \"#fdca26\"], [1.0, \"#f0f921\"]], \"sequentialminus\": [[0.0, \"#0d0887\"], [0.1111111111111111, \"#46039f\"], [0.2222222222222222, \"#7201a8\"], [0.3333333333333333, \"#9c179e\"], [0.4444444444444444, \"#bd3786\"], [0.5555555555555556, \"#d8576b\"], [0.6666666666666666, \"#ed7953\"], [0.7777777777777778, \"#fb9f3a\"], [0.8888888888888888, \"#fdca26\"], [1.0, \"#f0f921\"]]}, \"colorway\": [\"#636efa\", \"#EF553B\", \"#00cc96\", \"#ab63fa\", \"#FFA15A\", \"#19d3f3\", \"#FF6692\", \"#B6E880\", \"#FF97FF\", \"#FECB52\"], \"font\": {\"color\": \"#2a3f5f\"}, \"geo\": {\"bgcolor\": \"white\", \"lakecolor\": \"white\", \"landcolor\": \"#E5ECF6\", \"showlakes\": true, \"showland\": true, \"subunitcolor\": \"white\"}, \"hoverlabel\": {\"align\": \"left\"}, \"hovermode\": \"closest\", \"mapbox\": {\"style\": \"light\"}, \"paper_bgcolor\": \"white\", \"plot_bgcolor\": \"#E5ECF6\", \"polar\": {\"angularaxis\": {\"gridcolor\": \"white\", \"linecolor\": \"white\", \"ticks\": \"\"}, \"bgcolor\": \"#E5ECF6\", \"radialaxis\": {\"gridcolor\": \"white\", \"linecolor\": \"white\", \"ticks\": \"\"}}, \"scene\": {\"xaxis\": {\"backgroundcolor\": \"#E5ECF6\", \"gridcolor\": \"white\", \"gridwidth\": 2, \"linecolor\": \"white\", \"showbackground\": true, \"ticks\": \"\", \"zerolinecolor\": \"white\"}, \"yaxis\": {\"backgroundcolor\": \"#E5ECF6\", \"gridcolor\": \"white\", \"gridwidth\": 2, \"linecolor\": \"white\", \"showbackground\": true, \"ticks\": \"\", \"zerolinecolor\": \"white\"}, \"zaxis\": {\"backgroundcolor\": \"#E5ECF6\", \"gridcolor\": \"white\", \"gridwidth\": 2, \"linecolor\": \"white\", \"showbackground\": true, \"ticks\": \"\", \"zerolinecolor\": \"white\"}}, \"shapedefaults\": {\"line\": {\"color\": \"#2a3f5f\"}}, \"ternary\": {\"aaxis\": {\"gridcolor\": \"white\", \"linecolor\": \"white\", \"ticks\": \"\"}, \"baxis\": {\"gridcolor\": \"white\", \"linecolor\": \"white\", \"ticks\": \"\"}, \"bgcolor\": \"#E5ECF6\", \"caxis\": {\"gridcolor\": \"white\", \"linecolor\": \"white\", \"ticks\": \"\"}}, \"title\": {\"x\": 0.05}, \"xaxis\": {\"automargin\": true, \"gridcolor\": \"white\", \"linecolor\": \"white\", \"ticks\": \"\", \"title\": {\"standoff\": 15}, \"zerolinecolor\": \"white\", \"zerolinewidth\": 2}, \"yaxis\": {\"automargin\": true, \"gridcolor\": \"white\", \"linecolor\": \"white\", \"ticks\": \"\", \"title\": {\"standoff\": 15}, \"zerolinecolor\": \"white\", \"zerolinewidth\": 2}}}, \"title\": {\"text\": \"fig 10. Overall Rainfall % for next year\"}, \"xaxis\": {\"anchor\": \"y\", \"domain\": [0.0, 1.0], \"title\": {\"text\": \"Month\"}}, \"yaxis\": {\"anchor\": \"x\", \"domain\": [0.0, 1.0], \"title\": {\"text\": \"Rainfall Percenatge\"}}},                        {\"responsive\": true}                    ).then(function(){\n",
       "                            \n",
       "var gd = document.getElementById('4f7dbb9d-4044-430a-bbf4-2f779919b2e7');\n",
       "var x = new MutationObserver(function (mutations, observer) {{\n",
       "        var display = window.getComputedStyle(gd).display;\n",
       "        if (!display || display === 'none') {{\n",
       "            console.log([gd, 'removed!']);\n",
       "            Plotly.purge(gd);\n",
       "            observer.disconnect();\n",
       "        }}\n",
       "}});\n",
       "\n",
       "// Listen for the removal of the full notebook cells\n",
       "var notebookContainer = gd.closest('#notebook-container');\n",
       "if (notebookContainer) {{\n",
       "    x.observe(notebookContainer, {childList: true});\n",
       "}}\n",
       "\n",
       "// Listen for the clearing of the current output cell\n",
       "var outputEl = gd.closest('.output');\n",
       "if (outputEl) {{\n",
       "    x.observe(outputEl, {childList: true});\n",
       "}}\n",
       "\n",
       "                        })                };                });            </script>        </div>"
      ]
     },
     "metadata": {},
     "output_type": "display_data"
    }
   ],
   "source": [
    "fig = px.bar(result_dataframe,x='Month', y='Rainfall Percenatge', title = 'fig 10. Overall Rainfall % for next year')\n",
    "fig.show()"
   ]
  },
  {
   "cell_type": "markdown",
   "metadata": {},
   "source": [
    "# THANK YOU"
   ]
  }
 ],
 "metadata": {
  "kernelspec": {
   "display_name": "Python 3",
   "language": "python",
   "name": "python3"
  },
  "language_info": {
   "codemirror_mode": {
    "name": "ipython",
    "version": 3
   },
   "file_extension": ".py",
   "mimetype": "text/x-python",
   "name": "python",
   "nbconvert_exporter": "python",
   "pygments_lexer": "ipython3",
   "version": "3.7.3"
  }
 },
 "nbformat": 4,
 "nbformat_minor": 4
}
